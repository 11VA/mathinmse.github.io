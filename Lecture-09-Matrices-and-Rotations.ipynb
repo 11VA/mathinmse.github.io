{
 "cells": [
  {
   "cell_type": "markdown",
   "metadata": {
    "slideshow": {
     "slide_type": "slide"
    }
   },
   "source": [
    "# Lecture 09: Matrices and Rotations (Crystallography)\n",
    "\n",
    "### Sections\n",
    "\n",
    "* [Introduction](#Introduction)\n",
    "* [Learning Goals](#Learning-Goals)\n",
    "* [On Your Own](#On-Your-Own)\n",
    "    * Vectors and Matrices\n",
    "    * Matrix Multiplication\n",
    "* [In Class](#In-Class)\n",
    "    * Rotations\n",
    "    * Euler Angles\n",
    "    * Symmetry Operations and Translations in Crystals\n",
    "* [Homework](#Homework)\n",
    "* [Summary](#Summary)\n",
    "* [Looking Ahead](#Looking-Ahead)\n",
    "* [Reading Assignments and Practice](#Reading-Assignments-and-Practice)"
   ]
  },
  {
   "cell_type": "markdown",
   "metadata": {
    "slideshow": {
     "slide_type": "slide"
    }
   },
   "source": [
    "### Introduction\n",
    "----"
   ]
  },
  {
   "cell_type": "markdown",
   "metadata": {
    "slideshow": {
     "slide_type": "fragment"
    }
   },
   "source": [
    "Matrices and rotations using matrix representations is a compact and efficient way to express the relative orientation of two coordinate systems.  This arises frequently in texture analysis of materials and these same representations can help to describe rotations and translations in crystal structures.  The purpose of this worksheet is to provide an opportunity to work with matricies in Python/Numpy and to gain a deeper understanding of planar \"crystals\".\n",
    "\n",
    "Note to instructor:  run the `zeroArray` function definition below."
   ]
  },
  {
   "cell_type": "markdown",
   "metadata": {
    "slideshow": {
     "slide_type": "slide"
    }
   },
   "source": [
    "### Learning Goals\n",
    "----"
   ]
  },
  {
   "cell_type": "markdown",
   "metadata": {
    "slideshow": {
     "slide_type": "fragment"
    }
   },
   "source": [
    "1. Develop a satisfactory understanding of how to perform matrix mathematics in Python using Numpy.  These tools will be used in later lectures when solving differential equations numerically.\n",
    "1. Review the properties of vectors and matrices.\n",
    "1. Define rotation matrices in 2D and 3D.\n",
    "1. Use Euler angles to define rotations.\n",
    "1. Use the transformation matrices to understand 2D plane groups (crystal structures)."
   ]
  },
  {
   "cell_type": "markdown",
   "metadata": {
    "slideshow": {
     "slide_type": "slide"
    }
   },
   "source": [
    "### On Your Own\n",
    "----\n",
    "\n",
    "#### Vectors and Matrices\n",
    "\n",
    "To start we need to define vectors and matrices for our use.  Recall from the introduction that vectors and matrices are lists (and lists of lists, etc.) in Python, but we can also use Nympy's array structure."
   ]
  },
  {
   "cell_type": "code",
   "execution_count": null,
   "metadata": {
    "collapsed": true,
    "slideshow": {
     "slide_type": "fragment"
    }
   },
   "outputs": [],
   "source": [
    "import numpy as np"
   ]
  },
  {
   "cell_type": "code",
   "execution_count": null,
   "metadata": {
    "collapsed": false,
    "slideshow": {
     "slide_type": "fragment"
    }
   },
   "outputs": [],
   "source": [
    "np.zeros(3)"
   ]
  },
  {
   "cell_type": "code",
   "execution_count": null,
   "metadata": {
    "collapsed": false,
    "slideshow": {
     "slide_type": "fragment"
    }
   },
   "outputs": [],
   "source": [
    "type(np.zeros(3))"
   ]
  },
  {
   "cell_type": "code",
   "execution_count": null,
   "metadata": {
    "collapsed": false,
    "slideshow": {
     "slide_type": "fragment"
    }
   },
   "outputs": [],
   "source": [
    "np.size(np.zeros(3))"
   ]
  },
  {
   "cell_type": "code",
   "execution_count": null,
   "metadata": {
    "collapsed": false,
    "slideshow": {
     "slide_type": "fragment"
    }
   },
   "outputs": [],
   "source": [
    "np.shape(np.zeros(3))"
   ]
  },
  {
   "cell_type": "markdown",
   "metadata": {
    "slideshow": {
     "slide_type": "slide"
    }
   },
   "source": [
    "We can use SymPy's printing features to examine our matrix in a more natural formatting, however, Numpy does an OK job, too (as above).  Don't forget that you can access help for different methods in each library by using TAB and SHIFT-TAB.  \n",
    "\n",
    "Warning - only do this to look at a nice typeset matrix or to use SymPy's Matrix methods - see below that you are typecasting your object by instantiating the `Matrix` class.  Really this is bad practice...once you get used to things I wouldn't do this anymore.  Also - once you get into really big matrices - this all just becomes impractical."
   ]
  },
  {
   "cell_type": "code",
   "execution_count": null,
   "metadata": {
    "collapsed": true,
    "slideshow": {
     "slide_type": "fragment"
    }
   },
   "outputs": [],
   "source": [
    "import sympy as sp\n",
    "sp.init_printing()"
   ]
  },
  {
   "cell_type": "code",
   "execution_count": null,
   "metadata": {
    "collapsed": false,
    "scrolled": true,
    "slideshow": {
     "slide_type": "slide"
    }
   },
   "outputs": [],
   "source": [
    "sp.Matrix(np.identity(3))"
   ]
  },
  {
   "cell_type": "code",
   "execution_count": null,
   "metadata": {
    "collapsed": false,
    "slideshow": {
     "slide_type": "fragment"
    }
   },
   "outputs": [],
   "source": [
    "type(sp.Matrix(np.identity(3)))"
   ]
  },
  {
   "cell_type": "code",
   "execution_count": null,
   "metadata": {
    "collapsed": false,
    "slideshow": {
     "slide_type": "fragment"
    }
   },
   "outputs": [],
   "source": [
    "type(np.identity(3))"
   ]
  },
  {
   "cell_type": "markdown",
   "metadata": {
    "slideshow": {
     "slide_type": "slide"
    }
   },
   "source": [
    "#### Scalar Multiplication"
   ]
  },
  {
   "cell_type": "code",
   "execution_count": null,
   "metadata": {
    "collapsed": false,
    "slideshow": {
     "slide_type": "fragment"
    }
   },
   "outputs": [],
   "source": [
    "inClassMatrix = np.array([[1,2],[3,4]])\n",
    "sp.Matrix(inClassMatrix)"
   ]
  },
  {
   "cell_type": "code",
   "execution_count": null,
   "metadata": {
    "collapsed": false,
    "slideshow": {
     "slide_type": "fragment"
    }
   },
   "outputs": [],
   "source": [
    "5*inClassMatrix"
   ]
  },
  {
   "cell_type": "code",
   "execution_count": null,
   "metadata": {
    "collapsed": false,
    "slideshow": {
     "slide_type": "fragment"
    }
   },
   "outputs": [],
   "source": [
    "5.0*inClassMatrix"
   ]
  },
  {
   "cell_type": "markdown",
   "metadata": {
    "slideshow": {
     "slide_type": "fragment"
    }
   },
   "source": [
    "Note the typecasting."
   ]
  },
  {
   "cell_type": "markdown",
   "metadata": {
    "slideshow": {
     "slide_type": "slide"
    }
   },
   "source": [
    "Note also that you can do symbolic manipulations, but unlike other CAS where everything is an expression/symbol (e.g. Mathematica), you need to be more specific about what is a symbol for the computer algebra system (CAS) in Python."
   ]
  },
  {
   "cell_type": "code",
   "execution_count": null,
   "metadata": {
    "collapsed": false,
    "slideshow": {
     "slide_type": "fragment"
    }
   },
   "outputs": [],
   "source": [
    "x = sp.symbols('x')\n",
    "sp.Matrix(x*inClassMatrix)"
   ]
  },
  {
   "cell_type": "code",
   "execution_count": null,
   "metadata": {
    "collapsed": false,
    "slideshow": {
     "slide_type": "fragment"
    }
   },
   "outputs": [],
   "source": [
    "x*sp.Matrix(inClassMatrix)"
   ]
  },
  {
   "cell_type": "code",
   "execution_count": null,
   "metadata": {
    "collapsed": false,
    "slideshow": {
     "slide_type": "fragment"
    }
   },
   "outputs": [],
   "source": [
    "type(x)"
   ]
  },
  {
   "cell_type": "code",
   "execution_count": null,
   "metadata": {
    "collapsed": false,
    "slideshow": {
     "slide_type": "fragment"
    }
   },
   "outputs": [],
   "source": [
    "x**2*(1+x**3+5*x+4*x**2)"
   ]
  },
  {
   "cell_type": "code",
   "execution_count": null,
   "metadata": {
    "collapsed": false,
    "slideshow": {
     "slide_type": "fragment"
    }
   },
   "outputs": [],
   "source": [
    "type(inClassMatrix)"
   ]
  },
  {
   "cell_type": "markdown",
   "metadata": {
    "slideshow": {
     "slide_type": "slide"
    }
   },
   "source": [
    "#### The Transpose of a Matrix/Vector"
   ]
  },
  {
   "cell_type": "code",
   "execution_count": null,
   "metadata": {
    "collapsed": false,
    "slideshow": {
     "slide_type": "fragment"
    }
   },
   "outputs": [],
   "source": [
    "randomNumberArray = np.random.rand(3,3)\n",
    "randomNumberArray"
   ]
  },
  {
   "cell_type": "code",
   "execution_count": null,
   "metadata": {
    "collapsed": false,
    "slideshow": {
     "slide_type": "fragment"
    }
   },
   "outputs": [],
   "source": [
    "randomNumberArray.T"
   ]
  },
  {
   "cell_type": "markdown",
   "metadata": {
    "slideshow": {
     "slide_type": "subslide"
    }
   },
   "source": [
    "There is also a neat way to make an associated list using the Transpose function, but zip can be used as well.  The speed of these two methods could be tested to determine the preferred way to do this.  `zip` lives in Python and `tolist()` and `.T` live in `numpy` so I'm going to hypothesize that the `.T` method is faster in spite of needing two operations.  _Anyone care to test this?_"
   ]
  },
  {
   "cell_type": "code",
   "execution_count": null,
   "metadata": {
    "collapsed": true,
    "slideshow": {
     "slide_type": "fragment"
    }
   },
   "outputs": [],
   "source": [
    "dogBreeds = [\"spaniel\",\"lab\",\"pug\"]\n",
    "dogNames = [\"teddy\",\"bingo\",\"countpugulus\"]"
   ]
  },
  {
   "cell_type": "code",
   "execution_count": null,
   "metadata": {
    "collapsed": false,
    "slideshow": {
     "slide_type": "fragment"
    }
   },
   "outputs": [],
   "source": [
    "associatedList = [dogBreeds,dogNames]\n",
    "associatedList"
   ]
  },
  {
   "cell_type": "code",
   "execution_count": null,
   "metadata": {
    "collapsed": false,
    "slideshow": {
     "slide_type": "fragment"
    }
   },
   "outputs": [],
   "source": [
    "np.asarray(associatedList).T.tolist()"
   ]
  },
  {
   "cell_type": "code",
   "execution_count": null,
   "metadata": {
    "collapsed": false,
    "slideshow": {
     "slide_type": "fragment"
    }
   },
   "outputs": [],
   "source": [
    "zip(dogBreeds,dogNames)"
   ]
  },
  {
   "cell_type": "markdown",
   "metadata": {
    "slideshow": {
     "slide_type": "fragment"
    }
   },
   "source": [
    "Note that one is a list of lists and the other is a list of tuples."
   ]
  },
  {
   "cell_type": "markdown",
   "metadata": {
    "slideshow": {
     "slide_type": "slide"
    }
   },
   "source": [
    "#### Matrix Multiplication"
   ]
  },
  {
   "cell_type": "markdown",
   "metadata": {
    "slideshow": {
     "slide_type": "fragment"
    }
   },
   "source": [
    "`Numpy` provides some tools for matrix operations.  We will reproduce the standard definition of matrix multiplication and then exercise some `Numpy` functions to make sure our understanding is clear.  Kreyszig provides a nice definition in Chapter 7:"
   ]
  },
  {
   "cell_type": "markdown",
   "metadata": {
    "slideshow": {
     "slide_type": "fragment"
    }
   },
   "source": [
    "The product $\\mathbf{C} = \\mathbf{AB}$ (in order) of an $m \\times n$ matrix $\\mathbf{A} = [a_{jk}]$ times an $r \\times p$ matrix $\\mathbf{B} = [b_{jk}]$ is defined if and only if $r = n$ and is then the $m \\times p$ matrix $\\mathbf{C} = [c_{jk}]$ with entries:\n",
    "\n",
    "$c_{jk} = \\sum_{l=1}^{n}a_{jl}b_{lk} = a_{j1}b_{1k} + a_{j2}b_{2k} + \\cdots + a_{jn}b_{nk}$\n",
    "\n",
    "where\n",
    "\n",
    "$j = 1, \\cdots, m$\n",
    "\n",
    "and\n",
    "\n",
    "$k = 1, \\cdots, p$"
   ]
  },
  {
   "cell_type": "markdown",
   "metadata": {
    "slideshow": {
     "slide_type": "fragment"
    }
   },
   "source": [
    "You could describe this as a \"contraction\" in the index \"n\".\n",
    "\n",
    "Now - once again there is a bit of a split here.  We will use `sympy` to illustrate the matrix multiplication and then switch to `numpy` to carry out the operations.  Follow along as best you can."
   ]
  },
  {
   "cell_type": "code",
   "execution_count": null,
   "metadata": {
    "collapsed": true,
    "slideshow": {
     "slide_type": "slide"
    }
   },
   "outputs": [],
   "source": [
    "%matplotlib inline\n",
    "import numpy as np\n",
    "import sympy as sp"
   ]
  },
  {
   "cell_type": "markdown",
   "metadata": {
    "slideshow": {
     "slide_type": "fragment"
    }
   },
   "source": [
    "Using `sympy` to start:"
   ]
  },
  {
   "cell_type": "code",
   "execution_count": null,
   "metadata": {
    "collapsed": false,
    "slideshow": {
     "slide_type": "fragment"
    }
   },
   "outputs": [],
   "source": [
    "m11, m12, m13, m21, m22, m23, m31, m32, m33, m41, m42, m43 = sp.symbols(\"m11, m12, m13, m21, m22, m23, m31, m32, m33, m41, m42, m43\")\n",
    "b11, b12, b21, b22, b31, b32 = sp.symbols(\"b11, b12, b21, b22, b31, b32\")"
   ]
  },
  {
   "cell_type": "code",
   "execution_count": null,
   "metadata": {
    "collapsed": false,
    "slideshow": {
     "slide_type": "slide"
    }
   },
   "outputs": [],
   "source": [
    "A = sp.Matrix([[m11, m12, m13],[m21, m22, m23],[m31, m32, m33],[m41, m42, m43]])\n",
    "A"
   ]
  },
  {
   "cell_type": "code",
   "execution_count": null,
   "metadata": {
    "collapsed": false,
    "slideshow": {
     "slide_type": "fragment"
    }
   },
   "outputs": [],
   "source": [
    "B = sp.Matrix([[b11, b12],[b21, b22],[b31, b32]])\n",
    "B"
   ]
  },
  {
   "cell_type": "code",
   "execution_count": null,
   "metadata": {
    "collapsed": false,
    "slideshow": {
     "slide_type": "fragment"
    }
   },
   "outputs": [],
   "source": [
    "A*B"
   ]
  },
  {
   "cell_type": "markdown",
   "metadata": {
    "slideshow": {
     "slide_type": "slide"
    }
   },
   "source": [
    "Now let us examine some `numpy` functions to do the same thing."
   ]
  },
  {
   "cell_type": "code",
   "execution_count": null,
   "metadata": {
    "collapsed": false,
    "slideshow": {
     "slide_type": "fragment"
    }
   },
   "outputs": [],
   "source": [
    "A = np.array([[n+m*10 for n in range(3)] for m in range(4)])\n",
    "A"
   ]
  },
  {
   "cell_type": "code",
   "execution_count": null,
   "metadata": {
    "collapsed": false,
    "slideshow": {
     "slide_type": "fragment"
    }
   },
   "outputs": [],
   "source": [
    "B = np.array([[n+m*5 for n in range(2)] for m in range(3)])\n",
    "B"
   ]
  },
  {
   "cell_type": "markdown",
   "metadata": {
    "slideshow": {
     "slide_type": "slide"
    }
   },
   "source": [
    "You might just try this:"
   ]
  },
  {
   "cell_type": "code",
   "execution_count": null,
   "metadata": {
    "collapsed": false,
    "slideshow": {
     "slide_type": "fragment"
    }
   },
   "outputs": [],
   "source": [
    "A*B"
   ]
  },
  {
   "cell_type": "markdown",
   "metadata": {
    "slideshow": {
     "slide_type": "fragment"
    }
   },
   "source": [
    "and get an error and start banging your head against the wall for hours.  It can be difficult to find out how operators are overloaded for different data types when learning a language especially if you aren't used to looking at source code (or reading documentation)."
   ]
  },
  {
   "cell_type": "markdown",
   "metadata": {
    "slideshow": {
     "slide_type": "slide"
    }
   },
   "source": [
    "let us try this:"
   ]
  },
  {
   "cell_type": "code",
   "execution_count": null,
   "metadata": {
    "collapsed": false,
    "slideshow": {
     "slide_type": "fragment"
    }
   },
   "outputs": [],
   "source": [
    "A*A"
   ]
  },
  {
   "cell_type": "markdown",
   "metadata": {
    "slideshow": {
     "slide_type": "slide"
    }
   },
   "source": [
    "Use of the '`*`' is not matrix multiplication - rather it is element by element multiplication.  In `numpy` you want the `dot` function.  Reading the help file is a good idea.  Use `SHIFT-TAB` in the function brackets to bring that up."
   ]
  },
  {
   "cell_type": "code",
   "execution_count": null,
   "metadata": {
    "collapsed": false,
    "slideshow": {
     "slide_type": "fragment"
    }
   },
   "outputs": [],
   "source": [
    "np.dot(A,B)"
   ]
  },
  {
   "cell_type": "markdown",
   "metadata": {
    "slideshow": {
     "slide_type": "slide"
    }
   },
   "source": [
    "Alternatively, we can cast the array objects to the type matrix. This changes the behavior of the standard arithmetic operators +, -, * to use matrix algebra."
   ]
  },
  {
   "cell_type": "code",
   "execution_count": null,
   "metadata": {
    "collapsed": false,
    "slideshow": {
     "slide_type": "skip"
    }
   },
   "outputs": [],
   "source": [
    "AM = np.matrix(A)\n",
    "BM = np.matrix(B)"
   ]
  },
  {
   "cell_type": "code",
   "execution_count": null,
   "metadata": {
    "collapsed": false,
    "slideshow": {
     "slide_type": "skip"
    }
   },
   "outputs": [],
   "source": [
    "AM"
   ]
  },
  {
   "cell_type": "code",
   "execution_count": null,
   "metadata": {
    "collapsed": false,
    "slideshow": {
     "slide_type": "skip"
    }
   },
   "outputs": [],
   "source": [
    "A"
   ]
  },
  {
   "cell_type": "code",
   "execution_count": null,
   "metadata": {
    "collapsed": false,
    "slideshow": {
     "slide_type": "skip"
    }
   },
   "outputs": [],
   "source": [
    "AM*BM"
   ]
  },
  {
   "cell_type": "code",
   "execution_count": null,
   "metadata": {
    "collapsed": false,
    "slideshow": {
     "slide_type": "skip"
    }
   },
   "outputs": [],
   "source": [
    "np.dot(A,B)"
   ]
  },
  {
   "cell_type": "markdown",
   "metadata": {
    "slideshow": {
     "slide_type": "skip"
    }
   },
   "source": [
    "Types are important.  Always check your types."
   ]
  },
  {
   "cell_type": "markdown",
   "metadata": {
    "slideshow": {
     "slide_type": "slide"
    }
   },
   "source": [
    "#### Norm of a Vector"
   ]
  },
  {
   "cell_type": "code",
   "execution_count": null,
   "metadata": {
    "collapsed": false,
    "slideshow": {
     "slide_type": "fragment"
    }
   },
   "outputs": [],
   "source": [
    "vectorOnes = np.ones(3)\n",
    "vectorOnes"
   ]
  },
  {
   "cell_type": "code",
   "execution_count": null,
   "metadata": {
    "collapsed": false,
    "slideshow": {
     "slide_type": "fragment"
    }
   },
   "outputs": [],
   "source": [
    "vectorOnesNorm = np.linalg.norm(vectorOnes)\n",
    "vectorOnesNorm"
   ]
  },
  {
   "cell_type": "markdown",
   "metadata": {
    "collapsed": true,
    "slideshow": {
     "slide_type": "slide"
    }
   },
   "source": [
    "#### DIY:  Compute the angle between the $(123)$ plane and the $(112)$ plane in a cubic system.  What is the common axes of these two planes?\n",
    "\n",
    "Some things to remember:\n",
    "\n",
    "* directions are normal to the planes with the same Miller index;\n",
    "* $ \\mathbf{A} \\cdot \\mathbf{B} = |A||B|\\cos \\theta$"
   ]
  },
  {
   "cell_type": "code",
   "execution_count": null,
   "metadata": {
    "collapsed": false,
    "slideshow": {
     "slide_type": "subslide"
    }
   },
   "outputs": [],
   "source": [
    "import numpy as np\n",
    "\n",
    "# Define your vectors.\n",
    "vectorOne = np.array([1,2,3])\n",
    "vectorTwo = np.array([1,1,2])\n",
    "\n",
    "# I'll help you with this one:\n",
    "normA = np.linalg.norm(vectorOne)\n",
    "normB = np.linalg.norm(vectorTwo)\n",
    "\n",
    "# Put your code here."
   ]
  },
  {
   "cell_type": "markdown",
   "metadata": {
    "slideshow": {
     "slide_type": "slide"
    }
   },
   "source": [
    "### In Class\n",
    "----\n",
    "\n",
    "#### Rotations\n",
    "\n",
    "Numpy has a lot of functionality built in.  We want to avoid writing our own functions if someone else has done the work already, exploring the functions in Numpy will be a helpful enrichment activity.  Rotations and transformations are one such area where a lot has been done.  This discussion is derived from Arfken, chapter 3.3.  There are other texts that do this, but this is a \"standard\" reference.\n",
    "\n",
    "A convenient way to specify rotations is in matrix form.  In this form you can imagine applying a linear transformation (a geometric transformation) to an object (like a vector that points to some point in space).  The relationship between the entries in the matrix ensure that the object does not \"stretch\" when transformed - so a pure rotation is specified.\n",
    "\n",
    "For a given set of coordinates ($x_1$, $x_2$, $x_3$) and an other set of coordinates ($x'_1$, $x'_2$, $x'_3$) can be defined with the same origin and same sense (right handed).  It is possible then to relate these two coordinate systems by a rotation.  Rotations in Euclidian space are linear operators so the goal is to develop these transformation matrices.\n",
    "\n",
    "Rotations such as these arise in texture analysis of materials where the unprimed coordinate system could be chosen to exist in the specimen and the primed coordinate system could be chosen to exist in the crystallographic frame.  Think about that a bit.\n",
    "\n",
    "It is important to know that there are many interpretations of rotations and they are all intrinsically correct.  The problem comes from mixing and matching methods.  Amazingly there is no standard Python library for computing rotations.  Even though this is the case - they aren't too hard to construct.  \n",
    "\n",
    "The main issue is that there are some functions in `sympy` that can help but to use them on real data we need to convert them into non-symbolic matrices.  Please pay attention to see if we are in `numpy` or `sympy` when looking at functions.  I will `import as` so things are clear."
   ]
  },
  {
   "cell_type": "code",
   "execution_count": null,
   "metadata": {
    "collapsed": true,
    "slideshow": {
     "slide_type": "slide"
    }
   },
   "outputs": [],
   "source": [
    "import sympy as sp\n",
    "import numpy as np"
   ]
  },
  {
   "cell_type": "code",
   "execution_count": null,
   "metadata": {
    "collapsed": true,
    "slideshow": {
     "slide_type": "skip"
    }
   },
   "outputs": [],
   "source": [
    "?sp.rot_axis3"
   ]
  },
  {
   "cell_type": "code",
   "execution_count": null,
   "metadata": {
    "collapsed": false,
    "slideshow": {
     "slide_type": "slide"
    }
   },
   "outputs": [],
   "source": [
    "theta = sp.symbols('theta')\n",
    "sp.rot_axis3(theta)"
   ]
  },
  {
   "cell_type": "code",
   "execution_count": null,
   "metadata": {
    "collapsed": false,
    "slideshow": {
     "slide_type": "fragment"
    }
   },
   "outputs": [],
   "source": [
    "sp.rot_axis2(theta)"
   ]
  },
  {
   "cell_type": "markdown",
   "metadata": {
    "slideshow": {
     "slide_type": "slide"
    }
   },
   "source": [
    "We can look up definitions, but we can also do some simple tests to see which way things rotate.  Let us take a vector pointing in the $\\hat{x}$ direction and rotate it about $\\hat{z}$ and see what happens."
   ]
  },
  {
   "cell_type": "code",
   "execution_count": null,
   "metadata": {
    "collapsed": true,
    "slideshow": {
     "slide_type": "slide"
    }
   },
   "outputs": [],
   "source": [
    "xUnit = sp.Matrix([1,0,0])\n",
    "zRotation = sp.rot_axis3(sp.pi/2)"
   ]
  },
  {
   "cell_type": "code",
   "execution_count": null,
   "metadata": {
    "collapsed": false,
    "slideshow": {
     "slide_type": "skip"
    }
   },
   "outputs": [],
   "source": [
    "zRotation"
   ]
  },
  {
   "cell_type": "code",
   "execution_count": null,
   "metadata": {
    "collapsed": false,
    "scrolled": true,
    "slideshow": {
     "slide_type": "fragment"
    }
   },
   "outputs": [],
   "source": [
    "zRotation.dot(xUnit)"
   ]
  },
  {
   "cell_type": "markdown",
   "metadata": {
    "slideshow": {
     "slide_type": "slide"
    }
   },
   "source": [
    "So what do we do now?\n",
    "\n",
    "* The convention for positive angles is a *counterclockwise* rotation.\n",
    "* The rotation axis function in `sympy` as defined rotates *clockwise*\n",
    "* There are conventions about active and passive rotations.\n",
    "* Don't assume module functions will do what you want - always check.\n",
    "\n",
    "Let's write our own so we can think more clearly.  Here we will define a function to operate on Numpy arrays.  There is a function called \"isclose\" that one can use to clean up the arrays and Boolean indexing that can alternatively be used."
   ]
  },
  {
   "cell_type": "code",
   "execution_count": null,
   "metadata": {
    "collapsed": true,
    "slideshow": {
     "slide_type": "slide"
    }
   },
   "outputs": [],
   "source": [
    "def rotation2D(theta):\n",
    "    return np.array([[np.cos(theta), np.sin(theta)],\n",
    "                     [-np.sin(theta),  np.cos(theta)]])"
   ]
  },
  {
   "cell_type": "code",
   "execution_count": null,
   "metadata": {
    "collapsed": false,
    "slideshow": {
     "slide_type": "slide"
    }
   },
   "outputs": [],
   "source": [
    "testArray = rotation2D(np.pi/2)\n",
    "\n",
    "testArray"
   ]
  },
  {
   "cell_type": "markdown",
   "metadata": {
    "slideshow": {
     "slide_type": "skip"
    }
   },
   "source": [
    "----\n",
    "\n",
    "#### Cleaning up the Small Values - Feel free to skip this section.\n"
   ]
  },
  {
   "cell_type": "markdown",
   "metadata": {
    "slideshow": {
     "slide_type": "skip"
    }
   },
   "source": [
    "One strategy is to remove small numbers less than some tolerance and set them equal to zero.  Algorithms like these where you compare your data to a tolerance and then operate on the entries that meet certain criteria are not uncommon.  This is the tradeoff between symbolic computation and numeric computation."
   ]
  },
  {
   "cell_type": "code",
   "execution_count": null,
   "metadata": {
    "collapsed": false,
    "slideshow": {
     "slide_type": "skip"
    }
   },
   "outputs": [],
   "source": [
    "testArray[np.abs(testArray) < 1e-5] = 0\n",
    "\n",
    "testArray"
   ]
  },
  {
   "cell_type": "markdown",
   "metadata": {
    "slideshow": {
     "slide_type": "skip"
    }
   },
   "source": [
    "The key is in the Boolean comparision using the `<` symbol.  The expression returns a `numpy` array of `dtype=bool`.  Let me say here that it is good to check the results of expressions if you are unsure."
   ]
  },
  {
   "cell_type": "code",
   "execution_count": null,
   "metadata": {
    "collapsed": false,
    "slideshow": {
     "slide_type": "skip"
    }
   },
   "outputs": [],
   "source": [
    "np.abs(testArray) < 1e-5"
   ]
  },
  {
   "cell_type": "markdown",
   "metadata": {
    "slideshow": {
     "slide_type": "skip"
    }
   },
   "source": [
    "We can write a function to do this that is a bit more robust.  Modifications are done in-place (by reference) so we just return the array passed to the function after some manipulation that we do by Boolean indexing."
   ]
  },
  {
   "cell_type": "code",
   "execution_count": null,
   "metadata": {
    "collapsed": false,
    "slideshow": {
     "slide_type": "skip"
    }
   },
   "outputs": [],
   "source": [
    "def zeroArray(testArray):\n",
    "    testArray[np.isclose(testArray, np.zeros_like(testArray))] = 0.0\n",
    "    return testArray"
   ]
  },
  {
   "cell_type": "code",
   "execution_count": null,
   "metadata": {
    "collapsed": false,
    "slideshow": {
     "slide_type": "skip"
    }
   },
   "outputs": [],
   "source": [
    "modifiedArray = rotation2D(np.pi/2)\n",
    "\n",
    "modifiedArray = zeroArray(rotation2D(np.pi/2))\n",
    "\n",
    "modifiedArray"
   ]
  },
  {
   "cell_type": "markdown",
   "metadata": {
    "slideshow": {
     "slide_type": "skip"
    }
   },
   "source": [
    "Note that the convention I'm using is that the indices are ordered $(x,y)$."
   ]
  },
  {
   "cell_type": "markdown",
   "metadata": {
    "slideshow": {
     "slide_type": "skip"
    }
   },
   "source": [
    "----"
   ]
  },
  {
   "cell_type": "markdown",
   "metadata": {
    "slideshow": {
     "slide_type": "slide"
    }
   },
   "source": [
    "#### Rotations (Continued)"
   ]
  },
  {
   "cell_type": "code",
   "execution_count": null,
   "metadata": {
    "collapsed": false,
    "slideshow": {
     "slide_type": "fragment"
    }
   },
   "outputs": [],
   "source": [
    "zeroArray(np.dot(np.array([1,0]),rotation2D(np.pi/2)))"
   ]
  },
  {
   "cell_type": "code",
   "execution_count": null,
   "metadata": {
    "collapsed": false,
    "slideshow": {
     "slide_type": "fragment"
    }
   },
   "outputs": [],
   "source": [
    "zeroArray(np.dot(rotation2D(np.pi/2),np.array([1,0])))"
   ]
  },
  {
   "cell_type": "markdown",
   "metadata": {
    "slideshow": {
     "slide_type": "slide"
    }
   },
   "source": [
    "#### Euler Angles"
   ]
  },
  {
   "cell_type": "markdown",
   "metadata": {
    "slideshow": {
     "slide_type": "slide"
    }
   },
   "source": [
    "This discussion is derived primarily from Arfken, Chapter 3.3.  The figure below is from Arfken:"
   ]
  },
  {
   "cell_type": "markdown",
   "metadata": {
    "slideshow": {
     "slide_type": "subslide"
    }
   },
   "source": [
    "![](images/Arfken_Figure_3.7.png)"
   ]
  },
  {
   "cell_type": "markdown",
   "metadata": {
    "collapsed": true,
    "slideshow": {
     "slide_type": "slide"
    }
   },
   "source": [
    "There are three successive rotations used in the Euler angle formalism.  The order is important.  (There is a nice demonstration project based on Mathematica tools that illustrates how the angles work together.)  In this formalism the COORDINATE systems are being rotated with each successive step.\n",
    "\n",
    "In steps as shown in Figure 3.7 from Arfken:\n",
    "\n",
    "1. The first rotation is about $x_3$.  In this case the $x'_3$ and $x_3$ axes coincide.  The angle $\\alpha$ is taken to be positive (counterclockwise).  Our new coordinate system is $(x'_1,x'_2,x'_3)$.\n",
    "1. The coordinates are now rotated through an angle $\\beta$ around the $x'_2$ axis.  Our new coordinate system is now $(x''_1,x''_2,x''_3)$.\n",
    "1. The final rotation is through the angle $\\gamma$ about the $x'''_3$ axis.  Our coordinate system is now the $(x'''_1,x'''_2,x'''_3)$.  In the case pictured above the $x''_3$ and $x'''_3$ axes coincide."
   ]
  },
  {
   "cell_type": "markdown",
   "metadata": {
    "slideshow": {
     "slide_type": "slide"
    }
   },
   "source": [
    "#### Using SymPy to Symbolically Compute A Rotation Matrix"
   ]
  },
  {
   "cell_type": "markdown",
   "metadata": {
    "slideshow": {
     "slide_type": "fragment"
    }
   },
   "source": [
    "In this section we will use symbolic manipulation to explore rotation matrices.  I will define three functions that return matrices.  We will then use the matrix product to produce the required rotation matrix.  We will use the formalism above to do this."
   ]
  },
  {
   "cell_type": "code",
   "execution_count": null,
   "metadata": {
    "collapsed": false,
    "slideshow": {
     "slide_type": "fragment"
    }
   },
   "outputs": [],
   "source": [
    "import sympy as sp\n",
    "sp.init_session(quiet=True)\n",
    "\n",
    "alpha, beta, gamma = sp.symbols('alpha beta gamma')"
   ]
  },
  {
   "cell_type": "code",
   "execution_count": null,
   "metadata": {
    "collapsed": false,
    "slideshow": {
     "slide_type": "slide"
    }
   },
   "outputs": [],
   "source": [
    "def rZ(angle):\n",
    "    sa = sp.sin(angle)\n",
    "    ca = sp.cos(angle)\n",
    "    M = sp.Matrix([[ca, sa, 0],\n",
    "                  [-sa, ca, 0],\n",
    "                  [0, 0, 1]])\n",
    "    return M\n",
    "\n",
    "def rY(angle):\n",
    "    sb = sp.sin(angle)\n",
    "    cb = sp.cos(angle)\n",
    "    M = sp.Matrix([[cb, 0, -sb],\n",
    "                  [0, 1, 0],\n",
    "                  [sb, 0, cb]])\n",
    "    return M\n"
   ]
  },
  {
   "cell_type": "code",
   "execution_count": null,
   "metadata": {
    "collapsed": false,
    "slideshow": {
     "slide_type": "slide"
    }
   },
   "outputs": [],
   "source": [
    "rZ(alpha)"
   ]
  },
  {
   "cell_type": "code",
   "execution_count": null,
   "metadata": {
    "collapsed": false,
    "slideshow": {
     "slide_type": "slide"
    }
   },
   "outputs": [],
   "source": [
    "rY(beta)"
   ]
  },
  {
   "cell_type": "code",
   "execution_count": null,
   "metadata": {
    "collapsed": false,
    "slideshow": {
     "slide_type": "slide"
    }
   },
   "outputs": [],
   "source": [
    "rZ(gamma)"
   ]
  },
  {
   "cell_type": "markdown",
   "metadata": {
    "slideshow": {
     "slide_type": "slide"
    }
   },
   "source": [
    "You'll find that the symbolic triple matrix product matches up with the results in Arfken for the definition of Euler angles $\\alpha$, $\\beta$, $\\gamma$.  Note also that this is much easier to compute than by hand!  Also - less likely to result in errors.  "
   ]
  },
  {
   "cell_type": "code",
   "execution_count": null,
   "metadata": {
    "collapsed": false,
    "slideshow": {
     "slide_type": "fragment"
    }
   },
   "outputs": [],
   "source": [
    "rZ(gamma)*rY(beta)*rZ(alpha)"
   ]
  },
  {
   "cell_type": "markdown",
   "metadata": {
    "slideshow": {
     "slide_type": "slide"
    }
   },
   "source": [
    "Now - all of this wouldn't be much good unless we can convert our symbolic expression into a numerical expression.  So - we can pass real values to the sympy expression or we can pass the symbolic expression to the `lambdify` function."
   ]
  },
  {
   "cell_type": "code",
   "execution_count": null,
   "metadata": {
    "collapsed": true,
    "slideshow": {
     "slide_type": "fragment"
    }
   },
   "outputs": [],
   "source": [
    "eulerAngles = sp.lambdify((alpha,beta,gamma), rZ(gamma)*rY(beta)*rZ(alpha), \"numpy\")"
   ]
  },
  {
   "cell_type": "code",
   "execution_count": null,
   "metadata": {
    "collapsed": false,
    "slideshow": {
     "slide_type": "fragment"
    }
   },
   "outputs": [],
   "source": [
    "np.array([1,0,0]).dot(eulerAngles(np.pi/2.0,0,0))"
   ]
  },
  {
   "cell_type": "markdown",
   "metadata": {
    "slideshow": {
     "slide_type": "slide"
    }
   },
   "source": [
    "#### Symmetry Operations and Translations in Crystals"
   ]
  },
  {
   "cell_type": "markdown",
   "metadata": {
    "slideshow": {
     "slide_type": "fragment"
    }
   },
   "source": [
    "A generalized affine transformation can be thought of as an augmented matrix like so:\n",
    "\n",
    "$$\\begin{bmatrix}\n",
    "r_1 & r_2 & t_x\\\\\n",
    "r_3 & r_4 & t_y\\\\\n",
    "0 & 0 & 1\\\\\n",
    "\\end{bmatrix}$$"
   ]
  },
  {
   "cell_type": "markdown",
   "metadata": {
    "slideshow": {
     "slide_type": "subslide"
    }
   },
   "source": [
    "so you could imagine the following:\n",
    "\n",
    "$$\\begin{bmatrix} x'\\\\ y'\\\\ 1\\\\ \\end{bmatrix} =\n",
    "\\begin{bmatrix} 1 & 0 & t_x\\\\ 0 & 1 & t_y\\\\ 0 & 0 & 1\\\\ \\end{bmatrix} \n",
    "\\begin{bmatrix}x\\\\ y\\\\ 1\\\\ \\end{bmatrix} $$\n",
    "\n",
    "expanding to:\n",
    "\n",
    "$$x' = x + t_x $$\n",
    "\n",
    "and\n",
    "\n",
    "$$y' = y + t_y $$"
   ]
  },
  {
   "cell_type": "markdown",
   "metadata": {
    "slideshow": {
     "slide_type": "subslide"
    }
   },
   "source": [
    "With the rotation piece:\n",
    "\n",
    "$$\\begin{bmatrix} x'\\\\ y'\\\\ 1\\\\ \\end{bmatrix} =\n",
    "\\begin{bmatrix} \\cos{\\theta} & \\sin{\\theta} & t_x\\\\ -\\sin{\\theta} & \\cos{\\theta} & t_y\\\\ 0 & 0 & 1\\\\ \\end{bmatrix} \n",
    "\\begin{bmatrix}x\\\\ y\\\\ 1\\\\ \\end{bmatrix} $$\n",
    "\n",
    "where the $r_i$ represent the rotation matrix components and the $t_i$ represent the translations components.  In this format we can use a point description that looks like $(x, y, t)$ and matrix algebra to generate our transformed points.  \n",
    "\n",
    "So rather than do the algebra - let's do this in `sympy`.  Symbolically (in `sympy`) we can do the following: "
   ]
  },
  {
   "cell_type": "code",
   "execution_count": null,
   "metadata": {
    "collapsed": false,
    "slideshow": {
     "slide_type": "slide"
    }
   },
   "outputs": [],
   "source": [
    "import sympy as sp\n",
    "sp.init_session(quiet=True)\n",
    "\n",
    "alpha, t_x, t_y, x, y = sp.symbols('alpha t_x t_y x y')"
   ]
  },
  {
   "cell_type": "code",
   "execution_count": null,
   "metadata": {
    "collapsed": false
   },
   "outputs": [],
   "source": [
    "sa = sp.sin(alpha)\n",
    "ca = sp.cos(alpha)\n",
    "M = sp.Matrix([[ca, sa, t_x], [-sa, ca, t_y], [0, 0, 1]])\n",
    "V = sp.Matrix([x, y, 1])\n",
    "\n",
    "M*V"
   ]
  },
  {
   "cell_type": "markdown",
   "metadata": {},
   "source": [
    "Ok, so now we are getting somewhere.  Let us explore a bit of how we can draw an image - and then we have everything we need to start building the plane group representations.  The hexagon generator below is from [here](http://variable-scope.com/posts/hexagon-tilings-with-python)."
   ]
  },
  {
   "cell_type": "code",
   "execution_count": null,
   "metadata": {
    "collapsed": false
   },
   "outputs": [],
   "source": [
    "%matplotlib inline\n",
    "\n",
    "import math\n",
    "from PIL import Image, ImageDraw\n",
    "\n",
    "def hexagon_generator(edge_length, offset):\n",
    "  \"\"\"Generator for coordinates in a hexagon.\"\"\"\n",
    "  x, y = offset\n",
    "  for angle in range(0, 360, 60):\n",
    "    x += math.cos(math.radians(angle)) * edge_length\n",
    "    y += math.sin(math.radians(angle)) * edge_length\n",
    "    yield x, y\n",
    "\n",
    "image = Image.new('RGB', (500, 500), 'white')\n",
    "draw = ImageDraw.Draw(image)\n",
    "\n",
    "hexagon = hexagon_generator(40, offset=(30, 15))\n",
    "\n",
    "x_points_list = range(0,500,30)\n",
    "y_points_list = range(0,500,30)\n",
    "\n",
    "for a in x_points_list:\n",
    "    for b in y_points_list:\n",
    "        # The generator creates points on-demand.\n",
    "        hexagon = hexagon_generator(10, offset=(a, b))\n",
    "        draw.polygon(list(hexagon), outline='black', fill='red')\n",
    "\n",
    "image"
   ]
  },
  {
   "cell_type": "markdown",
   "metadata": {
    "slideshow": {
     "slide_type": "slide"
    }
   },
   "source": [
    "### Homework\n",
    "----\n",
    "\n",
    "#### Reflections and Rotations in Crystals"
   ]
  },
  {
   "cell_type": "markdown",
   "metadata": {
    "slideshow": {
     "slide_type": "fragment"
    }
   },
   "source": [
    "The method above has limitations.  The splitting of $(x,y)$ makes it difficult to use rotation matrices (and augmented rotation matrices that include translations) to generate the so-called `list_of_tuples` below.  You can think of these as lattice points for the hexagons.  You can generate the lattice points by translations and rotations.\n",
    "\n",
    "One strategy is to start with a single point $(x,y)$ in the plane and then translate and rotate using matrices.  You will find that a set of matrices will reproduce the whole structure.  This small set of matrices are an algebraic structure called a **group**.  So - the \"plane group\" is the group that reproduces the structure in the plane.\n",
    "\n",
    "Homework Options\n",
    "\n",
    "1.  Reproduce any plane group using any method you desire.  This option is useful if you are struggling with any of the concepts in this lecture.\n",
    "1.  Reproduce any plane group using the augmented matrix with rotations and translations.  Pass the list of points to the hexagon generator and draw the image.\n",
    "1.  Produce a plane group that respects the symmetry of the motif (the motif must have lower or equal symmetry to the lattice) and name the plane group.  Identify the group elements in matrix/translation form.  (Not 100% sure this will be easy to write up - do your best.)\n",
    "1.  Reproduce one of the plane groups from the figure below.  This will require writing a generator function and a rotation/translation function.  Ordering the operations to make rotation/reflection of the polygon must be done correctly."
   ]
  },
  {
   "cell_type": "markdown",
   "metadata": {
    "slideshow": {
     "slide_type": "skip"
    }
   },
   "source": [
    "![](./images/planeGroups.png)"
   ]
  },
  {
   "cell_type": "code",
   "execution_count": null,
   "metadata": {
    "collapsed": false,
    "slideshow": {
     "slide_type": "skip"
    }
   },
   "outputs": [],
   "source": [
    "import numpy as np\n",
    "\n",
    "firstPoint = np.array([0,0,1])  # x, y, dummy\n",
    "\n",
    "# as written will this work for numpy arrays of points?\n",
    "def affine2D(theta, xtrans, ytrans):\n",
    "    return np.array([[np.cos(theta), np.sin(theta), xtrans],\n",
    "                     [-np.sin(theta),  np.cos(theta), ytrans],\n",
    "                     [0, 0, 1]\n",
    "                    ])\n",
    "\n",
    "def zeroArray(testArray):\n",
    "    testArray[np.isclose(testArray, np.zeros_like(testArray))] = 0.0\n",
    "    return testArray\n",
    "\n",
    "# Elements of the group.\n",
    "translationX = affine2D(0, 1, 0)\n",
    "translationY = affine2D(0, 0, 1)\n",
    "rotation90 = affine2D(np.pi/2.0, 0, 0)"
   ]
  },
  {
   "cell_type": "code",
   "execution_count": null,
   "metadata": {
    "collapsed": false,
    "slideshow": {
     "slide_type": "skip"
    }
   },
   "outputs": [],
   "source": [
    "firstPoint"
   ]
  },
  {
   "cell_type": "code",
   "execution_count": null,
   "metadata": {
    "collapsed": false,
    "slideshow": {
     "slide_type": "skip"
    }
   },
   "outputs": [],
   "source": [
    "translationX"
   ]
  },
  {
   "cell_type": "code",
   "execution_count": null,
   "metadata": {
    "collapsed": false,
    "slideshow": {
     "slide_type": "skip"
    }
   },
   "outputs": [],
   "source": [
    "new_point = translationX.dot(firstPoint)\n",
    "new_point"
   ]
  },
  {
   "cell_type": "code",
   "execution_count": null,
   "metadata": {
    "collapsed": false,
    "slideshow": {
     "slide_type": "skip"
    }
   },
   "outputs": [],
   "source": [
    "translationY"
   ]
  },
  {
   "cell_type": "code",
   "execution_count": null,
   "metadata": {
    "collapsed": false,
    "slideshow": {
     "slide_type": "skip"
    }
   },
   "outputs": [],
   "source": [
    "new_new_point = translationY.dot(new_point)\n",
    "new_new_point"
   ]
  },
  {
   "cell_type": "code",
   "execution_count": null,
   "metadata": {
    "collapsed": false,
    "slideshow": {
     "slide_type": "skip"
    }
   },
   "outputs": [],
   "source": [
    "zeroArray(rotation90)"
   ]
  },
  {
   "cell_type": "code",
   "execution_count": null,
   "metadata": {
    "collapsed": false,
    "slideshow": {
     "slide_type": "skip"
    }
   },
   "outputs": [],
   "source": [
    "new_point = translationX.dot(translationX.dot(firstPoint))\n",
    "\n",
    "new_point"
   ]
  },
  {
   "cell_type": "markdown",
   "metadata": {
    "slideshow": {
     "slide_type": "skip"
    }
   },
   "source": [
    "So using this method you can, in principle, generate lattice points for any of the possible 17 plane groups.  There is a lot of information on the web regarding the plane groups and their generators.  You can visualize the results using the small piece of code below.\n",
    "\n",
    "The hexagon generator gives a tuple of points that are the vertices of a polygon.  Those vertices are passed to the `ImageDraw.polygon()` function.  So - you have to think a bit about how you will structure your rotations to make all of this work!  There is a possibility that you can rotate the image of the hexagon so that the edges are no longer mirrored about the mirror lines of the plane group."
   ]
  },
  {
   "cell_type": "code",
   "execution_count": null,
   "metadata": {
    "collapsed": false,
    "slideshow": {
     "slide_type": "skip"
    }
   },
   "outputs": [],
   "source": [
    "%matplotlib inline\n",
    "\n",
    "import math\n",
    "from PIL import Image, ImageDraw\n",
    "\n",
    "# Do you think you could write this one?\n",
    "def square_generator(edge_length, offset):\n",
    "    return None\n",
    "\n",
    "# How about this one?\n",
    "def triangle_generator(edge_length, offset):\n",
    "    return None\n",
    "\n",
    "def hexagon_generator(edge_length, offset):\n",
    "  \"\"\"Generator for coordinates in a hexagon.\"\"\"\n",
    "  x, y = offset\n",
    "  for angle in range(0, 360, 60):\n",
    "    x += math.cos(math.radians(angle)) * edge_length\n",
    "    y += math.sin(math.radians(angle)) * edge_length\n",
    "    yield x, y\n",
    "\n",
    "def circle_generator(diameter, offset):\n",
    "    x, y = offset\n",
    "    yield x, y\n",
    "    yield x+diameter, y+diameter\n",
    "    \n",
    "# Maybe polygon generator is a better function to write...\n",
    "def polygon_generator(edge_length, offset, sides):\n",
    "    # How to ensure closure?\n",
    "    return None\n",
    "\n",
    "image = Image.new('RGB', (500, 500), 'white')\n",
    "draw = ImageDraw.Draw(image)\n",
    "\n",
    "hexagon = hexagon_generator(40, offset=(30, 15))\n",
    "\n",
    "# Is there a smart way to construct this list and limit the number of duplicates?\n",
    "list_of_tuples = [(1,1),(100,100),(200,200),(300,300)]\n",
    "\n",
    "for a in list_of_tuples:\n",
    "    # The generator creates points on-demand.\n",
    "    hexagon = hexagon_generator(10, offset=a)\n",
    "    draw.polygon(list(hexagon), outline='black', fill='red')\n",
    "\n",
    "for a in list_of_tuples:\n",
    "    circles = circle_generator(10, offset=a)\n",
    "    draw.ellipse(list(circles), outline='black', fill='green')\n",
    "    \n",
    "image"
   ]
  },
  {
   "cell_type": "markdown",
   "metadata": {
    "slideshow": {
     "slide_type": "slide"
    }
   },
   "source": [
    "### Looking Ahead\n",
    "----\n",
    "\n",
    "* Matrix algebra is useful in geometric transformations that are scale invariant and for those that change scale.  We will use matrices again when we solve simultaneous equations, however, a more abstract view is that we are performing a transformation between the input and output vectors where the differential equation sets the matrix entries.  Try and abstractly think of these operations rather than just seeing them for what they are.\n",
    "* Taylor's Series - please review how to construct Taylor's series.\n",
    "\n",
    "### Reading Assignments and Practice\n",
    "----\n",
    "\n",
    "* There are numerous crystallographic resources on the web.  Three good books on structure in materials are authored by Hammond, DeGraef and Rohrer.\n",
    "* Practice abstracting your ideas and generalizing them.  For example, if you can make a rotation matrix operate on one point, you could generalize so that it can operate on many points in a list.  The hexagon drawing above is a good case for this.  The hexagon is specified by points.  If you rotate all the points about the origin then you can set the hexagon's point group symmetry off-axis.  This may be useful for other structures."
   ]
  }
 ],
 "metadata": {
  "celltoolbar": "Slideshow",
  "kernelspec": {
   "display_name": "Python 2",
   "language": "python",
   "name": "python2"
  },
  "language_info": {
   "codemirror_mode": {
    "name": "ipython",
    "version": 2
   },
   "file_extension": ".py",
   "mimetype": "text/x-python",
   "name": "python",
   "nbconvert_exporter": "python",
   "pygments_lexer": "ipython2",
   "version": "2.7.13"
  }
 },
 "nbformat": 4,
 "nbformat_minor": 0
}
