{
 "cells": [
  {
   "cell_type": "markdown",
   "metadata": {},
   "source": [
    "# Lecture XX:\n",
    "\n",
    "### Sections\n",
    "\n",
    "* [Introduction](#Introduction)\n",
    "* [Learning Goals](#Learning-Goals)\n",
    "* [On Your Own](#On-Your-Own)\n",
    "    * Useful Functions\n",
    "    * A Vector Space\n",
    "* [In Class](#In-Class)\n",
    "    * Computing Fourier Coefficients by Hand\n",
    "    * Computing Series with Sympy\n",
    "    * The Reciprocal Lattice\n",
    "* [Homework](#Homework)\n",
    "* [Summary](#Summary)\n",
    "* [Looking Ahead](#Looking-Ahead)\n",
    "* [Reading Assignments and Practice](#Reading-Assignments-and-Practice)\n",
    "\n",
    "### Introduction\n",
    "----\n",
    "\n",
    "[Top of Page](#Sections)\n",
    "\n",
    "### Learning Goals\n",
    "----\n",
    "\n",
    "[Top of Page](#Sections)\n",
    "\n",
    "### On Your Own\n",
    "----\n",
    "\n",
    "[Top of Page](#Sections)\n",
    "\n",
    "### In Class\n",
    "----\n",
    "\n",
    "[Top of Page](#Sections)\n",
    "\n",
    "\n",
    "### Homework\n",
    "----\n",
    "\n",
    "[Top of Page](#Sections)\n",
    "\n",
    "### Looking Ahead\n",
    "----\n",
    "\n",
    "[Top of Page](#Sections)\n",
    "\n",
    "### Reading Assignments and Practice\n",
    "----\n",
    "\n",
    "[Top of Page](#Sections)"
   ]
  },
  {
   "cell_type": "code",
   "execution_count": null,
   "metadata": {
    "collapsed": true
   },
   "outputs": [],
   "source": []
  }
 ],
 "metadata": {
  "anaconda-cloud": {},
  "kernelspec": {
   "display_name": "Python [default]",
   "language": "python",
   "name": "python2"
  },
  "language_info": {
   "codemirror_mode": {
    "name": "ipython",
    "version": 2
   },
   "file_extension": ".py",
   "mimetype": "text/x-python",
   "name": "python",
   "nbconvert_exporter": "python",
   "pygments_lexer": "ipython2",
   "version": "2.7.12"
  }
 },
 "nbformat": 4,
 "nbformat_minor": 0
}
