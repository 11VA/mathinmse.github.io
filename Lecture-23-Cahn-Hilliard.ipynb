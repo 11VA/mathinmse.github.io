{
 "cells": [
  {
   "cell_type": "markdown",
   "metadata": {
    "slideshow": {
     "slide_type": "slide"
    }
   },
   "source": [
    "# Lecture 23:  The Equilbrium and Kinetic Properties of a Non-Uniform System"
   ]
  },
  {
   "cell_type": "markdown",
   "metadata": {},
   "source": [
    "## Reading and Reference\n",
    "\n",
    "* Free Energy of a Nonuniform System. I. Interfacial Free Energy, Journal of chemical Physics, v28, n2, p258-267 (1958)\n",
    "* Essential Mathematical Methods for Physicists, H. Weber and G. Arfken, Academic Press, 2003 (Chapter 5)\n",
    "* Calculus of Variations, L. Elsgolc, Dover Publications, 2007 (Chapters 1 and 2)\n",
    "* Thermodynamics in Materials Science, R. DeHoff, Taylor and Francis 2006.  (Chapters 8, 9 and 14)\n",
    "\n",
    "## What to Learn?\n",
    "\n",
    "* A Taylor's Series can be used to introduce correction terms to the bulk free energy.\n",
    "* The energy functional can be minimized using variational principles\n",
    "* The equations of motion can be developed from simple kinetic postulates\n",
    "* Solutions to these equations show capillarity effects\n",
    "\n",
    "\n",
    "## What to do?\n",
    "\n",
    "* Develop a model for the thermodynamics of an inhomogeneous system.\n",
    "* Derive the equation of motion for the phase seperation.\n",
    "* Solve the kinetic equations and show the microstructural evolution."
   ]
  },
  {
   "cell_type": "markdown",
   "metadata": {
    "slideshow": {
     "slide_type": "skip"
    }
   },
   "source": [
    "### Introduction\n",
    "----\n",
    "\n",
    "Cahn and Hilliard’s paper from 1958 appears in Journal of Chemical Physics v. 28, n. 2, p. 258-267.  They generalize the free energy of a system with composition gradients. They do so using a Taylor expansion and develop a free energy functional and solve the resulting differential equation. Then a paper in 1961 titled \"On Spinodal Decomposition\" outlines the differential equation for the time rate of change of the composition in a spinodally decomposing system."
   ]
  },
  {
   "cell_type": "markdown",
   "metadata": {
    "slideshow": {
     "slide_type": "slide"
    }
   },
   "source": [
    "### An Example of a Spinodially Decomposing Structure\n",
    "----\n",
    "\n",
    "![](./images/Composite-Cropped.png)"
   ]
  },
  {
   "cell_type": "markdown",
   "metadata": {
    "slideshow": {
     "slide_type": "slide"
    }
   },
   "source": [
    "### Lecture Outline\n",
    "----\n",
    "\n",
    "* The Free Energy of Mixing\n",
    "* Beyond the Bulk:  Energy Correction Terms\n",
    "* Minimizing the Total Energy\n",
    "* The Surface Energy and Concentration Profile of a Non-Uniform System\n",
    "* Spinodal Decomposition"
   ]
  },
  {
   "cell_type": "markdown",
   "metadata": {
    "slideshow": {
     "slide_type": "slide"
    }
   },
   "source": [
    "### The Free Energy of Mixing\n",
    "-----\n",
    "\n",
    "The formation of a solution can be thought of as a sequence of steps:\n",
    "\n",
    "* Compute the free energy of the unmixed state for an amount of pure A and pure B\n",
    "* Allow both A and B to form a chemical solution\n",
    "* Compute the energy change upon mixing and add this change to the energy of the initial state"
   ]
  },
  {
   "cell_type": "markdown",
   "metadata": {
    "slideshow": {
     "slide_type": "slide"
    }
   },
   "source": [
    "### The Free Energy of Mixing\n",
    "----\n",
    "\n",
    "![Mixing](./images/Mixing.png)"
   ]
  },
  {
   "cell_type": "markdown",
   "metadata": {
    "slideshow": {
     "slide_type": "skip"
    }
   },
   "source": [
    "To understand the energetics of a non-uniform system we need a model for a solution where the free energy of solution (e.g. Gibbs or Helmholz) is a function of composition.  This is most often represented as a free energy density (energy/volume).  We will start by describing the ideal solution where the mixing process results in an entropy change alone without any contribution from the enthalpy.\n",
    "\n",
    "Recall from thermodynamics that energy is an extensive quantity and that the Gibbs free energy is defined as:\n",
    "\n",
    "$$\n",
    "G = H - TS\n",
    "$$\n",
    "\n",
    "If we want to describe the isothermal change between states 1 and 2, we can write the following:\n",
    "\n",
    "$$\n",
    "G_2 - G_1 = H_2 - H_1 - T(S_2-S_1)\n",
    "$$\n",
    "\n",
    "Resulting in:\n",
    "\n",
    "$$\n",
    "\\Delta G_{1 \\rightarrow 2} = \\Delta H_{1 \\rightarrow 2} - T \\Delta S_{1 \\rightarrow 2}\n",
    "$$\n",
    "\n",
    "We will used this formula to describe the change from unmixed (state 1) to mixed (state 2) in a thermodynamic solution."
   ]
  },
  {
   "cell_type": "markdown",
   "metadata": {
    "slideshow": {
     "slide_type": "slide"
    }
   },
   "source": [
    "### No Preference for Chemical Surroundings\n",
    "\n",
    "* In an ideal solution the enthalpy change (or internal energy change) is zero.\n",
    "* The entropy arises from mixing effects only.\n",
    "* Stirling's Formula is used to approximate terms due to the energy change on mixing:\n",
    "\n",
    "$$\n",
    "\\Delta G_{\\mathrm{mix, \\, id}} = RT(X_A \\ln X_A + X_B \\ln X_B)\n",
    "$$"
   ]
  },
  {
   "cell_type": "markdown",
   "metadata": {
    "slideshow": {
     "slide_type": "subslide"
    }
   },
   "source": [
    "The free energy for an ideal solution can therefore be written:\n",
    "\n",
    "\\begin{align}\n",
    "G_{\\mathrm{ideal}} &= G_{\\mathrm{unmixed}} + \\Delta G_{\\mathrm{mix, \\, id}} \\\\ &= X_A G_A + X_B G_B + RT(X_A \\ln X_A + X_B \\ln X_B)\n",
    "\\end{align}"
   ]
  },
  {
   "cell_type": "code",
   "execution_count": 1,
   "metadata": {
    "slideshow": {
     "slide_type": "skip"
    }
   },
   "outputs": [],
   "source": [
    "%matplotlib inline\n",
    "import numpy as np\n",
    "import matplotlib.pyplot as plt\n",
    "from ipywidgets import interact, fixed\n",
    "\n",
    "def idealSolution(GA, GB, XB, temperature):\n",
    "    \"\"\"\n",
    "    Computes the free energy of solution for an ideal binary mixture.\n",
    "    \n",
    "    Parameters\n",
    "    ----------\n",
    "    GA : float\n",
    "        The partial molar Gibbs free energy of pure A in Joules.\n",
    "    GB : float\n",
    "        The partial molar Gibbs free energy of pure B in Joules.\n",
    "    XB : ndarray\n",
    "        The mol fraction of component B as an array.\n",
    "    temperature : float\n",
    "        The temperature.\n",
    "        \n",
    "    Returns\n",
    "    -------\n",
    "    G : ndarray\n",
    "        An array of the Gibbs free energy having the same shape as `XB`.\n",
    "        \n",
    "    Examples\n",
    "    --------\n",
    "    >>> XB = np.linspace(0.01,0.99,10)\n",
    "    >>> G = idealSolution(0.0,0.0,XB,1.0)\n",
    "    >>> array([ 0.53440324, -3.72037187, -4.76282566, -3.72037187,  0.53440324])\n",
    "    \"\"\"\n",
    "    return (1.0-XB)*GA+XB*GB+8.314*temperature*((1-XB)*np.log(1-XB)+XB*np.log(XB))\n",
    "\n",
    "def myfig(temperature):\n",
    "    \"\"\"\n",
    "    This function produces a plot of the Gibbs free energy of mixing for an ideal solution.\n",
    "    \"\"\"\n",
    "    GA = 1.0\n",
    "    GB = 500.0\n",
    "    \n",
    "    XB = np.linspace(0.01,0.99,50)\n",
    "    temperatureSpace = np.linspace(1.0,100.0,10)\n",
    "    y = idealSolution(GA,GB,XB,temperature)\n",
    "    greySolutionLines = [idealSolution(GA,GB,XB,greyT) for greyT in temperatureSpace]\n",
    "    \n",
    "    fig, axes = plt.subplots(figsize=(10,8))\n",
    "    \n",
    "    for greyLine in greySolutionLines:\n",
    "        axes.plot(XB, greyLine, 'black', alpha=0.9)\n",
    "\n",
    "    axes.plot(XB, y, 'r', label=r\"$G_A X_A + G_B X_B + RT(X_A \\ln X_A + X_B \\ln X_B)$\", linewidth=4)\n",
    "    axes.legend()\n",
    "    axes.grid(True, linestyle='dotted')\n",
    "    axes.set_ylabel(r\"$G_{soln}$\")\n",
    "    axes.set_xlabel(r\"$X_B$\")\n",
    "    # Location for annotations can always be done by extents instead of absolute values.\n",
    "    axes.annotate(r'$G_A$='+str(GA)+'\\n'+r'$G_B$='+str(GB),xy=(0,200), size='large')\n",
    "    plt.show()\n",
    "    return"
   ]
  },
  {
   "cell_type": "code",
   "execution_count": 2,
   "metadata": {
    "slideshow": {
     "slide_type": "slide"
    }
   },
   "outputs": [
    {
     "data": {
      "application/vnd.jupyter.widget-view+json": {
       "model_id": "0a36339bff3247a2a2418c7ecb516917",
       "version_major": 2,
       "version_minor": 0
      },
      "text/html": [
       "<p>Failed to display Jupyter Widget of type <code>interactive</code>.</p>\n",
       "<p>\n",
       "  If you're reading this message in the Jupyter Notebook or JupyterLab Notebook, it may mean\n",
       "  that the widgets JavaScript is still loading. If this message persists, it\n",
       "  likely means that the widgets JavaScript library is either not installed or\n",
       "  not enabled. See the <a href=\"https://ipywidgets.readthedocs.io/en/stable/user_install.html\">Jupyter\n",
       "  Widgets Documentation</a> for setup instructions.\n",
       "</p>\n",
       "<p>\n",
       "  If you're reading this message in another frontend (for example, a static\n",
       "  rendering on GitHub or <a href=\"https://nbviewer.jupyter.org/\">NBViewer</a>),\n",
       "  it may mean that your frontend doesn't currently support widgets.\n",
       "</p>\n"
      ],
      "text/plain": [
       "interactive(children=(FloatSlider(value=50.0, description=u'temperature', min=1.0, step=1.0), Output()), _dom_classes=('widget-interact',))"
      ]
     },
     "metadata": {},
     "output_type": "display_data"
    }
   ],
   "source": [
    "interact(myfig, temperature=(1.0,100.0,1.0));"
   ]
  },
  {
   "cell_type": "markdown",
   "metadata": {
    "slideshow": {
     "slide_type": "slide"
    }
   },
   "source": [
    "### Correcting the Ideal Solution for Local Chemical Effects\n",
    "----"
   ]
  },
  {
   "cell_type": "markdown",
   "metadata": {
    "slideshow": {
     "slide_type": "slide"
    }
   },
   "source": [
    "* In general, the free energy of solution includes both enthalpic and entropic terms\n",
    "* The previous treatment of the ideal solution neglects any contribution from the enthalpy.\n",
    "* Before mixing - there are only A-A and B-B bonds and NO A-B bonds.\n",
    "* After mixing the number of A-B bonds is estimated from statistical and structural considerations to produce a model of the excess enthalpy"
   ]
  },
  {
   "cell_type": "markdown",
   "metadata": {
    "slideshow": {
     "slide_type": "skip"
    }
   },
   "source": [
    "As outlined above, it is possible to have both enthalpy and entropy of mixing effects when forming a solution.  A more general approach would include the possibility that there may be enthalpy changes upon mixing.  Two types of arguments can be made:  mathematical and physical.  \n",
    "\n",
    "A simple mathematical argument for the enthalpy of solution is based on the fact that the functions of mixing have the property that their values must pass through zero at the pure end member compositions.  A simple function that captures this requirement would have a form:\n",
    "\n",
    "$$\n",
    "\\Delta H_{mix} = \\Omega X_A X_B\n",
    "$$\n",
    "\n",
    "where $\\Omega$ is a single adjustable parameter.  As is pointed out by DeHoff, simpler functions than this are not possible.  A physical argument for this form is known as the _quasichemical model_ for solutions.  A summary of the quasichemical model and the probability argument for finding like and unlike bonds in a random solution is given by DeHoff (and other texts on thermodynamics), but the important points are as follows:\n",
    "\n",
    "The heat of mixing of a non-ideal solution, called the _regular solution_ is proportional:\n",
    "\n",
    "* to the number of unlike bonds, and\n",
    "* includes a parameter that scales with the difference in energy between like and unlike bonds."
   ]
  },
  {
   "cell_type": "markdown",
   "metadata": {
    "slideshow": {
     "slide_type": "slide"
    }
   },
   "source": [
    "<img src=\"./images/Enthalpy-Nonzero.png\",width=1200>"
   ]
  },
  {
   "cell_type": "markdown",
   "metadata": {
    "slideshow": {
     "slide_type": "subslide"
    }
   },
   "source": [
    "$$\n",
    "\\Delta H_{\\mathrm{mix}} = \\Omega(\\epsilon)X_A X_B\n",
    "$$"
   ]
  },
  {
   "cell_type": "markdown",
   "metadata": {
    "slideshow": {
     "slide_type": "skip"
    }
   },
   "source": [
    "### DIY:  Exploration of Bond Types\n",
    "----\n",
    "\n",
    "Simulate three different types of solutions:  clustered, random and ordered.  Compute the fraction of bond types as a function of mole fraction solute (e.g. $X_B$) for each type.  Justify the form of the enthalpy of mixing based on your calculations."
   ]
  },
  {
   "cell_type": "markdown",
   "metadata": {
    "slideshow": {
     "slide_type": "slide"
    }
   },
   "source": [
    "The regular solution model is then writte as:\n",
    "\n",
    "\\begin{align}\n",
    "G_{\\mathrm{regular}} = X_A G_A + X_B G_B &+ \\Omega(\\epsilon)X_A X_B \\\\ &+ RT(X_A \\ln X_A + X_B \\ln X_B)\n",
    "\\end{align}"
   ]
  },
  {
   "cell_type": "code",
   "execution_count": null,
   "metadata": {
    "slideshow": {
     "slide_type": "skip"
    }
   },
   "outputs": [],
   "source": [
    "def regularSolution(GA, GB, XB, omega, temperature):\n",
    "    return omega*(1.0-XB)*XB+(1.0-XB)*GA+XB*GB+8.314*temperature*((1.0-XB)*np.log(1.0-XB)+XB*np.log(XB))\n",
    "\n",
    "def myfig2(omega, temperature):\n",
    "    \"\"\"\n",
    "    This function produces a plot of the Gibbs free energy of mixing for a regular solution.\n",
    "    \"\"\"\n",
    "    GA = 1.0\n",
    "    GB = 1.0\n",
    "    \n",
    "    XB = np.linspace(0.01,0.99,50)\n",
    "    temperatureSpace = np.linspace(1.0,200.0,10)\n",
    "    y = regularSolution(GA, GB, XB, omega, temperature)\n",
    "    greySolutionLines = [regularSolution(GA, GB, XB, omega, greyT) for greyT in temperatureSpace]\n",
    "    \n",
    "    fig2, axes2 = plt.subplots(figsize=(14,9))\n",
    "    \n",
    "    for greyLine in greySolutionLines:\n",
    "        axes2.plot(XB, greyLine, 'black', alpha=0.9)\n",
    "\n",
    "    axes2.plot(XB, y, 'r', label=r\"$G_{soln}$\", linewidth=4)\n",
    "\n",
    "    # Location for annotations can always be done by extents instead of absolute values.\n",
    "    axes2.annotate('GA='+str(GA)+'\\n'+'GB='+str(GB),xy=(0,400), fontsize=20)\n",
    "    \n",
    "    axes2.set_ylabel(r\"$G_{soln}$\", fontsize=15)\n",
    "    axes2.set_xlabel(r\"$X_B$\", fontsize=15)\n",
    "    axes2.legend(loc=\"upper right\", fontsize=15)\n",
    "    axes2.xaxis.set_tick_params(labelsize=15)\n",
    "    axes2.yaxis.set_tick_params(labelsize=15)\n",
    "    \n",
    "    plt.show()\n",
    "    return"
   ]
  },
  {
   "cell_type": "code",
   "execution_count": null,
   "metadata": {
    "slideshow": {
     "slide_type": "slide"
    }
   },
   "outputs": [],
   "source": [
    "interact(myfig2, omega=(0.0,5000.0,1.0), temperature=(1.0,200.0,1.0));"
   ]
  },
  {
   "cell_type": "markdown",
   "metadata": {
    "slideshow": {
     "slide_type": "slide"
    }
   },
   "source": [
    "### A Small Simplification\n",
    "----\n",
    "\n",
    "Although the regular solution can approximate more kinds of chemical solutions, all the effects we wish to show are produced by a simple function that replaces the regular solution model:\n",
    "\n",
    "\n",
    "$$\n",
    "f(\\phi) = W \\phi^2 (1-\\phi)^2\n",
    "$$\n",
    "\n",
    "I switch to $\\phi$ as a reminder of this simplification.  A plot of this function and the regular solution are shown side-by-side below:"
   ]
  },
  {
   "cell_type": "code",
   "execution_count": null,
   "metadata": {
    "slideshow": {
     "slide_type": "skip"
    }
   },
   "outputs": [],
   "source": [
    "def regularSolution(GA, GB, XB, omega, temperature):\n",
    "    return omega*(1.0-XB)*XB+(1.0-XB)*GA+XB*GB+8.314*temperature*((1-XB)*np.log(1-XB)+XB*np.log(XB))\n",
    "\n",
    "def simplifiedSolution(XB, W):\n",
    "    return (1.0-XB)**2*XB**2*W\n",
    "\n",
    "def myfig3(omega, W, temperature):\n",
    "    \"\"\"\n",
    "    This function ...\n",
    "    \"\"\"\n",
    "    GA = 1.0\n",
    "    GB = 1.0\n",
    "    \n",
    "    XB = np.linspace(0.01,0.99,50)\n",
    "    \n",
    "    temperatureSpace = np.linspace(1.0,100.0,10)\n",
    "    y1 = regularSolution(GA, GB, XB, omega, temperature)\n",
    "    greySolutionLines = [regularSolution(GA, GB, XB, omega, greyT) for greyT in temperatureSpace]\n",
    "    \n",
    "    wSpace = np.linspace(0.01,100.0,10)\n",
    "    y2 = simplifiedSolution(XB, W)\n",
    "    greyWLines = [simplifiedSolution(XB, greyW) for greyW in wSpace]\n",
    "    \n",
    "    fig, axes = plt.subplots(nrows=1, ncols=2, figsize=(14,8))\n",
    "    plt.tight_layout(pad=5.0)\n",
    "    \n",
    "    #for greyLine in greyMagLines:\n",
    "    #    axes[0].plot(eta, greyLine, 'grey', alpha=0.3)\n",
    "    #for greyLine in greyPhiLines:\n",
    "    #    axes[1].plot(eta, greyLine, 'grey', alpha=0.3)\n",
    "    #axes[0].set_ylim(0,4)\n",
    "    #axes[0].plot(eta, y1, 'r', label=r\"$MF(\\eta,\\xi)$\")\n",
    "    #axes[1].set_ylim(0,180)\n",
    "    #axes[1].plot(eta, y2, 'b', label=r\"$\\phi(\\eta,\\xi)$\")\n",
    "    \n",
    "    for greyLine in greySolutionLines:\n",
    "        axes[0].plot(XB, greyLine, 'black', alpha=0.9)\n",
    "    axes[0].plot(XB, y1, 'r', label=r\"Regular Solution\", linewidth=4)\n",
    "    axes[0].annotate('GA='+str(GA)+'\\n'+'GB='+str(GB),xy=(0,40), fontsize=15)\n",
    "\n",
    "    for greyLine in greyWLines:\n",
    "        axes[1].plot(XB, greyLine, 'black', alpha=0.9)\n",
    "    axes[1].plot(XB, y2, 'g', label=r\"$W \\phi^2 (1-\\phi)^2$\", linewidth=4)\n",
    "    axes[1].set_ylim(0.0,4.0)\n",
    "\n",
    "    #axes.plot(XB, y, 'r', label=r\"$G_{soln}$\")\n",
    "    #axes.legend()\n",
    "    #axes.grid(True, linestyle='dotted')\n",
    "    #axes.set_ylim(-600,200)\n",
    "    #axes.set_ylabel(r\"$G_{soln}$\")\n",
    "    #axes.set_xlabel(r\"$X_B$\")\n",
    "    \n",
    "    for ax in axes:\n",
    "        ax.legend(loc=\"upper right\", fontsize=15)\n",
    "        ax.set_ylabel(r\"$G_{soln}$\", fontsize=20)\n",
    "        ax.xaxis.set_tick_params(labelsize=15)\n",
    "        ax.yaxis.set_tick_params(labelsize=15)\n",
    "\n",
    "    axes[0].set_xlabel(r\"$X_B$\", fontsize=20)\n",
    "    axes[1].set_xlabel(r\"$\\phi$\", fontsize=20)\n",
    "\n",
    "\n",
    "    plt.show()\n",
    "    return"
   ]
  },
  {
   "cell_type": "code",
   "execution_count": null,
   "metadata": {
    "slideshow": {
     "slide_type": "slide"
    }
   },
   "outputs": [],
   "source": [
    "interact(myfig3, omega=(0.0,1000.0,1.0), W=(0.0,100.0,1.0), temperature=(1.0,100.0,1.0));"
   ]
  },
  {
   "cell_type": "markdown",
   "metadata": {
    "slideshow": {
     "slide_type": "slide"
    }
   },
   "source": [
    "### Beyond the Bulk:  Energy Correction Terms\n",
    "----\n",
    "\n",
    "* Diffusive length scales are on the order of microns.\n",
    "* Precipitation and phase seperation length scales are on the order of nanometers.\n",
    "* At nanometer length scales the gradient energy becomes comparable to the bulk free energy and must be accounted for."
   ]
  },
  {
   "cell_type": "markdown",
   "metadata": {
    "slideshow": {
     "slide_type": "skip"
    }
   },
   "source": [
    "Cahn and Hilliard's insight was that a non-uniform system's total energy should depend on the average values of the order parameter as well as the spatial gradients within the order parameter.  One viewpoint is that these gradient terms are \"correction terms\" needed when the order parameter gradients are very large.  \n",
    "\n",
    "Practically, this insight impacts the way scientists think of interfaces and phase transitions in areas primarily related to chemical solutions, magnetic domains and ferroelectric materials.  The development of a free energy functional that includes bulk and gradient terms permits a unified treatment of the bulk and interface regions in a material.  This, in turn, allows new understanding of both non-uniform and heterogenerous systems.  To understand the origin of the energy correction terms, the series expansion and the independence of the order parameter and its gradients are first discussed."
   ]
  },
  {
   "cell_type": "markdown",
   "metadata": {
    "slideshow": {
     "slide_type": "slide"
    }
   },
   "source": [
    "### Review:  A Taylor Series Expansion\n",
    "----"
   ]
  },
  {
   "cell_type": "markdown",
   "metadata": {
    "slideshow": {
     "slide_type": "fragment"
    }
   },
   "source": [
    "In multiple independent variables the Taylor's Series is:\n",
    "\n",
    "\\begin{align}\n",
    "f(x,y) & = f(a,b) + (x-a)\\frac{\\partial f}{\\partial x} + (x-b)\\frac{\\partial f}{\\partial y}\\\\\n",
    "& + \\frac{1}{2!} \\left[ (x-a)^2 \\frac{\\partial^2 f}{\\partial x^2} + 2(x-a)(y-b) \\frac{\\partial^2 f}{\\partial x \\partial y} + (y-b)^2 \\frac{\\partial^2 f}{\\partial y^2} \\right] \\\\\n",
    "& + \\; ...\n",
    "\\end{align}"
   ]
  },
  {
   "cell_type": "markdown",
   "metadata": {
    "slideshow": {
     "slide_type": "slide"
    }
   },
   "source": [
    "### The Independence of $\\phi$, $\\nabla \\phi$ and $\\nabla^2 \\phi$\n",
    "----\n",
    "\n",
    "* The total energy of the system can depend on the concentration and local variations\n",
    "* This phase space can be sampled by permitting $\\phi(x)$ and its gradients to vary independently\n",
    "* Consider that the average composition of a system is independent of the wavelengths of concentration variations."
   ]
  },
  {
   "cell_type": "markdown",
   "metadata": {
    "slideshow": {
     "slide_type": "skip"
    }
   },
   "source": [
    "The Taylor's series above is written assuming that the variables $x$ and $y$ are independent.  More than two independent variables can be treated similarly.  When we write the free energy of a non-uniform system we will postulate that the concentration and its gradients are independent quantities.  Help establish that this is a reasonable assumption, consider the following example.\n",
    "\n",
    "An intuitive argument is that in a conservative field a particle's instantaneous energy can be determined by its position and velocity.  It is possible to choose a particle's potential energy and kinetic energy by setting the position and velocity at an instant in time.  These two quantities can be chosen independently to return any desired value of the system's total energy.  In an effort to extend this analogy to chemical systems, below I plot three functions.  The first is the average composition.  The other two are functions that have the same average, but have different gradients and second derivatives."
   ]
  },
  {
   "cell_type": "code",
   "execution_count": null,
   "metadata": {
    "slideshow": {
     "slide_type": "skip"
    }
   },
   "outputs": [],
   "source": [
    "def phiPlots():\n",
    "    \"\"\"\n",
    "    This function's docstring explaining the function.\n",
    "    \"\"\"\n",
    "    t = np.linspace(0,10,100)\n",
    "    y1 = np.cos(t)\n",
    "    y2 = np.cos(2*t)\n",
    "    y3 = 0*t\n",
    "    fig, axes = plt.subplots(figsize=(14,9))\n",
    "    axes.plot(t, y3, 'g--', label=\"Average\")\n",
    "    axes.plot(t, y1, 'r', label=\"Profile 1\")\n",
    "    axes.plot(t, y2, 'b', label=\"Profile 2\")\n",
    "    axes.set_xlabel(r\"$t$\", fontsize=15)\n",
    "    axes.set_ylabel(r\"$c(x)$\", fontsize=15)\n",
    "    axes.legend(fontsize=15)\n",
    "    axes.xaxis.set_tick_params(labelsize=15)\n",
    "    axes.yaxis.set_tick_params(labelsize=15)\n",
    "    plt.show()\n",
    "    return"
   ]
  },
  {
   "cell_type": "code",
   "execution_count": null,
   "metadata": {
    "scrolled": false,
    "slideshow": {
     "slide_type": "subslide"
    }
   },
   "outputs": [],
   "source": [
    "phiPlots()"
   ]
  },
  {
   "cell_type": "markdown",
   "metadata": {
    "slideshow": {
     "slide_type": "slide"
    }
   },
   "source": [
    "### The Free Energy of Our System\n",
    "----\n",
    "\n",
    "If the temperature and pressure are our process variables, then we can use the Gibbs free energy per unit volume.  The total energy of the system is then found by integrating the Gibbs free energy density over the volume of the system as in the integral below.  Furthermore we assume that the order parameter (the composition proxy) and powers of the derivatives of order parameter all contribute to the free energy and are independent:\n",
    "\n",
    "$$\n",
    "F = \\int_V f_v(\\phi, \\nabla \\phi, \\nabla^2 \\phi, ...) \\delta V\n",
    "$$"
   ]
  },
  {
   "cell_type": "markdown",
   "metadata": {
    "slideshow": {
     "slide_type": "slide"
    }
   },
   "source": [
    "It is possible to expand the integrand explicitly in powers of the independent parameters using a Taylor's series formalism (DeHoff explains this in Chapter 14 of his thermodynamics text, also), in a shorthand notation we write an equivalent statement:\n",
    "\n",
    "$$\n",
    "f_v = f_v^0 + L \\nabla \\phi + K_1 \\nabla^2 \\phi + K_2 (\\nabla \\phi)^2 + \\; ...\n",
    "$$\n",
    "\n",
    "with\n",
    "\n",
    "$$\n",
    "L = \\left( \\frac{\\partial f_v}{\\partial (\\nabla \\phi)} \\right)\n",
    "$$\n",
    "\n",
    "and **other similar terms** as per the Taylor's Series expansion above treating $\\phi$ and all higher order derivatives as independent parameters in the free energy space.  These extra terms can be viewed as \"correction\" terms in the approximation of the free energy density in the vicinity of the average alloy composition."
   ]
  },
  {
   "cell_type": "markdown",
   "metadata": {
    "slideshow": {
     "slide_type": "slide"
    }
   },
   "source": [
    "### The Free Energy Functional\n",
    "----"
   ]
  },
  {
   "cell_type": "markdown",
   "metadata": {
    "slideshow": {
     "slide_type": "fragment"
    }
   },
   "source": [
    "Three arguments and manipulations are made to arrive at the desired functional:\n",
    "\n",
    "1. The sign of the gradient should not affect the total energy;\n",
    "1. The energy should be invariant with respect to inversion symmetry;\n",
    "1. The energy should be invariant with respect to four fold rotations about a principal axis."
   ]
  },
  {
   "cell_type": "markdown",
   "metadata": {
    "slideshow": {
     "slide_type": "slide"
    }
   },
   "source": [
    "$$\n",
    "F = \\int_V f_v + K (\\nabla \\phi)^2 \\delta V\n",
    "$$\n",
    "\n",
    "We keep the lowest order, nonzero correction term in the gradient of the order parameter.  The above assumptions can be relaxed for different applications.  We can now proceed to find the function $\\phi(x)$ that minimizes the integral."
   ]
  },
  {
   "cell_type": "markdown",
   "metadata": {
    "slideshow": {
     "slide_type": "slide"
    }
   },
   "source": [
    "### A Result from the Calculus of Variations\n",
    "----\n",
    "\n",
    "The main purpose of the CoV is to find the function $y$ minimizing (or making extreme) the integral:\n",
    "\n",
    "$$\n",
    "I(y) = \\int_{x_0}^{x_1} F(x,y',y'') dx\n",
    "$$"
   ]
  },
  {
   "cell_type": "markdown",
   "metadata": {
    "slideshow": {
     "slide_type": "subslide"
    }
   },
   "source": [
    "* One application is a minimum path problem:  a straight line connects two points in the plane.\n",
    "* One important result is the Euler-Lagrange equation:\n",
    "\n",
    "$$\n",
    "\\frac{\\partial F}{\\partial y} - \\frac{d}{dx} \\frac{\\partial F}{\\partial y'} = 0\n",
    "$$"
   ]
  },
  {
   "cell_type": "markdown",
   "metadata": {
    "slideshow": {
     "slide_type": "skip"
    }
   },
   "source": [
    "A functional is a \"function of functions\".  To find the function that makes the integral stationary (most often a minimum) we will need to apply the Euler Lagrange result from the calculus of variations. \n",
    "\n",
    "If you examine a series of nearby functions to the extreme function, $y(x)$, it can be demonstrated that the Euler-Lagrange equation is the only possibility for making $I(y)$ stationary.\n",
    "\n",
    "Using the functional that includes the gradient correction term, we can write a differential equation where the solution is the minimizing function."
   ]
  },
  {
   "cell_type": "markdown",
   "metadata": {},
   "source": [
    "### DIY:  Use The Euler Lagrange Equation\n",
    "---\n",
    "\n",
    "Using a path length integral, demonstrate that the shortest distance between two points on the plane is a straight line."
   ]
  },
  {
   "cell_type": "markdown",
   "metadata": {
    "slideshow": {
     "slide_type": "slide"
    }
   },
   "source": [
    "### The PDE to Determine Profiles and Kinetic Evolution of a Non-Uniform System\n",
    "----\n",
    "\n",
    "$$\n",
    "F(\\phi,\\phi') = W \\phi^2 (1-\\phi)^2 + \\epsilon (\\nabla \\phi)^2\n",
    "$$\n",
    "\n",
    "Applying the Euler-Lagrange equation to our functional we get:\n",
    "\n",
    "\\begin{align}\n",
    "\\frac{\\delta F}{\\delta \\phi} & = \\frac{\\partial F}{\\partial \\phi} - \\frac{d}{dx} \\frac{\\partial F}{\\partial \\nabla \\phi} = 0 \\\\ &= 2 W \\phi \\left(\\phi - 1\\right) \\left(2 \\phi - 1\\right) - 2 \\epsilon \\nabla^2  \\phi = 0\n",
    "\\end{align}\n",
    "\n",
    "recall that $\\phi(x,t)$ and this equation implies equilibrium."
   ]
  },
  {
   "cell_type": "code",
   "execution_count": null,
   "metadata": {
    "slideshow": {
     "slide_type": "skip"
    }
   },
   "outputs": [],
   "source": [
    "import sympy as sp\n",
    "sp.init_session(quiet=True)\n",
    "phi, W, epsilon = symbols('phi W epsilon', real=true)\n",
    "\n",
    "functionalForm = W*phi(x)**2*(1-phi(x))**2 + epsilon*(phi(x).diff(x))**2\n",
    "ele = sp.euler_equations(functionalForm, phi(x), x)\n",
    "ele"
   ]
  },
  {
   "cell_type": "code",
   "execution_count": null,
   "metadata": {
    "scrolled": false,
    "slideshow": {
     "slide_type": "skip"
    }
   },
   "outputs": [],
   "source": [
    "delFdelPhi = (ele[0].lhs).simplify()\n",
    "delFdelPhi"
   ]
  },
  {
   "cell_type": "code",
   "execution_count": null,
   "metadata": {
    "scrolled": true,
    "slideshow": {
     "slide_type": "skip"
    }
   },
   "outputs": [],
   "source": [
    "firstTermsFactored = sp.factor(4*W*phi**3-6*W*phi**2+2*W*phi)\n",
    "firstTermsFactored"
   ]
  },
  {
   "cell_type": "markdown",
   "metadata": {
    "slideshow": {
     "slide_type": "slide"
    }
   },
   "source": [
    "### Solving the ODE Explicitly\n",
    "----\n",
    "\n",
    "The use of an integrating factor results in the ODE:\n",
    "\n",
    "$$\n",
    "\\frac{d \\phi}{d x} \\frac{1}{\\phi(1-\\phi)} - \\sqrt{\\frac{W}{\\epsilon}} = 0\n",
    "$$"
   ]
  },
  {
   "cell_type": "code",
   "execution_count": null,
   "metadata": {
    "slideshow": {
     "slide_type": "skip"
    }
   },
   "outputs": [],
   "source": [
    "import sympy as sp\n",
    "sp.init_session(quiet=True)\n",
    "sp.dsolve(sp.diff(f(x),x)*(1/(f(x)*(1-f(x))))-k,f(x),hint='lie_group')"
   ]
  },
  {
   "cell_type": "markdown",
   "metadata": {
    "slideshow": {
     "slide_type": "slide"
    }
   },
   "source": [
    "and after some exciting manipulation, a solution is:\n",
    "\n",
    "$$\n",
    "\\phi(x) = \\frac{1}{2}\\left(1 + \\tanh{\\sqrt{\\frac{W}{\\epsilon}}\\frac{x}{2}}\\right)\n",
    "$$\n",
    "\n",
    "Contributions from the bulk free energy (through W) and the gradient correction term (through $\\epsilon$) shape the profile of the concentration, order, etc. at the interface."
   ]
  },
  {
   "cell_type": "code",
   "execution_count": null,
   "metadata": {
    "slideshow": {
     "slide_type": "skip"
    }
   },
   "outputs": [],
   "source": [
    "def phiSolution(W, epsilon):\n",
    "    \"\"\"\n",
    "    This function's docstring explaining the function.\n",
    "    \"\"\"\n",
    "    x = np.linspace(-10,10,100)\n",
    "    y = 0.5*(1.0 + np.tanh((np.sqrt(W/epsilon))*(x/2.0)))\n",
    "\n",
    "    fig, axes = plt.subplots(figsize=(14,9))\n",
    "    axes.plot(x, y, 'r', label=r\"$\\phi(x)$\")\n",
    "    axes.set_xlabel(r\"$x$\", fontsize=20)\n",
    "    axes.set_ylabel(r\"$\\phi(x)$\", fontsize=20)\n",
    "    axes.xaxis.set_tick_params(labelsize=15)\n",
    "    axes.yaxis.set_tick_params(labelsize=15)\n",
    "    axes.legend(fontsize=20)\n",
    "    plt.show()\n",
    "    return"
   ]
  },
  {
   "cell_type": "code",
   "execution_count": null,
   "metadata": {
    "scrolled": false,
    "slideshow": {
     "slide_type": "subslide"
    }
   },
   "outputs": [],
   "source": [
    "interact(phiSolution, W=(0.01,10,0.1), epsilon=(0.01,10,0.1));"
   ]
  },
  {
   "cell_type": "markdown",
   "metadata": {
    "slideshow": {
     "slide_type": "slide"
    }
   },
   "source": [
    "### Solving the PDE Using Relaxation\n",
    "----\n",
    "\n",
    "With the bulk free energy and the gradient energy contributions conceptually justified it is now necessary to identify the equations of motion.  In the non conserved case:\n",
    "\n",
    "$$\n",
    "\\frac{\\partial \\phi}{\\partial t} = -M \\frac{\\delta F}{\\delta \\phi}\n",
    "$$\n",
    "\n",
    "and for a conserved order parameter the equations of motion are derived from:\n",
    "\n",
    "$$\n",
    "\\frac{\\partial \\phi}{\\partial t} = \\nabla \\cdot D \\nabla \\frac{\\delta F}{\\delta \\phi}\n",
    "$$\n",
    "\n",
    "There are other choices, but these are the simplest choices that guarantee a free energy decrease with time."
   ]
  },
  {
   "cell_type": "markdown",
   "metadata": {
    "slideshow": {
     "slide_type": "skip"
    }
   },
   "source": [
    "When writing the equations of motion - things can get messy.  It is better therefore to write the leading term on the LHS as $A(\\phi)$.  This gives:\n",
    "\n",
    "$$\n",
    "\\frac{\\delta F}{\\delta \\phi} = A(\\phi) - \\epsilon \\frac{d^{2}}{d x^{2}}  \\phi{\\left (x \\right )}\n",
    "$$\n"
   ]
  },
  {
   "cell_type": "markdown",
   "metadata": {
    "slideshow": {
     "slide_type": "skip"
    }
   },
   "source": [
    "with\n",
    "\n",
    "$$\n",
    "\\nabla \\cdot D \\nabla \\frac{\\delta F}{\\delta \\phi} = \\nabla \\cdot D \\left( \\frac{\\partial A}{\\partial \\phi} \\nabla \\phi(x) - \\epsilon \\frac{d^{3}}{d x^{3}} \\phi(x) \\right)\n",
    "$$"
   ]
  },
  {
   "cell_type": "markdown",
   "metadata": {
    "slideshow": {
     "slide_type": "slide"
    }
   },
   "source": [
    "By distributing the divergence and diffusion coefficient, we arrive at:\n",
    "\n",
    "$$\n",
    "\\frac{\\partial \\phi}{\\partial t} = \\nabla \\cdot D \\frac{\\partial A}{\\partial \\phi} \\nabla \\phi(x) - D \\epsilon \\nabla^4 \\phi(x)\n",
    "$$"
   ]
  },
  {
   "cell_type": "markdown",
   "metadata": {
    "slideshow": {
     "slide_type": "slide"
    }
   },
   "source": [
    "### Plots of the Progress of a Spinodal Decomposition Simulation\n",
    "\n",
    "![](./images/Composite-Cropped.png)"
   ]
  },
  {
   "cell_type": "code",
   "execution_count": 1,
   "metadata": {
    "slideshow": {
     "slide_type": "slide"
    }
   },
   "outputs": [
    {
     "data": {
      "text/html": [
       "<video width=\"600\" height=\"600\" controls> <source src=\"./images/Cahn-Hilliard.mp4\" type=\"video/mp4\">\n",
       "</video>"
      ],
      "text/plain": [
       "<IPython.core.display.HTML object>"
      ]
     },
     "metadata": {},
     "output_type": "display_data"
    }
   ],
   "source": [
    "%%HTML\n",
    "<video width=\"600\" height=\"600\" controls> <source src=\"./images/Cahn-Hilliard.mp4\" type=\"video/mp4\">\n",
    "</video>"
   ]
  },
  {
   "cell_type": "code",
   "execution_count": 6,
   "metadata": {
    "slideshow": {
     "slide_type": "skip"
    }
   },
   "outputs": [
    {
     "data": {
      "image/png": "[encoded data removed]",
      "text/plain": [
       "<Figure size 288x288 with 2 Axes>"
      ]
     },
     "metadata": {},
     "output_type": "display_data"
    }
   ],
   "source": [
    "from fipy import *\n",
    "from IPython.display import clear_output\n",
    "import time\n",
    "nx = ny = 100\n",
    "\n",
    "mesh = Grid2D(nx=nx, ny=ny, dx=0.5, dy=0.5)\n",
    "phi = CellVariable(name=r\"$\\phi$\", mesh=mesh)\n",
    "psi = CellVariable(name=r\"$\\psi$\", mesh=mesh)\n",
    "\n",
    "noise = GaussianNoiseVariable(mesh=mesh,mean=0.5,variance=0.01).value\n",
    "phi[:] = noise\n",
    "\n",
    "viewer = Viewer(vars=phi)\n",
    "\n",
    "D = a = epsilon = 1.\n",
    "dfdphi = a**2 * 2 * phi * (1 - phi) * (1 - 2 * phi)\n",
    "dfdphi_ = a**2 * 2 * (1 - phi) * (1 - 2 * phi)\n",
    "d2fdphi2 = a**2 * 2 * (1 - 6 * phi * (1 - phi))\n",
    "eq1 = (TransientTerm(var=phi) == DiffusionTerm(coeff=D, var=psi))\n",
    "eq2 = (ImplicitSourceTerm(coeff=1., var=psi) \n",
    "       == ImplicitSourceTerm(coeff=-d2fdphi2, var=phi) - d2fdphi2 * phi + dfdphi \n",
    "       - DiffusionTerm(coeff=epsilon**2, var=phi))\n",
    "eq3 = (ImplicitSourceTerm(coeff=1., var=psi) \n",
    "       == ImplicitSourceTerm(coeff=dfdphi_, var=phi)\n",
    "       - DiffusionTerm(coeff=epsilon**2, var=phi))\n",
    "\n",
    "eq = eq1 & eq3\n",
    "\n",
    "dexp = -3\n",
    "elapsed = 0.\n",
    "duration = 100.0"
   ]
  },
  {
   "cell_type": "code",
   "execution_count": null,
   "metadata": {
    "slideshow": {
     "slide_type": "skip"
    }
   },
   "outputs": [
    {
     "data": {
      "image/png": "[encoded data removed]",
      "text/plain": [
       "<fipy.viewers.matplotlibViewer.matplotlib2DGridViewer.Matplotlib2DGridViewer at 0x7fb4a64f7150>"
      ]
     },
     "metadata": {},
     "output_type": "display_data"
    }
   ],
   "source": [
    "# Run the model.\n",
    "while elapsed < duration:\n",
    "    dt = min(100, numerix.exp(dexp))\n",
    "    elapsed += dt\n",
    "    dexp += 0.01\n",
    "    eq.solve(dt=dt)\n",
    "    viewer.plot()\n",
    "    clear_output(wait=True)\n",
    "    display(viewer)"
   ]
  },
  {
   "cell_type": "markdown",
   "metadata": {
    "slideshow": {
     "slide_type": "slide"
    }
   },
   "source": [
    "### Summary\n",
    "---\n",
    "\n",
    "* When the enthalpy of mixing is non-zero phase seperation may occur.\n",
    "\n",
    "* A correction term to the energy is found by a Taylor's Series expansion.\n",
    "\n",
    "* The equilibrium profile of the order parameter is found by making the free energy an extreme value.\n",
    "\n",
    "* This profile is determined by BOTH contributions from the bulk free energy and a \"non-classical\" gradient energy.\n",
    "\n",
    "* A kinetic **postulate** can be used to solve the differential equation to gain insight into the kinetic evolution of phase seperating systems."
   ]
  },
  {
   "cell_type": "markdown",
   "metadata": {
    "slideshow": {
     "slide_type": "slide"
    }
   },
   "source": [
    "### Homework\n",
    "----\n",
    "\n",
    "Redo the derivation for a non-conserved order parameter and solve the resulting kinetic equations.  Comment on the differences between the two simulations.  Your submission should include written text, equations, visualizations, and numerical results and analysis.  "
   ]
  },
  {
   "cell_type": "markdown",
   "metadata": {},
   "source": [
    "July 26, 2018"
   ]
  }
 ],
 "metadata": {
  "anaconda-cloud": {},
  "celltoolbar": "Slideshow",
  "kernelspec": {
   "display_name": "Python 2",
   "language": "python",
   "name": "python2"
  },
  "language_info": {
   "codemirror_mode": {
    "name": "ipython",
    "version": 2
   },
   "file_extension": ".py",
   "mimetype": "text/x-python",
   "name": "python",
   "nbconvert_exporter": "python",
   "pygments_lexer": "ipython2",
   "version": "2.7.14"
  }
 },
 "nbformat": 4,
 "nbformat_minor": 1
}
