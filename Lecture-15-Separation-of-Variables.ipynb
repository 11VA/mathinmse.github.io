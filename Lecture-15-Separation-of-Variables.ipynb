{
 "cells": [
  {
   "cell_type": "markdown",
   "metadata": {
    "slideshow": {
     "slide_type": "slide"
    }
   },
   "source": [
    "# Lecture 15:  Solution to the Diffusion Equation - Separation of Variables"
   ]
  },
  {
   "cell_type": "markdown",
   "metadata": {
    "slideshow": {
     "slide_type": "skip"
    }
   },
   "source": [
    "### Sections\n",
    "\n",
    "* [Introduction](#Introduction)\n",
    "* [Learning Goals](#Learning-Goals)\n",
    "* [On Your Own](#On-Your-Own)\n",
    "* [In Class](#In-Class)\n",
    "* [Homework](#Homework)\n",
    "* [Summary](#Summary)\n",
    "* [Looking Ahead](#Looking-Ahead)\n",
    "* [Reading Assignments and Practice](#Reading-Assignments-and-Practice)"
   ]
  },
  {
   "cell_type": "markdown",
   "metadata": {
    "slideshow": {
     "slide_type": "skip"
    }
   },
   "source": [
    "### Introduction\n",
    "----"
   ]
  },
  {
   "cell_type": "markdown",
   "metadata": {
    "slideshow": {
     "slide_type": "skip"
    }
   },
   "source": [
    "Separation of variables is a technique that reduces a partial differential equation to a pair of ordinary differential equations.  Solutions of the resulting ODEs are more straightforward than for the PDE.  \n",
    "\n",
    "This lecture and computational notebook will help you analyze one such solution to the diffusion equation.  Take your time when reading through this notebook - separation of variables is straightforward and algebra that you typically write out using pencil and paper can be confusing in the notebook format.  The notebook's advantage however, is that we are less prone to algebraic mistakes and have better visualziation capabilities compared to pencil and paper."
   ]
  },
  {
   "cell_type": "markdown",
   "metadata": {
    "slideshow": {
     "slide_type": "skip"
    }
   },
   "source": [
    "### Learning Goals\n",
    "----"
   ]
  },
  {
   "cell_type": "markdown",
   "metadata": {
    "collapsed": true,
    "slideshow": {
     "slide_type": "skip"
    }
   },
   "source": [
    "* See the solution to a partial differential equation (PDE) by reducing it to two ordinary differential equations (ODE).\n",
    "* Determine constants by applying the boundary conditions.\n",
    "* Develop an initial condition that is consistent with the physical problem.\n",
    "* Visualize the results."
   ]
  },
  {
   "cell_type": "markdown",
   "metadata": {
    "slideshow": {
     "slide_type": "skip"
    }
   },
   "source": [
    "### On Your Own\n",
    "----"
   ]
  },
  {
   "cell_type": "markdown",
   "metadata": {
    "slideshow": {
     "slide_type": "slide"
    }
   },
   "source": [
    "#### A Fourier `sin` Series\n",
    "\n",
    "We will use a series of `sin` functions in the solution to the diffusion PDE.  Here we a built-in `sympy` function for the computation (compare the result to previous lectures).  This is presented here as a way to connect previous lectures to the material in this lecture.  In this case we are only using the `sin` terms to represent the signal.  So you will note that from the start there are no `cos` terms calculated.  This guarantees that the function will go to zero at the boundaries."
   ]
  },
  {
   "cell_type": "code",
   "execution_count": null,
   "metadata": {
    "slideshow": {
     "slide_type": "slide"
    }
   },
   "outputs": [],
   "source": [
    "%matplotlib notebook\n",
    "import sympy as sp\n",
    "sp.init_session(quiet=True)\n",
    "sp.init_printing()\n",
    "dum = sp.symbols('dum')"
   ]
  },
  {
   "cell_type": "code",
   "execution_count": null,
   "metadata": {
    "slideshow": {
     "slide_type": "slide"
    }
   },
   "outputs": [],
   "source": [
    "def initial_condition(x):\n",
    "    return x\n",
    "\n",
    "def b_m_amplitudes(m, funToProject, center=0.5, width=1.0):\n",
    "    return (2/lam)*sp.integrate(funToProject(dum)*sp.sin(2*m*sp.pi*dum/lam), (dum,center-lam/2,center+lam/2))\n",
    "\n",
    "def b_m_vectorspace_element(m, var, width=1.0):\n",
    "    return sp.sin(2*m*sp.pi*var/lam)\n",
    "\n",
    "terms = 5\n",
    "width = 1\n",
    "center = 1/2\n",
    "\n",
    "sinSeries = sum([b_m_amplitudes(m, initial_condition, center=center, width=width)*b_m_vectorspace_element(m,x,width=width) for m in range(terms)])"
   ]
  },
  {
   "cell_type": "code",
   "execution_count": null,
   "metadata": {
    "slideshow": {
     "slide_type": "slide"
    }
   },
   "outputs": [],
   "source": [
    "sp.plot(sinSeries,(x,0,1));"
   ]
  },
  {
   "cell_type": "markdown",
   "metadata": {
    "slideshow": {
     "slide_type": "skip"
    }
   },
   "source": [
    "The physical problem of interest is one where an extensive quantity (energy, mass, etc.) evolves diffusivly in some medium over time.  Using mass diffusion as an example, we will identify the concentration of species in our medium at any time using the symbols $c(x,t)$.\n",
    "\n",
    "We must choose a domain (the geometry of the medium) in which diffusion will take place.  In the solution developed below we assume that we have a long bar of material with a constant cross section and insulated so that no mass or energy can escape the sides.  This will be modeled in one dimension to simplify the problem.  Our solution will describe how the diffusing substance behaves in the bar over time.\n",
    "\n",
    "We will assume that the material has a fixed length $L = 1.0$ units long.  The medium will contain an initial amount of the diffusing substance.  We will represent our initial condition using the symbol $\\phi(x)$.  For this exercise we will choose:\n",
    "\n",
    "$$\n",
    "\\phi(x) = x\n",
    "$$\n",
    "\n",
    "Physically, this may seem a bit strange, but simpler choices are possible.  The solution to the problem depends in part on our ability to represent the initial condition as a Fourier series.  The choice of $\\phi(x)=x$ permits us demonstrate something about the series solution at the boundary.\n",
    "\n",
    "Let us visualize the solution to get a feel for what we're dealing with first and then we will develop the solution ourselves later in this notebook.  In the `interact` function we can change the time, the number of terms, and the diffusion constant ($\\alpha$).  \n",
    "\n",
    "* The next cell sets up the environment for `Matplotlib`.  \n",
    "* We define a function called `solutionAtX` that takes a pair of values ($x$, $t$), a diffusion coefficient $\\alpha$ and the number of terms to use in the Fourier series.\n",
    "* We define another function to produce a plot (`make_plot`) that we pass to `interact` so that we have an interactive plot to examine the solution and a set of parameters."
   ]
  },
  {
   "cell_type": "code",
   "execution_count": null,
   "metadata": {
    "collapsed": true,
    "slideshow": {
     "slide_type": "skip"
    }
   },
   "outputs": [],
   "source": [
    "%matplotlib inline\n",
    "import numpy as np\n",
    "import matplotlib.pyplot as plt\n",
    "from ipywidgets import interact\n",
    "\n",
    "def solutionAtX(x, t, alpha, terms):\n",
    "    # This is an already developed solution to the diffusion equation.\n",
    "    # If you can follow along in the lecture - your solution will look\n",
    "    # identical.\n",
    "    return sum([\n",
    "            (2/(np.pi*n)**2)*\n",
    "            (np.sin(n*np.pi*x))*\n",
    "            (-np.pi*n*np.cos(np.pi*n)+np.sin(np.pi*n))*\n",
    "            np.exp(-t*(alpha*n*np.pi)**2)\n",
    "         for n in range(1,terms+1,1)\n",
    "        ])\n",
    "\n",
    "def make_plot(t=0.01, alpha=0.2, terms=20):\n",
    "    plt.figure(figsize=(7,5))\n",
    "    x = np.arange(0, 1, 0.001)\n",
    "    y = solutionAtX(x, t, alpha, terms)\n",
    "    plt.plot(x, y, x, x, 'orange')\n",
    "    plt.fill_between(x, 0, y, alpha=0.2)\n",
    "    plt.ylim(0.0, 1.0)\n",
    "    plt.xlabel('Distance')\n",
    "    plt.ylabel('Concentration')\n",
    "    plt.show()"
   ]
  },
  {
   "cell_type": "markdown",
   "metadata": {
    "slideshow": {
     "slide_type": "skip"
    }
   },
   "source": [
    "This function uses a list comprehension to generate the value of the concentration field (the solutionAtX) at a point (x,t) for a given diffusion coefficient and number of terms.  Note that there is a local variable `n` that is summed over in the list comprehension.  Note also that I have not (yet) provided information on HOW this solution is reached.  You will get to that in this lecture."
   ]
  },
  {
   "cell_type": "code",
   "execution_count": null,
   "metadata": {
    "scrolled": false,
    "slideshow": {
     "slide_type": "skip"
    }
   },
   "outputs": [],
   "source": [
    "interact(make_plot, t=(0.01,2,0.01), alpha=(0.2,0.5,0.01), terms=(1,40,1));"
   ]
  },
  {
   "cell_type": "markdown",
   "metadata": {
    "slideshow": {
     "slide_type": "slide"
    }
   },
   "source": [
    "As you advance time try and connect your physical intuition of diffusion with the evolution of the area under the blue curve in the solution.  At the boundaries the diffusing species is allowed to escape the medium.  Over time, we should see a gradual decrease in the amount of substance in the solution."
   ]
  },
  {
   "cell_type": "markdown",
   "metadata": {
    "slideshow": {
     "slide_type": "skip"
    }
   },
   "source": [
    "### In Class\n",
    "----"
   ]
  },
  {
   "cell_type": "markdown",
   "metadata": {
    "slideshow": {
     "slide_type": "slide"
    }
   },
   "source": [
    "#### 1D Diffusion Problem - Separating Variables"
   ]
  },
  {
   "cell_type": "markdown",
   "metadata": {
    "slideshow": {
     "slide_type": "fragment"
    }
   },
   "source": [
    "There are many ways to solve a PDE.  Separating variables is one such method to reduce a PDE to a pair (or more) of ODEs.  "
   ]
  },
  {
   "cell_type": "markdown",
   "metadata": {
    "slideshow": {
     "slide_type": "fragment"
    }
   },
   "source": [
    "We start by assuming that the solution has the form of a time dependent piece and a spatially dependent piece.  So we could write:\n",
    "\n",
    "$$ c(x,t) = X(x) T(t) $$"
   ]
  },
  {
   "cell_type": "markdown",
   "metadata": {
    "slideshow": {
     "slide_type": "fragment"
    }
   },
   "source": [
    "We substitute the assumed form of the solution into Fick's law:\n",
    "\n",
    "\n",
    "$$\n",
    "\\frac{\\partial c(x,t)}{\\partial t} = D \\frac{\\partial^2 c(x,t)}{\\partial x^2}\n",
    "$$"
   ]
  },
  {
   "cell_type": "markdown",
   "metadata": {
    "slideshow": {
     "slide_type": "slide"
    }
   },
   "source": [
    "this gives us:\n",
    "\n",
    "$$ \\frac{\\partial X(x) T(t)}{\\partial t} = D \\frac{\\partial^2 X(x) T(t)}{\\partial x^2} $$\n"
   ]
  },
  {
   "cell_type": "markdown",
   "metadata": {
    "collapsed": true,
    "slideshow": {
     "slide_type": "fragment"
    }
   },
   "source": [
    "We will differentate the assumed solution of $c(x,t)$ above according to the derivatives in the differential equation.  It is usual to let D be $\\alpha^2$ to guarantee that D is always positive, we can do this in `sympy` with a keyword in the `symbols` function call."
   ]
  },
  {
   "cell_type": "code",
   "execution_count": null,
   "metadata": {
    "slideshow": {
     "slide_type": "slide"
    }
   },
   "outputs": [],
   "source": [
    "import sympy as sp\n",
    "sp.init_session(quiet=True)\n",
    "sp.init_printing()"
   ]
  },
  {
   "cell_type": "code",
   "execution_count": null,
   "metadata": {
    "slideshow": {
     "slide_type": "fragment"
    }
   },
   "outputs": [],
   "source": [
    "var('X,T',cls=Function)"
   ]
  },
  {
   "cell_type": "code",
   "execution_count": null,
   "metadata": {
    "slideshow": {
     "slide_type": "fragment"
    }
   },
   "outputs": [],
   "source": [
    "var('alpha gamma c', positive=True)"
   ]
  },
  {
   "cell_type": "markdown",
   "metadata": {
    "slideshow": {
     "slide_type": "fragment"
    }
   },
   "source": [
    "The assumption of alpha and gamma as positive is not necessary, but applies for our problem.  Maybe as you go through a second time you can think about why this is true."
   ]
  },
  {
   "cell_type": "markdown",
   "metadata": {
    "slideshow": {
     "slide_type": "slide"
    }
   },
   "source": [
    "With our substitutions in place:\n",
    "\n",
    "$$ \\frac{\\partial X(x) T(t)}{\\partial t} = \\alpha^2 \\frac{\\partial^2 X(x) T(t)}{\\partial x^2} $$\n",
    "\n",
    "After taking the derivatives we have:\n",
    "\n",
    "$$ X(x)T'(t) = \\alpha^2 X''(x)T(t) $$"
   ]
  },
  {
   "cell_type": "markdown",
   "metadata": {
    "slideshow": {
     "slide_type": "slide"
    }
   },
   "source": [
    "We can arrange these expressions so that all the functions of \"t\" are on one side and the functions of \"x\" are on the other side.  Divide both the LHS and RHS of the above expression by $\\alpha^2 X(x) T(t)$ to seperate variables on either sides of the equals sign.  Note also that this means that the product $\\alpha^2 X(x) T(t)$ should never be zero.  Add a seperation constant $\\gamma$ and integrate.\n",
    "\n",
    "The rationalization for the seperation constant is that since the LHS and RHS each depend on one variable then the only way the LHS and RHS can be equal is if they are both equal to a constant.  Our ODEs are then written as:"
   ]
  },
  {
   "cell_type": "code",
   "execution_count": null,
   "metadata": {
    "scrolled": true,
    "slideshow": {
     "slide_type": "fragment"
    }
   },
   "outputs": [],
   "source": [
    "timeODE = sp.Eq(T(t).diff(t,1)/(alpha**2*T(t)),-gamma**2)\n",
    "timeODE"
   ]
  },
  {
   "cell_type": "code",
   "execution_count": null,
   "metadata": {
    "slideshow": {
     "slide_type": "fragment"
    }
   },
   "outputs": [],
   "source": [
    "spaceODE = sp.Eq(X(x).diff(x,2)/X(x),-gamma**2)\n",
    "spaceODE"
   ]
  },
  {
   "cell_type": "markdown",
   "metadata": {
    "slideshow": {
     "slide_type": "subslide"
    }
   },
   "source": [
    "Invoke `dsolve()`"
   ]
  },
  {
   "cell_type": "code",
   "execution_count": null,
   "metadata": {},
   "outputs": [],
   "source": [
    "sp.dsolve(timeODE,T(t))"
   ]
  },
  {
   "cell_type": "markdown",
   "metadata": {},
   "source": [
    "This is not the form you are likely to find in a textbook.  It is the correct solution, but it may not be the best solution for us.  I've devised a line of code below that powers through all the possible forms of the solution so that we can inspect the list and pick the one we like.  We create a list of hints and then use a list comprehension to solve the equation for each hint.  The notebook displays all the solutions so that we can find the one that suits our needs. "
   ]
  },
  {
   "cell_type": "code",
   "execution_count": null,
   "metadata": {},
   "outputs": [],
   "source": [
    "list_of_hints = sp.classify_ode(timeODE)\n",
    "list_of_solutions = [sp.dsolve(timeODE,T(t), hint=hint) for hint in list_of_hints]\n",
    "list_of_solutions"
   ]
  },
  {
   "cell_type": "markdown",
   "metadata": {},
   "source": [
    " A bit of matching up with the list of hints and we find that the one we are interested in is `1st_linear`:"
   ]
  },
  {
   "cell_type": "code",
   "execution_count": null,
   "metadata": {
    "slideshow": {
     "slide_type": "fragment"
    }
   },
   "outputs": [],
   "source": [
    "timePiece = sp.dsolve(timeODE,T(t), hint='1st_linear')\n",
    "timePiece"
   ]
  },
  {
   "cell_type": "markdown",
   "metadata": {},
   "source": [
    "The space soltion does give us the textbook solution so I didn't find it necessary to brute force it as above:"
   ]
  },
  {
   "cell_type": "code",
   "execution_count": null,
   "metadata": {
    "slideshow": {
     "slide_type": "fragment"
    }
   },
   "outputs": [],
   "source": [
    "spacePiece = sp.dsolve(spaceODE,X(x))\n",
    "spacePiece"
   ]
  },
  {
   "cell_type": "markdown",
   "metadata": {
    "slideshow": {
     "slide_type": "skip"
    }
   },
   "source": [
    "The solution (with constants) is the product of the two solutions above:\n",
    "\n",
    "$$ \n",
    "c(x,t) = X(x)T(t) = \\Big( C_{1} \\sin{\\left (\\gamma x \\right )} + C_{2} \\cos{\\left (\\gamma x \\right )} \\Big)\\Big ( C_{3} e^{- \\alpha^{2} \\gamma^{2} t} \\Big ) \n",
    "$$\n",
    "\n",
    "We will need to \"absorb\" the time solution constant ($C_3$) into the space solution constants.  There are an infinity of solutions depending on our choices of $C_1$ and $C_2$.  These will ultimately be determined by the boundary conditions.\n",
    "\n",
    "I would also note here the following:  the CAS (SymPy in this case) did all the work for us above.  The code below is really to just keep ourselves organized.  I don't intend to do much with `generalSolution` except to make substitutions to find the boundary conditions.  Working with a CAS is equal parts setup, organization, and deciphering the results."
   ]
  },
  {
   "cell_type": "markdown",
   "metadata": {
    "slideshow": {
     "slide_type": "slide"
    }
   },
   "source": [
    "Clean up the solution for use below.  Eliminate one of the constants as the product of C1 and C2 is also a constant.  Sympy does not automatically create the symbols corresponding to the constants for us.  So we need to create those before proceeding:"
   ]
  },
  {
   "cell_type": "code",
   "execution_count": null,
   "metadata": {},
   "outputs": [],
   "source": [
    "var('C1 C2')"
   ]
  },
  {
   "cell_type": "code",
   "execution_count": null,
   "metadata": {
    "slideshow": {
     "slide_type": "fragment"
    }
   },
   "outputs": [],
   "source": [
    "generalSolution = Eq(c(x,t),(timePiece.rhs).subs([(C1,1)])*spacePiece.rhs)\n",
    "generalSolution"
   ]
  },
  {
   "cell_type": "markdown",
   "metadata": {
    "slideshow": {
     "slide_type": "slide"
    }
   },
   "source": [
    "#### Boundary Conditions\n",
    "\n",
    "All that is left to do is impose the boundary conditions to find the constants $C_1$ and $C_2$ and get the particular solution that satisfies our initial condition."
   ]
  },
  {
   "cell_type": "markdown",
   "metadata": {
    "slideshow": {
     "slide_type": "slide"
    }
   },
   "source": [
    "The following conditions apply to this problem:\n",
    "\n",
    "$$ c(0,t) = 0 $$\n",
    "$$ c(1,t) = 0 $$\n",
    "$$ c(x,0) = x $$\n",
    "\n",
    "These conditions apply for the left-hand boundary, the right-hand boundary and the initial condition (the time boundary).  The domain of the experiment is $\\{\\,x\\, \\mid 0 < x < 1\\,\\}$"
   ]
  },
  {
   "cell_type": "code",
   "execution_count": null,
   "metadata": {
    "slideshow": {
     "slide_type": "slide"
    }
   },
   "outputs": [],
   "source": [
    "generalSolution"
   ]
  },
  {
   "cell_type": "markdown",
   "metadata": {
    "slideshow": {
     "slide_type": "fragment"
    }
   },
   "source": [
    "Start by substituting the boundary condition $c(0,t) = 0$:"
   ]
  },
  {
   "cell_type": "code",
   "execution_count": null,
   "metadata": {
    "slideshow": {
     "slide_type": "subslide"
    }
   },
   "outputs": [],
   "source": [
    "generalSolution.subs({x:0})"
   ]
  },
  {
   "cell_type": "markdown",
   "metadata": {
    "slideshow": {
     "slide_type": "fragment"
    }
   },
   "source": [
    "The only way this can be true is if $C_2$ is zero.  Make that substition and insert the second boundary condition where $c(1,t)$ must also be zero:"
   ]
  },
  {
   "cell_type": "code",
   "execution_count": null,
   "metadata": {
    "slideshow": {
     "slide_type": "slide"
    }
   },
   "outputs": [],
   "source": [
    "generalSolution.subs({x:1, C2:0})"
   ]
  },
  {
   "cell_type": "markdown",
   "metadata": {
    "slideshow": {
     "slide_type": "subslide"
    }
   },
   "source": [
    "_So - wait, what?  Can can we let $C1=0$ too?_\n",
    "\n",
    "That IS a solution.  It just is not the one we're looking for, so we need to examine how the third factor (the sin term) can help us.  \n",
    "\n",
    "What about the exponential?  At the boundary there is no dependence of $x$ in this factor however we know that the parameters in the exponential will not cause that factor to go to zero.  It starts at one and just gets smaller - so looking at the second factor will not help us much.  \n",
    "\n",
    "This means that we have to let $\\sin(\\gamma)=0$.  We know this can happen with the right choice of $\\gamma$.  What choices can we use?\n",
    "\n",
    "What if:\n",
    "\n",
    "$$\\gamma = \\pm \\pi, \\pm 2\\pi, \\pm 3\\pi, ... $$\n",
    "\n",
    "and in general:\n",
    "\n",
    "$$\\gamma = \\pm n\\pi$$"
   ]
  },
  {
   "cell_type": "markdown",
   "metadata": {},
   "source": [
    "Let us go back an examine the initial condition where $t=0$.  "
   ]
  },
  {
   "cell_type": "code",
   "execution_count": null,
   "metadata": {
    "slideshow": {
     "slide_type": "subslide"
    }
   },
   "outputs": [],
   "source": [
    "generalSolution.subs({t:0, C2:0, gamma:n*sp.pi})"
   ]
  },
  {
   "cell_type": "markdown",
   "metadata": {
    "collapsed": true,
    "slideshow": {
     "slide_type": "slide"
    }
   },
   "source": [
    "Now this statement tells us that we need to find a constant $C_1$ such that $c(x,0)=x$.  You may be wondering how we can do that - but you already know how to do that.\n",
    "\n",
    "We identify the diffusion PDE (Fick's Law) as a homogeneous PDE. Kreyszig defines homogeneous as an equation in $u$ where \"each of its terms contains either $u$ or one of its partial derivatives\".  Because the equation is a homogeneous PDE we can invoke the principle of superposition that combinations of solutions to the PDE are also solutions to the PDE.\n",
    "\n",
    "So it is therefore possible to write (without proof) that the initial condition:\n",
    "\n",
    "$$c(x,0) = \\sum_{n=1}^N C_n sin(n\\pi x) = \\phi(x) = x$$\n",
    "\n",
    "and the general solution to the equation is:\n",
    "\n",
    "\n",
    "$$c(x,t) = \\sum_{n=1}^N C_n sin(n\\pi x) e^{- \\alpha^2 n^2 \\pi^2 t}$$\n",
    "\n",
    "The summation is the Fourier sine series - so as long as you can compute the coefficients $C_n$ then you can write down a summation that will be an approximate solution to the problem.  All that remains is to find the Fourier coefficient for the function $\\phi(x)$ and substitute those into the general solution.  Go back and look at the plotted solution and see if you can write your own function derived from the general solution and a Fourier series.\n",
    "\n",
    "Your homework assignment is to set up a different initial condition and solve the problem again."
   ]
  },
  {
   "cell_type": "markdown",
   "metadata": {
    "slideshow": {
     "slide_type": "slide"
    }
   },
   "source": [
    "### Homework\n",
    "----\n",
    "\n",
    "From Farlow's book entitled \"Partial Differential Equations for Scientists and Engineers\" he poses the following two problems:\n",
    "\n",
    "1.  Find the Fourier sine expansion of $\\phi(x)=1$ on the domain $0 \\le x \\le 1$.  Structure your solution/code so that you can investigate the series as a function of the number of terms it contains.  It will be helpful to pay attention to the values of the wavenumber and coefficients.  (Maybe symbolic computation will help?)  By choosing hte `sin` series you will also be requiring the values of the function to be zero at the boundaries.  Hint:  The domain of the series may be larger than the domain of the physical problem.\n",
    "1.  Using the results of the previous problem, what is the solution to the following initial boundary value problem (PDE):\n",
    "\n",
    "$$\n",
    "\\begin{array}{lll}\n",
    "\\mathrm{PDE} & u_t = u_{xx} & 0 \\le x \\le 1 \\\\\n",
    "\\mathrm{BCs} & u(0,t) = 0 & 0 \\le t \\le \\infty \\\\\n",
    " & u(1,t) = 0 & \\\\\n",
    "\\mathrm{IC}  & u(x,0) = 1 & 0 \\le x \\le 1\n",
    "\\end{array}\n",
    "$$\n",
    "\n",
    "Note that there is a physical impossibility in this problem.  Can you identify it and discuss as part of your solution?\n"
   ]
  },
  {
   "cell_type": "markdown",
   "metadata": {
    "slideshow": {
     "slide_type": "slide"
    }
   },
   "source": [
    "### Looking Ahead\n",
    "----\n",
    "\n",
    "The next step we will take is to apply integral transforms to diffusion problems.  These solutions will generate the error function that you may have seen before when studying diffusion."
   ]
  },
  {
   "cell_type": "markdown",
   "metadata": {
    "collapsed": true,
    "slideshow": {
     "slide_type": "slide"
    }
   },
   "source": [
    "### Reading Assignments and Practice\n",
    "----\n",
    "\n",
    "The parts of this process that I find most challenging are: 1)  rationalizing why there should be a constant of seperation and 2)  developing the expressions for the coefficients in the sin/cos expansion.\n",
    "\n",
    "There is also an implicit statement of boundary conditions in these problems.  Although in the homework there is an explicit statement of BCs, note that your choice of basis functions (sin series) satisfied the boundary conditions and you didn't have to do much else.  Getting specified flux or other non-zero boundary conditions to work with this method may be challenging or impossible.\n",
    "\n",
    "Good practice is to try and develop series representations of different useful functions."
   ]
  }
 ],
 "metadata": {
  "anaconda-cloud": {},
  "kernelspec": {
   "display_name": "Python 2",
   "language": "python",
   "name": "python2"
  },
  "language_info": {
   "codemirror_mode": {
    "name": "ipython",
    "version": 2
   },
   "file_extension": ".py",
   "mimetype": "text/x-python",
   "name": "python",
   "nbconvert_exporter": "python",
   "pygments_lexer": "ipython2",
   "version": "2.7.13"
  }
 },
 "nbformat": 4,
 "nbformat_minor": 1
}
