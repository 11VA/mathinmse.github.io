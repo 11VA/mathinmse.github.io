{
 "cells": [
  {
   "cell_type": "markdown",
   "metadata": {
    "slideshow": {
     "slide_type": "slide"
    }
   },
   "source": [
    "# MTLE-4720 Mathematical Methods in Materials Engineering\n",
    "\n",
    "## Also uses course codes:  BMED-4720, ENME-483"
   ]
  },
  {
   "cell_type": "markdown",
   "metadata": {
    "slideshow": {
     "slide_type": "fragment"
    }
   },
   "source": [
    "Course Information\n",
    "-----\n",
    "***\n",
    "\n",
    "All necessary course information is located on the course [wiki](http://ridcully.mat.rpi.edu/4960/).  Please check there first for course materials.  Use the course Piazza [page](https://piazza.com/class/io4ai5taq7i6ij) for news and answers to your questions."
   ]
  },
  {
   "cell_type": "markdown",
   "metadata": {
    "slideshow": {
     "slide_type": "fragment"
    }
   },
   "source": [
    "## Textbook\n",
    "----\n",
    "\n",
    "The textbook is optional, but I've found that [Fundamentals of Scientific Computing](http://www.amazon.com/Fundamentals-Scientific-Computing-Computational-Engineering/dp/364219494X) to be a good reference book."
   ]
  },
  {
   "cell_type": "markdown",
   "metadata": {
    "slideshow": {
     "slide_type": "fragment"
    }
   },
   "source": [
    "## Getting Started\n",
    "-----\n",
    "\n",
    "Course Setup, Notebook Usage and General Python Introduction\n",
    "\n",
    "1. [Installing Your Python Distribution](./Installation.ipynb):  These notes were crafted in collaboration with students on Piazza.  I will show them in class and help you get setup.\n",
    "1. [Starting to use the Jupyter Notebook](./Starting-Jupyter.ipynb):  This notebook will contain a few bits of code that you can use to get started.\n",
    "1.  [Jupyter Notebook Tutorial](./Jupyter-Notebook-Users-Manual.ipynb):  This is a user manual that is part of Bryn Mawr's computing courses.  It is very helpful.\n",
    "1.  [A Crash Course in Python for Scientists](./Crash-Course-In-Python-for-Scientists.ipynb):  Just what is says.  Developed and maintained at Sandia National Labs."
   ]
  },
  {
   "cell_type": "markdown",
   "metadata": {
    "slideshow": {
     "slide_type": "fragment"
    }
   },
   "source": [
    "## Tutorial Notes 2017\n",
    "-----\n",
    "\n",
    "[Robert Johansson's Lecture Notes](https://github.com/jrjohansson/scientific-python-lectures) is a nice series of lectures that gives the reader/user a broad and concise introduction to Python, some key libraries (Numpy, Scipy, Matplotlib, etc.) as well as some more advanced topics.  These are required reading for our class.  Careful though - the latest structure of Jupyter isn't referenced in the lectures.\n",
    "\n",
    "In your main course folder, create a subdirectory entitled `scientific-python-lectures` and unzip [the notes found at GitHub](https://github.com/jrjohansson/scientific-python-lectures).  If you do that, the links below will work.  If you do something different then you'll need to adjust.\n",
    "\n",
    "1.  [Scientific Computing With Python](./scientific-python-lectures/Lecture-0-Scientific-Computing-with-Python.ipynb)\n",
    "1.  [Introduction to Python Programming](./scientific-python-lectures/Lecture-1-Introduction-to-Python-Programming.ipynb)\n",
    "1.  [Numpy](./scientific-python-lectures/Lecture-2-Numpy.ipynb)\n",
    "1.  [Scipy](./scientific-python-lectures/Lecture-3-Scipy.ipynb)\n",
    "1.  [Matplotlib](./scientific-python-lectures/Lecture-4-Matplotlib.ipynb)\n",
    "1.  [Sympy](./scientific-python-lectures/Lecture-5-Sympy.ipynb)\n",
    "1. Other Numerical Computing Topics (Will not be covered in lecture)\n",
    "    1.  [Fortran and C](./scientific-python-lectures/Lecture-6A-Fortran-and-C.ipynb)\n",
    "    1.  [High Performance Computing](./scientific-python-lectures/Lecture-6B-HPC.ipynb)\n",
    "    1.  Example on Function Optimization using Cython (for Future Courses)\n",
    "    1.  [Version Control Software](./scientific-python-lectures/Lecture-7-Revision-Control-Software.ipynb)"
   ]
  },
  {
   "cell_type": "markdown",
   "metadata": {
    "slideshow": {
     "slide_type": "fragment"
    }
   },
   "source": [
    "Lecture Topics\n",
    "-----\n",
    "***\n",
    "\n",
    "We will use an electronic set of notes as our core course materials.  The notes start at Lecture 9 following the previous eight Scientific Python Lectures.\n",
    "\n",
    "1. [Matrices and Rotations (Crystallography)](./Lecture-09-Matrices-and-Rotations.ipynb)\n",
    "1. [Taylor's Series (Discrete Calculus)](./Lecture-10A-Taylors-Series.ipynb)\n",
    "1. [Vectors, Potentials and Gradients (Diffusion)](./Lecture-11-Scalars-Vectors.ipynb)\n",
    "1. [Fourier Series (Crystallography)](./Lecture-12-Fourier-Series.ipynb)\n",
    "1. [Integral Transforms (Electron Microscopy)](./Lecture-13-Integral-Transforms.ipynb)\n",
    "1. [Viscoelasticity](./Lecture-14-Ordinary-Differential-Equations.ipynb)\n",
    "1. [Seperation of Variables Solutions to the Diffusion Equation](./Lecture-15-Separation-of-Variables.ipynb)\n",
    "1. [Laplace Transform Solution to the Diffusion Equation](./Lecture-16-Laplace-Transforms.ipynb)\n",
    "1. [Numerical Solutions to the Diffusion Equation (Explicit)](./Lecture-17-Explicit-Finite-Difference.ipynb)\n",
    "1. [Numerical Solutions to the Diffusion Equation (Implicit)](./Lecture-18-Implicit-Finite-Difference.ipynb)\n",
    "1. [Numerical Solutions to the Diffusion Equation (Spectral)](./Lecture-19-Spectral-Solutions.ipynb)\n",
    "1. [Numerical Solutions to the Diffusion Equation (FiPy)](./Lecture-20-Introduction-to-FiPy.ipynb)\n",
    "1. [Calculus of Variations](./Lecture-21-Calculus-of-Variations.ipynb)\n",
    "1. [Cahn-Allen](./Lecture-22-Phase-Field-Basics.ipynb)\n",
    "1. [Cahn-Hilliard](./Lecture-23-Cahn-Hilliard-Allen.ipynb)\n",
    "1. [Phase Field Models of Ostwald Ripening](./Lecture-24-Parallel-Computing.ipynb)\n",
    "1. [Ellingham Diagrams](Lecture-25-Ellingham-Diagrams.ipynb)"
   ]
  },
  {
   "cell_type": "markdown",
   "metadata": {
    "slideshow": {
     "slide_type": "slide"
    }
   },
   "source": [
    "## Additional Reading, Bibliography and Cited Works\n",
    "-----\n",
    "\n",
    "* [Bryn Mawr College Computing](https://athena.brynmawr.edu/)"
   ]
  },
  {
   "cell_type": "markdown",
   "metadata": {},
   "source": [
    "## To Run Lectures as Slideshow (Example)\n",
    "\n",
    "`jupyter nbconvert Lecture-16-Laplace-Transforms.ipynb  --to slides --post serve`"
   ]
  },
  {
   "cell_type": "code",
   "execution_count": null,
   "metadata": {
    "collapsed": true
   },
   "outputs": [],
   "source": []
  }
 ],
 "metadata": {
  "anaconda-cloud": {},
  "kernelspec": {
   "display_name": "Python 2",
   "language": "python",
   "name": "python2"
  },
  "language_info": {
   "codemirror_mode": {
    "name": "ipython",
    "version": 2
   },
   "file_extension": ".py",
   "mimetype": "text/x-python",
   "name": "python",
   "nbconvert_exporter": "python",
   "pygments_lexer": "ipython2",
   "version": "2.7.13"
  }
 },
 "nbformat": 4,
 "nbformat_minor": 0
}
