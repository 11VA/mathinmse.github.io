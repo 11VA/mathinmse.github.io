{
 "cells": [
  {
   "cell_type": "markdown",
   "metadata": {},
   "source": [
    "# Lecture 12:  Fourier Series\n",
    "----\n",
    "\n",
    "### Sections\n",
    "\n",
    "* [Introduction](#Introduction)\n",
    "* [Learning Goals](#Learning-Goals)\n",
    "* [On Your Own](#On-Your-Own)\n",
    "    * [Useful Function](#Useful-Function)\n",
    "    * [Representations of a Wave](#Representations-of-a-Wave)\n",
    "    * [A Vector Space](#A-Vector-Space)\n",
    "    * [Interactive Visualization of the Dot Product of Functions](#Interactive-Visualization-of-the-Dot-Product-of-Functions)\n",
    "* [In Class](#In-Class)\n",
    "    * [The Inner Product of Functions](#The-Inner-Product-of-Functions)\n",
    "    * [Formal Definition of a Fourier Series](#Formal-Definition-of-a-Fourier-Series)\n",
    "    * [Computing Fourier Coefficients by Hand](#Computing-the-Fourier-Coefficients-by-Hand)\n",
    "    * [Computing the Fourier Coefficients using Sympy](#Computing-the-Fourier-Coefficients-using-Sympy)\n",
    "* [Homework](#Homework)\n",
    "    * [Fourier Series](#Fourier-Series)\n",
    "    * [Numerical Computation of the Structure Factor](#Numerical-Computation-of-the-Structure-Factor)\n",
    "* [Summary](#Summary)\n",
    "* [Looking Ahead](#Looking-Ahead)\n",
    "* [Reading Assignments and Practice](#Reading-Assignments-and-Practice)"
   ]
  },
  {
   "cell_type": "markdown",
   "metadata": {},
   "source": [
    "### Introduction\n",
    "----\n",
    "\n",
    "Series solutions appear in a lot of different engineering contexts.  In materials engineering you will sometimes see diffusion problems use series solutions to describe the evolution of a concentration field.  You will often see solutions to the diffusion problem where there is a series factor and an exponential factor.  Together they describe the diffusive evolution of a system.  A classic example of a Fourier series in a diffusion problem is in Jackson and Hunt's paper on eutectic solidification.  In that paper the boundary condition was represented by a Fourier series to model the composition profile across eutectic lamellae.\n",
    "\n",
    "In this lecture we will compute Fourier coefficients and learn how to shift them to arbitrary center points and domain widths."
   ]
  },
  {
   "cell_type": "markdown",
   "metadata": {},
   "source": [
    "[Top of Page](#Sections)"
   ]
  },
  {
   "cell_type": "markdown",
   "metadata": {},
   "source": [
    "### Learning Goals\n",
    "----\n",
    "1. Understand the basis for Fourier series representation of functions.\n",
    "1. Become knowledgable about the definition of the inner product of functions.\n",
    "1. Practice using Python to numerically and symbolically compute the coefficients of the series."
   ]
  },
  {
   "cell_type": "markdown",
   "metadata": {},
   "source": [
    "[Top of Page](#Sections)"
   ]
  },
  {
   "cell_type": "markdown",
   "metadata": {},
   "source": [
    "### On Your Own\n",
    "----"
   ]
  },
  {
   "cell_type": "markdown",
   "metadata": {},
   "source": [
    "#### Useful Function\n",
    "\n",
    "Here is a little function that gives you a list from `start` to `stop` in `steps`.  You can pass numbers or `sympy` objects to this function.  This function helps us create symbolic lists (since `range` isn't something we can call with `sympy` objects)."
   ]
  },
  {
   "cell_type": "code",
   "execution_count": null,
   "metadata": {},
   "outputs": [],
   "source": [
    "from sympy import pi, init_printing, sin\n",
    "init_printing()\n",
    "\n",
    "def fancy_range(start, stop, step):\n",
    "    while start <= stop:\n",
    "        yield start\n",
    "        start += step\n",
    "\n",
    "sf = list(fancy_range(0,2*pi,pi/3))\n",
    "sf"
   ]
  },
  {
   "cell_type": "code",
   "execution_count": null,
   "metadata": {},
   "outputs": [],
   "source": [
    "nf = list(fancy_range(0,2,0.3))\n",
    "nf"
   ]
  },
  {
   "cell_type": "markdown",
   "metadata": {},
   "source": [
    "[Top of Page](#Sections)"
   ]
  },
  {
   "cell_type": "markdown",
   "metadata": {},
   "source": [
    "#### Representations of a Wave\n",
    "\n",
    "In this block we create a plot using Matplotlib and Numpy.  While this works just fine - we will drift back and forth between Sympy plotting and Matplotlib plotting at the start of this lecture.  Later we will `lambdafy` sympy functions for the purpose of numerical computing.  \n",
    "\n",
    "Consider a sine wave with an amplitude and frequency:"
   ]
  },
  {
   "cell_type": "code",
   "execution_count": null,
   "metadata": {},
   "outputs": [],
   "source": [
    "%matplotlib notebook\n",
    "\n",
    "import matplotlib.pyplot as plt\n",
    "import numpy as np\n",
    "\n",
    "# Problem inputs.\n",
    "amplitude = 2.4\n",
    "frequency = 2*np.pi/3.\n",
    "\n",
    "# Create a range of 100 data points evenly spaced between 0 and 2\\pi\n",
    "t = np.linspace(0, 2*np.pi, 200)\n",
    "\n",
    "fig, ax = plt.subplots()\n",
    "\n",
    "ax.plot(t, amplitude*np.sin(2*np.pi*frequency*t), label=r\"$A(t) = \\sin(2 \\pi f t)$\")\n",
    "ax.legend(loc=1) # upper right corner\n",
    "ax.set_xlabel(r'$t$', fontsize=18)\n",
    "ax.set_ylabel(r'$A$', fontsize=18)\n",
    "ax.set_title('A Sine Wave');"
   ]
  },
  {
   "cell_type": "markdown",
   "metadata": {},
   "source": [
    "You can capture all of its properties just with the folowing information:\n",
    "\n",
    "1. It is a sine wave\n",
    "1. It has amplitude 2.4\n",
    "1. It has frequency 2/3\n",
    "\n",
    "You could represent it as a graph that is defined over the entire x-axis, but it would be much more compact to just remember these 3 pieces of information. You could even represent this information on an amplitude-frequency chart if you know you are only working with sines.  Let us start by identifying a list of possible frequencies - where one element of the list contains $2\\pi/3$:"
   ]
  },
  {
   "cell_type": "markdown",
   "metadata": {},
   "source": [
    "Here is another way to plot the same information.  Note how I chose to construct amplitude and frequency - as lists.  This is intentional for what is to come next."
   ]
  },
  {
   "cell_type": "code",
   "execution_count": null,
   "metadata": {},
   "outputs": [],
   "source": [
    "from sympy import symbols, pi, init_printing, sin, plot\n",
    "t = symbols('t')\n",
    "init_printing()\n",
    "\n",
    "amplitudes = [0,0,2.5,0,0,0,0]\n",
    "frequencies = list(fancy_range(0,2*pi,pi/3))\n",
    "equation = sum([amplitude*sin(2*pi*frequency*t) for (amplitude,frequency) in zip(amplitudes,frequencies)])\n",
    "plot(equation, (t,0,2*pi));"
   ]
  },
  {
   "cell_type": "markdown",
   "metadata": {},
   "source": [
    "You'll want to examine what `zip` does and how list comprehensions are used.\n",
    "\n",
    "In the previous plot we know that the frequency of $2\\pi/3$ and coefficient (amplitue) of $2.4$ were linked through the `sin` function.  So it isn't hard to extrapolate to a situation where we might have MANY functions each with their own amplitude.  We could also imagine having many `sin` functions each with a different frequency - so let us make a list of amplitudes and frequencies (numerically) that we can use for plotting.  The following histogram plots the amplitudes for each frequency."
   ]
  },
  {
   "cell_type": "code",
   "execution_count": null,
   "metadata": {},
   "outputs": [],
   "source": [
    "%matplotlib notebook\n",
    "\n",
    "import matplotlib.pyplot as plt\n",
    "import numpy as np\n",
    "\n",
    "# This one we have to create by hand.\n",
    "amplitudes = [0,0,2.4,0,0,0,0]\n",
    "frequencies = list(fancy_range(0,2*np.pi,np.pi/3))\n",
    "\n",
    "fig, ax = plt.subplots()\n",
    "ax.bar(frequencies, amplitudes)\n",
    "ax.set_xlabel(r'$f$', fontsize=18)\n",
    "ax.set_ylabel(r'$A$', fontsize=18)\n",
    "ax.set_title('Power Spectrum');"
   ]
  },
  {
   "cell_type": "markdown",
   "metadata": {},
   "source": [
    "The plot above is one common way of visualizing the amplitudes of each term in a series.  Each bar represents the amplitude of a particular frequency.  In the above case we have one frequency with amplitude 2.4.  While this example may seem mundane - when you get many frequencies together, such plots can convey more insight into complex functions. "
   ]
  },
  {
   "cell_type": "code",
   "execution_count": null,
   "metadata": {
    "scrolled": false
   },
   "outputs": [],
   "source": [
    "from sympy import symbols, pi, init_printing, sin, plot\n",
    "t = symbols('t')\n",
    "init_printing()\n",
    "\n",
    "amplitudes = [0,0,1.0,0.25,0.5,0,0]\n",
    "frequencies = list(fancy_range(0,2*pi,pi/3))\n",
    "equation = sum([amplitude*sin(2*pi*frequency*t) for (amplitude,frequency) in zip(amplitudes,frequencies)])\n",
    "plot(equation, (t,0,pi));"
   ]
  },
  {
   "cell_type": "code",
   "execution_count": null,
   "metadata": {},
   "outputs": [],
   "source": [
    "%matplotlib notebook\n",
    "\n",
    "import matplotlib.pyplot as plt\n",
    "import numpy as np\n",
    "\n",
    "amplitudes = [0,0,1,0.25,0.5,0,0]\n",
    "frequencies = list(fancy_range(0,2*np.pi,np.pi/3))\n",
    "\n",
    "fig, ax = plt.subplots()\n",
    "ax.bar(frequencies, amplitudes)\n",
    "ax.set_xlabel(r'$f$', fontsize=18)\n",
    "ax.set_ylabel(r'$A$', fontsize=18)\n",
    "ax.set_title(r'Power Spectrum');"
   ]
  },
  {
   "cell_type": "markdown",
   "metadata": {},
   "source": [
    "[Top of Page](#Sections)"
   ]
  },
  {
   "cell_type": "markdown",
   "metadata": {},
   "source": [
    "#### A Vector Space\n",
    "\n",
    "The set of all vectors having dimension N is a \"vector space\".  Sines and cosines (with the appropriate arguments) are orthogonal elements of a vector space.  It can be shown that their inner product is zero (in the same way that the inner (dot) product of Euclidian vectors are zero if they are orthogonal).  We will write the inner product in an integral form that is a specific definition for functions.  \n",
    "\n",
    "Before we move on to that exercise we will do a little bit of thinking around waves and how we represent them.  Consider this signal that we define and require that it be periodic with a specified period."
   ]
  },
  {
   "cell_type": "code",
   "execution_count": null,
   "metadata": {},
   "outputs": [],
   "source": [
    "%matplotlib notebook\n",
    "\n",
    "from sympy import symbols, init_printing, plot\n",
    "t = symbols('t')\n",
    "init_printing()\n",
    "\n",
    "def signal(x):\n",
    "    return (x*(2 - x)*(1 - x)**2)\n",
    "\n",
    "plot(signal(t), (t,0,2));"
   ]
  },
  {
   "cell_type": "markdown",
   "metadata": {},
   "source": [
    "You want to reproduce this signal, but your signal generator can only produce sines and cosines (this is quite typical of an electrical engineering signal processing problem - different circuits produce different waveforms). Can you fit some sines & cosines to it and have at least an *approximation* to this waveform? With the restriction that the function is periodic on this domain? Yes!\n",
    "\n",
    "The approach is to represent the function as a sum of sines and cosines (and you should be skeptical - you only have my assurances that this is correct).  But at this point - we don't have a clue what the amplitudes would be.\n",
    "\n",
    "We know that the natural choice of functions are sines and cosines with a periodicity that matches that of the signal, P (= 2 in this case). So, they should have wavelengths of P, P/2, P/3, P/4, etc. This choice turns out to also have a very useful property: such functions are all mutually orthagonal. Recall the concept of orthagonality from linear algebra: it means that their dot product is zero. For a function, the dot product is replaced by the inner product, defined as:\n",
    "\n",
    "$$ < f(x) | g(x) > = \\int_{-L}^{L} f(x) g(x) dx $$\n",
    "\n",
    "If this is zero, then the functions are orthagonal. If orthagonal functions are linearly combined, then each contributes to the total sum independantly.  This is very useful because each sine/cosine contribution to the approximation can be computed independantly.\n",
    "\n",
    "Why is this the \"dot product\" for functions anyway? Recall that the dot product for vectors v and w tells you how much v points along w, i.e., how much of v you need to add to some other (mutually orthagonal) vectors in order to sum reproduce w. This is exactly what we are after in terms of functions: how much of function 1 do you have to add to some other (mutually orthagonal) functions to reproduce your desired function. If it helps, I think of the idea of \"how much\" as a projection of one function in terms of another.  Maybe a shadow analogy works here, too?\n",
    "\n",
    "You can see that the inner product\n",
    "\n",
    "$$ < f(x) | g(x) > = \\int_{-L}^{L} f(x) g(x) dx $$\n",
    "\n",
    "is the correct choice as the \"continuous\" version of the dot product if you think about what this does: Look at the point x = a. Compute f(a) and g(a). f(a) and g(a) represent the height of each function above/below the x-axis, so a vector from (a, 0) to (a, f(a)) can be dotted with a vector from (a, 0) to (a, g(a)). They are necessarily parallel, so their dot product is just the product of their magnitudes = f(a) times g(a). Now, multiply this by dx to keep the contribution from position x=a proportional to how many additional x-positions you'll do this for. Take this dot product over and over, at each x-position, always scaling by dx to keep it all in proportion. The sum of these dot products is the projection of f(x) onto g(x) (or vice-versa).\n",
    "\n",
    "The next visualization is presented to help you see how the \"dot product of functions\" or the inner product works graphically."
   ]
  },
  {
   "cell_type": "markdown",
   "metadata": {},
   "source": [
    "[Top of Page](#Sections)"
   ]
  },
  {
   "cell_type": "markdown",
   "metadata": {},
   "source": [
    "#### Interactive Visualization of the Dot Product of Functions"
   ]
  },
  {
   "cell_type": "code",
   "execution_count": null,
   "metadata": {},
   "outputs": [],
   "source": [
    "%matplotlib inline\n",
    "\n",
    "import sympy as sp\n",
    "import numpy as np\n",
    "import matplotlib\n",
    "import matplotlib.pyplot as plt\n",
    "from ipywidgets import interact, fixed\n",
    "\n",
    "def npf(x):\n",
    "    return np.sin(2*x)\n",
    "\n",
    "def npg(x):\n",
    "    return np.sin(x)\n",
    "\n",
    "def spf(x):\n",
    "    return sp.sin(2*x)\n",
    "\n",
    "def spg(x):\n",
    "    return sp.sin(x)\n",
    "\n",
    "# Make ff and gg tuples of np/sp functions? - or we can lambdafy the sp functions.\n",
    "def myfig(ff,gg,a):\n",
    "    \"\"\"\n",
    "    This function's docstring explaining the function.\n",
    "    \"\"\"\n",
    "    x = np.linspace(0, 2*np.pi, 100)\n",
    "    y1 = ff(x)\n",
    "    y2 = gg(x)\n",
    "    y3 = ff(x)*gg(x)\n",
    "    fig = plt.figure(figsize=(8,5))\n",
    "    axes = fig.add_axes([0.1, 0.1, 0.8, 0.8])\n",
    "    axes.plot(x, y1, 'r', label=r\"$f(x)$\")\n",
    "    axes.arrow(a, 0, 0, ff(a), length_includes_head=True, head_length=0.1, head_width=0.1, color='r')\n",
    "    axes.plot(x, y2, 'g', label=r\"$g(x)$\")\n",
    "    axes.arrow(a, 0, 0, gg(a), length_includes_head=True, head_length=0.1, head_width=0.1, color='g')\n",
    "    axes.plot(x, y3, 'b', label=r\"$f(x) \\cdot g(x)$\")\n",
    "    axes.arrow(a, 0, 0, ff(a)*gg(a), length_includes_head=True, head_length=0.1, head_width=0.1, color='b')\n",
    "    axes.legend()\n",
    "    axes.grid(True)\n",
    "    plt.show()\n",
    "    return\n",
    "\n",
    "# Somehow we want to add this text to the plot...\n",
    "# dot_prod_value = sp.integrate(sp.sin(2*x)*sp.sin(x), (x, 0, 2*sp.pi))\n",
    "\n",
    "interact(myfig, ff=fixed(npf), gg=fixed(npg), a=(0,np.pi*2,0.05));"
   ]
  },
  {
   "cell_type": "code",
   "execution_count": null,
   "metadata": {},
   "outputs": [],
   "source": [
    "from scipy import integrate\n",
    "import numpy as np\n",
    "\n",
    "def myfunc1(x):\n",
    "    return np.sin(4*x)\n",
    "\n",
    "def myfunc2(x):\n",
    "    return np.sin(x)\n",
    "\n",
    "def myfunc3(x):\n",
    "    return myfunc1(x)*myfunc2(x)\n",
    "\n",
    "integrate.quad(myfunc3, 0, 2*np.pi)"
   ]
  },
  {
   "cell_type": "markdown",
   "metadata": {},
   "source": [
    "Is this zero?  Read the `quad` docs to understand the return value!  Maybe do this symbolically."
   ]
  },
  {
   "cell_type": "code",
   "execution_count": null,
   "metadata": {},
   "outputs": [],
   "source": [
    "import sympy as sp\n",
    "sp.init_printing()\n",
    "\n",
    "n, m = sp.symbols('n m', Integer=True)\n",
    "x = sp.symbols('x')\n",
    "\n",
    "def f(x):\n",
    "    return sp.sin(n*x)\n",
    "\n",
    "def g(x):\n",
    "    return sp.sin(m*x)\n",
    "\n",
    "# scope of variables in def is local.\n",
    "def func_dot(f, g, lb, ub):\n",
    "    return sp.integrate(f(x)*g(x), (x, lb, ub))\n",
    "\n",
    "func_dot(f, g, 0, 2*sp.pi)"
   ]
  },
  {
   "cell_type": "markdown",
   "metadata": {},
   "source": [
    "The return value is zero for these two particular functions.  If you are feeling brave - why not see if you can symbolically construct a result from the inner product integration that demonstrates the inner product is zero for every pair of frequency/period choices in $\\sin(ax)$ and $\\sin(bx)$."
   ]
  },
  {
   "cell_type": "markdown",
   "metadata": {},
   "source": [
    "[Top of Page](#Sections)"
   ]
  },
  {
   "cell_type": "markdown",
   "metadata": {},
   "source": [
    "### In Class\n",
    "----"
   ]
  },
  {
   "cell_type": "markdown",
   "metadata": {},
   "source": [
    "#### Fourier Series and The Inner Product of Functions\n",
    "\n",
    "For periodic functions (under certain restrictions) it is possible to write an approximation of the function using what is called a Fourier Series:\n",
    "\n",
    "$$f(x) = \\sum_{k=-\\infty}^{k=\\infty} \\hat{f}(k) e^{ikx} $$\n",
    "\n",
    "The inner product of functions is\n",
    "\n",
    "$$ < f(x) | g(x) > = \\int_{-L}^{L} f(x) g(x) dx $$\n",
    "\n",
    "Using these two pieces of information together you can demonstrate that an infinite series of sines and cosines can be used to represent a function $f(x)$.  There are many texts and writings on this topic.  If you find a good one, let me know!"
   ]
  },
  {
   "cell_type": "markdown",
   "metadata": {},
   "source": [
    "[Top of Page](#Sections)"
   ]
  },
  {
   "cell_type": "markdown",
   "metadata": {},
   "source": [
    "#### Formal Definition of a Fourier Series\n",
    "\n",
    "Fourier series are covered in the Wikipedia article here.  Arfken gives a succint definition of the series:  \"an expansion of a function or representation of a function in a series of sines and cosines.\"\n",
    "\n",
    "$$f(x) = \\frac{a_0}{2} + \\sum_{n=1}^{\\infty} a_n cos(nx) + \\sum_{m=0}^{\\infty} b_m sin(mx)  $$\n",
    "\n",
    "The detail left for us is to compute the coefficients GIVEN the function.  We start by defining the function we wish to represent in the Fourier series.  The values of the coefficients are given by:"
   ]
  },
  {
   "cell_type": "markdown",
   "metadata": {},
   "source": [
    "$$ a_n = \\langle f(x) | \\cos \\left( \\frac{n\\pi x}{L} \\right) \\rangle $$\n",
    "\n",
    "(the magnitude for each sine wave is the projection of that sine wave onto the original function) and\n",
    "\n",
    "$$ b_m = \\langle f(x) | \\sin \\left( \\frac{m\\pi x}{L} \\right) \\rangle $$\n",
    "\n",
    "(the magnitude for each cosine wave is the projection of that sine wave onto the original function).  Using our generalized dot product function as defined above we can compute the Fourier coefficients.  The code for this follows in functions `a_n_amplitudes` and `b_m_amplitudes`."
   ]
  },
  {
   "cell_type": "markdown",
   "metadata": {},
   "source": [
    "Let me pause here for a second - the lectures up to this point have been tame.  This is the first real deep dive into `sympy`, `numpy` and a mathematical topic like Fourier series.  Your head is probably spinning around and you don't know which way is up.\n",
    "\n",
    "Take a moment to reflect on what I'm trying to do with you here.  I'm asking you to:\n",
    "\n",
    "* think in a new paradigm (Python notebook);\n",
    "* start using a CAS to do symbolic manipulation;\n",
    "* think computationally;\n",
    "* implement an abstract mathematical idea;\n",
    "* visualize the results in a meaningful way.\n",
    "\n",
    "On my best day I probably couldn't do all of these things at once.  So - I'm not expecting you to get it all right the first time.  In fact - I'm expecting you to get it wrong every time the first time and to correct one little thing with each revision.\n",
    "\n",
    "Heads up - by the end of the class your homework assignments should look a bit like the next code block.  Some parameters, functions, etc. that I can use to test your work.  I know that you aren't able to do this yet - in time you will, though.\n",
    "\n",
    "Let me explain the ideas around the next code block:\n",
    "\n",
    "* We define two functions that we can play around with: `signal` and `mySpecialFunction`.  These are the functions that we will project onto the Fourier basis.  So - feel free to change these functions and insert them into the function calls below.  Start with simple functions that will integrate quickly.  The `signal` function takes rather long to integrate and I'm not sure why.\n",
    "* We define a set of four functions that will compute the basis vectors for each of the series."
   ]
  },
  {
   "cell_type": "markdown",
   "metadata": {},
   "source": [
    "[Top of Page](#Sections)"
   ]
  },
  {
   "cell_type": "markdown",
   "metadata": {},
   "source": [
    "#### Computing the Fourier Coefficients by Hand\n",
    "\n",
    "Warning:  These next couple of cells take a few seconds to run.  They do work, but the integrations take some time."
   ]
  },
  {
   "cell_type": "code",
   "execution_count": null,
   "metadata": {
    "collapsed": true
   },
   "outputs": [],
   "source": [
    "import sympy as sp\n",
    "import numpy as np\n",
    "\n",
    "x = sp.symbols('x')\n",
    "dum = sp.symbols('dum')\n",
    "sp.init_printing()\n",
    "\n",
    "lam = 2\n",
    "center = 1\n",
    "\n",
    "def signal(x):\n",
    "    return (x*(2 - x)*(1 - x)**2)\n",
    "\n",
    "def mySpecialFunction(x):\n",
    "    return sp.sin(2*x)+sp.sin(x)\n",
    "\n",
    "def b_m_amplitudes(n, funToProject, center, lam):\n",
    "    return (2/lam)*sp.integrate(funToProject(dum)*sp.sin(2*n*sp.pi*dum/lam), (dum,center-lam/2,center+lam/2))\n",
    "\n",
    "def a_n_amplitudes(m, funToProject, center, lam):\n",
    "    return (2/lam)*sp.integrate(funToProject(dum)*sp.cos(2*m*sp.pi*dum/lam), (dum,center-lam/2,center+lam/2))\n",
    "\n",
    "def b_m_vectorspace_element(n, var, lam):\n",
    "    return sp.sin(2*n*sp.pi*var/lam)\n",
    "\n",
    "def a_n_vectorspace_element(m, var, lam):\n",
    "    if m==0:\n",
    "        return sp.Rational(1,2)\n",
    "    elif m!=0:\n",
    "        return sp.cos(2*m*sp.pi*var/lam)"
   ]
  },
  {
   "cell_type": "markdown",
   "metadata": {},
   "source": [
    "We can use a list comprehension to collect the basis vectors and amplitudes in a useful data structure."
   ]
  },
  {
   "cell_type": "code",
   "execution_count": null,
   "metadata": {
    "collapsed": true
   },
   "outputs": [],
   "source": [
    "terms = 5\n",
    "\n",
    "an_vectors = [a_n_vectorspace_element(n, x, lam) for n in range(terms)]\n",
    "an_amplitudes = [a_n_amplitudes(n, signal, center, lam) for n in range(terms)]\n",
    "bm_vectors = [b_m_vectorspace_element(m, x, lam) for m in range(terms)]\n",
    "bm_amplitudes = [b_m_amplitudes(m, signal, center, lam) for m in range(terms)]"
   ]
  },
  {
   "cell_type": "code",
   "execution_count": null,
   "metadata": {},
   "outputs": [],
   "source": [
    "truncatedSeries = (sum([a*b for a,b in zip(an_vectors,an_amplitudes)]) \n",
    "                   + sum([c*d for c,d in zip(bm_vectors,bm_amplitudes)]))\n",
    "truncatedSeries"
   ]
  },
  {
   "cell_type": "markdown",
   "metadata": {},
   "source": [
    "We can now plot this series and see the comparison of the signal (blue) and the series representation (red).  We can quantitatively describe the accuracy between the approximation and the function."
   ]
  },
  {
   "cell_type": "code",
   "execution_count": null,
   "metadata": {},
   "outputs": [],
   "source": [
    "%matplotlib inline\n",
    "\n",
    "p = sp.plot(signal(x), truncatedSeries, (x, 0, 2), show=False, title=r'Comparison of Series and Function')\n",
    "p[0].line_color = 'blue'\n",
    "p[1].line_color = 'red'\n",
    "p.show()"
   ]
  },
  {
   "cell_type": "markdown",
   "metadata": {},
   "source": [
    "It is also possible to unpack the series above and look at the plot of each individual term's contribution to the approximate function."
   ]
  },
  {
   "cell_type": "code",
   "execution_count": null,
   "metadata": {},
   "outputs": [],
   "source": [
    "test = [c*d for c,d in zip(an_vectors,an_amplitudes)]\n",
    "\n",
    "p2 = sp.plot(test[0],(x,0,2), show=False)\n",
    "\n",
    "#[p2.append(sp.plot(test[i], (x,0,2), show=False)[0]) for i in range(1,5,1)]\n",
    "\n",
    "[p2.append(sp.plot(i, (x,0,2), show=False)[0]) for i in test]\n",
    "\n",
    "for i in range(1,5,1):\n",
    "    #p = sp.plot(test[i], (x,0,2), show=False)\n",
    "    #p2.append(p[0])\n",
    "    p2[i].line_color = 1.0-i/5.0,i/5.0,0.3\n",
    "\n",
    "[p2.append(sp.plot(test[i], (x,0,2), show=False)[0])]\n",
    "    \n",
    "p2.show()"
   ]
  },
  {
   "cell_type": "markdown",
   "metadata": {},
   "source": [
    "[Top of Page](#Sections)"
   ]
  },
  {
   "cell_type": "markdown",
   "metadata": {},
   "source": [
    "#### Computing the Fourier Coefficients using Sympy\n",
    "\n",
    "Here we use `sympy`'s `fourier_series` function to build a truncated series. We plot the series so that you can explore what happens when you change the number of terms.  The `interact` command creates a widget you can use to explore the effect of changing the nubmer of terms."
   ]
  },
  {
   "cell_type": "code",
   "execution_count": null,
   "metadata": {},
   "outputs": [],
   "source": [
    "%matplotlib inline\n",
    "\n",
    "import sympy as sp\n",
    "import matplotlib.pyplot as plt\n",
    "from ipywidgets import interact, fixed\n",
    "\n",
    "sp.init_printing()\n",
    "\n",
    "x = sp.symbols('x')\n",
    "\n",
    "def myAwesomeFunction(a):\n",
    "    return a\n",
    "\n",
    "def fsMyFunc(terms, var):\n",
    "    return sp.fourier_series(myAwesomeFunction(var), (var, -sp.pi, sp.pi)).truncate(n=terms)\n",
    "\n",
    "def plotMyFunc(terms):\n",
    "    p1 = sp.plot(fsMyFunc(terms,x),(x,-sp.pi, sp.pi), show=False, line_color='r')\n",
    "    p2 = sp.plot(myAwesomeFunction(x), (x,-sp.pi,sp.pi), show=False, line_color='b') \n",
    "    p2.append(p1[0])\n",
    "    p2.show()\n",
    "    return None\n",
    "\n",
    "plt.rcParams['lines.linewidth'] = 3\n",
    "plt.rcParams['figure.figsize'] = 8, 6\n",
    "interact(plotMyFunc, terms=(1,10,1));"
   ]
  },
  {
   "cell_type": "markdown",
   "metadata": {},
   "source": [
    "This command takes a while to run, but you can compare the output of this command with the Fourier series you computed by hand at the top of this workbook."
   ]
  },
  {
   "cell_type": "code",
   "execution_count": null,
   "metadata": {
    "collapsed": true
   },
   "outputs": [],
   "source": [
    "%matplotlib inline\n",
    "import sympy as sp\n",
    "sp.init_printing()\n",
    "\n",
    "x = sp.symbols('x')"
   ]
  },
  {
   "cell_type": "code",
   "execution_count": null,
   "metadata": {},
   "outputs": [],
   "source": [
    "sOfXSquared = sp.fourier_series(x**2,(x,-1,1))\n",
    "sOfXSquared"
   ]
  },
  {
   "cell_type": "code",
   "execution_count": null,
   "metadata": {},
   "outputs": [],
   "source": [
    "sOfXSquared.truncate(n=4)"
   ]
  },
  {
   "cell_type": "code",
   "execution_count": null,
   "metadata": {},
   "outputs": [],
   "source": [
    "p1 = sp.plot(sOfXSquared.truncate(6), (x,0,1), line_color='b', show=False);\n",
    "p2 = sp.plot(x**2, (x,0,1), line_color='r', show=False);\n",
    "\n",
    "p2.append(p1[0])\n",
    "p2.show()"
   ]
  },
  {
   "cell_type": "markdown",
   "metadata": {},
   "source": [
    "[Top of Page](#Sections)"
   ]
  },
  {
   "cell_type": "markdown",
   "metadata": {},
   "source": [
    "#### The Reciprocal Lattice and the Structure Factor"
   ]
  },
  {
   "cell_type": "markdown",
   "metadata": {},
   "source": [
    "From Pam Champness' book \"Electron Diffraction in the Transmission Electron Microscope\" she defines the reciprocal lattice as, \"...a lattice of spots, each of which represents a set of planes $(hkl)$ of spacing $d$ in the real lattice.\"\n",
    "\n",
    "Let us deconstruct this a bit.  \n",
    "\n",
    "* Spacing in the real lattice and planes $(hkl)$ can be confusing for students.  We spend a lot of time thinking about what atoms are on different $(hkl)$ planes we lose sight of the fact that these planes are imaginary.  They are merely periodicities in real-space.  \n",
    "* $(hkl)$ is equally mysterious the way we present it in your core classes.  The reality is that $(hkl)$ are wave numbers.  Each integer value represents a real-space perodicity.  As the number goes up - the frequency goes up and the spacing (i.e. wavelength) goes down.  If you need a picture think of $(100)$ versus $(200)$ versus $(400)$, etc. in a cubic crystal.\n",
    "* Reciprocal space is really a lattice of wave numbers in Fourier space.  Each point in reciprocal space is assigned a value of $(hkl)$ and you can imagine drawing a vector from the origin to that $(hkl)$.  The magnitude of that vector is inversely prorportional to the interplanar spacing in real-space."
   ]
  },
  {
   "cell_type": "markdown",
   "metadata": {},
   "source": [
    "Symbolically, the structure factor is:\n",
    "\n",
    "$$F_{hkl} = \\sum^{N}_{n=1} f_n \\exp[2 \\pi i (hx_n+ky_n+lz_n)]$$"
   ]
  },
  {
   "cell_type": "markdown",
   "metadata": {},
   "source": [
    "### Homework\n",
    "----\n",
    "\n",
    "There are two problems in this homework set.\n",
    "\n",
    "#### Fourier Series\n",
    "\n",
    "Using a Fourier series, represent the following periodic function (a sawtooth wave):\n",
    "\n",
    "$$f(x) = \\left\\{ \n",
    "\\begin{array}{ll}\n",
    " x, & 0 \\leq x \\leq \\pi, \\\\\n",
    " x-2\\pi, & \\pi \\leq x \\leq 2\\pi,\n",
    "\\end{array}\n",
    "\\right.$$\n",
    "\n",
    "At the risk of confusing things - I'm not going to provide a picture of the graph.  You should be able to sketch this function and understand why the function is an \"odd\" function and over what period the function repeats.  A picture can be found at [this](http://lpsa.swarthmore.edu/Fourier/Series/ExFS.html) site.  The function is under the section on \"Odd Sawtooth Wave\"."
   ]
  },
  {
   "cell_type": "code",
   "execution_count": null,
   "metadata": {
    "collapsed": true
   },
   "outputs": [],
   "source": [
    "# Your code goes here."
   ]
  },
  {
   "cell_type": "markdown",
   "metadata": {},
   "source": [
    "#### Numerical Computation of the Structure Factor (Optional for ENME 483)"
   ]
  },
  {
   "cell_type": "markdown",
   "metadata": {},
   "source": [
    "I provide a small class to help with the structure factor.  Create a visualization of the structure factor using the support code below."
   ]
  },
  {
   "cell_type": "code",
   "execution_count": null,
   "metadata": {
    "collapsed": true
   },
   "outputs": [],
   "source": [
    "import crayola"
   ]
  },
  {
   "cell_type": "markdown",
   "metadata": {},
   "source": [
    "If the above line does not work, open a terminal window in the Anaconda environment and execute:\n",
    "\n",
    "`pip install ujson` \n",
    "\n",
    "then:\n",
    "\n",
    "`pip istall crayola`\n",
    "\n",
    "then:\n",
    "\n",
    "`pip install ivisual`\n",
    "\n",
    "Re-execute the `crayola` import above.  Then continue below."
   ]
  },
  {
   "cell_type": "code",
   "execution_count": null,
   "metadata": {
    "collapsed": true
   },
   "outputs": [],
   "source": [
    "import ivisual as iv"
   ]
  },
  {
   "cell_type": "code",
   "execution_count": null,
   "metadata": {
    "collapsed": true
   },
   "outputs": [],
   "source": [
    "import numpy as np\n",
    "#import ivisual as iv"
   ]
  },
  {
   "cell_type": "code",
   "execution_count": null,
   "metadata": {
    "collapsed": true
   },
   "outputs": [],
   "source": [
    "class basis_atom(object):\n",
    "    \n",
    "    def __str__(self):\n",
    "        return self.__name__\n",
    "    \n",
    "    def __init__(self, x, y, z, scattering_factor):\n",
    "        self.x = x\n",
    "        self.y = y\n",
    "        self.z = z\n",
    "        self.scattering_factor = scattering_factor"
   ]
  },
  {
   "cell_type": "code",
   "execution_count": null,
   "metadata": {
    "collapsed": true
   },
   "outputs": [],
   "source": [
    "def structureFactor(x, y, z):\n",
    "    \n",
    "    # Your code goes here.\n",
    "    \n",
    "    return 0.3*x"
   ]
  },
  {
   "cell_type": "code",
   "execution_count": null,
   "metadata": {},
   "outputs": [],
   "source": [
    "scene = iv.canvas(title=\"Reciprocal Space\", height=600, width=600)\n",
    "\n",
    "rslow = -2\n",
    "rshigh = 3\n",
    "\n",
    "# We create an empty list to hold all the spheres.\n",
    "spheres = []\n",
    "\n",
    "# These red spheres are the lattice points in reciprocal space.\n",
    "spheres = [\n",
    "    iv.sphere((h,k,l), radius=(0.05), color=(1,0,0)) \n",
    "    for h in range(rslow,rshigh,1) \n",
    "    for k in range(rslow,rshigh,1) \n",
    "    for l in range(rslow,rshigh,1) \n",
    "]\n",
    "\n",
    "# These will be the representations of the structure factor.\n",
    "spheres.extend([\n",
    "    iv.sphere((h,k,l), radius=(structureFactor(h,k,l))) \n",
    "    for h in range(rslow,rshigh,1) \n",
    "    for k in range(rslow,rshigh,1) \n",
    "    for l in range(rslow,rshigh,1) \n",
    "])"
   ]
  },
  {
   "cell_type": "markdown",
   "metadata": {},
   "source": [
    "[Top of Page](#Sections)"
   ]
  },
  {
   "cell_type": "markdown",
   "metadata": {},
   "source": [
    "### Summary"
   ]
  },
  {
   "cell_type": "markdown",
   "metadata": {},
   "source": [
    "TBA"
   ]
  },
  {
   "cell_type": "markdown",
   "metadata": {},
   "source": [
    "[Top of Page](#Sections)"
   ]
  },
  {
   "cell_type": "markdown",
   "metadata": {},
   "source": [
    "### Looking Ahead\n",
    "----\n",
    "\n",
    "As we move ahead in our studies we will come back to the idea of Fourier series.  If we allow the period to extend to infinity, then instead of a finite domain we can arrive at an integral form - the Fourier Transform.\n",
    "\n",
    "Materials engineers use the Fourier transform to understand atomic structure - a diffraction pattern is a type of integral transform that helps us understand spatial arrangements of mass (atoms).  \n",
    "\n",
    "Also - we will find ourselves performing a so-called \"spectral decomposition\" of our field variables so that we can solve differential equations using spectral methods.  Doing this we will continue to refine our ideas of vector spaces and linear transformations."
   ]
  },
  {
   "cell_type": "markdown",
   "metadata": {},
   "source": [
    "[Top of Page](#Sections)"
   ]
  },
  {
   "cell_type": "markdown",
   "metadata": {},
   "source": [
    "### Reading Assignments and Practice\n",
    "----\n",
    "\n",
    "* Arfken has a nice chapter on Fourier Series.\n",
    "* Practice computing the series using the generalized integrals I've provided.  You can shift center points and domain widths.  Being flexible with the parameters of the integrals will help you deal with many different situations."
   ]
  },
  {
   "cell_type": "markdown",
   "metadata": {},
   "source": [
    "[Top of Page](#Sections)"
   ]
  }
 ],
 "metadata": {
  "anaconda-cloud": {},
  "kernelspec": {
   "display_name": "Python 2",
   "language": "python",
   "name": "python2"
  },
  "language_info": {
   "codemirror_mode": {
    "name": "ipython",
    "version": 2
   },
   "file_extension": ".py",
   "mimetype": "text/x-python",
   "name": "python",
   "nbconvert_exporter": "python",
   "pygments_lexer": "ipython2",
   "version": "2.7.13"
  }
 },
 "nbformat": 4,
 "nbformat_minor": 1
}
