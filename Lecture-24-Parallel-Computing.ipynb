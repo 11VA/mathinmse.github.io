{
 "cells": [
  {
   "cell_type": "markdown",
   "metadata": {
    "slideshow": {
     "slide_type": "slide"
    }
   },
   "source": [
    "# Lecture 22:  Parallel Computing\n",
    "----\n",
    "\n",
    "### Sections\n",
    "\n",
    "* [Introduction](#Introduction)\n",
    "* [Learning Goals](#Learning-Goals)\n",
    "* [On Your Own](#On-Your-Own)\n",
    "    * \n",
    "    * \n",
    "* [In Class](#In-Class)\n",
    "    * \n",
    "    * \n",
    "    * \n",
    "* [Homework](#Homework)\n",
    "* [Summary](#Summary)\n",
    "* [Looking Ahead](#Looking-Ahead)\n",
    "* [Reading Assignments and Practice](#Reading-Assignments-and-Practice)\n",
    "\n",
    "Start the engines and load other auxillary librarys for function access."
   ]
  },
  {
   "cell_type": "code",
   "execution_count": 1,
   "metadata": {
    "collapsed": false
   },
   "outputs": [],
   "source": [
    "import os,sys,time\n",
    "import numpy\n",
    "\n",
    "from ipyparallel import Client \n",
    "rc = Client()"
   ]
  },
  {
   "cell_type": "code",
   "execution_count": 17,
   "metadata": {
    "collapsed": false,
    "slideshow": {
     "slide_type": "fragment"
    }
   },
   "outputs": [],
   "source": [
    "dview = rc[:]\n",
    "e0 = rc[0]\n",
    "e1 = rc[1]\n",
    "e2 = rc[2]\n",
    "\n",
    "dview.block = True"
   ]
  },
  {
   "cell_type": "markdown",
   "metadata": {
    "slideshow": {
     "slide_type": "fragment"
    }
   },
   "source": [
    "We are using Python to demonstrate concepts.  This is by no means the only way to program parallel.  My simulations are written using an entirely different library.  I'm using this environment because it is interactive and can clarify the types of things we need to think about."
   ]
  },
  {
   "cell_type": "markdown",
   "metadata": {
    "slideshow": {
     "slide_type": "slide"
    }
   },
   "source": [
    "There are 4 engines available for computation."
   ]
  },
  {
   "cell_type": "code",
   "execution_count": 3,
   "metadata": {
    "collapsed": false,
    "slideshow": {
     "slide_type": "fragment"
    }
   },
   "outputs": [
    {
     "data": {
      "text/plain": [
       "[4528, 4525, 4529, 4530]"
      ]
     },
     "execution_count": 3,
     "metadata": {},
     "output_type": "execute_result"
    }
   ],
   "source": [
    "dview.apply_sync(os.getpid)"
   ]
  },
  {
   "cell_type": "markdown",
   "metadata": {
    "slideshow": {
     "slide_type": "slide"
    }
   },
   "source": [
    "# Scatter and Gather\n",
    "\n",
    "Lots of parallel computations involve partitioning data onto processes.\n",
    "\n",
    "DirectViews have `scatter()` and `gather()` methods, to help with this.\n",
    "\n",
    "Pass any container or numpy array, and IPython will partition the object onto the engines wih `scatter`,\n",
    "or reconstruct the full object in the Client with `gather()`."
   ]
  },
  {
   "cell_type": "markdown",
   "metadata": {
    "slideshow": {
     "slide_type": "fragment"
    }
   },
   "source": [
    "The `range()` function creates an array of integers."
   ]
  },
  {
   "cell_type": "code",
   "execution_count": 4,
   "metadata": {
    "collapsed": false,
    "slideshow": {
     "slide_type": "fragment"
    }
   },
   "outputs": [
    {
     "data": {
      "text/plain": [
       "[0, 1, 2, 3, 4, 5, 6, 7, 8, 9, 10, 11, 12, 13, 14, 15]"
      ]
     },
     "execution_count": 4,
     "metadata": {},
     "output_type": "execute_result"
    }
   ],
   "source": [
    "range(16)"
   ]
  },
  {
   "cell_type": "markdown",
   "metadata": {
    "slideshow": {
     "slide_type": "fragment"
    }
   },
   "source": [
    "We will now `scatter` those numbers across our engines (processors)."
   ]
  },
  {
   "cell_type": "code",
   "execution_count": 5,
   "metadata": {
    "collapsed": false,
    "slideshow": {
     "slide_type": "fragment"
    }
   },
   "outputs": [
    {
     "data": {
      "text/plain": [
       "[[0, 1, 2, 3], [4, 5, 6, 7], [8, 9, 10, 11], [12, 13, 14, 15]]"
      ]
     },
     "execution_count": 5,
     "metadata": {},
     "output_type": "execute_result"
    }
   ],
   "source": [
    "dview.scatter('a',range(16))\n",
    "dview['a']"
   ]
  },
  {
   "cell_type": "markdown",
   "metadata": {
    "slideshow": {
     "slide_type": "subslide"
    }
   },
   "source": [
    "We can examine engine `0` and see what data is present there."
   ]
  },
  {
   "cell_type": "code",
   "execution_count": 6,
   "metadata": {
    "collapsed": false,
    "slideshow": {
     "slide_type": "fragment"
    }
   },
   "outputs": [
    {
     "data": {
      "text/plain": [
       "[0, 1, 2, 3]"
      ]
     },
     "execution_count": 6,
     "metadata": {},
     "output_type": "execute_result"
    }
   ],
   "source": [
    "e0['a']"
   ]
  },
  {
   "cell_type": "markdown",
   "metadata": {
    "slideshow": {
     "slide_type": "fragment"
    }
   },
   "source": [
    "Let us now re-assemble the data on our client machine."
   ]
  },
  {
   "cell_type": "code",
   "execution_count": 7,
   "metadata": {
    "collapsed": false,
    "slideshow": {
     "slide_type": "fragment"
    }
   },
   "outputs": [
    {
     "data": {
      "text/plain": [
       "[0, 1, 2, 3, 4, 5, 6, 7, 8, 9, 10, 11, 12, 13, 14, 15]"
      ]
     },
     "execution_count": 7,
     "metadata": {},
     "output_type": "execute_result"
    }
   ],
   "source": [
    "dview.gather('a')"
   ]
  },
  {
   "cell_type": "markdown",
   "metadata": {
    "slideshow": {
     "slide_type": "slide"
    }
   },
   "source": [
    "# What happened?\n",
    "\n",
    "We distributed our data across processors.  When we do this we are programming (interactively) in the MIMD paradigm.  \n",
    "\n",
    "We have to manage the data to/from the processors."
   ]
  },
  {
   "cell_type": "markdown",
   "metadata": {
    "slideshow": {
     "slide_type": "slide"
    }
   },
   "source": [
    "# Executing Instructions\n",
    "\n",
    "Now let us do something interesting with the data."
   ]
  },
  {
   "cell_type": "code",
   "execution_count": 8,
   "metadata": {
    "collapsed": false,
    "slideshow": {
     "slide_type": "fragment"
    }
   },
   "outputs": [
    {
     "data": {
      "text/plain": [
       "[[0, 1, 2, 3], [4, 5, 6, 7], [8, 9, 10, 11], [12, 13, 14, 15]]"
      ]
     },
     "execution_count": 8,
     "metadata": {},
     "output_type": "execute_result"
    }
   ],
   "source": [
    "dview.scatter('a',range(16))\n",
    "dview['a']"
   ]
  },
  {
   "cell_type": "code",
   "execution_count": 9,
   "metadata": {
    "collapsed": false,
    "slideshow": {
     "slide_type": "fragment"
    }
   },
   "outputs": [
    {
     "data": {
      "text/plain": [
       "[6, 22, 38, 54]"
      ]
     },
     "execution_count": 9,
     "metadata": {},
     "output_type": "execute_result"
    }
   ],
   "source": [
    "dview.scatter('a',range(16))\n",
    "dview.execute(\"asum = sum(a)\")\n",
    "dview.gather('asum')"
   ]
  },
  {
   "cell_type": "markdown",
   "metadata": {
    "slideshow": {
     "slide_type": "slide"
    }
   },
   "source": [
    "# With Great Power...\n",
    "\n",
    "We are responsible for managing the data to/from the processors.  Our summation happened on each processor - now it is up to us to continue the summation and get the result we want."
   ]
  },
  {
   "cell_type": "code",
   "execution_count": 10,
   "metadata": {
    "collapsed": false,
    "slideshow": {
     "slide_type": "fragment"
    }
   },
   "outputs": [
    {
     "data": {
      "text/plain": [
       "120"
      ]
     },
     "execution_count": 10,
     "metadata": {},
     "output_type": "execute_result"
    }
   ],
   "source": [
    "summed_parts = dview.gather('asum')\n",
    "sum(summed_parts)"
   ]
  },
  {
   "cell_type": "markdown",
   "metadata": {},
   "source": [
    "----"
   ]
  },
  {
   "cell_type": "markdown",
   "metadata": {
    "slideshow": {
     "slide_type": "slide"
    }
   },
   "source": [
    "# Multiplexing Exercise - Monte Carlo π\n",
    "\n",
    "Modified from https://github.com/minrk/IPython.parallel.tutorial\n",
    "\n",
    "-   **Min Ragan-Kelley**, *UC Berkeley Applied Science & Technology*"
   ]
  },
  {
   "cell_type": "markdown",
   "metadata": {},
   "source": [
    "A simple toy problem to get a handle on multiple engines is a Monte\n",
    "Carlo approximation of π.\n",
    "\n",
    "Let's say we have a dartboard with a round target inscribed on a square\n",
    "board. If you threw darts randomly, and they land evenly distributed on\n",
    "the square board, how many darts would you expect to hit the target?\n",
    "\n",
    "<img src=\"./images/darts.png\"/>"
   ]
  },
  {
   "cell_type": "markdown",
   "metadata": {},
   "source": [
    "$$\n",
    "\\frac{A_c}{A_{sq}} = \\frac{\\pi r^2}{(2r)^2} = \\frac{\\pi}{4}\n",
    "$$"
   ]
  },
  {
   "cell_type": "code",
   "execution_count": 11,
   "metadata": {
    "collapsed": false
   },
   "outputs": [],
   "source": [
    "from random import random\n",
    "from math import pi\n",
    "\n",
    "def mcpi(nsamples):\n",
    "    s = 0\n",
    "    for i in xrange(nsamples):\n",
    "        x = random()\n",
    "        y = random()\n",
    "        if x*x + y*y <= 1:\n",
    "            s+=1\n",
    "    return 4.*s/nsamples"
   ]
  },
  {
   "cell_type": "code",
   "execution_count": 12,
   "metadata": {
    "collapsed": false
   },
   "outputs": [
    {
     "name": "stdout",
     "output_type": "stream",
     "text": [
      "      10 3.20000 3.20000 2.80000\n",
      "     100 3.08000 3.08000 2.96000\n",
      "    1000 3.06000 3.14400 3.14000\n",
      "   10000 3.12400 3.16840 3.13720\n",
      "  100000 3.13576 3.13420 3.13624\n",
      " 1000000 3.14060 3.14224 3.14172\n"
     ]
    }
   ],
   "source": [
    "for n in [10, 100, 1000, 10000, 100000, 1000000]:\n",
    "    print \"%8i\" % n,\n",
    "    for i in range(3):\n",
    "        print \"%.5f\" % mcpi(n),\n",
    "    print"
   ]
  },
  {
   "cell_type": "markdown",
   "metadata": {
    "slideshow": {
     "slide_type": "slide"
    }
   },
   "source": [
    "# Parallel MC Estimation of $\\pi$\n",
    "\n",
    "We can now write a parallel version of our algorithm.  In this case we simply partition groups of the random numbers to different processors and re-assemble the answer."
   ]
  },
  {
   "cell_type": "code",
   "execution_count": 13,
   "metadata": {
    "collapsed": false,
    "slideshow": {
     "slide_type": "-"
    }
   },
   "outputs": [],
   "source": [
    "def mcpi(nsamples):\n",
    "    from random import random\n",
    "    s = 0\n",
    "    for i in xrange(nsamples):\n",
    "        x = random()\n",
    "        y = random()\n",
    "        if x*x + y*y <= 1:\n",
    "            s+=1\n",
    "    return 4.*s/nsamples\n",
    "    \n",
    "def multi_mcpi(dview, nsamples):\n",
    "    p = len(dview.targets)\n",
    "    if nsamples % p:\n",
    "        # ensure even divisibility\n",
    "        nsamples += p - (nsamples%p)\n",
    "    \n",
    "    subsamples = nsamples/p\n",
    "    \n",
    "    ar = dview.apply_async(mcpi, subsamples)\n",
    "    return sum(ar)/p"
   ]
  },
  {
   "cell_type": "code",
   "execution_count": 14,
   "metadata": {
    "collapsed": false,
    "slideshow": {
     "slide_type": "slide"
    }
   },
   "outputs": [
    {
     "name": "stdout",
     "output_type": "stream",
     "text": [
      "\n",
      "4.46362805367\n"
     ]
    }
   ],
   "source": [
    "t0 = time.time()\n",
    "\n",
    "mcpi(15000000)\n",
    "\n",
    "t1 = time.time()\n",
    "\n",
    "print ''\n",
    "print t1-t0"
   ]
  },
  {
   "cell_type": "code",
   "execution_count": 16,
   "metadata": {
    "collapsed": false
   },
   "outputs": [
    {
     "name": "stdout",
     "output_type": "stream",
     "text": [
      "\n",
      "1.44683098793\n"
     ]
    }
   ],
   "source": [
    "t0 = time.time()\n",
    "\n",
    "multi_mcpi(dview, 15000000)\n",
    "\n",
    "t1 = time.time()\n",
    "\n",
    "print ''\n",
    "print t1-t0"
   ]
  },
  {
   "cell_type": "markdown",
   "metadata": {},
   "source": [
    "----"
   ]
  }
 ],
 "metadata": {
  "kernelspec": {
   "display_name": "Python 2",
   "language": "python",
   "name": "python2"
  },
  "language_info": {
   "codemirror_mode": {
    "name": "ipython",
    "version": 2
   },
   "file_extension": ".py",
   "mimetype": "text/x-python",
   "name": "python",
   "nbconvert_exporter": "python",
   "pygments_lexer": "ipython2",
   "version": "2.7.6"
  }
 },
 "nbformat": 4,
 "nbformat_minor": 0
}
