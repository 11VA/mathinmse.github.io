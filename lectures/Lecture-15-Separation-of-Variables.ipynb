{
 "cells": [
  {
   "cell_type": "markdown",
   "metadata": {
    "slideshow": {
     "slide_type": "slide"
    }
   },
   "source": [
    "# Lecture 15:  Solution to the Diffusion Equation - Separation of Variables"
   ]
  },
  {
   "cell_type": "markdown",
   "metadata": {
    "slideshow": {
     "slide_type": "fragment"
    }
   },
   "source": [
    "### Sections\n",
    "\n",
    "* [Introduction](#Introduction)\n",
    "* [Learning Goals](#Learning-Goals)\n",
    "* [On Your Own](#On-Your-Own)\n",
    "    * A Fourier `sin` Series\n",
    "    * Plotting terms using `interact`"
   ]
  },
  {
   "cell_type": "markdown",
   "metadata": {
    "slideshow": {
     "slide_type": "fragment"
    }
   },
   "source": [
    "* [In Class](#In-Class)\n",
    "    * Seperating variables\n",
    "    * Using `dsolve`\n",
    "    * Plotting the solution"
   ]
  },
  {
   "cell_type": "markdown",
   "metadata": {
    "slideshow": {
     "slide_type": "fragment"
    }
   },
   "source": [
    "* [Homework](#Homework)\n",
    "* [Summary](#Summary)\n",
    "* [Looking Ahead](#Looking-Ahead)\n",
    "* [Reading Assignments and Practice](#Reading-Assignments-and-Practice)"
   ]
  },
  {
   "cell_type": "markdown",
   "metadata": {
    "slideshow": {
     "slide_type": "slide"
    }
   },
   "source": [
    "### Introduction\n",
    "----"
   ]
  },
  {
   "cell_type": "markdown",
   "metadata": {
    "slideshow": {
     "slide_type": "fragment"
    }
   },
   "source": [
    "In this lecture we will use the Notebook to analyze one type of solution to the diffusion equation, apply boundary conditions and fit the solution to the initial condition."
   ]
  },
  {
   "cell_type": "markdown",
   "metadata": {
    "slideshow": {
     "slide_type": "slide"
    }
   },
   "source": [
    "### Learning Goals\n",
    "----"
   ]
  },
  {
   "cell_type": "markdown",
   "metadata": {
    "collapsed": true,
    "slideshow": {
     "slide_type": "fragment"
    }
   },
   "source": [
    "* Solve a partial differential equation (PDE) by reducing it to two ordinary differential equations (ODE).\n",
    "* Determine constants by applying the boundary conditions\n",
    "* Develop an initial condition that fits the solution."
   ]
  },
  {
   "cell_type": "markdown",
   "metadata": {
    "slideshow": {
     "slide_type": "skip"
    }
   },
   "source": [
    "### On Your Own\n",
    "----"
   ]
  },
  {
   "cell_type": "markdown",
   "metadata": {
    "slideshow": {
     "slide_type": "skip"
    }
   },
   "source": [
    "The physical problem is one of computing the temperature evolution (or solute distribution, or any diffusive quantity) in a material over time.  In the solution provided below we assume that the material is L=1.0 long and contains an initial quantity of diffusing substance that varies linearly with position.  So in this case, the initial distribution of substance follows the equation f(x) = x.\n",
    "\n",
    "You will learn in a bit about why you need to represent the solution as a Fourier sine series.  The coeffIC are the Fourier coefficients on the initial conditions, the finalSolution is the solution to Fick's Law that we will develop.  \n",
    "\n",
    "In the manipulate function we can change the time, the number of terms, and the diffusion constant ($\\alpha$).  We plot the concentration as a function of time.  Unlike some of our other experiences with dsolve and finding constants (e.g. $C_1$) the boundary condition is implicit in the initial conditions.  Using the sine series implied that the solution goes to zero when sine goes to zero.  Let us visualize the solution to get a feel for what we're dealing with.  Here we set up our environment for `sympy`:"
   ]
  },
  {
   "cell_type": "code",
   "execution_count": 5,
   "metadata": {
    "collapsed": false,
    "slideshow": {
     "slide_type": "skip"
    }
   },
   "outputs": [
    {
     "name": "stdout",
     "output_type": "stream",
     "text": [
      "IPython console for SymPy 1.0 (Python 2.7.6-64-bit) (ground types: python)\n"
     ]
    },
    {
     "data": {
      "image/png": "[encoded data removed]",
      "text/latex": [
       "$$\\left ( x, \\quad n\\right )$$"
      ],
      "text/plain": [
       "(x, n)"
      ]
     },
     "execution_count": 5,
     "metadata": {},
     "output_type": "execute_result"
    }
   ],
   "source": [
    "import sympy as sp\n",
    "sp.init_session(quiet=True)\n",
    "sp.var('x n')"
   ]
  },
  {
   "cell_type": "markdown",
   "metadata": {
    "slideshow": {
     "slide_type": "skip"
    }
   },
   "source": [
    "Here we perform an integration to determine the coefficients of a Fourier sine series (like you've done before) over the domain $\\{\\,x\\, \\mid 0 < x < 1\\,\\}$:"
   ]
  },
  {
   "cell_type": "code",
   "execution_count": 7,
   "metadata": {
    "collapsed": false,
    "slideshow": {
     "slide_type": "skip"
    }
   },
   "outputs": [
    {
     "data": {
      "image/png": "[encoded data removed]",
      "text/latex": [
       "$$\\frac{4}{\\pi}$$"
      ],
      "text/plain": [
       "4\n",
       "─\n",
       "π"
      ]
     },
     "execution_count": 7,
     "metadata": {},
     "output_type": "execute_result"
    }
   ],
   "source": [
    "2*sp.integrate(1*sp.sin(1*sp.pi*x),(x,0,1)).simplify()"
   ]
  },
  {
   "cell_type": "markdown",
   "metadata": {
    "slideshow": {
     "slide_type": "skip"
    }
   },
   "source": [
    "Now we will switch to plotting our solution using our coefficient solution given above.  A few notes on the following code:\n",
    "\n",
    "* The next cell sets up the environment for `Matplotlib`.  \n",
    "* We define a function called `solutionAtX` that takes a value of $x$, $t$, a diffusion coefficient $\\alpha$ and the number of terms to use in the Fourier series.\n",
    "* We define another function to produce a plot (`make_plot`) that we pass to `interact` so that we have an interactive plot to examine the solution and a set of parameters."
   ]
  },
  {
   "cell_type": "code",
   "execution_count": 1,
   "metadata": {
    "collapsed": true,
    "slideshow": {
     "slide_type": "skip"
    }
   },
   "outputs": [],
   "source": [
    "%matplotlib inline\n",
    "import numpy as np\n",
    "import matplotlib.pyplot as plt\n",
    "from ipywidgets import interact"
   ]
  },
  {
   "cell_type": "markdown",
   "metadata": {
    "slideshow": {
     "slide_type": "skip"
    }
   },
   "source": [
    "This function uses a list comprehension to generate the value of the concentration field (the solutionAtX) at a point (x,t) for a given diffusion coefficient and number of terms.  Note that there is a local variable `n` that is summed over in the list comprehension.  Note also that I have not (yet) provided information on HOW this solution is reached.  You will get to that in this lecture."
   ]
  },
  {
   "cell_type": "code",
   "execution_count": 2,
   "metadata": {
    "collapsed": true,
    "slideshow": {
     "slide_type": "skip"
    }
   },
   "outputs": [],
   "source": [
    "# RUN THIS CELL BEFORE CLASS\n",
    "\n",
    "def solutionAtX(x, t, alpha, terms):\n",
    "    return sum([\n",
    "            (2/(np.pi*n)**2)*\n",
    "            (np.sin(n*np.pi*x))*\n",
    "            (-np.pi*n*np.cos(np.pi*n)+np.sin(np.pi*n))*\n",
    "            np.exp(-t*(alpha*n*np.pi)**2)\n",
    "         for n in range(1,terms+1,1)\n",
    "        ])\n",
    "\n",
    "def make_plot(t=0.01, alpha=0.2, terms=20):\n",
    "    plt.figure(figsize=(7,5))\n",
    "    x = np.arange(0, 1, 0.001)\n",
    "    y = solutionAtX(x, t, alpha, terms)\n",
    "    plt.plot(x, y, x, x, 'orange')\n",
    "    plt.fill_between(x, 0, y, alpha=0.2)\n",
    "    plt.ylim(0.0, 1.0)\n",
    "    plt.xlabel('Distance')\n",
    "    plt.ylabel('Concentration')"
   ]
  },
  {
   "cell_type": "code",
   "execution_count": 3,
   "metadata": {
    "collapsed": false,
    "scrolled": false,
    "slideshow": {
     "slide_type": "skip"
    }
   },
   "outputs": [
    {
     "data": {
      "image/png": "[encoded data removed]",
      "text/plain": [
       "<matplotlib.figure.Figure at 0x111954350>"
      ]
     },
     "metadata": {},
     "output_type": "display_data"
    }
   ],
   "source": [
    "interact(make_plot, t=(0.01,2,0.01), alpha=(0.2,0.5,0.01), terms=(1,40,1));"
   ]
  },
  {
   "cell_type": "markdown",
   "metadata": {
    "slideshow": {
     "slide_type": "skip"
    }
   },
   "source": [
    "It will be good practice to examine some of the options that can be changed on the plot and to try and plot different functions."
   ]
  },
  {
   "cell_type": "markdown",
   "metadata": {
    "slideshow": {
     "slide_type": "skip"
    }
   },
   "source": [
    "### In Class\n",
    "----"
   ]
  },
  {
   "cell_type": "markdown",
   "metadata": {
    "slideshow": {
     "slide_type": "slide"
    }
   },
   "source": [
    "#### 1D Diffusion Problem - Separating Variables"
   ]
  },
  {
   "cell_type": "markdown",
   "metadata": {
    "slideshow": {
     "slide_type": "fragment"
    }
   },
   "source": [
    "There are many ways to solve a PDE.  Separating variables is one such method to reduce a PDE to a pair (or more) of ODEs.  "
   ]
  },
  {
   "cell_type": "markdown",
   "metadata": {
    "slideshow": {
     "slide_type": "fragment"
    }
   },
   "source": [
    "We start by assuming that the solution has the form of a time dependent piece and a spatially dependent piece.  So we could write:\n",
    "\n",
    "$$ c(x,t) = X(x) T(t) $$"
   ]
  },
  {
   "cell_type": "markdown",
   "metadata": {
    "slideshow": {
     "slide_type": "fragment"
    }
   },
   "source": [
    "We substitute this solution into Fick's law:\n",
    "\n",
    "$$ \\frac{\\partial c(x,t)}{\\partial t} = D \\frac{\\partial^2 c(x,t)}{\\partial x^2} $$"
   ]
  },
  {
   "cell_type": "markdown",
   "metadata": {
    "collapsed": true,
    "slideshow": {
     "slide_type": "fragment"
    }
   },
   "source": [
    "We will differentate the assumed solution of $c(x,t)$ above.  It is usual to let D be $\\alpha^2$ to guarantee that D is always positive, we can do this in `sympy` with a keyword in the `symbols` function call."
   ]
  },
  {
   "cell_type": "code",
   "execution_count": 1,
   "metadata": {
    "collapsed": false,
    "slideshow": {
     "slide_type": "slide"
    }
   },
   "outputs": [
    {
     "name": "stdout",
     "output_type": "stream",
     "text": [
      "IPython console for SymPy 1.0 (Python 2.7.13-64-bit) (ground types: python)\n"
     ]
    }
   ],
   "source": [
    "import sympy as sp\n",
    "sp.init_session(quiet=True)"
   ]
  },
  {
   "cell_type": "code",
   "execution_count": 2,
   "metadata": {
    "collapsed": false,
    "slideshow": {
     "slide_type": "fragment"
    }
   },
   "outputs": [
    {
     "data": {
      "text/plain": [
       "(X, T)"
      ]
     },
     "execution_count": 2,
     "metadata": {},
     "output_type": "execute_result"
    }
   ],
   "source": [
    "var('X,T',cls=Function)"
   ]
  },
  {
   "cell_type": "code",
   "execution_count": 3,
   "metadata": {
    "collapsed": false,
    "slideshow": {
     "slide_type": "fragment"
    }
   },
   "outputs": [
    {
     "data": {
      "image/png": "[encoded data removed]",
      "text/latex": [
       "$$\\left ( \\alpha, \\quad \\gamma, \\quad c\\right )$$"
      ],
      "text/plain": [
       "(α, γ, c)"
      ]
     },
     "execution_count": 3,
     "metadata": {},
     "output_type": "execute_result"
    }
   ],
   "source": [
    "var('alpha gamma c', positive=True)"
   ]
  },
  {
   "cell_type": "markdown",
   "metadata": {
    "slideshow": {
     "slide_type": "fragment"
    }
   },
   "source": [
    "The assumption of alpha and gamma as positive is not necessary, but applies for our problem.  Maybe as you go through a second time you can think about why this is true."
   ]
  },
  {
   "cell_type": "markdown",
   "metadata": {
    "slideshow": {
     "slide_type": "slide"
    }
   },
   "source": [
    "With our substitutions in place:\n",
    "\n",
    "$$ \\frac{\\partial X(x) T(t)}{\\partial t} = \\alpha^2 \\frac{\\partial^2 X(x) T(t)}{\\partial x^2} $$"
   ]
  },
  {
   "cell_type": "code",
   "execution_count": 4,
   "metadata": {
    "collapsed": false,
    "slideshow": {
     "slide_type": "fragment"
    }
   },
   "outputs": [],
   "source": [
    "spacePiece = None # your code here.\n",
    "spacePiece"
   ]
  },
  {
   "cell_type": "code",
   "execution_count": 5,
   "metadata": {
    "collapsed": false,
    "slideshow": {
     "slide_type": "fragment"
    }
   },
   "outputs": [],
   "source": [
    "timePiece = None # your code here.\n",
    "timePiece"
   ]
  },
  {
   "cell_type": "markdown",
   "metadata": {
    "slideshow": {
     "slide_type": "slide"
    }
   },
   "source": [
    "  We can arrange these expressions so that all the functions of \"t\" are on one side and the functions of \"x\" are on the other side.  \n",
    "  \n",
    "  Divide by $\\alpha^2 X(x) T(t)$ to seperate variables.  Note also that this means that the product $\\alpha^2 X(x) T(t)$ should never be zero."
   ]
  },
  {
   "cell_type": "markdown",
   "metadata": {
    "slideshow": {
     "slide_type": "subslide"
    }
   },
   "source": [
    "Add a seperation constant $\\gamma$ and integrate:"
   ]
  },
  {
   "cell_type": "code",
   "execution_count": 6,
   "metadata": {
    "collapsed": false,
    "scrolled": true,
    "slideshow": {
     "slide_type": "fragment"
    }
   },
   "outputs": [
    {
     "data": {
      "image/png": "[encoded data removed]",
      "text/latex": [
       "$$\\frac{\\frac{d}{d t} T{\\left (t \\right )}}{\\alpha^{2} T{\\left (t \\right )}} = - \\gamma^{2}$$"
      ],
      "text/plain": [
       "d             \n",
       "──(T(t))      \n",
       "dt           2\n",
       "──────── = -γ \n",
       " 2            \n",
       "α ⋅T(t)       "
      ]
     },
     "execution_count": 6,
     "metadata": {},
     "output_type": "execute_result"
    }
   ],
   "source": [
    "timeODE = sp.Eq(T(t).diff(t,1)/(alpha**2*T(t)),-gamma**2)\n",
    "timeODE"
   ]
  },
  {
   "cell_type": "code",
   "execution_count": 7,
   "metadata": {
    "collapsed": false,
    "slideshow": {
     "slide_type": "fragment"
    }
   },
   "outputs": [
    {
     "data": {
      "image/png": "[encoded data removed]",
      "text/latex": [
       "$$\\gamma^{2} + \\frac{\\frac{d^{2}}{d x^{2}}  X{\\left (x \\right )}}{X{\\left (x \\right )}}$$"
      ],
      "text/plain": [
       "       2      \n",
       "      d       \n",
       "     ───(X(x))\n",
       "       2      \n",
       " 2   dx       \n",
       "γ  + ─────────\n",
       "        X(x)  "
      ]
     },
     "execution_count": 7,
     "metadata": {},
     "output_type": "execute_result"
    }
   ],
   "source": [
    "spaceODE = X(x).diff(x,2)/X(x)+gamma**2\n",
    "spaceODE"
   ]
  },
  {
   "cell_type": "markdown",
   "metadata": {
    "slideshow": {
     "slide_type": "subslide"
    }
   },
   "source": [
    "Invoke `dsolve()`"
   ]
  },
  {
   "cell_type": "code",
   "execution_count": 8,
   "metadata": {
    "collapsed": false
   },
   "outputs": [
    {
     "data": {
      "image/png": "[encoded data removed]",
      "text/latex": [
       "$$\\left [ T{\\left (t \\right )} = e^{\\alpha^{2} \\left(C_{1} - \\gamma^{2} t\\right)}, \\quad T{\\left (t \\right )} = e^{\\alpha^{2} \\left(C_{1} - \\gamma^{2} t\\right)}, \\quad T{\\left (t \\right )} = C_{1} e^{- \\alpha^{2} \\gamma^{2} t}, \\quad T{\\left (t \\right )} = C_{1} - C_{1} \\alpha^{2} \\gamma^{2} t + \\frac{C_{1} t^{2}}{2} \\alpha^{4} \\gamma^{4} - \\frac{C_{1} t^{3}}{6} \\alpha^{6} \\gamma^{6} + \\frac{C_{1} t^{4}}{24} \\alpha^{8} \\gamma^{8} - \\frac{C_{1} t^{5}}{120} \\alpha^{10} \\gamma^{10} + \\mathcal{O}\\left(t^{6}\\right), \\quad T{\\left (t \\right )} = C_{1} e^{- \\alpha^{2} \\gamma^{2} t}, \\quad T{\\left (t \\right )} = C_{1} e^{- \\alpha^{2} \\gamma^{2} t}, \\quad \\int^{T{\\left (t \\right )}} \\frac{1}{y \\alpha^{2}}\\, dy = C_{1} + \\int - \\gamma^{2}\\, dt, \\quad \\int \\gamma^{2}\\, dt + \\int^{T{\\left (t \\right )}} \\frac{1}{y \\alpha^{2}}\\, dy = C_{1}, \\quad T{\\left (t \\right )} = \\left(C_{1} + \\int 0\\, dt\\right) e^{- \\int \\alpha^{2} \\gamma^{2}\\, dt}\\right ]$$"
      ],
      "text/plain": [
       "⎡                                                                             \n",
       "⎢                                                                             \n",
       "⎢         2 ⎛      2  ⎞           2 ⎛      2  ⎞               2  2            \n",
       "⎢        α ⋅⎝C₁ - γ ⋅t⎠          α ⋅⎝C₁ - γ ⋅t⎠             -α ⋅γ ⋅t          \n",
       "⎢T(t) = ℯ              , T(t) = ℯ              , T(t) = C₁⋅ℯ        , T(t) = C\n",
       "⎢                                                                             \n",
       "⎢                                                                             \n",
       "⎢                                                                             \n",
       "⎣                                                                             \n",
       "\n",
       "                                                                              \n",
       "                                                                              \n",
       "                     4  4  2       6  6  3       8  8  4       10  10  5      \n",
       "        2  2     C₁⋅α ⋅γ ⋅t    C₁⋅α ⋅γ ⋅t    C₁⋅α ⋅γ ⋅t    C₁⋅α  ⋅γ  ⋅t     ⎛ \n",
       "₁ - C₁⋅α ⋅γ ⋅t + ─────────── - ─────────── + ─────────── - ───────────── + O⎝t\n",
       "                      2             6             24            120           \n",
       "                                                                              \n",
       "                                                                              \n",
       "                                                                              \n",
       "\n",
       "                                                                              \n",
       "                                              T(t)                            \n",
       "                 2  2                 2  2     ⌠                  ⌠         ⌠ \n",
       "6⎞             -α ⋅γ ⋅t             -α ⋅γ ⋅t   ⎮    1             ⎮   2     ⎮ \n",
       " ⎠, T(t) = C₁⋅ℯ        , T(t) = C₁⋅ℯ        ,  ⎮   ──── dy = C₁ + ⎮ -γ  dt, ⎮ \n",
       "                                               ⎮      2           ⌡         ⌡ \n",
       "                                               ⎮   y⋅α                        \n",
       "                                               ⌡                              \n",
       "                                                                              \n",
       "\n",
       "                                                  ⌠         ⎤\n",
       "        T(t)                                      ⎮  2  2   ⎥\n",
       "         ⌠                                       -⎮ α ⋅γ  dt⎥\n",
       " 2       ⎮    1                   ⎛     ⌠     ⎞   ⌡         ⎥\n",
       "γ  dt +  ⎮   ──── dy = C₁, T(t) = ⎜C₁ + ⎮ 0 dt⎟⋅ℯ           ⎥\n",
       "         ⎮      2                 ⎝     ⌡     ⎠             ⎥\n",
       "         ⎮   y⋅α                                            ⎥\n",
       "         ⌡                                                  ⎥\n",
       "                                                            ⎦"
      ]
     },
     "execution_count": 8,
     "metadata": {},
     "output_type": "execute_result"
    }
   ],
   "source": [
    "list_of_hints = sp.classify_ode(timeODE)\n",
    "[sp.dsolve(timeODE,T(t), hint=hint) for hint in list_of_hints]"
   ]
  },
  {
   "cell_type": "code",
   "execution_count": 9,
   "metadata": {
    "collapsed": false,
    "slideshow": {
     "slide_type": "fragment"
    }
   },
   "outputs": [
    {
     "data": {
      "image/png": "[encoded data removed]",
      "text/latex": [
       "$$T{\\left (t \\right )} = C_{1} e^{- \\alpha^{2} \\gamma^{2} t}$$"
      ],
      "text/plain": [
       "             2  2  \n",
       "           -α ⋅γ ⋅t\n",
       "T(t) = C₁⋅ℯ        "
      ]
     },
     "execution_count": 9,
     "metadata": {},
     "output_type": "execute_result"
    }
   ],
   "source": [
    "timePiece = sp.dsolve(timeODE,T(t), hint='1st_linear')\n",
    "timePiece"
   ]
  },
  {
   "cell_type": "code",
   "execution_count": 10,
   "metadata": {
    "collapsed": false,
    "slideshow": {
     "slide_type": "fragment"
    }
   },
   "outputs": [
    {
     "data": {
      "image/png": "[encoded data removed]",
      "text/latex": [
       "$$X{\\left (x \\right )} = C_{1} \\sin{\\left (\\gamma x \\right )} + C_{2} \\cos{\\left (\\gamma x \\right )}$$"
      ],
      "text/plain": [
       "X(x) = C₁⋅sin(γ⋅x) + C₂⋅cos(γ⋅x)"
      ]
     },
     "execution_count": 10,
     "metadata": {},
     "output_type": "execute_result"
    }
   ],
   "source": [
    "spacePiece = sp.dsolve(spaceODE,X(x))\n",
    "spacePiece"
   ]
  },
  {
   "cell_type": "markdown",
   "metadata": {
    "slideshow": {
     "slide_type": "skip"
    }
   },
   "source": [
    "The solution (with constants) is the product of the two solutions above.  We will need to \"absorb\" the time solution constant into the space solution constant.  The constant in the time solution is absorbed into the space solution hence the substitution for C[1] where we set it to 1 in the first factor, this is a little \"hackish\" as we have two expressions with C[1] on one line of code - not so neat and tidy, but it works out with some attention to detail.  There are an infinity of solutions depending on our choices of C[1] and C[2].  These will ultimately be determined by the boundary conditions.\n",
    "\n",
    "I would also note here the following:  the CAS (SymPy in this case) did the heavy lifting for us above.  The code below is really to just keep ourselves organized.  I don't intend to do much with `generalSolution` except to make substitutions to find the boundary conditions.  I'd say that working with a CAS is equal parts setup and deciphering the results.  Probably not what you were expecting - but that is the state of the art for now."
   ]
  },
  {
   "cell_type": "markdown",
   "metadata": {
    "slideshow": {
     "slide_type": "slide"
    }
   },
   "source": [
    "Clean up the solution for use below.  Eliminate one of the constants as the product of C1 and C2 is also a constant."
   ]
  },
  {
   "cell_type": "code",
   "execution_count": 11,
   "metadata": {
    "collapsed": false
   },
   "outputs": [
    {
     "data": {
      "image/png": "[encoded data removed]",
      "text/latex": [
       "$$\\left ( C_{1}, \\quad C_{2}\\right )$$"
      ],
      "text/plain": [
       "(C₁, C₂)"
      ]
     },
     "execution_count": 11,
     "metadata": {},
     "output_type": "execute_result"
    }
   ],
   "source": [
    "var('C1 C2')"
   ]
  },
  {
   "cell_type": "code",
   "execution_count": 12,
   "metadata": {
    "collapsed": false
   },
   "outputs": [
    {
     "data": {
      "image/png": "[encoded data removed]",
      "text/latex": [
       "$$\\left(C_{1} \\sin{\\left (\\gamma x \\right )} + C_{2} \\cos{\\left (\\gamma x \\right )}\\right) e^{- \\alpha^{2} \\gamma^{2} t} = c{\\left (x,t \\right )}$$"
      ],
      "text/plain": [
       "                               2  2            \n",
       "                             -α ⋅γ ⋅t          \n",
       "(C₁⋅sin(γ⋅x) + C₂⋅cos(γ⋅x))⋅ℯ         = c(x, t)"
      ]
     },
     "execution_count": 12,
     "metadata": {},
     "output_type": "execute_result"
    }
   ],
   "source": [
    "Eq((timePiece.rhs).subs(C1,1)*spacePiece.rhs,c(x,t))"
   ]
  },
  {
   "cell_type": "code",
   "execution_count": 13,
   "metadata": {
    "collapsed": false,
    "slideshow": {
     "slide_type": "fragment"
    }
   },
   "outputs": [
    {
     "data": {
      "image/png": "[encoded data removed]",
      "text/latex": [
       "$$c{\\left (x,t \\right )} = \\left(C_{1} \\sin{\\left (\\gamma x \\right )} + C_{2} \\cos{\\left (\\gamma x \\right )}\\right) e^{- \\alpha^{2} \\gamma^{2} t}$$"
      ],
      "text/plain": [
       "                                         2  2  \n",
       "                                       -α ⋅γ ⋅t\n",
       "c(x, t) = (C₁⋅sin(γ⋅x) + C₂⋅cos(γ⋅x))⋅ℯ        "
      ]
     },
     "execution_count": 13,
     "metadata": {},
     "output_type": "execute_result"
    }
   ],
   "source": [
    "var('C1 C2')\n",
    "generalSolution = Eq(c(x,t),(timePiece.rhs).subs([(C1,1)])*spacePiece.rhs)\n",
    "generalSolution"
   ]
  },
  {
   "cell_type": "markdown",
   "metadata": {
    "slideshow": {
     "slide_type": "slide"
    }
   },
   "source": [
    "#### Boundary Conditions\n",
    "\n",
    "All that is left to do is impose the boundary conditions and fit the solution to our initial condition (where decide may mean that you translate from your problem).  "
   ]
  },
  {
   "cell_type": "markdown",
   "metadata": {
    "slideshow": {
     "slide_type": "fragment"
    }
   },
   "source": [
    "Let us say that we have an initial concentration of diffusant ($c=x$) between $0<x<1$ and at the boundaries of the problem the $c(x,t)=0$ for $x=0$ and $x=1$.  "
   ]
  },
  {
   "cell_type": "markdown",
   "metadata": {
    "slideshow": {
     "slide_type": "fragment"
    }
   },
   "source": [
    "To do this, substitute the solution into the boundary conditions."
   ]
  },
  {
   "cell_type": "markdown",
   "metadata": {
    "slideshow": {
     "slide_type": "slide"
    }
   },
   "source": [
    "The following is a reminder for the behavior at the boundaries:"
   ]
  },
  {
   "cell_type": "code",
   "execution_count": null,
   "metadata": {
    "collapsed": false,
    "slideshow": {
     "slide_type": "slide"
    }
   },
   "outputs": [],
   "source": [
    "%matplotlib inline\n",
    "interact(make_plot, t=(0.01,2,0.01), alpha=(0.2,0.5,0.01), terms=(1,40,1));"
   ]
  },
  {
   "cell_type": "markdown",
   "metadata": {
    "slideshow": {
     "slide_type": "slide"
    }
   },
   "source": [
    "Make no mistake - some of this is contrived so that we can exercise certain procedures and start you thinking about how to represent diffusive problems.\n",
    "\n",
    "In this problem we are assuming that there is a THING.  The thing has some substance that can diffuse inside.  So we set up an initial condition in our mind - the thing has a substance whose distrubtion obeys the function $f(x)=x$.  This is just a decision we make - there is no reason it has to be this.  In can be anything we like.  Further - we assume that at the start of the diffusive experiment the boundaries of the thing are held at a constant value of the diffusing substance.  So the following conditions apply:\n",
    "\n",
    "$$ c(0,t) = 0 $$\n",
    "$$ c(1,t) = 0 $$\n",
    "$$ c(x,0) = x $$\n",
    "\n",
    "The domain of the experiment is $\\{\\,x\\, \\mid 0 < x < 1\\,\\}$"
   ]
  },
  {
   "cell_type": "code",
   "execution_count": null,
   "metadata": {
    "collapsed": false,
    "slideshow": {
     "slide_type": "slide"
    }
   },
   "outputs": [],
   "source": [
    "generalSolution"
   ]
  },
  {
   "cell_type": "markdown",
   "metadata": {
    "slideshow": {
     "slide_type": "fragment"
    }
   },
   "source": [
    "Start by substituting the boundary condition $c(0,t) = 0$:"
   ]
  },
  {
   "cell_type": "code",
   "execution_count": null,
   "metadata": {
    "collapsed": false,
    "slideshow": {
     "slide_type": "subslide"
    }
   },
   "outputs": [],
   "source": [
    "generalSolution.subs({x:0})"
   ]
  },
  {
   "cell_type": "markdown",
   "metadata": {
    "slideshow": {
     "slide_type": "fragment"
    }
   },
   "source": [
    "The only way this can be true is if $C_2$ is zero.  Make that substition and insert the second boundary condition:"
   ]
  },
  {
   "cell_type": "code",
   "execution_count": null,
   "metadata": {
    "collapsed": false,
    "slideshow": {
     "slide_type": "slide"
    }
   },
   "outputs": [],
   "source": [
    "generalSolution.subs({x:1, C2:0})"
   ]
  },
  {
   "cell_type": "markdown",
   "metadata": {
    "slideshow": {
     "slide_type": "subslide"
    }
   },
   "source": [
    "_So - wait, what?  How can we let $C1=0$ too?_\n",
    "\n",
    "That IS a solution.  It just is not the one we're looking for, so we need to examine how the third factor (the sin term) can help us.  \n",
    "\n",
    "What about the exponential?  At the boundary there is no dependence of $x$ in this factor however we know that the parameters in the exponential will not cause that factor to go to zero.  It starts at one and just gets smaller - so looking at the second factor will not help us much.  \n",
    "\n",
    "This means that we have to let $\\sin(\\gamma)=0$.  We know this can happen with the right choice of $\\gamma$.  What choices can we use?\n",
    "\n",
    "What if:\n",
    "\n",
    "$$\\gamma = \\pm \\pi, \\pm 2\\pi, \\pm 3\\pi, ... $$\n",
    "\n",
    "So to generalize:\n",
    "\n",
    "$$\\gamma = \\pm n\\pi$$"
   ]
  },
  {
   "cell_type": "code",
   "execution_count": null,
   "metadata": {
    "collapsed": false,
    "slideshow": {
     "slide_type": "subslide"
    }
   },
   "outputs": [],
   "source": [
    "generalSolution.subs({t:0, C2:0})"
   ]
  },
  {
   "cell_type": "markdown",
   "metadata": {
    "collapsed": true,
    "slideshow": {
     "slide_type": "slide"
    }
   },
   "source": [
    "Now this statement tells us that we need to find a constant $C_1$ such that $c(x,0)=x$.  You may be wondering how we can do that - but you already know how to do that.\n",
    "\n",
    "We identify the diffusion PDE (Fick's Law) as a homogeneous PDE. Kreyszig defines homogeneous as an equation in $u$ where \"each of its terms contains either $u$ or one of its partial derivatives\".  Because the equation is a homogeneous PDE we can invoke the principle of superposition that combinations of solutions to the PDE are also solutions to the PDE.\n",
    "\n",
    "So it is therefore possible to write (without proof) that the initial condition:\n",
    "\n",
    "$$c(x,0) = \\sum_{n=1}^N C_n sin(n\\pi x) $$\n",
    "\n",
    "and the general solution to the equation is:\n",
    "\n",
    "\n",
    "$$c(x,t) = \\sum_{n=1}^N C_n sin(n\\pi x) e^{- \\alpha^2 n^2 \\pi^2 t}$$\n",
    "\n",
    "The summation is the Fourier sine series."
   ]
  },
  {
   "cell_type": "markdown",
   "metadata": {
    "slideshow": {
     "slide_type": "slide"
    }
   },
   "source": [
    "### Homework\n",
    "----\n",
    "\n",
    "From Farlow's book entitled \"Partial Differential Equations for Scientists and Engineers\" he poses the following two problems:\n",
    "\n",
    "1.  Find the Fourier sine expansion of $\\phi(x)=1$ on the domain $0 \\le x \\le 1$.  Structure your solution/code so that you can investigate the series as a function of the number of terms it contains.  It will be helpful to pay attention to the values of the wavenumber and coefficients.  (Maybe symbolic computation will help?)\n",
    "1.  Using the results of the previous problem, what is the solution to the following initial boundary value problem (PDE):\n",
    "\n",
    "$$\n",
    "\\begin{array}{lll}\n",
    "\\mathrm{PDE} & u_t = u_{xx} & 0 \\le x \\le 1 \\\\\n",
    "\\mathrm{BCs} & u(0,t) = 0 & 0 \\le t \\le \\infty \\\\\n",
    " & u(1,t) = 0 & \\\\\n",
    "\\mathrm{IC}  & u(x,0) = 1 & 0 \\le x \\le 1\n",
    "\\end{array}\n",
    "$$\n",
    "\n",
    "Note that there is a physical impossibility in this problem.  Can you identify it and discuss as part of your solution?\n"
   ]
  },
  {
   "cell_type": "markdown",
   "metadata": {
    "slideshow": {
     "slide_type": "slide"
    }
   },
   "source": [
    "### Looking Ahead\n",
    "----\n",
    "\n",
    "The next step we will take is to apply integral transforms to diffusion problems.  These solutions will generate the error function that you may have seen before when studying diffusion."
   ]
  },
  {
   "cell_type": "markdown",
   "metadata": {
    "collapsed": true,
    "slideshow": {
     "slide_type": "slide"
    }
   },
   "source": [
    "### Reading Assignments and Practice\n",
    "----\n",
    "\n",
    "The parts of this process that I find most challenging are: 1)  rationalizing why there should be a constant of seperation and 2)  developing the expressions for the coefficients in the sin/cos expansion.\n",
    "\n",
    "There is also an implicit statement of boundary conditions in these problems.  Although in the homework there is an explicit statement of BCs, note that your choice of basis functions (sin series) satisfied the boundary conditions and you didn't have to do much else.  Getting specified flux or other non-zero boundary conditions to work with this method may be challenging.\n",
    "\n",
    "Good practice is to try and develop series representations of different useful functions."
   ]
  }
 ],
 "metadata": {
  "anaconda-cloud": {},
  "celltoolbar": "Slideshow",
  "kernelspec": {
   "display_name": "Python 2",
   "language": "python",
   "name": "python2"
  },
  "language_info": {
   "codemirror_mode": {
    "name": "ipython",
    "version": 2
   },
   "file_extension": ".py",
   "mimetype": "text/x-python",
   "name": "python",
   "nbconvert_exporter": "python",
   "pygments_lexer": "ipython2",
   "version": "2.7.13"
  }
 },
 "nbformat": 4,
 "nbformat_minor": 0
}
