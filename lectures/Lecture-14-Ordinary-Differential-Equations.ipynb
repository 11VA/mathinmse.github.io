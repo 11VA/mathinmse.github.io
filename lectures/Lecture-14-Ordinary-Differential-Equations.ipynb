{
 "cells": [
  {
   "cell_type": "markdown",
   "metadata": {
    "collapsed": true,
    "slideshow": {
     "slide_type": "slide"
    }
   },
   "source": [
    "# Lecture 14:  Solutions to Ordinary Differential Equations and Viscoelasticity\n",
    "\n",
    "### Sections\n",
    "\n",
    "* [Introduction](#Introduction)\n",
    "* [Learning Goals](#Learning-Goals)\n",
    "* [On Your Own](#On-Your-Own)\n",
    "    * First Order ODE: DC Circuit\n",
    "    * First Order ODE: Skydiving\n",
    "* [In Class](#In-Class)\n",
    "    * Introduction to `dsolve`\n",
    "    * Maxwell Model:  Constant Stress\n",
    "    * Maxwell Model:  Constant Strain\n",
    "    * Kelvin Model:  Constant Stress\n",
    "* [Homework](#Homework)\n",
    "* [Summary](#Summary)\n",
    "* [Looking Ahead](#Looking-Ahead)\n",
    "* [Reading Assignments and Practice](#Reading-Assignments-and-Practice)"
   ]
  },
  {
   "cell_type": "markdown",
   "metadata": {
    "slideshow": {
     "slide_type": "-"
    }
   },
   "source": [
    "### Introduction\n",
    "----\n",
    "\n",
    "The content in the Introduction is modified from an online lecture from [David Balmer](http://www.homepages.ed.ac.uk/johnc/teaching/fluidmechanics4/2003-04/visco/index.html)."
   ]
  },
  {
   "cell_type": "markdown",
   "metadata": {
    "slideshow": {
     "slide_type": "-"
    }
   },
   "source": [
    "The spring obeys Hooke's law: $ \\sigma=M\\epsilon $."
   ]
  },
  {
   "cell_type": "markdown",
   "metadata": {
    "slideshow": {
     "slide_type": "-"
    }
   },
   "source": [
    "The dashpot obeys: $ \\sigma = \\eta \\frac{d \\epsilon}{dt} $"
   ]
  },
  {
   "cell_type": "markdown",
   "metadata": {
    "slideshow": {
     "slide_type": "-"
    }
   },
   "source": [
    "In this lecture we will discuss the Maxwell model and the Kelvin model of viscoelastic materials.  Combinations of springs and dashpots can provide insight into materials behavior.  Combining many such Maxwell and Kelvin models can give insight into the spectrum of dynamic mechanical behavior seen in polymer systems."
   ]
  },
  {
   "cell_type": "markdown",
   "metadata": {},
   "source": [
    "Our first assumption is that for a spring and a dashpot in series that the stress is equally carried by each member in the load train and that the strain is a sum of strains in each element.  This is stated as:  \n",
    "\n",
    "$$ \\epsilon_{total} = \\epsilon_s + \\epsilon_d $$\n",
    "\n",
    "Taking the time derivative for each term produces:  \n",
    "\n",
    "$$ \\frac{d\\epsilon_{\\mathrm{total}}}{dt} = \\frac{d\\epsilon_s}{dt} + \\frac{d\\epsilon_d}{dt} $$\n",
    "\n",
    "We assume that the spring response is instantaneous so that we can write:  \n",
    "\n",
    "$$\\frac{d\\sigma}{dt} = M\\frac{d\\epsilon}{dt}  $$\n",
    "\n",
    "Using the condition that the stresses are the same reduces the number of variables by one.  Using the condition that the strains add up to the total strain results in:\n",
    "\n",
    "$$ \\epsilon(t) = M \\frac{d \\sigma(t)}{dt} + \\frac{\\sigma(t)}{\\eta}$$\n",
    "\n",
    "Don't forget that both stress and strain are functions of time. "
   ]
  },
  {
   "cell_type": "markdown",
   "metadata": {},
   "source": [
    "[Top of Page](#Sections)"
   ]
  },
  {
   "cell_type": "markdown",
   "metadata": {},
   "source": [
    "### Learning Goals\n",
    "----\n",
    "\n",
    "* Learn how to solve ODEs using a CAS such as `Sympy`\n",
    "* Use `SciPy`'s functionality to solve an ODE\n",
    "* Apply these methods to problems of viscoelasticity"
   ]
  },
  {
   "cell_type": "markdown",
   "metadata": {},
   "source": [
    "[Top of Page](#Sections)"
   ]
  },
  {
   "cell_type": "markdown",
   "metadata": {},
   "source": [
    "### On Your Own\n",
    "----"
   ]
  },
  {
   "cell_type": "markdown",
   "metadata": {},
   "source": [
    "#### First Order ODE: DC Circuit"
   ]
  },
  {
   "cell_type": "markdown",
   "metadata": {},
   "source": [
    "A simple DC circuit includes a switch (initially open), an inductor (L=2) and a resistor (R=6) in series.  The DC voltage is 100V.  What is the current in the circuit after the switch is closed?  We know that:\n",
    "\n",
    "$$ E_L + E_R = 100V $$\n",
    "\n",
    "and that \n",
    "\n",
    "$$ E_L = L \\frac{dI(t)}{dt} $$\n",
    "\n",
    "and \n",
    "\n",
    "$$ E_R = RI(t) $$  \n",
    "\n",
    "(You will see a strong correlation between these problems and viscoelastic problems later in this lecture.)  Normally one would solve this problem by separation of variables.  In `sympy` there is a function called `dsolve()` that can help us with this.  Let us import `sympy` into the current namespace in a way that helps us keep track of what functions are coming from `sympy`."
   ]
  },
  {
   "cell_type": "code",
   "execution_count": 1,
   "metadata": {
    "collapsed": true
   },
   "outputs": [],
   "source": [
    "%matplotlib notebook\n",
    "from sympy import *"
   ]
  },
  {
   "cell_type": "markdown",
   "metadata": {},
   "source": [
    "This will set up some common symbols and report back to you what it has done."
   ]
  },
  {
   "cell_type": "code",
   "execution_count": 2,
   "metadata": {
    "collapsed": false
   },
   "outputs": [
    {
     "name": "stdout",
     "output_type": "stream",
     "text": [
      "IPython console for SymPy 1.0 (Python 2.7.13-64-bit) (ground types: python)\n",
      "\n",
      "These commands were executed:\n",
      ">>> from __future__ import division\n",
      ">>> from sympy import *\n",
      ">>> x, y, z, t = symbols('x y z t')\n",
      ">>> k, m, n = symbols('k m n', integer=True)\n",
      ">>> f, g, h = symbols('f g h', cls=Function)\n",
      ">>> init_printing()\n",
      "\n",
      "Documentation can be found at http://docs.sympy.org/1.0/\n"
     ]
    }
   ],
   "source": [
    "init_session()"
   ]
  },
  {
   "cell_type": "markdown",
   "metadata": {},
   "source": [
    "We create symbols that are a bit easier to remember in this problem"
   ]
  },
  {
   "cell_type": "code",
   "execution_count": 3,
   "metadata": {
    "collapsed": false
   },
   "outputs": [],
   "source": [
    "current, voltage = symbols('current voltage', cls=Function)"
   ]
  },
  {
   "cell_type": "markdown",
   "metadata": {},
   "source": [
    "We assign to the variable `equationToSolve` the equation we are going to pass to `dsolve()`.  At this point I have to say that Mathematica is really way more advanced than `sympy`.  If you find yourself really doing some heavy computing you may want to default to numerical methods if you are desperate to stay with Python or consider switching to Mathematica to do symbolic calculations.  I'm really caught between two worlds on this one."
   ]
  },
  {
   "cell_type": "code",
   "execution_count": null,
   "metadata": {
    "collapsed": true
   },
   "outputs": [],
   "source": [
    "?Eq"
   ]
  },
  {
   "cell_type": "code",
   "execution_count": 4,
   "metadata": {
    "collapsed": false
   },
   "outputs": [
    {
     "data": {
      "image/png": "[encoded data removed]",
      "text/latex": [
       "$$9 \\operatorname{current}{\\left (t \\right )} + 2 \\frac{d}{d t} \\operatorname{current}{\\left (t \\right )} = 100$$"
      ],
      "text/plain": [
       "                 d                   \n",
       "9⋅current(t) + 2⋅──(current(t)) = 100\n",
       "                 dt                  "
      ]
     },
     "execution_count": 4,
     "metadata": {},
     "output_type": "execute_result"
    }
   ],
   "source": [
    "equationToSolve = Eq(2*current(t).diff(t) + 9*current(t), 100)\n",
    "equationToSolve"
   ]
  },
  {
   "cell_type": "markdown",
   "metadata": {},
   "source": [
    "Here we solve the equation."
   ]
  },
  {
   "cell_type": "code",
   "execution_count": 5,
   "metadata": {
    "collapsed": false
   },
   "outputs": [
    {
     "data": {
      "image/png": "[encoded data removed]",
      "text/latex": [
       "$$\\operatorname{current}{\\left (t \\right )} = \\frac{C_{1}}{9} e^{- \\frac{9 t}{2}} + \\frac{100}{9}$$"
      ],
      "text/plain": [
       "                 -9⋅t       \n",
       "                 ─────      \n",
       "                   2        \n",
       "             C₁⋅ℯ        100\n",
       "current(t) = ───────── + ───\n",
       "                 9        9 "
      ]
     },
     "execution_count": 5,
     "metadata": {},
     "output_type": "execute_result"
    }
   ],
   "source": [
    "solutionToEquation = dsolve(equationToSolve, current(t))\n",
    "solutionToEquation"
   ]
  },
  {
   "cell_type": "markdown",
   "metadata": {},
   "source": [
    "Unfortunately, when we use `dsolve()` the integration constants are not automatically created for us."
   ]
  },
  {
   "cell_type": "code",
   "execution_count": 6,
   "metadata": {
    "collapsed": false
   },
   "outputs": [
    {
     "data": {
      "image/png": "[encoded data removed]",
      "text/latex": [
       "$$\\left ( C_{1}, \\quad C_{2}\\right )$$"
      ],
      "text/plain": [
       "(C₁, C₂)"
      ]
     },
     "execution_count": 6,
     "metadata": {},
     "output_type": "execute_result"
    }
   ],
   "source": [
    "var('C1 C2')"
   ]
  },
  {
   "cell_type": "markdown",
   "metadata": {},
   "source": [
    "We substitute the initial condition and then solve for C1.  Afterwards we substitute C1 back into the general solution and plot the result."
   ]
  },
  {
   "cell_type": "code",
   "execution_count": 7,
   "metadata": {
    "collapsed": false
   },
   "outputs": [
    {
     "data": {
      "image/png": "[encoded data removed]",
      "text/latex": [
       "$$0 = \\frac{C_{1}}{9} + \\frac{100}{9}$$"
      ],
      "text/plain": [
       "    C₁   100\n",
       "0 = ── + ───\n",
       "    9     9 "
      ]
     },
     "execution_count": 7,
     "metadata": {},
     "output_type": "execute_result"
    }
   ],
   "source": [
    "particularSolution = solutionToEquation.subs([(current(t),0),(t,0)])\n",
    "particularSolution"
   ]
  },
  {
   "cell_type": "code",
   "execution_count": 8,
   "metadata": {
    "collapsed": false,
    "scrolled": false
   },
   "outputs": [
    {
     "data": {
      "image/png": "[encoded data removed]",
      "text/latex": [
       "$$\\left\\{-100\\right\\}$$"
      ],
      "text/plain": [
       "{-100}"
      ]
     },
     "execution_count": 8,
     "metadata": {},
     "output_type": "execute_result"
    }
   ],
   "source": [
    "solutionSet = solveset(particularSolution,C1)\n",
    "solutionList = [a for a in solutionSet]\n",
    "solutionSet"
   ]
  },
  {
   "cell_type": "code",
   "execution_count": 9,
   "metadata": {
    "collapsed": false
   },
   "outputs": [
    {
     "data": {
      "application/javascript": [
       "/* Put everything inside the global mpl namespace */\n",
       "window.mpl = {};\n",
       "\n",
       "\n",
       "mpl.get_websocket_type = function() {\n",
       "    if (typeof(WebSocket) !== 'undefined') {\n",
       "        return WebSocket;\n",
       "    } else if (typeof(MozWebSocket) !== 'undefined') {\n",
       "        return MozWebSocket;\n",
       "    } else {\n",
       "        alert('Your browser does not have WebSocket support.' +\n",
       "              'Please try Chrome, Safari or Firefox ≥ 6. ' +\n",
       "              'Firefox 4 and 5 are also supported but you ' +\n",
       "              'have to enable WebSockets in about:config.');\n",
       "    };\n",
       "}\n",
       "\n",
       "mpl.figure = function(figure_id, websocket, ondownload, parent_element) {\n",
       "    this.id = figure_id;\n",
       "\n",
       "    this.ws = websocket;\n",
       "\n",
       "    this.supports_binary = (this.ws.binaryType != undefined);\n",
       "\n",
       "    if (!this.supports_binary) {\n",
       "        var warnings = document.getElementById(\"mpl-warnings\");\n",
       "        if (warnings) {\n",
       "            warnings.style.display = 'block';\n",
       "            warnings.textContent = (\n",
       "                \"This browser does not support binary websocket messages. \" +\n",
       "                    \"Performance may be slow.\");\n",
       "        }\n",
       "    }\n",
       "\n",
       "    this.imageObj = new Image();\n",
       "\n",
       "    this.context = undefined;\n",
       "    this.message = undefined;\n",
       "    this.canvas = undefined;\n",
       "    this.rubberband_canvas = undefined;\n",
       "    this.rubberband_context = undefined;\n",
       "    this.format_dropdown = undefined;\n",
       "\n",
       "    this.image_mode = 'full';\n",
       "\n",
       "    this.root = $('<div/>');\n",
       "    this._root_extra_style(this.root)\n",
       "    this.root.attr('style', 'display: inline-block');\n",
       "\n",
       "    $(parent_element).append(this.root);\n",
       "\n",
       "    this._init_header(this);\n",
       "    this._init_canvas(this);\n",
       "    this._init_toolbar(this);\n",
       "\n",
       "    var fig = this;\n",
       "\n",
       "    this.waiting = false;\n",
       "\n",
       "    this.ws.onopen =  function () {\n",
       "            fig.send_message(\"supports_binary\", {value: fig.supports_binary});\n",
       "            fig.send_message(\"send_image_mode\", {});\n",
       "            if (mpl.ratio != 1) {\n",
       "                fig.send_message(\"set_dpi_ratio\", {'dpi_ratio': mpl.ratio});\n",
       "            }\n",
       "            fig.send_message(\"refresh\", {});\n",
       "        }\n",
       "\n",
       "    this.imageObj.onload = function() {\n",
       "            if (fig.image_mode == 'full') {\n",
       "                // Full images could contain transparency (where diff images\n",
       "                // almost always do), so we need to clear the canvas so that\n",
       "                // there is no ghosting.\n",
       "                fig.context.clearRect(0, 0, fig.canvas.width, fig.canvas.height);\n",
       "            }\n",
       "            fig.context.drawImage(fig.imageObj, 0, 0);\n",
       "        };\n",
       "\n",
       "    this.imageObj.onunload = function() {\n",
       "        this.ws.close();\n",
       "    }\n",
       "\n",
       "    this.ws.onmessage = this._make_on_message_function(this);\n",
       "\n",
       "    this.ondownload = ondownload;\n",
       "}\n",
       "\n",
       "mpl.figure.prototype._init_header = function() {\n",
       "    var titlebar = $(\n",
       "        '<div class=\"ui-dialog-titlebar ui-widget-header ui-corner-all ' +\n",
       "        'ui-helper-clearfix\"/>');\n",
       "    var titletext = $(\n",
       "        '<div class=\"ui-dialog-title\" style=\"width: 100%; ' +\n",
       "        'text-align: center; padding: 3px;\"/>');\n",
       "    titlebar.append(titletext)\n",
       "    this.root.append(titlebar);\n",
       "    this.header = titletext[0];\n",
       "}\n",
       "\n",
       "\n",
       "\n",
       "mpl.figure.prototype._canvas_extra_style = function(canvas_div) {\n",
       "\n",
       "}\n",
       "\n",
       "\n",
       "mpl.figure.prototype._root_extra_style = function(canvas_div) {\n",
       "\n",
       "}\n",
       "\n",
       "mpl.figure.prototype._init_canvas = function() {\n",
       "    var fig = this;\n",
       "\n",
       "    var canvas_div = $('<div/>');\n",
       "\n",
       "    canvas_div.attr('style', 'position: relative; clear: both; outline: 0');\n",
       "\n",
       "    function canvas_keyboard_event(event) {\n",
       "        return fig.key_event(event, event['data']);\n",
       "    }\n",
       "\n",
       "    canvas_div.keydown('key_press', canvas_keyboard_event);\n",
       "    canvas_div.keyup('key_release', canvas_keyboard_event);\n",
       "    this.canvas_div = canvas_div\n",
       "    this._canvas_extra_style(canvas_div)\n",
       "    this.root.append(canvas_div);\n",
       "\n",
       "    var canvas = $('<canvas/>');\n",
       "    canvas.addClass('mpl-canvas');\n",
       "    canvas.attr('style', \"left: 0; top: 0; z-index: 0; outline: 0\")\n",
       "\n",
       "    this.canvas = canvas[0];\n",
       "    this.context = canvas[0].getContext(\"2d\");\n",
       "\n",
       "    var backingStore = this.context.backingStorePixelRatio ||\n",
       "\tthis.context.webkitBackingStorePixelRatio ||\n",
       "\tthis.context.mozBackingStorePixelRatio ||\n",
       "\tthis.context.msBackingStorePixelRatio ||\n",
       "\tthis.context.oBackingStorePixelRatio ||\n",
       "\tthis.context.backingStorePixelRatio || 1;\n",
       "\n",
       "    mpl.ratio = (window.devicePixelRatio || 1) / backingStore;\n",
       "\n",
       "    var rubberband = $('<canvas/>');\n",
       "    rubberband.attr('style', \"position: absolute; left: 0; top: 0; z-index: 1;\")\n",
       "\n",
       "    var pass_mouse_events = true;\n",
       "\n",
       "    canvas_div.resizable({\n",
       "        start: function(event, ui) {\n",
       "            pass_mouse_events = false;\n",
       "        },\n",
       "        resize: function(event, ui) {\n",
       "            fig.request_resize(ui.size.width, ui.size.height);\n",
       "        },\n",
       "        stop: function(event, ui) {\n",
       "            pass_mouse_events = true;\n",
       "            fig.request_resize(ui.size.width, ui.size.height);\n",
       "        },\n",
       "    });\n",
       "\n",
       "    function mouse_event_fn(event) {\n",
       "        if (pass_mouse_events)\n",
       "            return fig.mouse_event(event, event['data']);\n",
       "    }\n",
       "\n",
       "    rubberband.mousedown('button_press', mouse_event_fn);\n",
       "    rubberband.mouseup('button_release', mouse_event_fn);\n",
       "    // Throttle sequential mouse events to 1 every 20ms.\n",
       "    rubberband.mousemove('motion_notify', mouse_event_fn);\n",
       "\n",
       "    rubberband.mouseenter('figure_enter', mouse_event_fn);\n",
       "    rubberband.mouseleave('figure_leave', mouse_event_fn);\n",
       "\n",
       "    canvas_div.on(\"wheel\", function (event) {\n",
       "        event = event.originalEvent;\n",
       "        event['data'] = 'scroll'\n",
       "        if (event.deltaY < 0) {\n",
       "            event.step = 1;\n",
       "        } else {\n",
       "            event.step = -1;\n",
       "        }\n",
       "        mouse_event_fn(event);\n",
       "    });\n",
       "\n",
       "    canvas_div.append(canvas);\n",
       "    canvas_div.append(rubberband);\n",
       "\n",
       "    this.rubberband = rubberband;\n",
       "    this.rubberband_canvas = rubberband[0];\n",
       "    this.rubberband_context = rubberband[0].getContext(\"2d\");\n",
       "    this.rubberband_context.strokeStyle = \"#000000\";\n",
       "\n",
       "    this._resize_canvas = function(width, height) {\n",
       "        // Keep the size of the canvas, canvas container, and rubber band\n",
       "        // canvas in synch.\n",
       "        canvas_div.css('width', width)\n",
       "        canvas_div.css('height', height)\n",
       "\n",
       "        canvas.attr('width', width * mpl.ratio);\n",
       "        canvas.attr('height', height * mpl.ratio);\n",
       "        canvas.attr('style', 'width: ' + width + 'px; height: ' + height + 'px;');\n",
       "\n",
       "        rubberband.attr('width', width);\n",
       "        rubberband.attr('height', height);\n",
       "    }\n",
       "\n",
       "    // Set the figure to an initial 600x600px, this will subsequently be updated\n",
       "    // upon first draw.\n",
       "    this._resize_canvas(600, 600);\n",
       "\n",
       "    // Disable right mouse context menu.\n",
       "    $(this.rubberband_canvas).bind(\"contextmenu\",function(e){\n",
       "        return false;\n",
       "    });\n",
       "\n",
       "    function set_focus () {\n",
       "        canvas.focus();\n",
       "        canvas_div.focus();\n",
       "    }\n",
       "\n",
       "    window.setTimeout(set_focus, 100);\n",
       "}\n",
       "\n",
       "mpl.figure.prototype._init_toolbar = function() {\n",
       "    var fig = this;\n",
       "\n",
       "    var nav_element = $('<div/>')\n",
       "    nav_element.attr('style', 'width: 100%');\n",
       "    this.root.append(nav_element);\n",
       "\n",
       "    // Define a callback function for later on.\n",
       "    function toolbar_event(event) {\n",
       "        return fig.toolbar_button_onclick(event['data']);\n",
       "    }\n",
       "    function toolbar_mouse_event(event) {\n",
       "        return fig.toolbar_button_onmouseover(event['data']);\n",
       "    }\n",
       "\n",
       "    for(var toolbar_ind in mpl.toolbar_items) {\n",
       "        var name = mpl.toolbar_items[toolbar_ind][0];\n",
       "        var tooltip = mpl.toolbar_items[toolbar_ind][1];\n",
       "        var image = mpl.toolbar_items[toolbar_ind][2];\n",
       "        var method_name = mpl.toolbar_items[toolbar_ind][3];\n",
       "\n",
       "        if (!name) {\n",
       "            // put a spacer in here.\n",
       "            continue;\n",
       "        }\n",
       "        var button = $('<button/>');\n",
       "        button.addClass('ui-button ui-widget ui-state-default ui-corner-all ' +\n",
       "                        'ui-button-icon-only');\n",
       "        button.attr('role', 'button');\n",
       "        button.attr('aria-disabled', 'false');\n",
       "        button.click(method_name, toolbar_event);\n",
       "        button.mouseover(tooltip, toolbar_mouse_event);\n",
       "\n",
       "        var icon_img = $('<span/>');\n",
       "        icon_img.addClass('ui-button-icon-primary ui-icon');\n",
       "        icon_img.addClass(image);\n",
       "        icon_img.addClass('ui-corner-all');\n",
       "\n",
       "        var tooltip_span = $('<span/>');\n",
       "        tooltip_span.addClass('ui-button-text');\n",
       "        tooltip_span.html(tooltip);\n",
       "\n",
       "        button.append(icon_img);\n",
       "        button.append(tooltip_span);\n",
       "\n",
       "        nav_element.append(button);\n",
       "    }\n",
       "\n",
       "    var fmt_picker_span = $('<span/>');\n",
       "\n",
       "    var fmt_picker = $('<select/>');\n",
       "    fmt_picker.addClass('mpl-toolbar-option ui-widget ui-widget-content');\n",
       "    fmt_picker_span.append(fmt_picker);\n",
       "    nav_element.append(fmt_picker_span);\n",
       "    this.format_dropdown = fmt_picker[0];\n",
       "\n",
       "    for (var ind in mpl.extensions) {\n",
       "        var fmt = mpl.extensions[ind];\n",
       "        var option = $(\n",
       "            '<option/>', {selected: fmt === mpl.default_extension}).html(fmt);\n",
       "        fmt_picker.append(option)\n",
       "    }\n",
       "\n",
       "    // Add hover states to the ui-buttons\n",
       "    $( \".ui-button\" ).hover(\n",
       "        function() { $(this).addClass(\"ui-state-hover\");},\n",
       "        function() { $(this).removeClass(\"ui-state-hover\");}\n",
       "    );\n",
       "\n",
       "    var status_bar = $('<span class=\"mpl-message\"/>');\n",
       "    nav_element.append(status_bar);\n",
       "    this.message = status_bar[0];\n",
       "}\n",
       "\n",
       "mpl.figure.prototype.request_resize = function(x_pixels, y_pixels) {\n",
       "    // Request matplotlib to resize the figure. Matplotlib will then trigger a resize in the client,\n",
       "    // which will in turn request a refresh of the image.\n",
       "    this.send_message('resize', {'width': x_pixels, 'height': y_pixels});\n",
       "}\n",
       "\n",
       "mpl.figure.prototype.send_message = function(type, properties) {\n",
       "    properties['type'] = type;\n",
       "    properties['figure_id'] = this.id;\n",
       "    this.ws.send(JSON.stringify(properties));\n",
       "}\n",
       "\n",
       "mpl.figure.prototype.send_draw_message = function() {\n",
       "    if (!this.waiting) {\n",
       "        this.waiting = true;\n",
       "        this.ws.send(JSON.stringify({type: \"draw\", figure_id: this.id}));\n",
       "    }\n",
       "}\n",
       "\n",
       "\n",
       "mpl.figure.prototype.handle_save = function(fig, msg) {\n",
       "    var format_dropdown = fig.format_dropdown;\n",
       "    var format = format_dropdown.options[format_dropdown.selectedIndex].value;\n",
       "    fig.ondownload(fig, format);\n",
       "}\n",
       "\n",
       "\n",
       "mpl.figure.prototype.handle_resize = function(fig, msg) {\n",
       "    var size = msg['size'];\n",
       "    if (size[0] != fig.canvas.width || size[1] != fig.canvas.height) {\n",
       "        fig._resize_canvas(size[0], size[1]);\n",
       "        fig.send_message(\"refresh\", {});\n",
       "    };\n",
       "}\n",
       "\n",
       "mpl.figure.prototype.handle_rubberband = function(fig, msg) {\n",
       "    var x0 = msg['x0'] / mpl.ratio;\n",
       "    var y0 = (fig.canvas.height - msg['y0']) / mpl.ratio;\n",
       "    var x1 = msg['x1'] / mpl.ratio;\n",
       "    var y1 = (fig.canvas.height - msg['y1']) / mpl.ratio;\n",
       "    x0 = Math.floor(x0) + 0.5;\n",
       "    y0 = Math.floor(y0) + 0.5;\n",
       "    x1 = Math.floor(x1) + 0.5;\n",
       "    y1 = Math.floor(y1) + 0.5;\n",
       "    var min_x = Math.min(x0, x1);\n",
       "    var min_y = Math.min(y0, y1);\n",
       "    var width = Math.abs(x1 - x0);\n",
       "    var height = Math.abs(y1 - y0);\n",
       "\n",
       "    fig.rubberband_context.clearRect(\n",
       "        0, 0, fig.canvas.width, fig.canvas.height);\n",
       "\n",
       "    fig.rubberband_context.strokeRect(min_x, min_y, width, height);\n",
       "}\n",
       "\n",
       "mpl.figure.prototype.handle_figure_label = function(fig, msg) {\n",
       "    // Updates the figure title.\n",
       "    fig.header.textContent = msg['label'];\n",
       "}\n",
       "\n",
       "mpl.figure.prototype.handle_cursor = function(fig, msg) {\n",
       "    var cursor = msg['cursor'];\n",
       "    switch(cursor)\n",
       "    {\n",
       "    case 0:\n",
       "        cursor = 'pointer';\n",
       "        break;\n",
       "    case 1:\n",
       "        cursor = 'default';\n",
       "        break;\n",
       "    case 2:\n",
       "        cursor = 'crosshair';\n",
       "        break;\n",
       "    case 3:\n",
       "        cursor = 'move';\n",
       "        break;\n",
       "    }\n",
       "    fig.rubberband_canvas.style.cursor = cursor;\n",
       "}\n",
       "\n",
       "mpl.figure.prototype.handle_message = function(fig, msg) {\n",
       "    fig.message.textContent = msg['message'];\n",
       "}\n",
       "\n",
       "mpl.figure.prototype.handle_draw = function(fig, msg) {\n",
       "    // Request the server to send over a new figure.\n",
       "    fig.send_draw_message();\n",
       "}\n",
       "\n",
       "mpl.figure.prototype.handle_image_mode = function(fig, msg) {\n",
       "    fig.image_mode = msg['mode'];\n",
       "}\n",
       "\n",
       "mpl.figure.prototype.updated_canvas_event = function() {\n",
       "    // Called whenever the canvas gets updated.\n",
       "    this.send_message(\"ack\", {});\n",
       "}\n",
       "\n",
       "// A function to construct a web socket function for onmessage handling.\n",
       "// Called in the figure constructor.\n",
       "mpl.figure.prototype._make_on_message_function = function(fig) {\n",
       "    return function socket_on_message(evt) {\n",
       "        if (evt.data instanceof Blob) {\n",
       "            /* FIXME: We get \"Resource interpreted as Image but\n",
       "             * transferred with MIME type text/plain:\" errors on\n",
       "             * Chrome.  But how to set the MIME type?  It doesn't seem\n",
       "             * to be part of the websocket stream */\n",
       "            evt.data.type = \"image/png\";\n",
       "\n",
       "            /* Free the memory for the previous frames */\n",
       "            if (fig.imageObj.src) {\n",
       "                (window.URL || window.webkitURL).revokeObjectURL(\n",
       "                    fig.imageObj.src);\n",
       "            }\n",
       "\n",
       "            fig.imageObj.src = (window.URL || window.webkitURL).createObjectURL(\n",
       "                evt.data);\n",
       "            fig.updated_canvas_event();\n",
       "            fig.waiting = false;\n",
       "            return;\n",
       "        }\n",
       "        else if (typeof evt.data === 'string' && evt.data.slice(0, 21) == \"data:image/png;base64\") {\n",
       "            fig.imageObj.src = evt.data;\n",
       "            fig.updated_canvas_event();\n",
       "            fig.waiting = false;\n",
       "            return;\n",
       "        }\n",
       "\n",
       "        var msg = JSON.parse(evt.data);\n",
       "        var msg_type = msg['type'];\n",
       "\n",
       "        // Call the  \"handle_{type}\" callback, which takes\n",
       "        // the figure and JSON message as its only arguments.\n",
       "        try {\n",
       "            var callback = fig[\"handle_\" + msg_type];\n",
       "        } catch (e) {\n",
       "            console.log(\"No handler for the '\" + msg_type + \"' message type: \", msg);\n",
       "            return;\n",
       "        }\n",
       "\n",
       "        if (callback) {\n",
       "            try {\n",
       "                // console.log(\"Handling '\" + msg_type + \"' message: \", msg);\n",
       "                callback(fig, msg);\n",
       "            } catch (e) {\n",
       "                console.log(\"Exception inside the 'handler_\" + msg_type + \"' callback:\", e, e.stack, msg);\n",
       "            }\n",
       "        }\n",
       "    };\n",
       "}\n",
       "\n",
       "// from http://stackoverflow.com/questions/1114465/getting-mouse-location-in-canvas\n",
       "mpl.findpos = function(e) {\n",
       "    //this section is from http://www.quirksmode.org/js/events_properties.html\n",
       "    var targ;\n",
       "    if (!e)\n",
       "        e = window.event;\n",
       "    if (e.target)\n",
       "        targ = e.target;\n",
       "    else if (e.srcElement)\n",
       "        targ = e.srcElement;\n",
       "    if (targ.nodeType == 3) // defeat Safari bug\n",
       "        targ = targ.parentNode;\n",
       "\n",
       "    // jQuery normalizes the pageX and pageY\n",
       "    // pageX,Y are the mouse positions relative to the document\n",
       "    // offset() returns the position of the element relative to the document\n",
       "    var x = e.pageX - $(targ).offset().left;\n",
       "    var y = e.pageY - $(targ).offset().top;\n",
       "\n",
       "    return {\"x\": x, \"y\": y};\n",
       "};\n",
       "\n",
       "/*\n",
       " * return a copy of an object with only non-object keys\n",
       " * we need this to avoid circular references\n",
       " * http://stackoverflow.com/a/24161582/3208463\n",
       " */\n",
       "function simpleKeys (original) {\n",
       "  return Object.keys(original).reduce(function (obj, key) {\n",
       "    if (typeof original[key] !== 'object')\n",
       "        obj[key] = original[key]\n",
       "    return obj;\n",
       "  }, {});\n",
       "}\n",
       "\n",
       "mpl.figure.prototype.mouse_event = function(event, name) {\n",
       "    var canvas_pos = mpl.findpos(event)\n",
       "\n",
       "    if (name === 'button_press')\n",
       "    {\n",
       "        this.canvas.focus();\n",
       "        this.canvas_div.focus();\n",
       "    }\n",
       "\n",
       "    var x = canvas_pos.x * mpl.ratio;\n",
       "    var y = canvas_pos.y * mpl.ratio;\n",
       "\n",
       "    this.send_message(name, {x: x, y: y, button: event.button,\n",
       "                             step: event.step,\n",
       "                             guiEvent: simpleKeys(event)});\n",
       "\n",
       "    /* This prevents the web browser from automatically changing to\n",
       "     * the text insertion cursor when the button is pressed.  We want\n",
       "     * to control all of the cursor setting manually through the\n",
       "     * 'cursor' event from matplotlib */\n",
       "    event.preventDefault();\n",
       "    return false;\n",
       "}\n",
       "\n",
       "mpl.figure.prototype._key_event_extra = function(event, name) {\n",
       "    // Handle any extra behaviour associated with a key event\n",
       "}\n",
       "\n",
       "mpl.figure.prototype.key_event = function(event, name) {\n",
       "\n",
       "    // Prevent repeat events\n",
       "    if (name == 'key_press')\n",
       "    {\n",
       "        if (event.which === this._key)\n",
       "            return;\n",
       "        else\n",
       "            this._key = event.which;\n",
       "    }\n",
       "    if (name == 'key_release')\n",
       "        this._key = null;\n",
       "\n",
       "    var value = '';\n",
       "    if (event.ctrlKey && event.which != 17)\n",
       "        value += \"ctrl+\";\n",
       "    if (event.altKey && event.which != 18)\n",
       "        value += \"alt+\";\n",
       "    if (event.shiftKey && event.which != 16)\n",
       "        value += \"shift+\";\n",
       "\n",
       "    value += 'k';\n",
       "    value += event.which.toString();\n",
       "\n",
       "    this._key_event_extra(event, name);\n",
       "\n",
       "    this.send_message(name, {key: value,\n",
       "                             guiEvent: simpleKeys(event)});\n",
       "    return false;\n",
       "}\n",
       "\n",
       "mpl.figure.prototype.toolbar_button_onclick = function(name) {\n",
       "    if (name == 'download') {\n",
       "        this.handle_save(this, null);\n",
       "    } else {\n",
       "        this.send_message(\"toolbar_button\", {name: name});\n",
       "    }\n",
       "};\n",
       "\n",
       "mpl.figure.prototype.toolbar_button_onmouseover = function(tooltip) {\n",
       "    this.message.textContent = tooltip;\n",
       "};\n",
       "mpl.toolbar_items = [[\"Home\", \"Reset original view\", \"fa fa-home icon-home\", \"home\"], [\"Back\", \"Back to  previous view\", \"fa fa-arrow-left icon-arrow-left\", \"back\"], [\"Forward\", \"Forward to next view\", \"fa fa-arrow-right icon-arrow-right\", \"forward\"], [\"\", \"\", \"\", \"\"], [\"Pan\", \"Pan axes with left mouse, zoom with right\", \"fa fa-arrows icon-move\", \"pan\"], [\"Zoom\", \"Zoom to rectangle\", \"fa fa-square-o icon-check-empty\", \"zoom\"], [\"\", \"\", \"\", \"\"], [\"Download\", \"Download plot\", \"fa fa-floppy-o icon-save\", \"download\"]];\n",
       "\n",
       "mpl.extensions = [\"eps\", \"jpeg\", \"pdf\", \"png\", \"ps\", \"raw\", \"svg\", \"tif\"];\n",
       "\n",
       "mpl.default_extension = \"png\";var comm_websocket_adapter = function(comm) {\n",
       "    // Create a \"websocket\"-like object which calls the given IPython comm\n",
       "    // object with the appropriate methods. Currently this is a non binary\n",
       "    // socket, so there is still some room for performance tuning.\n",
       "    var ws = {};\n",
       "\n",
       "    ws.close = function() {\n",
       "        comm.close()\n",
       "    };\n",
       "    ws.send = function(m) {\n",
       "        //console.log('sending', m);\n",
       "        comm.send(m);\n",
       "    };\n",
       "    // Register the callback with on_msg.\n",
       "    comm.on_msg(function(msg) {\n",
       "        //console.log('receiving', msg['content']['data'], msg);\n",
       "        // Pass the mpl event to the overriden (by mpl) onmessage function.\n",
       "        ws.onmessage(msg['content']['data'])\n",
       "    });\n",
       "    return ws;\n",
       "}\n",
       "\n",
       "mpl.mpl_figure_comm = function(comm, msg) {\n",
       "    // This is the function which gets called when the mpl process\n",
       "    // starts-up an IPython Comm through the \"matplotlib\" channel.\n",
       "\n",
       "    var id = msg.content.data.id;\n",
       "    // Get hold of the div created by the display call when the Comm\n",
       "    // socket was opened in Python.\n",
       "    var element = $(\"#\" + id);\n",
       "    var ws_proxy = comm_websocket_adapter(comm)\n",
       "\n",
       "    function ondownload(figure, format) {\n",
       "        window.open(figure.imageObj.src);\n",
       "    }\n",
       "\n",
       "    var fig = new mpl.figure(id, ws_proxy,\n",
       "                           ondownload,\n",
       "                           element.get(0));\n",
       "\n",
       "    // Call onopen now - mpl needs it, as it is assuming we've passed it a real\n",
       "    // web socket which is closed, not our websocket->open comm proxy.\n",
       "    ws_proxy.onopen();\n",
       "\n",
       "    fig.parent_element = element.get(0);\n",
       "    fig.cell_info = mpl.find_output_cell(\"<div id='\" + id + \"'></div>\");\n",
       "    if (!fig.cell_info) {\n",
       "        console.error(\"Failed to find cell for figure\", id, fig);\n",
       "        return;\n",
       "    }\n",
       "\n",
       "    var output_index = fig.cell_info[2]\n",
       "    var cell = fig.cell_info[0];\n",
       "\n",
       "};\n",
       "\n",
       "mpl.figure.prototype.handle_close = function(fig, msg) {\n",
       "    var width = fig.canvas.width/mpl.ratio\n",
       "    fig.root.unbind('remove')\n",
       "\n",
       "    // Update the output cell to use the data from the current canvas.\n",
       "    fig.push_to_output();\n",
       "    var dataURL = fig.canvas.toDataURL();\n",
       "    // Re-enable the keyboard manager in IPython - without this line, in FF,\n",
       "    // the notebook keyboard shortcuts fail.\n",
       "    IPython.keyboard_manager.enable()\n",
       "    $(fig.parent_element).html('<img src=\"' + dataURL + '\" width=\"' + width + '\">');\n",
       "    fig.close_ws(fig, msg);\n",
       "}\n",
       "\n",
       "mpl.figure.prototype.close_ws = function(fig, msg){\n",
       "    fig.send_message('closing', msg);\n",
       "    // fig.ws.close()\n",
       "}\n",
       "\n",
       "mpl.figure.prototype.push_to_output = function(remove_interactive) {\n",
       "    // Turn the data on the canvas into data in the output cell.\n",
       "    var width = this.canvas.width/mpl.ratio\n",
       "    var dataURL = this.canvas.toDataURL();\n",
       "    this.cell_info[1]['text/html'] = '<img src=\"' + dataURL + '\" width=\"' + width + '\">';\n",
       "}\n",
       "\n",
       "mpl.figure.prototype.updated_canvas_event = function() {\n",
       "    // Tell IPython that the notebook contents must change.\n",
       "    IPython.notebook.set_dirty(true);\n",
       "    this.send_message(\"ack\", {});\n",
       "    var fig = this;\n",
       "    // Wait a second, then push the new image to the DOM so\n",
       "    // that it is saved nicely (might be nice to debounce this).\n",
       "    setTimeout(function () { fig.push_to_output() }, 1000);\n",
       "}\n",
       "\n",
       "mpl.figure.prototype._init_toolbar = function() {\n",
       "    var fig = this;\n",
       "\n",
       "    var nav_element = $('<div/>')\n",
       "    nav_element.attr('style', 'width: 100%');\n",
       "    this.root.append(nav_element);\n",
       "\n",
       "    // Define a callback function for later on.\n",
       "    function toolbar_event(event) {\n",
       "        return fig.toolbar_button_onclick(event['data']);\n",
       "    }\n",
       "    function toolbar_mouse_event(event) {\n",
       "        return fig.toolbar_button_onmouseover(event['data']);\n",
       "    }\n",
       "\n",
       "    for(var toolbar_ind in mpl.toolbar_items){\n",
       "        var name = mpl.toolbar_items[toolbar_ind][0];\n",
       "        var tooltip = mpl.toolbar_items[toolbar_ind][1];\n",
       "        var image = mpl.toolbar_items[toolbar_ind][2];\n",
       "        var method_name = mpl.toolbar_items[toolbar_ind][3];\n",
       "\n",
       "        if (!name) { continue; };\n",
       "\n",
       "        var button = $('<button class=\"btn btn-default\" href=\"#\" title=\"' + name + '\"><i class=\"fa ' + image + ' fa-lg\"></i></button>');\n",
       "        button.click(method_name, toolbar_event);\n",
       "        button.mouseover(tooltip, toolbar_mouse_event);\n",
       "        nav_element.append(button);\n",
       "    }\n",
       "\n",
       "    // Add the status bar.\n",
       "    var status_bar = $('<span class=\"mpl-message\" style=\"text-align:right; float: right;\"/>');\n",
       "    nav_element.append(status_bar);\n",
       "    this.message = status_bar[0];\n",
       "\n",
       "    // Add the close button to the window.\n",
       "    var buttongrp = $('<div class=\"btn-group inline pull-right\"></div>');\n",
       "    var button = $('<button class=\"btn btn-mini btn-primary\" href=\"#\" title=\"Stop Interaction\"><i class=\"fa fa-power-off icon-remove icon-large\"></i></button>');\n",
       "    button.click(function (evt) { fig.handle_close(fig, {}); } );\n",
       "    button.mouseover('Stop Interaction', toolbar_mouse_event);\n",
       "    buttongrp.append(button);\n",
       "    var titlebar = this.root.find($('.ui-dialog-titlebar'));\n",
       "    titlebar.prepend(buttongrp);\n",
       "}\n",
       "\n",
       "mpl.figure.prototype._root_extra_style = function(el){\n",
       "    var fig = this\n",
       "    el.on(\"remove\", function(){\n",
       "\tfig.close_ws(fig, {});\n",
       "    });\n",
       "}\n",
       "\n",
       "mpl.figure.prototype._canvas_extra_style = function(el){\n",
       "    // this is important to make the div 'focusable\n",
       "    el.attr('tabindex', 0)\n",
       "    // reach out to IPython and tell the keyboard manager to turn it's self\n",
       "    // off when our div gets focus\n",
       "\n",
       "    // location in version 3\n",
       "    if (IPython.notebook.keyboard_manager) {\n",
       "        IPython.notebook.keyboard_manager.register_events(el);\n",
       "    }\n",
       "    else {\n",
       "        // location in version 2\n",
       "        IPython.keyboard_manager.register_events(el);\n",
       "    }\n",
       "\n",
       "}\n",
       "\n",
       "mpl.figure.prototype._key_event_extra = function(event, name) {\n",
       "    var manager = IPython.notebook.keyboard_manager;\n",
       "    if (!manager)\n",
       "        manager = IPython.keyboard_manager;\n",
       "\n",
       "    // Check for shift+enter\n",
       "    if (event.shiftKey && event.which == 13) {\n",
       "        this.canvas_div.blur();\n",
       "        // select the cell after this one\n",
       "        var index = IPython.notebook.find_cell_index(this.cell_info[0]);\n",
       "        IPython.notebook.select(index + 1);\n",
       "    }\n",
       "}\n",
       "\n",
       "mpl.figure.prototype.handle_save = function(fig, msg) {\n",
       "    fig.ondownload(fig, null);\n",
       "}\n",
       "\n",
       "\n",
       "mpl.find_output_cell = function(html_output) {\n",
       "    // Return the cell and output element which can be found *uniquely* in the notebook.\n",
       "    // Note - this is a bit hacky, but it is done because the \"notebook_saving.Notebook\"\n",
       "    // IPython event is triggered only after the cells have been serialised, which for\n",
       "    // our purposes (turning an active figure into a static one), is too late.\n",
       "    var cells = IPython.notebook.get_cells();\n",
       "    var ncells = cells.length;\n",
       "    for (var i=0; i<ncells; i++) {\n",
       "        var cell = cells[i];\n",
       "        if (cell.cell_type === 'code'){\n",
       "            for (var j=0; j<cell.output_area.outputs.length; j++) {\n",
       "                var data = cell.output_area.outputs[j];\n",
       "                if (data.data) {\n",
       "                    // IPython >= 3 moved mimebundle to data attribute of output\n",
       "                    data = data.data;\n",
       "                }\n",
       "                if (data['text/html'] == html_output) {\n",
       "                    return [cell, data, j];\n",
       "                }\n",
       "            }\n",
       "        }\n",
       "    }\n",
       "}\n",
       "\n",
       "// Register the function which deals with the matplotlib target/channel.\n",
       "// The kernel may be null if the page has been refreshed.\n",
       "if (IPython.notebook.kernel != null) {\n",
       "    IPython.notebook.kernel.comm_manager.register_target('matplotlib', mpl.mpl_figure_comm);\n",
       "}\n"
      ],
      "text/plain": [
       "<IPython.core.display.Javascript object>"
      ]
     },
     "metadata": {},
     "output_type": "display_data"
    },
    {
     "data": {
      "text/html": [
       "<img src=\"data:image/png;base64,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\" width=\"640\">"
      ],
      "text/plain": [
       "<IPython.core.display.HTML object>"
      ]
     },
     "metadata": {},
     "output_type": "display_data"
    }
   ],
   "source": [
    "plot(solutionToEquation.subs(C1,-100).rhs,(t,0,2));"
   ]
  },
  {
   "cell_type": "markdown",
   "metadata": {},
   "source": [
    "This time with no substitutions."
   ]
  },
  {
   "cell_type": "code",
   "execution_count": null,
   "metadata": {
    "collapsed": false
   },
   "outputs": [],
   "source": [
    "L, R, t, V0 = symbols('L R t V0', positive=True)\n",
    "A, V = symbols('A V', cls=Function)\n",
    "\n",
    "rLCircuit = A(t).diff(t) + (R/L)*A(t) - V(t)\n",
    "rLCircuit\n",
    "\n",
    "solution = dsolve(rLCircuit, A(t))\n",
    "solution"
   ]
  },
  {
   "cell_type": "code",
   "execution_count": null,
   "metadata": {
    "collapsed": false
   },
   "outputs": [],
   "source": [
    "particularSolution = dsolve(rLCircuit, A(t)).subs([(A(t),0),(t,0),(V(t),V0)]).doit()\n",
    "particularSolution"
   ]
  },
  {
   "cell_type": "markdown",
   "metadata": {},
   "source": [
    "`solveset` returns a set object.  When the set is a `FiniteSet` we can convert to a list and de-reference the list as I've done here.  Not sure this is good practice, in general.  So - I would only do this in an interactive session when I can inspect the return value.  I would not write library code like this."
   ]
  },
  {
   "cell_type": "code",
   "execution_count": null,
   "metadata": {
    "collapsed": true
   },
   "outputs": [],
   "source": [
    "const1 = -L*V0/R"
   ]
  },
  {
   "cell_type": "code",
   "execution_count": null,
   "metadata": {
    "collapsed": false
   },
   "outputs": [],
   "source": [
    "simplify(solution.subs([(C1,const1),(V(t),V0)]).doit())"
   ]
  },
  {
   "cell_type": "markdown",
   "metadata": {},
   "source": [
    "[Top of Page](#Sections)"
   ]
  },
  {
   "cell_type": "markdown",
   "metadata": {},
   "source": [
    "#### First Order ODE: Skydiving"
   ]
  },
  {
   "cell_type": "markdown",
   "metadata": {},
   "source": [
    "This example is taking from Arfken's book.  Example problem 7.2.1.  The model describes a falling skydiver under a parachute.  We are trying to find the velocity profile as a function of time as well as the terminal velocity.  The equation of motion is:\n",
    "\n",
    "$$ m \\dot{v} = m g - b v^2 $$\n",
    "\n",
    "where v is $v(t)$, a function of time.  Later in the problem we will provide values for $m$, $g$, and $b$ to find a particular solution."
   ]
  },
  {
   "cell_type": "code",
   "execution_count": null,
   "metadata": {
    "collapsed": false
   },
   "outputs": [],
   "source": [
    "from sympy import *\n",
    "init_session()"
   ]
  },
  {
   "cell_type": "code",
   "execution_count": null,
   "metadata": {
    "collapsed": false
   },
   "outputs": [],
   "source": [
    "mass, g, b, t = symbols('mass g b t', real=True)\n",
    "v = symbols('v', cls=Function)\n",
    "\n",
    "paraChute = mass*v(t).diff(t)-mass*g+b*(v(t))**2\n",
    "paraChute"
   ]
  },
  {
   "cell_type": "code",
   "execution_count": null,
   "metadata": {
    "collapsed": false
   },
   "outputs": [],
   "source": [
    "solution = dsolve(paraChute,v(t),hint='lie_group')\n",
    "solution"
   ]
  },
  {
   "cell_type": "code",
   "execution_count": null,
   "metadata": {
    "collapsed": false
   },
   "outputs": [],
   "source": [
    "particularSolution = solution.subs([(v(t),0),(t,0)])\n",
    "particularSolution"
   ]
  },
  {
   "cell_type": "code",
   "execution_count": null,
   "metadata": {
    "collapsed": false
   },
   "outputs": [],
   "source": [
    "C1 = symbols('C1')\n",
    "\n",
    "const = solve(particularSolution, C1)\n",
    "const"
   ]
  },
  {
   "cell_type": "code",
   "execution_count": null,
   "metadata": {
    "collapsed": false
   },
   "outputs": [],
   "source": [
    "final_solution = (solution.subs(C1,const[1]).rhs).expand().simplify()\n",
    "final_solution"
   ]
  },
  {
   "cell_type": "markdown",
   "metadata": {},
   "source": [
    "We need to think a bit about our identities."
   ]
  },
  {
   "cell_type": "code",
   "execution_count": null,
   "metadata": {
    "collapsed": false
   },
   "outputs": [],
   "source": [
    "1/tanh(t - I*pi/2).expand(complex=True)"
   ]
  },
  {
   "cell_type": "code",
   "execution_count": null,
   "metadata": {
    "collapsed": false
   },
   "outputs": [],
   "source": [
    "1/tanh(t - I*pi/2).expand(complex=True).simplify()"
   ]
  },
  {
   "cell_type": "markdown",
   "metadata": {},
   "source": [
    "Now we can substitute and plot the solution."
   ]
  },
  {
   "cell_type": "code",
   "execution_count": null,
   "metadata": {
    "collapsed": false
   },
   "outputs": [],
   "source": [
    "%matplotlib notebook\n",
    "\n",
    "plot(final_solution.subs([(g,9.8),(mass,70000),(b,700000)]),(t,0,2))"
   ]
  },
  {
   "cell_type": "markdown",
   "metadata": {},
   "source": [
    "Numpy and SciPy give us the ability to do this work numerically, too."
   ]
  },
  {
   "cell_type": "code",
   "execution_count": null,
   "metadata": {
    "collapsed": false
   },
   "outputs": [],
   "source": [
    "%matplotlib notebook\n",
    "\n",
    "from scipy.integrate import odeint  # for integrate.odeint\n",
    "from pylab import *  # for plotting commands\n",
    "\n",
    "def deriv(velocity,time):\n",
    "    mass = 70000.\n",
    "    drag = 700000.\n",
    "    gravity = 9.8\n",
    "    dvdt = gravity-(drag/mass)*velocity**2\n",
    "    return array(dvdt)\n",
    "\n",
    "time = linspace(0.0,1.0,1000)\n",
    "yinit = array([0.0])  # initial values\n",
    "y = odeint(deriv,yinit,time)\n",
    "\n",
    "figure()\n",
    "plot(time, y[:,0])\n",
    "xlabel('t')\n",
    "ylabel('y')\n",
    "show()"
   ]
  },
  {
   "cell_type": "markdown",
   "metadata": {},
   "source": [
    "[Top of Page](#Sections)"
   ]
  },
  {
   "cell_type": "markdown",
   "metadata": {},
   "source": [
    "#### DIY:  Nonseparable Exact ODE"
   ]
  },
  {
   "cell_type": "markdown",
   "metadata": {},
   "source": [
    "Solve the following differential equation and plot the family of solutions for different constants:\n",
    "\n",
    "$$\n",
    "\\frac{d f(x)}{dx} + \\frac{1 + f(x)}{x} = 0\n",
    "$$"
   ]
  },
  {
   "cell_type": "code",
   "execution_count": null,
   "metadata": {
    "collapsed": false
   },
   "outputs": [],
   "source": [
    "# your dsolve code goes here!"
   ]
  },
  {
   "cell_type": "code",
   "execution_count": null,
   "metadata": {
    "collapsed": true
   },
   "outputs": [],
   "source": [
    "# it is good practice to put your solution back into the differential equation to check the results."
   ]
  },
  {
   "cell_type": "code",
   "execution_count": null,
   "metadata": {
    "collapsed": true
   },
   "outputs": [],
   "source": [
    "# your plotting code goes here!"
   ]
  },
  {
   "cell_type": "markdown",
   "metadata": {},
   "source": [
    "[Top of Page](#Sections)"
   ]
  },
  {
   "cell_type": "markdown",
   "metadata": {},
   "source": [
    "#### RL Circuit with Forcing"
   ]
  },
  {
   "cell_type": "markdown",
   "metadata": {},
   "source": [
    "Solve Example 7.2.5 from Arfken.  Assume that $I(t=0) = 0$.  Find the solution first, then allow $V(t) = V0$ (a constant).  While we won't do it here, you could let $V(t)$ be a function like $V0 \\sin(\\omega t)$."
   ]
  },
  {
   "cell_type": "code",
   "execution_count": null,
   "metadata": {
    "collapsed": true
   },
   "outputs": [],
   "source": [
    "%matplotlib notebook\n",
    "from sympy import *\n",
    "init_printing()"
   ]
  },
  {
   "cell_type": "code",
   "execution_count": null,
   "metadata": {
    "collapsed": true
   },
   "outputs": [],
   "source": [
    "L, R, t = symbols('L R t')\n",
    "A, V = symbols('A V', cls=Function)"
   ]
  },
  {
   "cell_type": "code",
   "execution_count": null,
   "metadata": {
    "collapsed": false
   },
   "outputs": [],
   "source": [
    "rLCircuit = L*A(t).diff(t) + R*A(t) - V(t)\n",
    "rLCircuit"
   ]
  },
  {
   "cell_type": "code",
   "execution_count": null,
   "metadata": {
    "collapsed": false
   },
   "outputs": [],
   "source": [
    "var('V0')"
   ]
  },
  {
   "cell_type": "code",
   "execution_count": null,
   "metadata": {
    "collapsed": false
   },
   "outputs": [],
   "source": [
    "rLCircuit_constantV = rLCircuit.subs(V(t),V0)\n",
    "rLCircuit_constantV"
   ]
  },
  {
   "cell_type": "code",
   "execution_count": null,
   "metadata": {
    "collapsed": false
   },
   "outputs": [],
   "source": [
    "solution = dsolve(rLCircuit_constantV, A(t))\n",
    "solution"
   ]
  },
  {
   "cell_type": "code",
   "execution_count": null,
   "metadata": {
    "collapsed": false
   },
   "outputs": [],
   "source": [
    "solution_with_ics = solution.subs([(A(t),0),(t,0)])\n",
    "solution_with_ics"
   ]
  },
  {
   "cell_type": "code",
   "execution_count": null,
   "metadata": {
    "collapsed": false
   },
   "outputs": [],
   "source": [
    "var('C1')\n",
    "const = solve(solution_with_ics,C1)[0]"
   ]
  },
  {
   "cell_type": "code",
   "execution_count": null,
   "metadata": {
    "collapsed": false
   },
   "outputs": [],
   "source": [
    "particularSolution = solution.subs(C1, const).simplify()\n",
    "particularSolution"
   ]
  },
  {
   "cell_type": "markdown",
   "metadata": {},
   "source": [
    "Redo this with interact?"
   ]
  },
  {
   "cell_type": "code",
   "execution_count": null,
   "metadata": {
    "collapsed": false
   },
   "outputs": [],
   "source": [
    "plot(particularSolution.subs([(R,20),(V0,10),(L,2)]).rhs,(t,0,10))"
   ]
  },
  {
   "cell_type": "markdown",
   "metadata": {},
   "source": [
    "[Top of Page](#Sections)"
   ]
  },
  {
   "cell_type": "markdown",
   "metadata": {},
   "source": [
    "### In Class\n",
    "----"
   ]
  },
  {
   "cell_type": "markdown",
   "metadata": {},
   "source": [
    "#### Using `dsolve` in an Organized Way"
   ]
  },
  {
   "cell_type": "code",
   "execution_count": null,
   "metadata": {
    "collapsed": false
   },
   "outputs": [],
   "source": [
    "import sympy as sp\n",
    "sp.init_printing()"
   ]
  },
  {
   "cell_type": "markdown",
   "metadata": {},
   "source": [
    "The `dsolve` documentation can be found [here](http://docs.sympy.org/dev/modules/solvers/ode.html) and covers the types of equations that can be solved currently.  In a simple case the function `dsolve` is called/used by supplying the differental equation of interest and the function for which the solution is desired.  The results are then used in subsequent calculations to determine the constants in the problem.  We will use the examples below to reinforce this simple view of differential equation solving.  \n",
    "\n",
    "My recommendation for developing your solutions is as follows:\n",
    "\n",
    "* express the equation/model you are interested in solving in the most general format\n",
    "* substitute any known functional relationships that can eliminate unknown terms or derivatives\n",
    "* call `dsolve` to find the general solution for your model\n",
    "* substitute initial conditions into the results to determine the constants\n",
    "* substitute the constants into the general solution to get your particular solution\n",
    "* functionalize the results and visualize the results in a plot (if appropriate)\n",
    "* use `interact` to permit exploration of free parameters and continue to develop an intuititve understanding of your model"
   ]
  },
  {
   "cell_type": "code",
   "execution_count": null,
   "metadata": {
    "collapsed": true
   },
   "outputs": [],
   "source": [
    "from sympy import Function, dsolve, Eq, Derivative, sin, cos, symbols\n",
    "from sympy.abc import x\n",
    "f = Function('f')"
   ]
  },
  {
   "cell_type": "code",
   "execution_count": null,
   "metadata": {
    "collapsed": false
   },
   "outputs": [],
   "source": [
    "modelToSolve = sp.Eq(Derivative(f(x), x, x) + 9*f(x),0)\n",
    "modelToSolve"
   ]
  },
  {
   "cell_type": "code",
   "execution_count": null,
   "metadata": {
    "collapsed": false
   },
   "outputs": [],
   "source": [
    "generalSolution = dsolve(modelToSolve, f(x))\n",
    "generalSolution"
   ]
  },
  {
   "cell_type": "markdown",
   "metadata": {},
   "source": [
    "There are other ways to specify the derivative."
   ]
  },
  {
   "cell_type": "code",
   "execution_count": null,
   "metadata": {
    "collapsed": false
   },
   "outputs": [],
   "source": [
    "dsolve(sp.diff(f(x),x,2) + 9*f(x), f(x))"
   ]
  },
  {
   "cell_type": "markdown",
   "metadata": {},
   "source": [
    "#### Models of Viscoelastic Behavior:  Maxwell Model - Constant Stress\n",
    "\n",
    "The physical experiment is one where we apply a constant stress to the Maxwell model.  The model responds by setting the stress in every element as constant and the strain is the sum of the individual strains.  The thought experiment is as follows:\n",
    "\n",
    "* A stress is applied to the series (chain) of elements at rest\n",
    "* The spring responds by Hooke's law instantaneously\n",
    "* The dashpot is unresponsive at $t=0$\n",
    "* From $t>0$ the spring's strain is fixed but the dashpot begins to strain\n",
    "* There is no limit on how far the dashpot can extend\n",
    "* A good exercise is to sketch a diagram of these steps\n",
    "\n",
    "![](./images/Maxwell_diagram.png)"
   ]
  },
  {
   "cell_type": "markdown",
   "metadata": {},
   "source": [
    "We begin by setting up our environment.  We import `interact` and `fixed` to help us plot and visualize the results of our computation."
   ]
  },
  {
   "cell_type": "code",
   "execution_count": null,
   "metadata": {
    "collapsed": true
   },
   "outputs": [],
   "source": [
    "%matplotlib notebook\n",
    "from ipywidgets import interact, fixed\n",
    "import sympy as sp"
   ]
  },
  {
   "cell_type": "code",
   "execution_count": null,
   "metadata": {
    "collapsed": false
   },
   "outputs": [],
   "source": [
    "sp.init_session()\n",
    "sp.var('omega sigma epsilon eta M sigma0 C1 C2')"
   ]
  },
  {
   "cell_type": "markdown",
   "metadata": {},
   "source": [
    "The Maxwell model is defined as follows:"
   ]
  },
  {
   "cell_type": "code",
   "execution_count": null,
   "metadata": {
    "collapsed": false
   },
   "outputs": [],
   "source": [
    "maxwellModel = Eq(epsilon(t).diff(t), sigma(t).diff(t)/M + sigma(t)/eta)\n",
    "maxwellModel"
   ]
  },
  {
   "cell_type": "markdown",
   "metadata": {
    "collapsed": true
   },
   "source": [
    "First we will work out the solution for a constant applied stress, $\\sigma_0$.  We start with the general solution and make the substitution that $\\sigma(t)$ is constant by changing the symbol from a function of `t` to $\\sigma_0$."
   ]
  },
  {
   "cell_type": "code",
   "execution_count": null,
   "metadata": {
    "collapsed": false
   },
   "outputs": [],
   "source": [
    "generalSolution = dsolve(maxwellModel,epsilon(t))\n",
    "generalSolution"
   ]
  },
  {
   "cell_type": "code",
   "execution_count": null,
   "metadata": {
    "collapsed": false
   },
   "outputs": [],
   "source": [
    "constantStressSolution = dsolve(maxwellModel,epsilon(t)).subs(sigma(t),sigma0).doit()\n",
    "constantStressSolution"
   ]
  },
  {
   "cell_type": "markdown",
   "metadata": {},
   "source": [
    "We know that at $t=0$ in this system, Hooke's law defines the strain at $t=0$."
   ]
  },
  {
   "cell_type": "code",
   "execution_count": null,
   "metadata": {
    "collapsed": false
   },
   "outputs": [],
   "source": [
    "constantStressSolution.subs([(epsilon(t),sigma0/M),(t,0)])"
   ]
  },
  {
   "cell_type": "code",
   "execution_count": null,
   "metadata": {
    "collapsed": false
   },
   "outputs": [],
   "source": [
    "solutionToPlot = constantStressSolution.subs(C1,sigma0/M).rhs\n",
    "solutionToPlot"
   ]
  },
  {
   "cell_type": "markdown",
   "metadata": {},
   "source": [
    "Now we can plot the solution with appropriate substitutions for the two parameters and one constant.  We extract the RHS and use `subs` and `ipywidgets` to interactively plot the solution.  Alternatively you could `lambdafy` the solution and use `numpy` to develop the interactive plot (you might be more satisfied with the results)."
   ]
  },
  {
   "cell_type": "code",
   "execution_count": null,
   "metadata": {
    "collapsed": false
   },
   "outputs": [],
   "source": [
    "def plotSolution(eta0,M0):\n",
    "    plot(solutionToPlot.subs([(eta,eta0),(M,M0),(sigma0,100)]),\n",
    "         (t,0,5),\n",
    "         #ylim=(0,1000),\n",
    "         xlabel='time',\n",
    "         ylabel=r'$\\epsilon(t)$'\n",
    "        )\n",
    "    \n",
    "interact(plotSolution,eta0=(1,100,1),M0=(1,100,1));"
   ]
  },
  {
   "cell_type": "markdown",
   "metadata": {},
   "source": [
    "The major takeawy here is that strain rises linearly with time."
   ]
  },
  {
   "cell_type": "markdown",
   "metadata": {},
   "source": [
    "[Top of Page](#Sections)"
   ]
  },
  {
   "cell_type": "markdown",
   "metadata": {},
   "source": [
    "#### Models of Viscoelastic Behavior:  Maxwell Model - Constant Strain"
   ]
  },
  {
   "cell_type": "markdown",
   "metadata": {},
   "source": [
    "Set this as a DIY.\n",
    "\n",
    "Because the strain is constant the time rate of change is zero and we can make ths substitution right from the start."
   ]
  },
  {
   "cell_type": "code",
   "execution_count": null,
   "metadata": {
    "collapsed": false
   },
   "outputs": [],
   "source": [
    "%matplotlib inline\n",
    "from sympy import *\n",
    "init_session()"
   ]
  },
  {
   "cell_type": "code",
   "execution_count": null,
   "metadata": {
    "collapsed": false
   },
   "outputs": [],
   "source": [
    "var('epsilon, t, sigma, M, eta, epsilon0, sigma0')"
   ]
  },
  {
   "cell_type": "markdown",
   "metadata": {},
   "source": [
    "We still have our maxwellModel defined from a previous computation:"
   ]
  },
  {
   "cell_type": "code",
   "execution_count": null,
   "metadata": {
    "collapsed": false
   },
   "outputs": [],
   "source": [
    "maxwellModel = Eq(epsilon(t).diff(t), sigma(t).diff(t)/M + sigma(t)/eta)\n",
    "maxwellModel"
   ]
  },
  {
   "cell_type": "code",
   "execution_count": null,
   "metadata": {
    "collapsed": false
   },
   "outputs": [],
   "source": [
    "constantStrainModel = maxwellModel.subs(diff(epsilon(t),t),0)\n",
    "constantStrainModel"
   ]
  },
  {
   "cell_type": "code",
   "execution_count": null,
   "metadata": {
    "collapsed": false
   },
   "outputs": [],
   "source": [
    "solutionToConstantStrainModel1 = dsolve(constantStrainModel.rhs,sigma(t))\n",
    "solutionToConstantStrainModel1"
   ]
  },
  {
   "cell_type": "code",
   "execution_count": null,
   "metadata": {
    "collapsed": false
   },
   "outputs": [],
   "source": [
    "dsolve(maxwellModel,sigma(t)).subs(epsilon(t),0).doit()"
   ]
  },
  {
   "cell_type": "code",
   "execution_count": null,
   "metadata": {
    "collapsed": false,
    "scrolled": true
   },
   "outputs": [],
   "source": [
    "solutionToConstantStrainModel2 = dsolve(maxwellModel,sigma(t))\n",
    "solution = solutionToConstantStrainModel2.subs(epsilon(t),0).doit()\n",
    "solution"
   ]
  },
  {
   "cell_type": "code",
   "execution_count": null,
   "metadata": {
    "collapsed": false
   },
   "outputs": [],
   "source": [
    "var('C1')"
   ]
  },
  {
   "cell_type": "code",
   "execution_count": null,
   "metadata": {
    "collapsed": false
   },
   "outputs": [],
   "source": [
    "solution.subs([(t,0),(sigma(0),sigma0)])"
   ]
  },
  {
   "cell_type": "markdown",
   "metadata": {},
   "source": [
    "Now we make the final substitutions and get our final equation:"
   ]
  },
  {
   "cell_type": "code",
   "execution_count": null,
   "metadata": {
    "collapsed": false
   },
   "outputs": [],
   "source": [
    "solution.subs([(C1,sigma0)])"
   ]
  },
  {
   "cell_type": "markdown",
   "metadata": {},
   "source": [
    "What does this say?  We apply an initial stress at time zero.  The material strains to whatever is predicted by Hooke's law.  And then, without changing the strain again through the experiment, the stress drops exponentially."
   ]
  },
  {
   "cell_type": "code",
   "execution_count": null,
   "metadata": {
    "collapsed": false
   },
   "outputs": [],
   "source": [
    "solutionToPlot = solution.subs([(C1,sigma0)]).rhs\n",
    "solutionToPlot"
   ]
  },
  {
   "cell_type": "markdown",
   "metadata": {},
   "source": [
    "Functionalize and plot the results."
   ]
  },
  {
   "cell_type": "code",
   "execution_count": null,
   "metadata": {
    "collapsed": false
   },
   "outputs": [],
   "source": [
    "from ipywidgets import *\n",
    "\n",
    "def plotSolution(M0, eta0):\n",
    "    plot(solutionToPlot.subs([(M,M0),(eta,eta0),(sigma0,100)]),\n",
    "         (t,0,5),\n",
    "         ylim=(0,100),\n",
    "         xlabel='time',\n",
    "         ylabel=r'$\\sigma(t)$'\n",
    "        )\n",
    "    \n",
    "interact(plotSolution,M0=(1,100,1),eta0=(1,100,1));"
   ]
  },
  {
   "cell_type": "markdown",
   "metadata": {},
   "source": [
    "[Top of Page](#Sections)"
   ]
  },
  {
   "cell_type": "markdown",
   "metadata": {},
   "source": [
    "#### Models of Viscoelastic Behavior:  Kelvin Model - Constant Stress\n",
    "\n",
    "![](./images/Kelvin_Voigt_diagram.png)"
   ]
  },
  {
   "cell_type": "markdown",
   "metadata": {},
   "source": [
    "Following similar logic as above, except this time the strains are all taken to be the same and the stresses are additive."
   ]
  },
  {
   "cell_type": "code",
   "execution_count": null,
   "metadata": {
    "collapsed": false
   },
   "outputs": [],
   "source": [
    "%matplotlib inline\n",
    "from sympy import *\n",
    "init_session()"
   ]
  },
  {
   "cell_type": "code",
   "execution_count": null,
   "metadata": {
    "collapsed": false
   },
   "outputs": [],
   "source": [
    "var('epsilon, t, sigma, M, eta, epsilon0, sigma0')"
   ]
  },
  {
   "cell_type": "code",
   "execution_count": null,
   "metadata": {
    "collapsed": false
   },
   "outputs": [],
   "source": [
    "kelvinModel = Eq(sigma(t),M*epsilon(t)+eta*epsilon(t).diff(t))\n",
    "kelvinModel"
   ]
  },
  {
   "cell_type": "markdown",
   "metadata": {},
   "source": [
    "In this problem we will let stress be a constant for all time:\n",
    "\n",
    "$$ \\sigma(t) = \\sigma_0 $$\n",
    "\n",
    "Making the substitution:"
   ]
  },
  {
   "cell_type": "code",
   "execution_count": null,
   "metadata": {
    "collapsed": false
   },
   "outputs": [],
   "source": [
    "kelvinModelConstantStress = kelvinModel.subs(sigma(t),sigma0)\n",
    "kelvinModelConstantStress"
   ]
  },
  {
   "cell_type": "code",
   "execution_count": null,
   "metadata": {
    "collapsed": false
   },
   "outputs": [],
   "source": [
    "kelvinModelSolution = dsolve(kelvinModelConstantStress,epsilon(t))\n",
    "kelvinModelSolution"
   ]
  },
  {
   "cell_type": "code",
   "execution_count": null,
   "metadata": {
    "collapsed": false
   },
   "outputs": [],
   "source": [
    "equationToSolveForC = kelvinModelSolution.subs([(epsilon(t),0),(t,0)])\n",
    "equationToSolveForC.doit()"
   ]
  },
  {
   "cell_type": "code",
   "execution_count": null,
   "metadata": {
    "collapsed": false
   },
   "outputs": [],
   "source": [
    "var('C1')"
   ]
  },
  {
   "cell_type": "code",
   "execution_count": null,
   "metadata": {
    "collapsed": false
   },
   "outputs": [],
   "source": [
    "solve(equationToSolveForC.rhs,C1)"
   ]
  },
  {
   "cell_type": "code",
   "execution_count": null,
   "metadata": {
    "collapsed": false
   },
   "outputs": [],
   "source": [
    "kelvinModelSolution.subs(C1,eta/M*log(-sigma0)).collect(sigma0,)"
   ]
  },
  {
   "cell_type": "markdown",
   "metadata": {},
   "source": [
    "Plot this for yourself!  Switch to Numpy plotting for performance improvements."
   ]
  },
  {
   "cell_type": "markdown",
   "metadata": {},
   "source": [
    "[Top of Page](#Sections)"
   ]
  },
  {
   "cell_type": "markdown",
   "metadata": {
    "slideshow": {
     "slide_type": "slide"
    }
   },
   "source": [
    "# In Class Activities"
   ]
  },
  {
   "cell_type": "markdown",
   "metadata": {
    "slideshow": {
     "slide_type": "slide"
    }
   },
   "source": [
    "In this section I pose two important differential equation forms that result from the decomposition of Fick's Law.  As stated above, the steps to follow are:\n",
    "\n",
    "* express the equation/model you are interested in solving in the most general format\n",
    "* substitute any known functional relationships that can eliminate unknown terms or derivatives\n",
    "* call `dsolve` to find the general solution for your model\n",
    "* substitute initial conditions into the results to determine the constants\n",
    "* substitute the constants into the general solution to get your particular solution\n",
    "* functionalize the results and visualize the results in a plot (if appropriate)\n",
    "* use `interact` to permit exploration of free parameters and continue to develop an intuititve understanding of your model"
   ]
  },
  {
   "cell_type": "markdown",
   "metadata": {
    "slideshow": {
     "slide_type": "fragment"
    }
   },
   "source": [
    "I'll help you get started by writing down the first model equation to solve:"
   ]
  },
  {
   "cell_type": "code",
   "execution_count": 1,
   "metadata": {
    "collapsed": false,
    "slideshow": {
     "slide_type": "slide"
    }
   },
   "outputs": [],
   "source": [
    "%matplotlib notebook\n",
    "import sympy as sp\n",
    "import numpy as np\n",
    "from ipywidgets import interact, fixed\n",
    "sp.init_printing()"
   ]
  },
  {
   "cell_type": "code",
   "execution_count": 2,
   "metadata": {
    "collapsed": true,
    "slideshow": {
     "slide_type": "fragment"
    }
   },
   "outputs": [],
   "source": [
    "x, t = sp.symbols('x t')\n",
    "k, alpha = sp.symbols('k alpha', positive=True)"
   ]
  },
  {
   "cell_type": "markdown",
   "metadata": {
    "slideshow": {
     "slide_type": "slide"
    }
   },
   "source": [
    "This is the first ODE of interest:\n",
    "\n",
    "$$\n",
    "\\frac{d x(t)}{dt } \\frac{1}{\\alpha x(t)} + k = 0\n",
    "$$\n",
    "\n",
    "Solve this ODE with boundary conditions: $x(t) = 1$ at $t = 0$ and $x(t) = 0$ as $t \\rightarrow \\infty$."
   ]
  },
  {
   "cell_type": "code",
   "execution_count": 3,
   "metadata": {
    "collapsed": false,
    "slideshow": {
     "slide_type": "fragment"
    }
   },
   "outputs": [],
   "source": [
    "firstModelToSolve = x(t).diff(t)/(x(t)*alpha) + k\n",
    "functionWeAreLookingFor = x(t)"
   ]
  },
  {
   "cell_type": "code",
   "execution_count": 4,
   "metadata": {
    "collapsed": false,
    "scrolled": true,
    "slideshow": {
     "slide_type": "fragment"
    }
   },
   "outputs": [
    {
     "data": {
      "image/png": "[encoded data removed]",
      "text/latex": [
       "$$\\left ( k + \\frac{\\frac{d}{d t} x{\\left (t \\right )}}{\\alpha x{\\left (t \\right )}}, \\quad x{\\left (t \\right )}\\right )$$"
      ],
      "text/plain": [
       "⎛    d             ⎞\n",
       "⎜    ──(x(t))      ⎟\n",
       "⎜    dt            ⎟\n",
       "⎜k + ────────, x(t)⎟\n",
       "⎝     α⋅x(t)       ⎠"
      ]
     },
     "execution_count": 4,
     "metadata": {},
     "output_type": "execute_result"
    }
   ],
   "source": [
    "firstModelToSolve, functionWeAreLookingFor"
   ]
  },
  {
   "cell_type": "code",
   "execution_count": 20,
   "metadata": {
    "collapsed": false,
    "slideshow": {
     "slide_type": "slide"
    }
   },
   "outputs": [
    {
     "data": {
      "text/plain": [
       "('separable',\n",
       " '1st_exact',\n",
       " '1st_linear',\n",
       " '1st_power_series',\n",
       " 'lie_group',\n",
       " 'nth_linear_constant_coeff_homogeneous',\n",
       " 'separable_Integral',\n",
       " '1st_exact_Integral',\n",
       " '1st_linear_Integral')"
      ]
     },
     "execution_count": 20,
     "metadata": {},
     "output_type": "execute_result"
    }
   ],
   "source": [
    "hintList = sp.classify_ode(firstModelToSolve)\n",
    "hintList"
   ]
  },
  {
   "cell_type": "code",
   "execution_count": 31,
   "metadata": {
    "collapsed": false
   },
   "outputs": [
    {
     "data": {
      "image/png": "[encoded data removed]",
      "text/latex": [
       "$$\\left [ x{\\left (t \\right )} = e^{\\alpha \\left(C_{1} - k t\\right)}, \\quad x{\\left (t \\right )} = e^{\\alpha \\left(C_{1} - k t\\right)}, \\quad x{\\left (t \\right )} = C_{1} e^{- \\alpha k t}, \\quad x{\\left (t \\right )} = C_{1} - C_{1} \\alpha k t + \\frac{C_{1} t^{2}}{2} \\alpha^{2} k^{2} - \\frac{C_{1} t^{3}}{6} \\alpha^{3} k^{3} + \\frac{C_{1} t^{4}}{24} \\alpha^{4} k^{4} - \\frac{C_{1} t^{5}}{120} \\alpha^{5} k^{5} + \\mathcal{O}\\left(t^{6}\\right), \\quad x{\\left (t \\right )} = C_{1} e^{- \\alpha k t}, \\quad x{\\left (t \\right )} = C_{1} e^{- \\alpha k t}, \\quad \\int^{x{\\left (t \\right )}} \\frac{1}{y \\alpha}\\, dy = C_{1} + \\int - k\\, dt, \\quad \\int k\\, dt + \\int^{x{\\left (t \\right )}} \\frac{1}{y \\alpha}\\, dy = C_{1}, \\quad x{\\left (t \\right )} = \\left(C_{1} + \\int 0\\, dt\\right) e^{- \\int \\alpha k\\, dt}\\right ]$$"
      ],
      "text/plain": [
       "⎡                                                                             \n",
       "⎢                                                                             \n",
       "⎢        α⋅(C₁ - k⋅t)          α⋅(C₁ - k⋅t)             -α⋅k⋅t                \n",
       "⎢x(t) = ℯ            , x(t) = ℯ            , x(t) = C₁⋅ℯ      , x(t) = C₁ - C₁\n",
       "⎢                                                                             \n",
       "⎢                                                                             \n",
       "⎣                                                                             \n",
       "\n",
       "                                                                              \n",
       "             2  2  2       3  3  3       4  4  4       5  5  5                \n",
       "         C₁⋅α ⋅k ⋅t    C₁⋅α ⋅k ⋅t    C₁⋅α ⋅k ⋅t    C₁⋅α ⋅k ⋅t     ⎛ 6⎞        \n",
       "⋅α⋅k⋅t + ─────────── - ─────────── + ─────────── - ─────────── + O⎝t ⎠, x(t) =\n",
       "              2             6             24           120                    \n",
       "                                                                              \n",
       "                                                                              \n",
       "\n",
       "                                x(t)                                 x(t)     \n",
       "                                 ⌠                                    ⌠       \n",
       "     -α⋅k⋅t             -α⋅k⋅t   ⎮    1            ⌠        ⌠         ⎮    1  \n",
       " C₁⋅ℯ      , x(t) = C₁⋅ℯ      ,  ⎮   ─── dy = C₁ + ⎮ -k dt, ⎮ k dt +  ⎮   ─── \n",
       "                                 ⎮   y⋅α           ⌡        ⌡         ⎮   y⋅α \n",
       "                                 ⌡                                    ⌡       \n",
       "                                                                              \n",
       "\n",
       "                                ⌠       ⎤\n",
       "                               -⎮ α⋅k dt⎥\n",
       "                ⎛     ⌠     ⎞   ⌡       ⎥\n",
       "dy = C₁, x(t) = ⎜C₁ + ⎮ 0 dt⎟⋅ℯ         ⎥\n",
       "                ⎝     ⌡     ⎠           ⎥\n",
       "                                        ⎥\n",
       "                                        ⎦"
      ]
     },
     "execution_count": 31,
     "metadata": {},
     "output_type": "execute_result"
    }
   ],
   "source": [
    "solutionList = [sp.dsolve(firstModelToSolve, functionWeAreLookingFor, hint=hint) for hint in hintList]\n",
    "solutionList"
   ]
  },
  {
   "cell_type": "code",
   "execution_count": 34,
   "metadata": {
    "collapsed": false
   },
   "outputs": [
    {
     "data": {
      "image/png": "[encoded data removed]",
      "text/latex": [
       "$$x{\\left (t \\right )} = C_{1} e^{- \\alpha k t}$$"
      ],
      "text/plain": [
       "           -α⋅k⋅t\n",
       "x(t) = C₁⋅ℯ      "
      ]
     },
     "execution_count": 34,
     "metadata": {},
     "output_type": "execute_result"
    }
   ],
   "source": [
    "solutionToFirstModel = sp.dsolve(firstModelToSolve, functionWeAreLookingFor, hint=hintList[2])\n",
    "solutionToFirstModel"
   ]
  },
  {
   "cell_type": "code",
   "execution_count": 35,
   "metadata": {
    "collapsed": false,
    "slideshow": {
     "slide_type": "slide"
    }
   },
   "outputs": [
    {
     "data": {
      "application/javascript": [
       "/* Put everything inside the global mpl namespace */\n",
       "window.mpl = {};\n",
       "\n",
       "mpl.get_websocket_type = function() {\n",
       "    if (typeof(WebSocket) !== 'undefined') {\n",
       "        return WebSocket;\n",
       "    } else if (typeof(MozWebSocket) !== 'undefined') {\n",
       "        return MozWebSocket;\n",
       "    } else {\n",
       "        alert('Your browser does not have WebSocket support.' +\n",
       "              'Please try Chrome, Safari or Firefox ≥ 6. ' +\n",
       "              'Firefox 4 and 5 are also supported but you ' +\n",
       "              'have to enable WebSockets in about:config.');\n",
       "    };\n",
       "}\n",
       "\n",
       "mpl.figure = function(figure_id, websocket, ondownload, parent_element) {\n",
       "    this.id = figure_id;\n",
       "\n",
       "    this.ws = websocket;\n",
       "\n",
       "    this.supports_binary = (this.ws.binaryType != undefined);\n",
       "\n",
       "    if (!this.supports_binary) {\n",
       "        var warnings = document.getElementById(\"mpl-warnings\");\n",
       "        if (warnings) {\n",
       "            warnings.style.display = 'block';\n",
       "            warnings.textContent = (\n",
       "                \"This browser does not support binary websocket messages. \" +\n",
       "                    \"Performance may be slow.\");\n",
       "        }\n",
       "    }\n",
       "\n",
       "    this.imageObj = new Image();\n",
       "\n",
       "    this.context = undefined;\n",
       "    this.message = undefined;\n",
       "    this.canvas = undefined;\n",
       "    this.rubberband_canvas = undefined;\n",
       "    this.rubberband_context = undefined;\n",
       "    this.format_dropdown = undefined;\n",
       "\n",
       "    this.image_mode = 'full';\n",
       "\n",
       "    this.root = $('<div/>');\n",
       "    this._root_extra_style(this.root)\n",
       "    this.root.attr('style', 'display: inline-block');\n",
       "\n",
       "    $(parent_element).append(this.root);\n",
       "\n",
       "    this._init_header(this);\n",
       "    this._init_canvas(this);\n",
       "    this._init_toolbar(this);\n",
       "\n",
       "    var fig = this;\n",
       "\n",
       "    this.waiting = false;\n",
       "\n",
       "    this.ws.onopen =  function () {\n",
       "            fig.send_message(\"supports_binary\", {value: fig.supports_binary});\n",
       "            fig.send_message(\"send_image_mode\", {});\n",
       "            fig.send_message(\"refresh\", {});\n",
       "        }\n",
       "\n",
       "    this.imageObj.onload = function() {\n",
       "            if (fig.image_mode == 'full') {\n",
       "                // Full images could contain transparency (where diff images\n",
       "                // almost always do), so we need to clear the canvas so that\n",
       "                // there is no ghosting.\n",
       "                fig.context.clearRect(0, 0, fig.canvas.width, fig.canvas.height);\n",
       "            }\n",
       "            fig.context.drawImage(fig.imageObj, 0, 0);\n",
       "        };\n",
       "\n",
       "    this.imageObj.onunload = function() {\n",
       "        this.ws.close();\n",
       "    }\n",
       "\n",
       "    this.ws.onmessage = this._make_on_message_function(this);\n",
       "\n",
       "    this.ondownload = ondownload;\n",
       "}\n",
       "\n",
       "mpl.figure.prototype._init_header = function() {\n",
       "    var titlebar = $(\n",
       "        '<div class=\"ui-dialog-titlebar ui-widget-header ui-corner-all ' +\n",
       "        'ui-helper-clearfix\"/>');\n",
       "    var titletext = $(\n",
       "        '<div class=\"ui-dialog-title\" style=\"width: 100%; ' +\n",
       "        'text-align: center; padding: 3px;\"/>');\n",
       "    titlebar.append(titletext)\n",
       "    this.root.append(titlebar);\n",
       "    this.header = titletext[0];\n",
       "}\n",
       "\n",
       "\n",
       "\n",
       "mpl.figure.prototype._canvas_extra_style = function(canvas_div) {\n",
       "\n",
       "}\n",
       "\n",
       "\n",
       "mpl.figure.prototype._root_extra_style = function(canvas_div) {\n",
       "\n",
       "}\n",
       "\n",
       "mpl.figure.prototype._init_canvas = function() {\n",
       "    var fig = this;\n",
       "\n",
       "    var canvas_div = $('<div/>');\n",
       "\n",
       "    canvas_div.attr('style', 'position: relative; clear: both; outline: 0');\n",
       "\n",
       "    function canvas_keyboard_event(event) {\n",
       "        return fig.key_event(event, event['data']);\n",
       "    }\n",
       "\n",
       "    canvas_div.keydown('key_press', canvas_keyboard_event);\n",
       "    canvas_div.keyup('key_release', canvas_keyboard_event);\n",
       "    this.canvas_div = canvas_div\n",
       "    this._canvas_extra_style(canvas_div)\n",
       "    this.root.append(canvas_div);\n",
       "\n",
       "    var canvas = $('<canvas/>');\n",
       "    canvas.addClass('mpl-canvas');\n",
       "    canvas.attr('style', \"left: 0; top: 0; z-index: 0; outline: 0\")\n",
       "\n",
       "    this.canvas = canvas[0];\n",
       "    this.context = canvas[0].getContext(\"2d\");\n",
       "\n",
       "    var rubberband = $('<canvas/>');\n",
       "    rubberband.attr('style', \"position: absolute; left: 0; top: 0; z-index: 1;\")\n",
       "\n",
       "    var pass_mouse_events = true;\n",
       "\n",
       "    canvas_div.resizable({\n",
       "        start: function(event, ui) {\n",
       "            pass_mouse_events = false;\n",
       "        },\n",
       "        resize: function(event, ui) {\n",
       "            fig.request_resize(ui.size.width, ui.size.height);\n",
       "        },\n",
       "        stop: function(event, ui) {\n",
       "            pass_mouse_events = true;\n",
       "            fig.request_resize(ui.size.width, ui.size.height);\n",
       "        },\n",
       "    });\n",
       "\n",
       "    function mouse_event_fn(event) {\n",
       "        if (pass_mouse_events)\n",
       "            return fig.mouse_event(event, event['data']);\n",
       "    }\n",
       "\n",
       "    rubberband.mousedown('button_press', mouse_event_fn);\n",
       "    rubberband.mouseup('button_release', mouse_event_fn);\n",
       "    // Throttle sequential mouse events to 1 every 20ms.\n",
       "    rubberband.mousemove('motion_notify', mouse_event_fn);\n",
       "\n",
       "    rubberband.mouseenter('figure_enter', mouse_event_fn);\n",
       "    rubberband.mouseleave('figure_leave', mouse_event_fn);\n",
       "\n",
       "    canvas_div.on(\"wheel\", function (event) {\n",
       "        event = event.originalEvent;\n",
       "        event['data'] = 'scroll'\n",
       "        if (event.deltaY < 0) {\n",
       "            event.step = 1;\n",
       "        } else {\n",
       "            event.step = -1;\n",
       "        }\n",
       "        mouse_event_fn(event);\n",
       "    });\n",
       "\n",
       "    canvas_div.append(canvas);\n",
       "    canvas_div.append(rubberband);\n",
       "\n",
       "    this.rubberband = rubberband;\n",
       "    this.rubberband_canvas = rubberband[0];\n",
       "    this.rubberband_context = rubberband[0].getContext(\"2d\");\n",
       "    this.rubberband_context.strokeStyle = \"#000000\";\n",
       "\n",
       "    this._resize_canvas = function(width, height) {\n",
       "        // Keep the size of the canvas, canvas container, and rubber band\n",
       "        // canvas in synch.\n",
       "        canvas_div.css('width', width)\n",
       "        canvas_div.css('height', height)\n",
       "\n",
       "        canvas.attr('width', width);\n",
       "        canvas.attr('height', height);\n",
       "\n",
       "        rubberband.attr('width', width);\n",
       "        rubberband.attr('height', height);\n",
       "    }\n",
       "\n",
       "    // Set the figure to an initial 600x600px, this will subsequently be updated\n",
       "    // upon first draw.\n",
       "    this._resize_canvas(600, 600);\n",
       "\n",
       "    // Disable right mouse context menu.\n",
       "    $(this.rubberband_canvas).bind(\"contextmenu\",function(e){\n",
       "        return false;\n",
       "    });\n",
       "\n",
       "    function set_focus () {\n",
       "        canvas.focus();\n",
       "        canvas_div.focus();\n",
       "    }\n",
       "\n",
       "    window.setTimeout(set_focus, 100);\n",
       "}\n",
       "\n",
       "mpl.figure.prototype._init_toolbar = function() {\n",
       "    var fig = this;\n",
       "\n",
       "    var nav_element = $('<div/>')\n",
       "    nav_element.attr('style', 'width: 100%');\n",
       "    this.root.append(nav_element);\n",
       "\n",
       "    // Define a callback function for later on.\n",
       "    function toolbar_event(event) {\n",
       "        return fig.toolbar_button_onclick(event['data']);\n",
       "    }\n",
       "    function toolbar_mouse_event(event) {\n",
       "        return fig.toolbar_button_onmouseover(event['data']);\n",
       "    }\n",
       "\n",
       "    for(var toolbar_ind in mpl.toolbar_items) {\n",
       "        var name = mpl.toolbar_items[toolbar_ind][0];\n",
       "        var tooltip = mpl.toolbar_items[toolbar_ind][1];\n",
       "        var image = mpl.toolbar_items[toolbar_ind][2];\n",
       "        var method_name = mpl.toolbar_items[toolbar_ind][3];\n",
       "\n",
       "        if (!name) {\n",
       "            // put a spacer in here.\n",
       "            continue;\n",
       "        }\n",
       "        var button = $('<button/>');\n",
       "        button.addClass('ui-button ui-widget ui-state-default ui-corner-all ' +\n",
       "                        'ui-button-icon-only');\n",
       "        button.attr('role', 'button');\n",
       "        button.attr('aria-disabled', 'false');\n",
       "        button.click(method_name, toolbar_event);\n",
       "        button.mouseover(tooltip, toolbar_mouse_event);\n",
       "\n",
       "        var icon_img = $('<span/>');\n",
       "        icon_img.addClass('ui-button-icon-primary ui-icon');\n",
       "        icon_img.addClass(image);\n",
       "        icon_img.addClass('ui-corner-all');\n",
       "\n",
       "        var tooltip_span = $('<span/>');\n",
       "        tooltip_span.addClass('ui-button-text');\n",
       "        tooltip_span.html(tooltip);\n",
       "\n",
       "        button.append(icon_img);\n",
       "        button.append(tooltip_span);\n",
       "\n",
       "        nav_element.append(button);\n",
       "    }\n",
       "\n",
       "    var fmt_picker_span = $('<span/>');\n",
       "\n",
       "    var fmt_picker = $('<select/>');\n",
       "    fmt_picker.addClass('mpl-toolbar-option ui-widget ui-widget-content');\n",
       "    fmt_picker_span.append(fmt_picker);\n",
       "    nav_element.append(fmt_picker_span);\n",
       "    this.format_dropdown = fmt_picker[0];\n",
       "\n",
       "    for (var ind in mpl.extensions) {\n",
       "        var fmt = mpl.extensions[ind];\n",
       "        var option = $(\n",
       "            '<option/>', {selected: fmt === mpl.default_extension}).html(fmt);\n",
       "        fmt_picker.append(option)\n",
       "    }\n",
       "\n",
       "    // Add hover states to the ui-buttons\n",
       "    $( \".ui-button\" ).hover(\n",
       "        function() { $(this).addClass(\"ui-state-hover\");},\n",
       "        function() { $(this).removeClass(\"ui-state-hover\");}\n",
       "    );\n",
       "\n",
       "    var status_bar = $('<span class=\"mpl-message\"/>');\n",
       "    nav_element.append(status_bar);\n",
       "    this.message = status_bar[0];\n",
       "}\n",
       "\n",
       "mpl.figure.prototype.request_resize = function(x_pixels, y_pixels) {\n",
       "    // Request matplotlib to resize the figure. Matplotlib will then trigger a resize in the client,\n",
       "    // which will in turn request a refresh of the image.\n",
       "    this.send_message('resize', {'width': x_pixels, 'height': y_pixels});\n",
       "}\n",
       "\n",
       "mpl.figure.prototype.send_message = function(type, properties) {\n",
       "    properties['type'] = type;\n",
       "    properties['figure_id'] = this.id;\n",
       "    this.ws.send(JSON.stringify(properties));\n",
       "}\n",
       "\n",
       "mpl.figure.prototype.send_draw_message = function() {\n",
       "    if (!this.waiting) {\n",
       "        this.waiting = true;\n",
       "        this.ws.send(JSON.stringify({type: \"draw\", figure_id: this.id}));\n",
       "    }\n",
       "}\n",
       "\n",
       "\n",
       "mpl.figure.prototype.handle_save = function(fig, msg) {\n",
       "    var format_dropdown = fig.format_dropdown;\n",
       "    var format = format_dropdown.options[format_dropdown.selectedIndex].value;\n",
       "    fig.ondownload(fig, format);\n",
       "}\n",
       "\n",
       "\n",
       "mpl.figure.prototype.handle_resize = function(fig, msg) {\n",
       "    var size = msg['size'];\n",
       "    if (size[0] != fig.canvas.width || size[1] != fig.canvas.height) {\n",
       "        fig._resize_canvas(size[0], size[1]);\n",
       "        fig.send_message(\"refresh\", {});\n",
       "    };\n",
       "}\n",
       "\n",
       "mpl.figure.prototype.handle_rubberband = function(fig, msg) {\n",
       "    var x0 = msg['x0'];\n",
       "    var y0 = fig.canvas.height - msg['y0'];\n",
       "    var x1 = msg['x1'];\n",
       "    var y1 = fig.canvas.height - msg['y1'];\n",
       "    x0 = Math.floor(x0) + 0.5;\n",
       "    y0 = Math.floor(y0) + 0.5;\n",
       "    x1 = Math.floor(x1) + 0.5;\n",
       "    y1 = Math.floor(y1) + 0.5;\n",
       "    var min_x = Math.min(x0, x1);\n",
       "    var min_y = Math.min(y0, y1);\n",
       "    var width = Math.abs(x1 - x0);\n",
       "    var height = Math.abs(y1 - y0);\n",
       "\n",
       "    fig.rubberband_context.clearRect(\n",
       "        0, 0, fig.canvas.width, fig.canvas.height);\n",
       "\n",
       "    fig.rubberband_context.strokeRect(min_x, min_y, width, height);\n",
       "}\n",
       "\n",
       "mpl.figure.prototype.handle_figure_label = function(fig, msg) {\n",
       "    // Updates the figure title.\n",
       "    fig.header.textContent = msg['label'];\n",
       "}\n",
       "\n",
       "mpl.figure.prototype.handle_cursor = function(fig, msg) {\n",
       "    var cursor = msg['cursor'];\n",
       "    switch(cursor)\n",
       "    {\n",
       "    case 0:\n",
       "        cursor = 'pointer';\n",
       "        break;\n",
       "    case 1:\n",
       "        cursor = 'default';\n",
       "        break;\n",
       "    case 2:\n",
       "        cursor = 'crosshair';\n",
       "        break;\n",
       "    case 3:\n",
       "        cursor = 'move';\n",
       "        break;\n",
       "    }\n",
       "    fig.rubberband_canvas.style.cursor = cursor;\n",
       "}\n",
       "\n",
       "mpl.figure.prototype.handle_message = function(fig, msg) {\n",
       "    fig.message.textContent = msg['message'];\n",
       "}\n",
       "\n",
       "mpl.figure.prototype.handle_draw = function(fig, msg) {\n",
       "    // Request the server to send over a new figure.\n",
       "    fig.send_draw_message();\n",
       "}\n",
       "\n",
       "mpl.figure.prototype.handle_image_mode = function(fig, msg) {\n",
       "    fig.image_mode = msg['mode'];\n",
       "}\n",
       "\n",
       "mpl.figure.prototype.updated_canvas_event = function() {\n",
       "    // Called whenever the canvas gets updated.\n",
       "    this.send_message(\"ack\", {});\n",
       "}\n",
       "\n",
       "// A function to construct a web socket function for onmessage handling.\n",
       "// Called in the figure constructor.\n",
       "mpl.figure.prototype._make_on_message_function = function(fig) {\n",
       "    return function socket_on_message(evt) {\n",
       "        if (evt.data instanceof Blob) {\n",
       "            /* FIXME: We get \"Resource interpreted as Image but\n",
       "             * transferred with MIME type text/plain:\" errors on\n",
       "             * Chrome.  But how to set the MIME type?  It doesn't seem\n",
       "             * to be part of the websocket stream */\n",
       "            evt.data.type = \"image/png\";\n",
       "\n",
       "            /* Free the memory for the previous frames */\n",
       "            if (fig.imageObj.src) {\n",
       "                (window.URL || window.webkitURL).revokeObjectURL(\n",
       "                    fig.imageObj.src);\n",
       "            }\n",
       "\n",
       "            fig.imageObj.src = (window.URL || window.webkitURL).createObjectURL(\n",
       "                evt.data);\n",
       "            fig.updated_canvas_event();\n",
       "            fig.waiting = false;\n",
       "            return;\n",
       "        }\n",
       "        else if (typeof evt.data === 'string' && evt.data.slice(0, 21) == \"data:image/png;base64\") {\n",
       "            fig.imageObj.src = evt.data;\n",
       "            fig.updated_canvas_event();\n",
       "            fig.waiting = false;\n",
       "            return;\n",
       "        }\n",
       "\n",
       "        var msg = JSON.parse(evt.data);\n",
       "        var msg_type = msg['type'];\n",
       "\n",
       "        // Call the  \"handle_{type}\" callback, which takes\n",
       "        // the figure and JSON message as its only arguments.\n",
       "        try {\n",
       "            var callback = fig[\"handle_\" + msg_type];\n",
       "        } catch (e) {\n",
       "            console.log(\"No handler for the '\" + msg_type + \"' message type: \", msg);\n",
       "            return;\n",
       "        }\n",
       "\n",
       "        if (callback) {\n",
       "            try {\n",
       "                // console.log(\"Handling '\" + msg_type + \"' message: \", msg);\n",
       "                callback(fig, msg);\n",
       "            } catch (e) {\n",
       "                console.log(\"Exception inside the 'handler_\" + msg_type + \"' callback:\", e, e.stack, msg);\n",
       "            }\n",
       "        }\n",
       "    };\n",
       "}\n",
       "\n",
       "// from http://stackoverflow.com/questions/1114465/getting-mouse-location-in-canvas\n",
       "mpl.findpos = function(e) {\n",
       "    //this section is from http://www.quirksmode.org/js/events_properties.html\n",
       "    var targ;\n",
       "    if (!e)\n",
       "        e = window.event;\n",
       "    if (e.target)\n",
       "        targ = e.target;\n",
       "    else if (e.srcElement)\n",
       "        targ = e.srcElement;\n",
       "    if (targ.nodeType == 3) // defeat Safari bug\n",
       "        targ = targ.parentNode;\n",
       "\n",
       "    // jQuery normalizes the pageX and pageY\n",
       "    // pageX,Y are the mouse positions relative to the document\n",
       "    // offset() returns the position of the element relative to the document\n",
       "    var x = e.pageX - $(targ).offset().left;\n",
       "    var y = e.pageY - $(targ).offset().top;\n",
       "\n",
       "    return {\"x\": x, \"y\": y};\n",
       "};\n",
       "\n",
       "/*\n",
       " * return a copy of an object with only non-object keys\n",
       " * we need this to avoid circular references\n",
       " * http://stackoverflow.com/a/24161582/3208463\n",
       " */\n",
       "function simpleKeys (original) {\n",
       "  return Object.keys(original).reduce(function (obj, key) {\n",
       "    if (typeof original[key] !== 'object')\n",
       "        obj[key] = original[key]\n",
       "    return obj;\n",
       "  }, {});\n",
       "}\n",
       "\n",
       "mpl.figure.prototype.mouse_event = function(event, name) {\n",
       "    var canvas_pos = mpl.findpos(event)\n",
       "\n",
       "    if (name === 'button_press')\n",
       "    {\n",
       "        this.canvas.focus();\n",
       "        this.canvas_div.focus();\n",
       "    }\n",
       "\n",
       "    var x = canvas_pos.x;\n",
       "    var y = canvas_pos.y;\n",
       "\n",
       "    this.send_message(name, {x: x, y: y, button: event.button,\n",
       "                             step: event.step,\n",
       "                             guiEvent: simpleKeys(event)});\n",
       "\n",
       "    /* This prevents the web browser from automatically changing to\n",
       "     * the text insertion cursor when the button is pressed.  We want\n",
       "     * to control all of the cursor setting manually through the\n",
       "     * 'cursor' event from matplotlib */\n",
       "    event.preventDefault();\n",
       "    return false;\n",
       "}\n",
       "\n",
       "mpl.figure.prototype._key_event_extra = function(event, name) {\n",
       "    // Handle any extra behaviour associated with a key event\n",
       "}\n",
       "\n",
       "mpl.figure.prototype.key_event = function(event, name) {\n",
       "\n",
       "    // Prevent repeat events\n",
       "    if (name == 'key_press')\n",
       "    {\n",
       "        if (event.which === this._key)\n",
       "            return;\n",
       "        else\n",
       "            this._key = event.which;\n",
       "    }\n",
       "    if (name == 'key_release')\n",
       "        this._key = null;\n",
       "\n",
       "    var value = '';\n",
       "    if (event.ctrlKey && event.which != 17)\n",
       "        value += \"ctrl+\";\n",
       "    if (event.altKey && event.which != 18)\n",
       "        value += \"alt+\";\n",
       "    if (event.shiftKey && event.which != 16)\n",
       "        value += \"shift+\";\n",
       "\n",
       "    value += 'k';\n",
       "    value += event.which.toString();\n",
       "\n",
       "    this._key_event_extra(event, name);\n",
       "\n",
       "    this.send_message(name, {key: value,\n",
       "                             guiEvent: simpleKeys(event)});\n",
       "    return false;\n",
       "}\n",
       "\n",
       "mpl.figure.prototype.toolbar_button_onclick = function(name) {\n",
       "    if (name == 'download') {\n",
       "        this.handle_save(this, null);\n",
       "    } else {\n",
       "        this.send_message(\"toolbar_button\", {name: name});\n",
       "    }\n",
       "};\n",
       "\n",
       "mpl.figure.prototype.toolbar_button_onmouseover = function(tooltip) {\n",
       "    this.message.textContent = tooltip;\n",
       "};\n",
       "mpl.toolbar_items = [[\"Home\", \"Reset original view\", \"fa fa-home icon-home\", \"home\"], [\"Back\", \"Back to  previous view\", \"fa fa-arrow-left icon-arrow-left\", \"back\"], [\"Forward\", \"Forward to next view\", \"fa fa-arrow-right icon-arrow-right\", \"forward\"], [\"\", \"\", \"\", \"\"], [\"Pan\", \"Pan axes with left mouse, zoom with right\", \"fa fa-arrows icon-move\", \"pan\"], [\"Zoom\", \"Zoom to rectangle\", \"fa fa-square-o icon-check-empty\", \"zoom\"], [\"\", \"\", \"\", \"\"], [\"Download\", \"Download plot\", \"fa fa-floppy-o icon-save\", \"download\"]];\n",
       "\n",
       "mpl.extensions = [\"eps\", \"jpeg\", \"pdf\", \"png\", \"ps\", \"raw\", \"svg\", \"tif\"];\n",
       "\n",
       "mpl.default_extension = \"png\";var comm_websocket_adapter = function(comm) {\n",
       "    // Create a \"websocket\"-like object which calls the given IPython comm\n",
       "    // object with the appropriate methods. Currently this is a non binary\n",
       "    // socket, so there is still some room for performance tuning.\n",
       "    var ws = {};\n",
       "\n",
       "    ws.close = function() {\n",
       "        comm.close()\n",
       "    };\n",
       "    ws.send = function(m) {\n",
       "        //console.log('sending', m);\n",
       "        comm.send(m);\n",
       "    };\n",
       "    // Register the callback with on_msg.\n",
       "    comm.on_msg(function(msg) {\n",
       "        //console.log('receiving', msg['content']['data'], msg);\n",
       "        // Pass the mpl event to the overriden (by mpl) onmessage function.\n",
       "        ws.onmessage(msg['content']['data'])\n",
       "    });\n",
       "    return ws;\n",
       "}\n",
       "\n",
       "mpl.mpl_figure_comm = function(comm, msg) {\n",
       "    // This is the function which gets called when the mpl process\n",
       "    // starts-up an IPython Comm through the \"matplotlib\" channel.\n",
       "\n",
       "    var id = msg.content.data.id;\n",
       "    // Get hold of the div created by the display call when the Comm\n",
       "    // socket was opened in Python.\n",
       "    var element = $(\"#\" + id);\n",
       "    var ws_proxy = comm_websocket_adapter(comm)\n",
       "\n",
       "    function ondownload(figure, format) {\n",
       "        window.open(figure.imageObj.src);\n",
       "    }\n",
       "\n",
       "    var fig = new mpl.figure(id, ws_proxy,\n",
       "                           ondownload,\n",
       "                           element.get(0));\n",
       "\n",
       "    // Call onopen now - mpl needs it, as it is assuming we've passed it a real\n",
       "    // web socket which is closed, not our websocket->open comm proxy.\n",
       "    ws_proxy.onopen();\n",
       "\n",
       "    fig.parent_element = element.get(0);\n",
       "    fig.cell_info = mpl.find_output_cell(\"<div id='\" + id + \"'></div>\");\n",
       "    if (!fig.cell_info) {\n",
       "        console.error(\"Failed to find cell for figure\", id, fig);\n",
       "        return;\n",
       "    }\n",
       "\n",
       "    var output_index = fig.cell_info[2]\n",
       "    var cell = fig.cell_info[0];\n",
       "\n",
       "};\n",
       "\n",
       "mpl.figure.prototype.handle_close = function(fig, msg) {\n",
       "    fig.root.unbind('remove')\n",
       "\n",
       "    // Update the output cell to use the data from the current canvas.\n",
       "    fig.push_to_output();\n",
       "    var dataURL = fig.canvas.toDataURL();\n",
       "    // Re-enable the keyboard manager in IPython - without this line, in FF,\n",
       "    // the notebook keyboard shortcuts fail.\n",
       "    IPython.keyboard_manager.enable()\n",
       "    $(fig.parent_element).html('<img src=\"' + dataURL + '\">');\n",
       "    fig.close_ws(fig, msg);\n",
       "}\n",
       "\n",
       "mpl.figure.prototype.close_ws = function(fig, msg){\n",
       "    fig.send_message('closing', msg);\n",
       "    // fig.ws.close()\n",
       "}\n",
       "\n",
       "mpl.figure.prototype.push_to_output = function(remove_interactive) {\n",
       "    // Turn the data on the canvas into data in the output cell.\n",
       "    var dataURL = this.canvas.toDataURL();\n",
       "    this.cell_info[1]['text/html'] = '<img src=\"' + dataURL + '\">';\n",
       "}\n",
       "\n",
       "mpl.figure.prototype.updated_canvas_event = function() {\n",
       "    // Tell IPython that the notebook contents must change.\n",
       "    IPython.notebook.set_dirty(true);\n",
       "    this.send_message(\"ack\", {});\n",
       "    var fig = this;\n",
       "    // Wait a second, then push the new image to the DOM so\n",
       "    // that it is saved nicely (might be nice to debounce this).\n",
       "    setTimeout(function () { fig.push_to_output() }, 1000);\n",
       "}\n",
       "\n",
       "mpl.figure.prototype._init_toolbar = function() {\n",
       "    var fig = this;\n",
       "\n",
       "    var nav_element = $('<div/>')\n",
       "    nav_element.attr('style', 'width: 100%');\n",
       "    this.root.append(nav_element);\n",
       "\n",
       "    // Define a callback function for later on.\n",
       "    function toolbar_event(event) {\n",
       "        return fig.toolbar_button_onclick(event['data']);\n",
       "    }\n",
       "    function toolbar_mouse_event(event) {\n",
       "        return fig.toolbar_button_onmouseover(event['data']);\n",
       "    }\n",
       "\n",
       "    for(var toolbar_ind in mpl.toolbar_items){\n",
       "        var name = mpl.toolbar_items[toolbar_ind][0];\n",
       "        var tooltip = mpl.toolbar_items[toolbar_ind][1];\n",
       "        var image = mpl.toolbar_items[toolbar_ind][2];\n",
       "        var method_name = mpl.toolbar_items[toolbar_ind][3];\n",
       "\n",
       "        if (!name) { continue; };\n",
       "\n",
       "        var button = $('<button class=\"btn btn-default\" href=\"#\" title=\"' + name + '\"><i class=\"fa ' + image + ' fa-lg\"></i></button>');\n",
       "        button.click(method_name, toolbar_event);\n",
       "        button.mouseover(tooltip, toolbar_mouse_event);\n",
       "        nav_element.append(button);\n",
       "    }\n",
       "\n",
       "    // Add the status bar.\n",
       "    var status_bar = $('<span class=\"mpl-message\" style=\"text-align:right; float: right;\"/>');\n",
       "    nav_element.append(status_bar);\n",
       "    this.message = status_bar[0];\n",
       "\n",
       "    // Add the close button to the window.\n",
       "    var buttongrp = $('<div class=\"btn-group inline pull-right\"></div>');\n",
       "    var button = $('<button class=\"btn btn-mini btn-primary\" href=\"#\" title=\"Stop Interaction\"><i class=\"fa fa-power-off icon-remove icon-large\"></i></button>');\n",
       "    button.click(function (evt) { fig.handle_close(fig, {}); } );\n",
       "    button.mouseover('Stop Interaction', toolbar_mouse_event);\n",
       "    buttongrp.append(button);\n",
       "    var titlebar = this.root.find($('.ui-dialog-titlebar'));\n",
       "    titlebar.prepend(buttongrp);\n",
       "}\n",
       "\n",
       "mpl.figure.prototype._root_extra_style = function(el){\n",
       "    var fig = this\n",
       "    el.on(\"remove\", function(){\n",
       "\tfig.close_ws(fig, {});\n",
       "    });\n",
       "}\n",
       "\n",
       "mpl.figure.prototype._canvas_extra_style = function(el){\n",
       "    // this is important to make the div 'focusable\n",
       "    el.attr('tabindex', 0)\n",
       "    // reach out to IPython and tell the keyboard manager to turn it's self\n",
       "    // off when our div gets focus\n",
       "\n",
       "    // location in version 3\n",
       "    if (IPython.notebook.keyboard_manager) {\n",
       "        IPython.notebook.keyboard_manager.register_events(el);\n",
       "    }\n",
       "    else {\n",
       "        // location in version 2\n",
       "        IPython.keyboard_manager.register_events(el);\n",
       "    }\n",
       "\n",
       "}\n",
       "\n",
       "mpl.figure.prototype._key_event_extra = function(event, name) {\n",
       "    var manager = IPython.notebook.keyboard_manager;\n",
       "    if (!manager)\n",
       "        manager = IPython.keyboard_manager;\n",
       "\n",
       "    // Check for shift+enter\n",
       "    if (event.shiftKey && event.which == 13) {\n",
       "        this.canvas_div.blur();\n",
       "        // select the cell after this one\n",
       "        var index = IPython.notebook.find_cell_index(this.cell_info[0]);\n",
       "        IPython.notebook.select(index + 1);\n",
       "    }\n",
       "}\n",
       "\n",
       "mpl.figure.prototype.handle_save = function(fig, msg) {\n",
       "    fig.ondownload(fig, null);\n",
       "}\n",
       "\n",
       "\n",
       "mpl.find_output_cell = function(html_output) {\n",
       "    // Return the cell and output element which can be found *uniquely* in the notebook.\n",
       "    // Note - this is a bit hacky, but it is done because the \"notebook_saving.Notebook\"\n",
       "    // IPython event is triggered only after the cells have been serialised, which for\n",
       "    // our purposes (turning an active figure into a static one), is too late.\n",
       "    var cells = IPython.notebook.get_cells();\n",
       "    var ncells = cells.length;\n",
       "    for (var i=0; i<ncells; i++) {\n",
       "        var cell = cells[i];\n",
       "        if (cell.cell_type === 'code'){\n",
       "            for (var j=0; j<cell.output_area.outputs.length; j++) {\n",
       "                var data = cell.output_area.outputs[j];\n",
       "                if (data.data) {\n",
       "                    // IPython >= 3 moved mimebundle to data attribute of output\n",
       "                    data = data.data;\n",
       "                }\n",
       "                if (data['text/html'] == html_output) {\n",
       "                    return [cell, data, j];\n",
       "                }\n",
       "            }\n",
       "        }\n",
       "    }\n",
       "}\n",
       "\n",
       "// Register the function which deals with the matplotlib target/channel.\n",
       "// The kernel may be null if the page has been refreshed.\n",
       "if (IPython.notebook.kernel != null) {\n",
       "    IPython.notebook.kernel.comm_manager.register_target('matplotlib', mpl.mpl_figure_comm);\n",
       "}\n"
      ],
      "text/plain": [
       "<IPython.core.display.Javascript object>"
      ]
     },
     "metadata": {},
     "output_type": "display_data"
    },
    {
     "data": {
      "text/html": [
       "<img src=\"data:image/png;base64,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\">"
      ],
      "text/plain": [
       "<IPython.core.display.HTML object>"
      ]
     },
     "metadata": {},
     "output_type": "display_data"
    }
   ],
   "source": [
    "sp.var('C1'), solutionToFirstModel.subs([(C1,1)])\n",
    "sp.plot(sp.exp(-2*t),(t,0,10));"
   ]
  },
  {
   "cell_type": "markdown",
   "metadata": {
    "slideshow": {
     "slide_type": "slide"
    }
   },
   "source": [
    "This is the other ODE of interest:\n",
    "\n",
    "$$\n",
    "\\frac{d^2 x(t)}{dt^2} \\frac{1}{x(t)} + k = 0\n",
    "$$\n",
    "\n",
    "Solve this ODE with boundary conditions:\n",
    "\n",
    "$$\n",
    "x(t) = 0\n",
    "$$\n",
    "\n",
    "at $t = 0$ and $t = 2\\pi$"
   ]
  },
  {
   "cell_type": "code",
   "execution_count": 38,
   "metadata": {
    "collapsed": false,
    "slideshow": {
     "slide_type": "slide"
    }
   },
   "outputs": [
    {
     "data": {
      "text/plain": [
       "True"
      ]
     },
     "execution_count": 38,
     "metadata": {},
     "output_type": "execute_result"
    }
   ],
   "source": [
    "# 0\n",
    "\n",
    "%matplotlib notebook\n",
    "import sympy as sp\n",
    "import numpy as np\n",
    "from ipywidgets import interact, fixed\n",
    "sp.init_printing()\n",
    "x, t = sp.symbols('x t')\n",
    "k, alpha = sp.symbols('k alpha', positive=True)\n",
    "\n",
    "sp.diff(sp.diff(x(t))) == x(t).diff(t,2) == x(t).diff(t).diff(t)"
   ]
  },
  {
   "cell_type": "code",
   "execution_count": 44,
   "metadata": {
    "collapsed": false,
    "slideshow": {
     "slide_type": "slide"
    }
   },
   "outputs": [
    {
     "data": {
      "text/plain": [
       "True"
      ]
     },
     "execution_count": 44,
     "metadata": {},
     "output_type": "execute_result"
    }
   ],
   "source": [
    "# 1\n",
    "\n",
    "(x*k).subs(k,2).subs(x,3) == (x*k).subs([(k,2),(x,3)])"
   ]
  },
  {
   "cell_type": "code",
   "execution_count": 55,
   "metadata": {
    "collapsed": false,
    "slideshow": {
     "slide_type": "slide"
    }
   },
   "outputs": [
    {
     "data": {
      "image/png": "[encoded data removed]",
      "text/latex": [
       "$$\\left [ - \\frac{\\sqrt{30}}{3}, \\quad \\frac{\\sqrt{30}}{3}\\right ]$$"
      ],
      "text/plain": [
       "⎡-√30   √30⎤\n",
       "⎢─────, ───⎥\n",
       "⎣  3     3 ⎦"
      ]
     },
     "execution_count": 55,
     "metadata": {},
     "output_type": "execute_result"
    }
   ],
   "source": [
    "# 2\n",
    "\n",
    "polyEquation = sp.Eq(3*x**2 - 2,8)\n",
    "sp.solve(polyEquation,x)"
   ]
  },
  {
   "cell_type": "code",
   "execution_count": 36,
   "metadata": {
    "collapsed": false,
    "slideshow": {
     "slide_type": "slide"
    }
   },
   "outputs": [
    {
     "data": {
      "image/png": "[encoded data removed]",
      "text/latex": [
       "$$x{\\left (t \\right )} = C_{1} \\sin{\\left (k t \\right )}$$"
      ],
      "text/plain": [
       "x(t) = C₁⋅sin(k⋅t)"
      ]
     },
     "execution_count": 36,
     "metadata": {},
     "output_type": "execute_result"
    }
   ],
   "source": [
    "secondModelToSolve = x(t).diff(t,2)/x(t) + k**2\n",
    "sp.var('C1 C2')\n",
    "solutionToSecondModel = sp.dsolve(secondModelToSolve).subs(C2,0)\n",
    "solutionToSecondModel"
   ]
  },
  {
   "cell_type": "markdown",
   "metadata": {
    "slideshow": {
     "slide_type": "skip"
    }
   },
   "source": [
    "### Homework\n",
    "----"
   ]
  },
  {
   "cell_type": "markdown",
   "metadata": {
    "slideshow": {
     "slide_type": "skip"
    }
   },
   "source": [
    "#### Solve the Maxwell model for a time varying stress.\n",
    "\n",
    "Siolve the Maxwell model for a time varying stress.  Solve in `sympy` and plot with `numpy` (you'll get better plotting performance.  You will be graded on your solution as well as your visualization and written response.  Choose a forcing function such as:\n",
    "\n",
    "$$\\sigma(t) = \\sigma_0 \\sin(\\omega t)$$\n",
    "\n",
    "for this problem."
   ]
  },
  {
   "cell_type": "code",
   "execution_count": null,
   "metadata": {
    "collapsed": true,
    "slideshow": {
     "slide_type": "skip"
    }
   },
   "outputs": [],
   "source": [
    "# your code goes here."
   ]
  },
  {
   "cell_type": "markdown",
   "metadata": {
    "slideshow": {
     "slide_type": "skip"
    }
   },
   "source": [
    "[Top of Page](#Sections)"
   ]
  },
  {
   "cell_type": "markdown",
   "metadata": {
    "slideshow": {
     "slide_type": "skip"
    }
   },
   "source": [
    "### Looking Ahead\n",
    "----\n",
    "\n",
    "[Top of Page](#Sections)"
   ]
  },
  {
   "cell_type": "markdown",
   "metadata": {
    "slideshow": {
     "slide_type": "skip"
    }
   },
   "source": [
    "### Reading Assignments and Practice\n",
    "----\n",
    "\n",
    "[Top of Page](#Sections)"
   ]
  }
 ],
 "metadata": {
  "anaconda-cloud": {},
  "celltoolbar": "Slideshow",
  "kernelspec": {
   "display_name": "Python 2",
   "language": "python",
   "name": "python2"
  },
  "language_info": {
   "codemirror_mode": {
    "name": "ipython",
    "version": 2
   },
   "file_extension": ".py",
   "mimetype": "text/x-python",
   "name": "python",
   "nbconvert_exporter": "python",
   "pygments_lexer": "ipython2",
   "version": "2.7.13"
  }
 },
 "nbformat": 4,
 "nbformat_minor": 0
}
