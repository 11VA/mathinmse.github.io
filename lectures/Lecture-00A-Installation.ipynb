{
 "cells": [
  {
   "cell_type": "markdown",
   "metadata": {},
   "source": [
    "## Anaconda Python\n",
    "\n",
    "The only software we need for this class is a python distribution. For this we have several options such as Enthought's Canopy, but for this class we will stick with Continuum's Anaconda as a python distribution. You must use Python 2.7.\n",
    "\n",
    "Download Anaconda Python 2.7 from:  https://www.continuum.io/downloads\n",
    " \n",
    "To get a better understanding of all the basic functionality of Anaconda, it's strongly recommended to take a couple minutes and go on the 30-min Test Drive: http://conda.pydata.org/docs/test-drive.html\n",
    " \n",
    "After installing Python 2.7, open up the Command Prompt and verify Anaconda has been installed:"
   ]
  },
  {
   "cell_type": "markdown",
   "metadata": {},
   "source": [
    "`conda --version`"
   ]
  },
  {
   "cell_type": "markdown",
   "metadata": {},
   "source": [
    "This should give you a version number for your Anaconda installation. If not, your installation was not successful.\n",
    " \n",
    "At this point, I recommend creating a new folder for the class. I made one at C:\\Users\\zhaol8\\Documents\\Applied Math in Materials. Next, make a new virtual environment:"
   ]
  },
  {
   "cell_type": "markdown",
   "metadata": {},
   "source": [
    "conda create --name mathmatl python=2.7"
   ]
  },
  {
   "cell_type": "markdown",
   "metadata": {},
   "source": [
    " A virtual environment allow you to create a unique ecosystem of packages. If package A requires version 2.0 of package B, but package C requires version 3.0 of package B, virtual environments allow that all happen on the same computer. After you've created a virtual environment, activate the virtual environment to start working in it:"
   ]
  },
  {
   "cell_type": "markdown",
   "metadata": {},
   "source": [
    "activate mathmatl"
   ]
  },
  {
   "cell_type": "markdown",
   "metadata": {},
   "source": [
    "At this point, Prof Lewis will tell us which packages he wants us to install in the class (hopefully one by one so we get a good understanding of each package!). Now we can start working!"
   ]
  },
  {
   "cell_type": "markdown",
   "metadata": {},
   "source": [
    "## The Jupyter Notebook\n",
    " \n",
    "Now that we have the \"engine\" installation setup, let's talk about how we'll actually be programming. With any programming language, you need a place to write/run code. In Matlab and Mathematica, there were very easy GUI's (Graphical User Interfaces) that pop up when you start the application. For Anaconda, you'll need to start the GUI from the command line:"
   ]
  },
  {
   "cell_type": "markdown",
   "metadata": {},
   "source": [
    "`jupyter notebook`"
   ]
  },
  {
   "cell_type": "markdown",
   "metadata": {},
   "source": [
    "This should open up your default web browser and your active directory in the Command Prompt will appear on the screen. Note that the Command Prompt will still be open. LEAVE IT OPEN!\n",
    " \n",
    "Open a new notebook:"
   ]
  },
  {
   "cell_type": "markdown",
   "metadata": {},
   "source": [
    "![](images/New-Notebook.png)"
   ]
  },
  {
   "cell_type": "markdown",
   "metadata": {},
   "source": [
    "The notebook will appear. It's here that most of the coding will take place! (Remember, Shift+Enter to run lines)"
   ]
  },
  {
   "cell_type": "markdown",
   "metadata": {},
   "source": [
    "![](images/Jupyter.png)"
   ]
  },
  {
   "cell_type": "markdown",
   "metadata": {},
   "source": [
    "To close out of Jupyter, you need to close the browser and head back to the Command Prompt and press CTRL+C, TWICE!!"
   ]
  },
  {
   "cell_type": "markdown",
   "metadata": {},
   "source": [
    "![](images/Terminal.png)"
   ]
  }
 ],
 "metadata": {
  "kernelspec": {
   "display_name": "Python 2",
   "language": "python",
   "name": "python2"
  },
  "language_info": {
   "codemirror_mode": {
    "name": "ipython",
    "version": 2
   },
   "file_extension": ".py",
   "mimetype": "text/x-python",
   "name": "python",
   "nbconvert_exporter": "python",
   "pygments_lexer": "ipython2",
   "version": "2.7.13"
  }
 },
 "nbformat": 4,
 "nbformat_minor": 0
}
