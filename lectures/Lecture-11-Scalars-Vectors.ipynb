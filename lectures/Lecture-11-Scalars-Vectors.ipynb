{
 "cells": [
  {
   "cell_type": "markdown",
   "metadata": {
    "slideshow": {
     "slide_type": "slide"
    }
   },
   "source": [
    "# Lecture 11:  Scalar and Vector Fields, Accumulation "
   ]
  },
  {
   "cell_type": "markdown",
   "metadata": {
    "slideshow": {
     "slide_type": "slide"
    }
   },
   "source": [
    "### Sections\n",
    "\n",
    "* [Introduction](#Introduction)\n",
    "* [Learning Goals](#Learning-Goals)\n",
    "* [On Your Own](#On-Your-Own)\n",
    "    * Scalar Fields\n",
    "    * Visualizing the Scalar Field by Contours\n",
    "    * Visualizing the Scalar Field by Value"
   ]
  },
  {
   "cell_type": "markdown",
   "metadata": {
    "slideshow": {
     "slide_type": "subslide"
    }
   },
   "source": [
    "* [In Class](#In-Class)\n",
    "    * Use a stream or quiver plot to visualize the gradient\n",
    "    * Combine them into one plot\n",
    "    * Compute the divergence of a vector field\n",
    "    * Relate both of these concepts to flux and accumulation in diffusive problems\n",
    "* [Homework](#Homework)\n",
    "* [Summary](#Summary)\n",
    "* [Looking Ahead](#Looking-Ahead)\n",
    "* [Reading Assignments and Practice](#Reading-Assignments-and-Practice)"
   ]
  },
  {
   "cell_type": "markdown",
   "metadata": {
    "slideshow": {
     "slide_type": "slide"
    }
   },
   "source": [
    "## Introduction\n",
    "----\n",
    "\n",
    "In this lecture we will continue building visualization tools to understand scalar and vector quantitites.  Diffusive problems are contextualized in terms of chemical potentials, fluxes and accumulation.  In this lecture we work with scalar fields, compute their vector potentials and develop flux-potential relationships.  \n",
    "\n",
    "A knowledge of the ideal solution model from chemical thermodynamics will be helpful in completing the lab activities."
   ]
  },
  {
   "cell_type": "markdown",
   "metadata": {
    "slideshow": {
     "slide_type": "skip"
    }
   },
   "source": [
    "[Top of Page](#Sections)"
   ]
  },
  {
   "cell_type": "markdown",
   "metadata": {
    "slideshow": {
     "slide_type": "slide"
    }
   },
   "source": [
    "## Learning Goals\n",
    "----\n",
    "\n",
    "1.  Know the difference between scalar field and a vector field.\n",
    "1.  Compute and understand the geometrical interpretation of the gradient.\n",
    "1.  Develop an understanding for accumulation in diffusive problems.\n",
    "1.  Continue to practice visualization."
   ]
  },
  {
   "cell_type": "markdown",
   "metadata": {
    "slideshow": {
     "slide_type": "skip"
    }
   },
   "source": [
    "[Top of Page](#Sections)"
   ]
  },
  {
   "cell_type": "markdown",
   "metadata": {
    "slideshow": {
     "slide_type": "slide"
    }
   },
   "source": [
    "## On Your Own\n",
    "----"
   ]
  },
  {
   "cell_type": "markdown",
   "metadata": {
    "slideshow": {
     "slide_type": "fragment"
    }
   },
   "source": [
    "### Scalar Fields\n",
    "\n",
    "Let us start by generating a scalar field.  This is a spatially dependant function that generates real numbers.  Many different scalar fields are encountered in science and engineering: temperature, mass/concentration, pressure, etc.  The spatial dependence $c(x,y)$ as an example of a concentration field is one such scalar field."
   ]
  },
  {
   "cell_type": "code",
   "execution_count": null,
   "metadata": {
    "collapsed": true,
    "slideshow": {
     "slide_type": "slide"
    }
   },
   "outputs": [],
   "source": [
    "%matplotlib notebook\n",
    "\n",
    "import sympy\n",
    "from sympy.plotting import plot3d\n",
    "import numpy as np\n",
    "import matplotlib.pyplot as plt\n",
    "x, y = sympy.symbols('x y')"
   ]
  },
  {
   "cell_type": "code",
   "execution_count": null,
   "metadata": {
    "collapsed": false,
    "scrolled": false,
    "slideshow": {
     "slide_type": "subslide"
    }
   },
   "outputs": [],
   "source": [
    "plot3d(sympy.sin(2*x)*sympy.sin(y), (x, -5, 5), (y, -5, 5));"
   ]
  },
  {
   "cell_type": "markdown",
   "metadata": {
    "slideshow": {
     "slide_type": "slide"
    }
   },
   "source": [
    "We use `plot3d()` to visualize this field.  Note that we can represent this as a surface because we are mapping to real numbers.  \n",
    "\n",
    "Later when we visualize vectors, this will be insufficient.  Your series approximations can also be visualized.  \n",
    "\n",
    "For example:"
   ]
  },
  {
   "cell_type": "code",
   "execution_count": null,
   "metadata": {
    "collapsed": false,
    "slideshow": {
     "slide_type": "slide"
    }
   },
   "outputs": [],
   "source": [
    "plot3d(sympy.series(sympy.sin(2*x)*sympy.sin(y), x, x0=0, n=7).removeO(), \\\n",
    "       (x, -5, 5), (y, -5, 5));"
   ]
  },
  {
   "cell_type": "markdown",
   "metadata": {
    "slideshow": {
     "slide_type": "subslide"
    }
   },
   "source": [
    "We will drift between numerical evaluation of functions and symbolic representations of functions.  \n",
    "\n",
    "Stay alert to the context of symbols as you move along in this lecture."
   ]
  },
  {
   "cell_type": "markdown",
   "metadata": {
    "slideshow": {
     "slide_type": "skip"
    }
   },
   "source": [
    "[Top of Page](#Sections)"
   ]
  },
  {
   "cell_type": "markdown",
   "metadata": {
    "slideshow": {
     "slide_type": "slide"
    }
   },
   "source": [
    "### Visualizing the Scalar Field by Contours"
   ]
  },
  {
   "cell_type": "markdown",
   "metadata": {
    "slideshow": {
     "slide_type": "fragment"
    }
   },
   "source": [
    "We can use the contour plot methods to have a different look at our scalar field - this will be useful when we wish to compare the scalar field to the vector fields that are associated with the scalars.\n",
    "\n",
    "I find `np.meshgrid` to be very helpful in plotting data."
   ]
  },
  {
   "cell_type": "code",
   "execution_count": null,
   "metadata": {
    "collapsed": true,
    "slideshow": {
     "slide_type": "slide"
    }
   },
   "outputs": [],
   "source": [
    "%matplotlib notebook\n",
    "import matplotlib\n",
    "import numpy as np\n",
    "import matplotlib.pyplot as plt"
   ]
  },
  {
   "cell_type": "code",
   "execution_count": null,
   "metadata": {
    "collapsed": true,
    "slideshow": {
     "slide_type": "subslide"
    }
   },
   "outputs": [],
   "source": [
    "delta = 0.025\n",
    "x = np.arange(-3.0, 3.0, delta)\n",
    "y = np.arange(-2.0, 2.0, delta)\n",
    "X, Y = np.meshgrid(x, y)\n",
    "Z = np.sin(2*X)*np.sin(Y)"
   ]
  },
  {
   "cell_type": "code",
   "execution_count": null,
   "metadata": {
    "collapsed": false,
    "slideshow": {
     "slide_type": "subslide"
    }
   },
   "outputs": [],
   "source": [
    "plt.figure()\n",
    "CS = plt.contour(X, Y, Z)\n",
    "plt.clabel(CS, inline=1, fontsize=10)\n",
    "plt.title(r'A Simple Contour Plot of Your Scalar Field')\n",
    "plt.show;"
   ]
  },
  {
   "cell_type": "markdown",
   "metadata": {
    "slideshow": {
     "slide_type": "skip"
    }
   },
   "source": [
    "[Top of Page](#Sections)"
   ]
  },
  {
   "cell_type": "markdown",
   "metadata": {
    "slideshow": {
     "slide_type": "slide"
    }
   },
   "source": [
    "### Visualizing the Scalar Field by Value"
   ]
  },
  {
   "cell_type": "markdown",
   "metadata": {
    "slideshow": {
     "slide_type": "fragment"
    }
   },
   "source": [
    "Not really sure what to call these plots:  heat maps, z-plots, scalar plots, image plots, etc.  Using `np.imshow` we can do the following:"
   ]
  },
  {
   "cell_type": "code",
   "execution_count": null,
   "metadata": {
    "collapsed": false,
    "slideshow": {
     "slide_type": "slide"
    }
   },
   "outputs": [],
   "source": [
    "%matplotlib notebook\n",
    "\n",
    "import matplotlib.pyplot as plt\n",
    "import numpy as np\n",
    "from matplotlib import cm"
   ]
  },
  {
   "cell_type": "code",
   "execution_count": null,
   "metadata": {
    "collapsed": true,
    "slideshow": {
     "slide_type": "subslide"
    }
   },
   "outputs": [],
   "source": [
    "delta = 0.025\n",
    "x = np.arange(-3.0, 3.0, delta)\n",
    "y = np.arange(-2.0, 2.0, delta)\n",
    "X, Y = np.meshgrid(x, y)\n",
    "Z = np.sin(2*X)*np.sin(Y)"
   ]
  },
  {
   "cell_type": "code",
   "execution_count": null,
   "metadata": {
    "collapsed": false,
    "slideshow": {
     "slide_type": "subslide"
    }
   },
   "outputs": [],
   "source": [
    "fig, ax = plt.subplots()\n",
    "cax = ax.imshow(Z, interpolation='nearest', cmap=cm.coolwarm)\n",
    "ax.set_title('Scalar Field')\n",
    "plt.show()"
   ]
  },
  {
   "cell_type": "markdown",
   "metadata": {
    "slideshow": {
     "slide_type": "skip"
    }
   },
   "source": [
    "[Top of Page](#Sections)"
   ]
  },
  {
   "cell_type": "markdown",
   "metadata": {
    "slideshow": {
     "slide_type": "slide"
    }
   },
   "source": [
    "### DIY:  Using Surface and Contour Plots\n",
    "\n",
    "Plot the electric field around a point charge.  Use three dimensional surface plots and contour plots to help visualize this potential."
   ]
  },
  {
   "cell_type": "code",
   "execution_count": null,
   "metadata": {
    "collapsed": true,
    "slideshow": {
     "slide_type": "subslide"
    }
   },
   "outputs": [],
   "source": [
    "%matplotlib notebook\n",
    "import sympy\n",
    "from sympy.plotting import plot3d\n",
    "import numpy as np\n",
    "import matplotlib.pyplot as plt"
   ]
  },
  {
   "cell_type": "code",
   "execution_count": null,
   "metadata": {
    "collapsed": false,
    "slideshow": {
     "slide_type": "subslide"
    }
   },
   "outputs": [],
   "source": [
    "x, y = sympy.symbols('x y')\n",
    "plot3d(1/(x**2+y**2), (x, -1, 1), (y, -1, 1))"
   ]
  },
  {
   "cell_type": "markdown",
   "metadata": {
    "slideshow": {
     "slide_type": "slide"
    }
   },
   "source": [
    "Create a simple contour plot with labels using default colors.  The inline argument to clabel will control whether the labels are draw over the line segments of the contour, removing the lines beneath the label."
   ]
  },
  {
   "cell_type": "code",
   "execution_count": null,
   "metadata": {
    "collapsed": true,
    "slideshow": {
     "slide_type": "subslide"
    }
   },
   "outputs": [],
   "source": [
    "%matplotlib notebook\n",
    "import matplotlib\n",
    "import numpy as np\n",
    "import matplotlib.pyplot as plt"
   ]
  },
  {
   "cell_type": "code",
   "execution_count": null,
   "metadata": {
    "collapsed": true,
    "slideshow": {
     "slide_type": "subslide"
    }
   },
   "outputs": [],
   "source": [
    "delta = 0.025\n",
    "x = np.arange(-2.0, 2.0, delta)\n",
    "y = np.arange(-2.0, 2.0, delta)\n",
    "X, Y = np.meshgrid(x, y)\n",
    "Z = 1/(X**2+Y**2)"
   ]
  },
  {
   "cell_type": "code",
   "execution_count": null,
   "metadata": {
    "collapsed": false,
    "scrolled": false,
    "slideshow": {
     "slide_type": "subslide"
    }
   },
   "outputs": [],
   "source": [
    "plt.figure(figsize=(4,4))\n",
    "CS = plt.contour(X, Y, Z, (0.5,1,2,5,10,20,50,100,200))\n",
    "plt.clabel(CS, inline=1, fontsize=10)\n",
    "plt.title(r'A Simple Contour Plot of Your Scalar Field')\n",
    "plt.show;"
   ]
  },
  {
   "cell_type": "markdown",
   "metadata": {
    "slideshow": {
     "slide_type": "slide"
    }
   },
   "source": [
    "## In Class\n",
    "----"
   ]
  },
  {
   "cell_type": "markdown",
   "metadata": {
    "slideshow": {
     "slide_type": "slide"
    }
   },
   "source": [
    "### Gradients\n",
    "\n",
    "Scalar fields have associated vector fields.  One such vector field is the gradient.  The gradient can be thought of as the \"spatial rate of change\" of a scalar field.  The rate of change depends on the direction that you want to \"go\" (imagine you are walking along the surface).  Arfken uses the following language to describe the gradient:  \"This identifies $\\nabla \\phi$ as a vector having the direction of the maximum space rate of change of $\\phi$ ...\""
   ]
  },
  {
   "cell_type": "markdown",
   "metadata": {
    "slideshow": {
     "slide_type": "subslide"
    }
   },
   "source": [
    "Let us compute the gradient for our example potential.  You can visualize the gradient operator as a vector with components:\n",
    "\n",
    "$$\\overrightarrow{\\nabla} = \\frac{\\partial}{\\partial x} \\hat{i}  + \\frac{\\partial}{\\partial y} \\hat{j} + \\frac{\\partial}{\\partial z} \\hat{k}  $$\n",
    "\n",
    "and then proceed to perform multiplication as per vector algebra using the dot product.  "
   ]
  },
  {
   "cell_type": "markdown",
   "metadata": {
    "slideshow": {
     "slide_type": "subslide"
    }
   },
   "source": [
    "There are multiple ways to interact with Python and get at the gradient of a function.  In the first instance we can use the coordinate system capabilities of Sympy so that we can access the built in function gradient().  We start by defining a coordinate system and then calling gradient on our scalar function.  Scalars and vectors are objects of the coordinate system.  [See this page](http://docs.sympy.org/latest/modules/vector/intro.html) for more information on the vector module."
   ]
  },
  {
   "cell_type": "code",
   "execution_count": null,
   "metadata": {
    "collapsed": false,
    "slideshow": {
     "slide_type": "subslide"
    }
   },
   "outputs": [],
   "source": [
    "import sympy\n",
    "from sympy.vector import CoordSysCartesian\n",
    "from sympy.vector import gradient\n",
    "\n",
    "C = CoordSysCartesian('C')\n",
    "gradient(sympy.sin(2*C.x)*sympy.sin(C.y), C)"
   ]
  },
  {
   "cell_type": "markdown",
   "metadata": {
    "slideshow": {
     "slide_type": "skip"
    }
   },
   "source": [
    "[Top of Page](#Sections)"
   ]
  },
  {
   "cell_type": "markdown",
   "metadata": {
    "slideshow": {
     "slide_type": "slide"
    }
   },
   "source": [
    "### Streamplots\n",
    "\n",
    "Note that the above result is a vector - as you would expect.  It is hard however to visualize what this vector looks like.  You'll note that it is also a function of position.  Using the gradient function we get the vector form returned to us.  If we want to visualize the vector field however (Sympy does not provide vector plots yet!) we need to apply our expression in a function at discrete points \"by hand\".  The next block of code does this."
   ]
  },
  {
   "cell_type": "code",
   "execution_count": null,
   "metadata": {
    "collapsed": true,
    "slideshow": {
     "slide_type": "slide"
    }
   },
   "outputs": [],
   "source": [
    "%matplotlib notebook\n",
    "\n",
    "import sympy\n",
    "from sympy.utilities.lambdify import lambdify\n",
    "import matplotlib.pyplot as plt\n",
    "import numpy as np\n",
    "\n",
    "x, y = sympy.symbols('x y')\n",
    "\n",
    "# This is our function of interest.\n",
    "def scalar_function():\n",
    "    return sympy.sin(2*x)*sympy.sin(y)\n",
    "\n",
    "# This returns a TUPLE that contains the \"x\" derivative and \"y\" \n",
    "# derivative.  These are the elements of the gradient terms.  We\n",
    "# manipulate them further below.\n",
    "def return_gradient_elements(psi):\n",
    "    u = lambdify((x, y), psi.diff(x), 'numpy')\n",
    "    v = lambdify((x, y), psi.diff(y), 'numpy')\n",
    "    return u, v\n",
    "\n",
    "# This function draws the vectors.  Note that you are passing\n",
    "# the X, Y positions and the directions u, v.\n",
    "def plot_streamlines(ax, u, v, xlim=(-1, 1), ylim=(-1, 1)):\n",
    "    x0, x1 = xlim\n",
    "    y0, y1 = ylim\n",
    "    Y, X =  np.ogrid[y0:y1:100j, x0:x1:100j]\n",
    "    sax = ax.streamplot(X, Y, u(X, Y), v(X, Y), color='cornflowerblue')\n",
    "    # There are options to streamplot that are useful.  Have a look \n",
    "    # at the documentation. One particularly useful feature is the\n",
    "    # ability to color the streams with a user defined function.\n",
    "    \n",
    "def format_axes(ax):\n",
    "    ax.set_aspect('equal')\n",
    "    ax.figure.subplots_adjust(bottom=0, top=1, left=0, right=1)\n",
    "    ax.xaxis.set_ticks([])\n",
    "    ax.yaxis.set_ticks([])\n",
    "    for spine in ax.spines.itervalues():\n",
    "        spine.set_visible(False)\n",
    "        \n",
    "psi = scalar_function()\n",
    "u, v = return_gradient_elements(psi)"
   ]
  },
  {
   "cell_type": "code",
   "execution_count": null,
   "metadata": {
    "collapsed": false,
    "slideshow": {
     "slide_type": "slide"
    }
   },
   "outputs": [],
   "source": [
    "xlim = ylim = (-3, 3)\n",
    "fig, ax = plt.subplots(figsize=(6, 6))\n",
    "format_axes(ax)\n",
    "plot_streamlines(ax, u, v, xlim, ylim)"
   ]
  },
  {
   "cell_type": "markdown",
   "metadata": {
    "slideshow": {
     "slide_type": "slide"
    }
   },
   "source": [
    "Streamplot in Python has an option to color the streams by a user-defined function. You can compute a function from $u$ and $v$ (for example) and color the streams.  In the absence of colored streams, the plot bears some resemblence to our original filled contour plot, but, it would be nice to see them both together.  You can add plots layer by layer in the same figure."
   ]
  },
  {
   "cell_type": "markdown",
   "metadata": {
    "slideshow": {
     "slide_type": "skip"
    }
   },
   "source": [
    "[Top of Page](#Sections)"
   ]
  },
  {
   "cell_type": "markdown",
   "metadata": {
    "slideshow": {
     "slide_type": "slide"
    }
   },
   "source": [
    "### Quiver Plots\n",
    "\n",
    "In this example we use two different coordinate systems to overlay a quiver plot with a contour plot."
   ]
  },
  {
   "cell_type": "code",
   "execution_count": null,
   "metadata": {
    "collapsed": true,
    "slideshow": {
     "slide_type": "skip"
    }
   },
   "outputs": [],
   "source": [
    "?np.mgrid"
   ]
  },
  {
   "cell_type": "code",
   "execution_count": null,
   "metadata": {
    "collapsed": false,
    "slideshow": {
     "slide_type": "slide"
    }
   },
   "outputs": [],
   "source": [
    "%matplotlib notebook\n",
    "\n",
    "import numpy as np\n",
    "import pylab as plt\n",
    "\n",
    "x0, x1 = (-5,5)\n",
    "y0, y1 = (-5,5)\n",
    "\n",
    "Y, X =  np.mgrid[y0:y1:100j, x0:x1:100j]\n",
    "Y1, X1 =  np.mgrid[y0:y1:30j, x0:x1:30j]\n",
    "\n",
    "Z = np.sin(2*X)*np.sin(Y)\n",
    "\n",
    "# u and v here are the results of applying the gradient operation\n",
    "# to our scalar field.  Probably wise to check this in a seperate\n",
    "# code block.\n",
    "u = (2*np.sin(Y1)*np.cos(2*X1))\n",
    "v = (np.sin(2*X1)*np.cos(Y1))"
   ]
  },
  {
   "cell_type": "code",
   "execution_count": null,
   "metadata": {
    "collapsed": false,
    "scrolled": true,
    "slideshow": {
     "slide_type": "slide"
    }
   },
   "outputs": [],
   "source": [
    "fig, ax = plt.subplots()\n",
    "plt.contourf(X,Y,Z,10)\n",
    "plt.quiver(X1,Y1,u,v, color='white')\n",
    "\n",
    "plt.show()"
   ]
  },
  {
   "cell_type": "markdown",
   "metadata": {
    "slideshow": {
     "slide_type": "skip"
    }
   },
   "source": [
    "[Top of Page](#Sections)"
   ]
  },
  {
   "cell_type": "markdown",
   "metadata": {
    "slideshow": {
     "slide_type": "slide"
    }
   },
   "source": [
    "### Divergence\n",
    "\n",
    "The divergence is the application of $\\hat{\\nabla}$ to another vector.  You can (as above) visualize this as the dot product of the $\\hat{\\nabla}$ operator and a vector.  What does the divergence of a gradient field return?  A vector or a scalar?"
   ]
  },
  {
   "cell_type": "code",
   "execution_count": null,
   "metadata": {
    "collapsed": false,
    "slideshow": {
     "slide_type": "slide"
    }
   },
   "outputs": [],
   "source": [
    "%matplotlib notebook\n",
    "\n",
    "import sympy\n",
    "x, y = sympy.symbols('x y')\n",
    "\n",
    "from sympy.vector import CoordSysCartesian\n",
    "from sympy.vector import gradient, divergence\n",
    "\n",
    "C = CoordSysCartesian('C')\n",
    "gradientOfOurFunction = gradient(sympy.sin(2*C.x)*sympy.sin(C.y), C)\n",
    "gradientOfOurFunction"
   ]
  },
  {
   "cell_type": "markdown",
   "metadata": {
    "slideshow": {
     "slide_type": "slide"
    }
   },
   "source": [
    "Once again - Sympy comes to the rescue and helps us compute the divergence."
   ]
  },
  {
   "cell_type": "code",
   "execution_count": null,
   "metadata": {
    "collapsed": false,
    "slideshow": {
     "slide_type": "skip"
    }
   },
   "outputs": [],
   "source": [
    "?divergence"
   ]
  },
  {
   "cell_type": "code",
   "execution_count": null,
   "metadata": {
    "collapsed": false,
    "slideshow": {
     "slide_type": "fragment"
    }
   },
   "outputs": [],
   "source": [
    "divergence(gradientOfOurFunction,C)"
   ]
  },
  {
   "cell_type": "markdown",
   "metadata": {
    "slideshow": {
     "slide_type": "fragment"
    }
   },
   "source": [
    "Note which is a vector field and which is a scalar field."
   ]
  },
  {
   "cell_type": "markdown",
   "metadata": {
    "slideshow": {
     "slide_type": "skip"
    }
   },
   "source": [
    "[Top of Page](#Sections)"
   ]
  },
  {
   "cell_type": "markdown",
   "metadata": {
    "slideshow": {
     "slide_type": "slide"
    }
   },
   "source": [
    "### Accumulation\n",
    "\n",
    "The dot product of $\\hat{\\nabla}$ and a vector or vector field is a scalar.  This should be recalled from earlier lectures on the properties of matrices and vector algebra.  As expected, this is a scalar quantity.  One physical interpretation is that of the accumulation of matter in a control volume.  The divergence of the flux into (or out of the control volume) is the accumulation.  There are plenty of derivations of this.  Thinking in terms of Fick's Law's of diffusion:"
   ]
  },
  {
   "cell_type": "markdown",
   "metadata": {
    "slideshow": {
     "slide_type": "subslide"
    }
   },
   "source": [
    "Fick's first law is:\n",
    "\n",
    "$$\\overrightarrow{J} = -M \\nabla{\\mu} $$\n",
    "\n",
    "I'm being particular about my choices for notation using $M$ and $\\mu$.  Your homework assignment should clarify this.  "
   ]
  },
  {
   "cell_type": "markdown",
   "metadata": {
    "slideshow": {
     "slide_type": "subslide"
    }
   },
   "source": [
    "Fick's second law is:\n",
    "\n",
    "$$\\frac{\\partial C(x,t)}{\\partial t} = - \\hat{\\nabla} \\cdot \\overrightarrow{J} $$\n",
    "\n",
    "To be honest - we usually drop the formal over hats and vector notation - we just know it is a vector field.  As indicated below, the sign and magnitude of the accumulation is consistent with F.S.L. and the scalar field above."
   ]
  },
  {
   "cell_type": "markdown",
   "metadata": {
    "slideshow": {
     "slide_type": "slide"
    }
   },
   "source": [
    "### An Example using Sympy\n",
    "\n",
    "First we set things up for ourselves:"
   ]
  },
  {
   "cell_type": "code",
   "execution_count": null,
   "metadata": {
    "collapsed": true,
    "slideshow": {
     "slide_type": "fragment"
    }
   },
   "outputs": [],
   "source": [
    "%matplotlib notebook\n",
    "\n",
    "import numpy as np\n",
    "import pylab as plt\n",
    "\n",
    "import sympy\n",
    "from sympy.vector import CoordSysCartesian\n",
    "from sympy.vector import gradient, divergence"
   ]
  },
  {
   "cell_type": "markdown",
   "metadata": {
    "slideshow": {
     "slide_type": "slide"
    }
   },
   "source": [
    "We define symbols and our scalar field in the variable `exampleField`."
   ]
  },
  {
   "cell_type": "code",
   "execution_count": null,
   "metadata": {
    "collapsed": true,
    "slideshow": {
     "slide_type": "fragment"
    }
   },
   "outputs": [],
   "source": [
    "x, y = sympy.symbols('x y')\n",
    "C = CoordSysCartesian('C')\n",
    "\n",
    "# Define your example scalar field (a concentration like \n",
    "# variable C(x,y).\n",
    "exampleField = -sympy.sin(sympy.pi*C.x)*sympy.cos(sympy.pi*C.y)"
   ]
  },
  {
   "cell_type": "markdown",
   "metadata": {
    "slideshow": {
     "slide_type": "slide"
    }
   },
   "source": [
    "We then use the built in `sympy` function `gradient` to compute the gradient:"
   ]
  },
  {
   "cell_type": "code",
   "execution_count": null,
   "metadata": {
    "collapsed": false,
    "slideshow": {
     "slide_type": "fragment"
    }
   },
   "outputs": [],
   "source": [
    "# Compute the gradient.\n",
    "gradientOfField = gradient(exampleField,C)\n",
    "gradientOfField"
   ]
  },
  {
   "cell_type": "markdown",
   "metadata": {
    "slideshow": {
     "slide_type": "slide"
    }
   },
   "source": [
    "We then compute the divergence of the gradient.  Note the absence of `C.i` and `C.j` in the answer indicating that these are not components of a vector.  (Compare this to the last slide.)"
   ]
  },
  {
   "cell_type": "code",
   "execution_count": null,
   "metadata": {
    "collapsed": false,
    "slideshow": {
     "slide_type": "fragment"
    }
   },
   "outputs": [],
   "source": [
    "# Compute the divergence.\n",
    "accumulation = divergence(gradientOfField,C)\n",
    "accumulation"
   ]
  },
  {
   "cell_type": "markdown",
   "metadata": {
    "slideshow": {
     "slide_type": "slide"
    }
   },
   "source": [
    "Take a second here to review the following concepts before moving on:\n",
    "\n",
    "* scalar field\n",
    "* vector field\n",
    "* gradient\n",
    "* divergence\n",
    "\n",
    "These are critical concepts to understand more about diffusion and Fick's laws than is usually given in an introductory text."
   ]
  },
  {
   "cell_type": "markdown",
   "metadata": {
    "slideshow": {
     "slide_type": "slide"
    }
   },
   "source": [
    "### Putting it All Together\n",
    "\n",
    "_Warning:  there is a very high potential for confusion in the following sections if you have not mastered the concepts of scalars, vectors, gradients and divergence.  When folded together in the Python/Sympy representation it can be challenging to see what I'm doing in code.  You may have to go back and review before you move on._\n",
    "\n",
    "One of the drawbacks to the `vector` submodule in `sympy` is that (it appears) you cannot `lambdify` vector expressions - this means that you have to track vector quantities yourself.  In the next few lines"
   ]
  },
  {
   "cell_type": "markdown",
   "metadata": {
    "slideshow": {
     "slide_type": "slide"
    }
   },
   "source": [
    "Here I define an example scalar field.  I'm using the same kind of function as before for the pupose of having something interesting to look at."
   ]
  },
  {
   "cell_type": "code",
   "execution_count": null,
   "metadata": {
    "collapsed": true,
    "slideshow": {
     "slide_type": "fragment"
    }
   },
   "outputs": [],
   "source": [
    "sympyExampleField = sympy.sin(sympy.pi*x)*sympy.cos(sympy.pi*y)"
   ]
  },
  {
   "cell_type": "markdown",
   "metadata": {
    "slideshow": {
     "slide_type": "slide"
    }
   },
   "source": [
    "We define the gradient components separately.  I'm keeping track of what points in which direction with the variable names (e.g. `gradFieldX`):"
   ]
  },
  {
   "cell_type": "code",
   "execution_count": null,
   "metadata": {
    "collapsed": true,
    "slideshow": {
     "slide_type": "fragment"
    }
   },
   "outputs": [],
   "source": [
    "gradFieldX = sympy.diff(sympyExampleField,x)\n",
    "gradFieldY = sympy.diff(sympyExampleField,y)"
   ]
  },
  {
   "cell_type": "markdown",
   "metadata": {
    "slideshow": {
     "slide_type": "slide"
    }
   },
   "source": [
    "I differentiate each vector component again as dictated by the definition of the divergence and add them together and store that in a different variable `sympyAccumulation`:"
   ]
  },
  {
   "cell_type": "code",
   "execution_count": null,
   "metadata": {
    "collapsed": true,
    "slideshow": {
     "slide_type": "fragment"
    }
   },
   "outputs": [],
   "source": [
    "sympyAccumulation = \\\n",
    "-sympy.diff(sympyExampleField,x,2)-sympy.diff(sympyExampleField,y,2)"
   ]
  },
  {
   "cell_type": "markdown",
   "metadata": {
    "slideshow": {
     "slide_type": "slide"
    }
   },
   "source": [
    "At this point I have the components of the gradient and the result of the divergence computed.  All that is left to do is to create a version of the sympyAccumulation function that can be used with numpy arrays:"
   ]
  },
  {
   "cell_type": "code",
   "execution_count": null,
   "metadata": {
    "collapsed": true,
    "slideshow": {
     "slide_type": "fragment"
    }
   },
   "outputs": [],
   "source": [
    "myAcuumulationFunction = \\\n",
    "sympy.lambdify((x,y), sympyAccumulation, 'numpy')"
   ]
  },
  {
   "cell_type": "markdown",
   "metadata": {
    "slideshow": {
     "slide_type": "slide"
    }
   },
   "source": [
    "Two more for the gradients:"
   ]
  },
  {
   "cell_type": "code",
   "execution_count": null,
   "metadata": {
    "collapsed": false,
    "slideshow": {
     "slide_type": "fragment"
    }
   },
   "outputs": [],
   "source": [
    "myGradFunctionX = sympy.lambdify((x,y), gradFieldX, 'numpy')\n",
    "myGradFunctionY = sympy.lambdify((x,y), gradFieldY, 'numpy')"
   ]
  },
  {
   "cell_type": "markdown",
   "metadata": {
    "slideshow": {
     "slide_type": "slide"
    }
   },
   "source": [
    "We use our quiver plotting capability to plot:\n",
    "\n",
    "* the scalar value for the accumulation as `z`\n",
    "* the $\\hat{i}$ component of the gradient as `u`\n",
    "* the $\\hat{j}$ component of the gradient as `v`"
   ]
  },
  {
   "cell_type": "code",
   "execution_count": null,
   "metadata": {
    "collapsed": true,
    "slideshow": {
     "slide_type": "slide"
    }
   },
   "outputs": [],
   "source": [
    "import numpy as np\n",
    "\n",
    "x0, x1 = (-1,1)\n",
    "y0, y1 = (-1,1)\n",
    "plotResolution = 200\n",
    "\n",
    "Y, X =  np.mgrid[y0:y1:200j, x0:x1:200j]\n",
    "# Quivers are on a seperate grid since they clutter things up.\n",
    "Y1, X1 =  np.mgrid[y0:y1:20j, x0:x1:20j]\n",
    "\n",
    "Z = myAcuumulationFunction(X,Y)\n",
    "u = myGradFunctionX(X1,Y1)\n",
    "v = myGradFunctionY(X1,Y1)"
   ]
  },
  {
   "cell_type": "code",
   "execution_count": null,
   "metadata": {
    "collapsed": false,
    "scrolled": true,
    "slideshow": {
     "slide_type": "subslide"
    }
   },
   "outputs": [],
   "source": [
    "fig, ax = plt.subplots()\n",
    "\n",
    "plt.contourf(X,Y,Z,10)\n",
    "plt.colorbar()\n",
    "plt.quiver(X1,Y1,u,v, color='white')\n",
    "\n",
    "plt.show()"
   ]
  },
  {
   "cell_type": "markdown",
   "metadata": {
    "slideshow": {
     "slide_type": "slide"
    }
   },
   "source": [
    "Examining the above plot we have two pieces of information.  In regions where the chemical potential is small, the accumulation is is high and vice versa.  The vectors tell us in which direction the diffusion of matter will proceed.  Formally, species diffuse down the chemical potential gradient (explaining the minus sign in the expression for Fick's first law as the gradients point \"uphill\").  \n",
    "\n",
    "With some additional study you can build a physical intuition for Fick's laws.  This can be generalized to three dimensions quite easily and can be done symbolically with `sympy` and the `vector` submodule, but adds complexity and no additional understanding at this point."
   ]
  },
  {
   "cell_type": "markdown",
   "metadata": {
    "slideshow": {
     "slide_type": "skip"
    }
   },
   "source": [
    "[Top of Page](#Sections)"
   ]
  },
  {
   "cell_type": "markdown",
   "metadata": {
    "slideshow": {
     "slide_type": "slide"
    }
   },
   "source": [
    "## Homework\n",
    "----\n",
    "\n",
    "1.  (Optional) Using the ideal solution model for the chemical potential, *derive* the accumulation of species in a diffusive problem.\n",
    "\n",
    "1.  Write a function that returns the accumulation of a potential.  The potential is a `sympy` expression.  The return value should be a sympy expression.  \n",
    "\n",
    "1. (Optional) Test your function on the chemical potential derived in the first part of the assignment."
   ]
  },
  {
   "cell_type": "markdown",
   "metadata": {
    "slideshow": {
     "slide_type": "skip"
    }
   },
   "source": [
    "[Top of Page](#Sections)"
   ]
  },
  {
   "cell_type": "markdown",
   "metadata": {
    "slideshow": {
     "slide_type": "skip"
    }
   },
   "source": [
    "## Summary\n",
    "----\n",
    "\n",
    "* The $\\hat{\\nabla}$ operator can be thought of as a vector that dots into other scalar and vector fields.\n",
    "* We say that the application of this operator to a scalar field is the gradient.  When applied to a vector field we say that this is the divergence.\n",
    "* The gradient is a vector field.  The divergence is a scalar field.  Both are \"fields\" and therefore are spatially dependent.  This is observed by inspection of the results of the gradient and divergence operators on some \"toy\" functions.\n",
    "* Using contour plots, heatmaps, and quiver plots we can visualize the gradient and divergence to build physical intuition for differential equations."
   ]
  },
  {
   "cell_type": "markdown",
   "metadata": {
    "slideshow": {
     "slide_type": "skip"
    }
   },
   "source": [
    "[Top of Page](#Sections)"
   ]
  },
  {
   "cell_type": "markdown",
   "metadata": {
    "slideshow": {
     "slide_type": "skip"
    }
   },
   "source": [
    "## Looking Ahead\n",
    "----\n",
    "\n",
    "* We are moving to Fourier series next lecture.  \n",
    "* The concept of a generalized inner product of functions will be introduced.\n",
    "* The idea of an infinite vector space will also be developed."
   ]
  },
  {
   "cell_type": "markdown",
   "metadata": {
    "slideshow": {
     "slide_type": "skip"
    }
   },
   "source": [
    "[Top of Page](#Sections)"
   ]
  },
  {
   "cell_type": "markdown",
   "metadata": {
    "slideshow": {
     "slide_type": "skip"
    }
   },
   "source": [
    "## Reading Assignments and Practice\n",
    "----\n",
    "\n",
    "* Read the chapter in Arfken on vector analysis.  (Not required, but helpful.)\n",
    "* Think about what other physical systems are described in terms of gradients."
   ]
  },
  {
   "cell_type": "markdown",
   "metadata": {
    "slideshow": {
     "slide_type": "skip"
    }
   },
   "source": [
    "[Top of Page](#Sections)"
   ]
  },
  {
   "cell_type": "markdown",
   "metadata": {
    "collapsed": true,
    "slideshow": {
     "slide_type": "skip"
    }
   },
   "source": [
    "## References\n",
    "----\n",
    "\n",
    "1.  https://tonysyu.github.io/plotting-streamlines-with-matplotlib-and-sympy.html"
   ]
  },
  {
   "cell_type": "markdown",
   "metadata": {
    "slideshow": {
     "slide_type": "skip"
    }
   },
   "source": [
    "[Top of Page](#Sections)"
   ]
  }
 ],
 "metadata": {
  "anaconda-cloud": {},
  "celltoolbar": "Slideshow",
  "kernelspec": {
   "display_name": "Python 2",
   "language": "python",
   "name": "python2"
  },
  "language_info": {
   "codemirror_mode": {
    "name": "ipython",
    "version": 2
   },
   "file_extension": ".py",
   "mimetype": "text/x-python",
   "name": "python",
   "nbconvert_exporter": "python",
   "pygments_lexer": "ipython2",
   "version": "2.7.13"
  }
 },
 "nbformat": 4,
 "nbformat_minor": 0
}
