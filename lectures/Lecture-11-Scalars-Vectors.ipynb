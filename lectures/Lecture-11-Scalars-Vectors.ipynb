{
 "cells": [
  {
   "cell_type": "markdown",
   "metadata": {},
   "source": [
    "# Lecture 11:  Scalar and Vector Fields, Accumulation\n",
    "\n",
    "### Sections\n",
    "\n",
    "* [Introduction](#Introduction)\n",
    "* [Learning Goals](#Learning-Goals)\n",
    "* [On Your Own](#On-Your-Own)\n",
    "    * Construct and plot a scalar field using surfaces and contour plots.\n",
    "    * Compute the gradient of a scalar field\n",
    "    * Plot the magnitude of the gradient\n",
    "* [In Class](#In-Class)\n",
    "    * Use a stream or quiver plot to visualize the gradient\n",
    "    * Combine them into one plot\n",
    "    * Compute the divergence of a vector field\n",
    "    * Relate both of these concepts to flux and accumulation in diffusive problems\n",
    "* [Homework](#Homework)\n",
    "* [Summary](#Summary)\n",
    "* [Looking Ahead](#Looking-Ahead)\n",
    "* [Reading Assignments and Practice](#Reading-Assignments-and-Practice)"
   ]
  },
  {
   "cell_type": "markdown",
   "metadata": {},
   "source": [
    "## Introduction\n",
    "----\n",
    "\n",
    "Diffusive problems are contextualized in terms of chemical potentials, fluxes and accumulation.  This lecture hopes to demystify these concepts so that a broader understanding of chemical diffusion is possible in the future."
   ]
  },
  {
   "cell_type": "markdown",
   "metadata": {},
   "source": [
    "[Top of Page](#Sections)"
   ]
  },
  {
   "cell_type": "markdown",
   "metadata": {},
   "source": [
    "## Learning Goals\n",
    "----\n",
    "\n",
    "1.  Know the difference between scalar field and a vector field.\n",
    "1.  Compute and understand the geometrical interpretation of the gradient.\n",
    "1.  Develop an understanding for accumulation in diffusive problems.\n",
    "1.  Continue to practice visualization."
   ]
  },
  {
   "cell_type": "markdown",
   "metadata": {},
   "source": [
    "[Top of Page](#Sections)"
   ]
  },
  {
   "cell_type": "markdown",
   "metadata": {},
   "source": [
    "## On Your Own\n",
    "----"
   ]
  },
  {
   "cell_type": "markdown",
   "metadata": {},
   "source": [
    "### Sympy, Scalar Fields, and Surface Plots\n",
    "\n",
    "Let us start by generating a scalar field.  This is a spatially dependant function that generates real numbers.  Many different scalar fields are encountered in science and engineering.  Temperature, mass/concentration, pressure, etc."
   ]
  },
  {
   "cell_type": "code",
   "execution_count": null,
   "metadata": {
    "collapsed": false
   },
   "outputs": [],
   "source": [
    "%matplotlib notebook\n",
    "\n",
    "import sympy\n",
    "from sympy.plotting import plot3d\n",
    "import numpy as np\n",
    "import matplotlib.pyplot as plt\n",
    "x, y = sympy.symbols('x y')\n",
    "\n",
    "plot3d(sympy.sin(2*x)*sympy.sin(y), (x, -5, 5), (y, -5, 5))"
   ]
  },
  {
   "cell_type": "markdown",
   "metadata": {},
   "source": [
    "We use plot3d() to visualize this field.  Note that we can represent this as a surface because we are mapping to real numbers.  Later when we visualize vectors, this will be insufficient.  We can also use other functions from Sympy to give us equations to plot.  Your series approximations can also be visualized."
   ]
  },
  {
   "cell_type": "code",
   "execution_count": null,
   "metadata": {
    "collapsed": false
   },
   "outputs": [],
   "source": [
    "plot3d(sympy.series(sympy.sin(2*x)*sympy.sin(y), x, x0=0, n=7).removeO(), (x, -5, 5), (y, -5, 5))"
   ]
  },
  {
   "cell_type": "markdown",
   "metadata": {},
   "source": [
    "We will drift between numerical evaluation of functions and symbolic representations of functions.  Stay alert to the context of things as you move along in this lecture."
   ]
  },
  {
   "cell_type": "markdown",
   "metadata": {},
   "source": [
    "[Top of Page](#Sections)"
   ]
  },
  {
   "cell_type": "markdown",
   "metadata": {},
   "source": [
    "### Contour Plots"
   ]
  },
  {
   "cell_type": "markdown",
   "metadata": {},
   "source": [
    "We can use the contour plot functionality to have a different look - this will be useful when we wish to compare the scalar field to the vector fields that are associated with the scalars."
   ]
  },
  {
   "cell_type": "code",
   "execution_count": null,
   "metadata": {
    "collapsed": false
   },
   "outputs": [],
   "source": [
    "%matplotlib inline\n",
    "\n",
    "import matplotlib\n",
    "import numpy as np\n",
    "import matplotlib.pyplot as plt\n",
    "\n",
    "delta = 0.025\n",
    "x = np.arange(-3.0, 3.0, delta)\n",
    "y = np.arange(-2.0, 2.0, delta)\n",
    "X, Y = np.meshgrid(x, y)\n",
    "Z = np.sin(2*X)*np.sin(Y)\n",
    "\n",
    "# Create a simple contour plot with labels using default colors.  The\n",
    "# inline argument to clabel will control whether the labels are draw\n",
    "# over the line segments of the contour, removing the lines beneath\n",
    "# the label\n",
    "plt.figure()\n",
    "CS = plt.contour(X, Y, Z)\n",
    "plt.clabel(CS, inline=1, fontsize=10)\n",
    "plt.title(r'A Simple Contour Plot of Your Scalar Field')\n",
    "plt.show;"
   ]
  },
  {
   "cell_type": "markdown",
   "metadata": {},
   "source": [
    "[Top of Page](#Sections)"
   ]
  },
  {
   "cell_type": "markdown",
   "metadata": {},
   "source": [
    "### Plotting the Scalar Field"
   ]
  },
  {
   "cell_type": "markdown",
   "metadata": {},
   "source": [
    "There is a way to take your Sympy expressions and evaluate them as functions that return numbers.  We will see how this is done below - for now we will do it the \"old fashioned way\".  Key functions to read about:  `arange`, `meshgrid`, and `imshow`.  The plotting functions can be daunting because there are so many options.  Start with the basics and then explore the options later."
   ]
  },
  {
   "cell_type": "code",
   "execution_count": null,
   "metadata": {
    "collapsed": false
   },
   "outputs": [],
   "source": [
    "%matplotlib notebook\n",
    "\n",
    "import matplotlib.pyplot as plt\n",
    "import numpy as np\n",
    "from matplotlib import cm\n",
    "\n",
    "# Make plot with vertical (default) colorbar\n",
    "fig, ax = plt.subplots()\n",
    "\n",
    "delta = 0.025\n",
    "x = np.arange(-3.0, 3.0, delta)\n",
    "y = np.arange(-2.0, 2.0, delta)\n",
    "X, Y = np.meshgrid(x, y)\n",
    "Z = np.sin(2*X)*np.sin(Y)\n",
    "\n",
    "cax = ax.imshow(Z, interpolation='nearest', cmap=cm.coolwarm)\n",
    "ax.set_title('Scalar Field')\n",
    "\n",
    "plt.show()"
   ]
  },
  {
   "cell_type": "markdown",
   "metadata": {},
   "source": [
    "[Top of Page](#Sections)"
   ]
  },
  {
   "cell_type": "markdown",
   "metadata": {},
   "source": [
    "### DIY:  Using Surface and Contour Plots\n",
    "\n",
    "Plot the electric field around a point charge.  Use three dimensional surface plots and contour plots to help visualize this potential."
   ]
  },
  {
   "cell_type": "code",
   "execution_count": null,
   "metadata": {
    "collapsed": false
   },
   "outputs": [],
   "source": [
    "%matplotlib notebook\n",
    "\n",
    "import sympy\n",
    "from sympy.plotting import plot3d\n",
    "import numpy as np\n",
    "import matplotlib.pyplot as plt\n",
    "x, y = sympy.symbols('x y')\n",
    "\n",
    "plot3d(1/(x**2+y**2), (x, -1, 1), (y, -1, 1))"
   ]
  },
  {
   "cell_type": "code",
   "execution_count": null,
   "metadata": {
    "collapsed": false,
    "scrolled": true
   },
   "outputs": [],
   "source": [
    "%matplotlib inline\n",
    "\n",
    "import matplotlib\n",
    "import numpy as np\n",
    "import matplotlib.pyplot as plt\n",
    "\n",
    "delta = 0.025\n",
    "x = np.arange(-2.0, 2.0, delta)\n",
    "y = np.arange(-2.0, 2.0, delta)\n",
    "X, Y = np.meshgrid(x, y)\n",
    "Z = 1/(X**2+Y**2)\n",
    "\n",
    "# Create a simple contour plot with labels using default colors.  The\n",
    "# inline argument to clabel will control whether the labels are draw\n",
    "# over the line segments of the contour, removing the lines beneath\n",
    "# the label\n",
    "plt.figure(figsize=(4,4))\n",
    "CS = plt.contour(X, Y, Z, (0.5,1,2,10,20,100,200))\n",
    "plt.clabel(CS, inline=1, fontsize=10)\n",
    "plt.title(r'A Simple Contour Plot of Your Scalar Field')\n",
    "plt.show;"
   ]
  },
  {
   "cell_type": "markdown",
   "metadata": {},
   "source": [
    "## In Class\n",
    "----"
   ]
  },
  {
   "cell_type": "markdown",
   "metadata": {},
   "source": [
    "### Gradients"
   ]
  },
  {
   "cell_type": "markdown",
   "metadata": {},
   "source": [
    "Scalar fields have associated vector fields.  One such vector field is the gradient.  The gradient can be thought of as the \"rate of change\" of a scalar field.  The rate of change depends on the direction that you want to \"go\" (imagine you are walking along the surface).  Arfken uses the following language to describe the gradient:  \"This identifies $\\nabla \\phi$ as a vector having the direction of the maximum space rate of change of $\\phi$ ...\"\n",
    "\n",
    "For now, this definition is sufficient and easy to understand.  Let us compute the gradient for our example potential.  You can visualize the gradient operator as a vector with components:\n",
    "\n",
    "$$\\overrightarrow{\\nabla} = \\frac{\\partial}{\\partial x} \\hat{i}  + \\frac{\\partial}{\\partial y} \\hat{j} + \\frac{\\partial}{\\partial z} \\hat{k}  $$\n",
    "\n",
    "and then proceed to perform multiplication as per vector algebra.  There are multiple ways to interact with Python and get at the gradient of a function.  In the first instance we can use the coordinate system capabilities of Sympy so that we can access the built in function gradient().  We start by defining a coordinate system and then calling gradient on our scalar function.  Scalars and vectors are objects of the coordinate system.  [See this page](http://docs.sympy.org/latest/modules/vector/intro.html) for more information on the vector module."
   ]
  },
  {
   "cell_type": "code",
   "execution_count": null,
   "metadata": {
    "collapsed": false
   },
   "outputs": [],
   "source": [
    "from sympy.vector import CoordSysCartesian\n",
    "from sympy.vector import gradient\n",
    "\n",
    "C = CoordSysCartesian('C')\n",
    "gradient(sympy.sin(2*C.x)*sympy.sin(C.y), C)"
   ]
  },
  {
   "cell_type": "markdown",
   "metadata": {},
   "source": [
    "[Top of Page](#Sections)"
   ]
  },
  {
   "cell_type": "markdown",
   "metadata": {},
   "source": [
    "### Streamplots"
   ]
  },
  {
   "cell_type": "markdown",
   "metadata": {},
   "source": [
    "Note that the above result is a vector - as you would expect.  It is hard however to visualize what this vector looks like.  You'll note that it is also a function of position.  Using the gradient function we get the vector form returned to us.  If we want to visualize the vector field however (Sympy does not provide vector plots yet!) we need to apply our expression in a function at discrete points \"by hand\".  The next block of code does this."
   ]
  },
  {
   "cell_type": "code",
   "execution_count": null,
   "metadata": {
    "collapsed": false
   },
   "outputs": [],
   "source": [
    "%matplotlib notebook\n",
    "\n",
    "import sympy\n",
    "from sympy.utilities.lambdify import lambdify\n",
    "import matplotlib.pyplot as plt\n",
    "import numpy as np\n",
    "\n",
    "x, y = sympy.symbols('x y')\n",
    "\n",
    "# This is our function of interest.\n",
    "def scalar_function():\n",
    "    return sympy.sin(2*x)*sympy.sin(y)\n",
    "\n",
    "# This returns a TUPLE that contains the \"x\" derivative and \"y\" \n",
    "# derivative.  These are the elements of the gradient terms.  We\n",
    "# manipulate them further below.\n",
    "def return_gradient_elements(psi):\n",
    "    u = lambdify((x, y), psi.diff(x), 'numpy')\n",
    "    v = lambdify((x, y), psi.diff(y), 'numpy')\n",
    "    return u, v\n",
    "\n",
    "# This function draws the vectors.  Note that you are passing\n",
    "# the X, Y positions and the directions u, v.\n",
    "def plot_streamlines(ax, u, v, xlim=(-1, 1), ylim=(-1, 1)):\n",
    "    x0, x1 = xlim\n",
    "    y0, y1 = ylim\n",
    "    Y, X =  np.ogrid[y0:y1:100j, x0:x1:100j]\n",
    "    sax = ax.streamplot(X, Y, u(X, Y), v(X, Y), color='cornflowerblue')\n",
    "    # There are options to streamplot that are useful.  Have a look \n",
    "    # at the documentation. One particularly useful feature is the\n",
    "    # ability to color the streams with a user defined function.\n",
    "    \n",
    "def format_axes(ax):\n",
    "    ax.set_aspect('equal')\n",
    "    ax.figure.subplots_adjust(bottom=0, top=1, left=0, right=1)\n",
    "    ax.xaxis.set_ticks([])\n",
    "    ax.yaxis.set_ticks([])\n",
    "    for spine in ax.spines.itervalues():\n",
    "        spine.set_visible(False)\n",
    "        \n",
    "psi = scalar_function()\n",
    "u, v = return_gradient_elements(psi)\n",
    "\n",
    "xlim = ylim = (-3, 3)\n",
    "fig, ax = plt.subplots(figsize=(6, 6))\n",
    "plot_streamlines(ax, u, v, xlim, ylim)\n",
    "\n",
    "format_axes(ax)"
   ]
  },
  {
   "cell_type": "markdown",
   "metadata": {},
   "source": [
    "Streamplot in Python has an option to color the streams by a user-defined function. You can compute a function from $u$ and $v$ (for example) and color the streams.  In the absence of colored streams, the plot bears some resemblence to our original filled contour plot, but, it would be nice to see them both together.  You can add plots layer by layer in the same figure."
   ]
  },
  {
   "cell_type": "markdown",
   "metadata": {},
   "source": [
    "[Top of Page](#Sections)"
   ]
  },
  {
   "cell_type": "markdown",
   "metadata": {},
   "source": [
    "### Quiver Plots"
   ]
  },
  {
   "cell_type": "markdown",
   "metadata": {},
   "source": [
    "In this example we use two different coordinate systems to overlay a quiver plot with a contour plot."
   ]
  },
  {
   "cell_type": "code",
   "execution_count": null,
   "metadata": {
    "collapsed": false
   },
   "outputs": [],
   "source": [
    "%matplotlib notebook\n",
    "\n",
    "import numpy as np\n",
    "import pylab as plt\n",
    "\n",
    "x0, x1 = (-5,5)\n",
    "y0, y1 = (-5,5)\n",
    "\n",
    "Y, X =  np.mgrid[y0:y1:100j, x0:x1:100j]\n",
    "Y1, X1 =  np.mgrid[y0:y1:30j, x0:x1:30j]\n",
    "\n",
    "Z = np.sin(2*X)*np.sin(Y)\n",
    "\n",
    "# u and v here are the results of applying the gradient operation\n",
    "# to our scalar field.  Probably wise to check this in a seperate\n",
    "# code block.\n",
    "u = (2*np.sin(Y1)*np.cos(2*X1))\n",
    "v = (np.sin(2*X1)*np.cos(Y1))\n",
    "\n",
    "fig, ax = plt.subplots()\n",
    "\n",
    "plt.contourf(X,Y,Z,10)\n",
    "plt.quiver(X1,Y1,u,v, color='white')\n",
    "\n",
    "plt.show()"
   ]
  },
  {
   "cell_type": "markdown",
   "metadata": {},
   "source": [
    "[Top of Page](#Sections)"
   ]
  },
  {
   "cell_type": "markdown",
   "metadata": {},
   "source": [
    "### Divergence"
   ]
  },
  {
   "cell_type": "markdown",
   "metadata": {},
   "source": [
    "The divergence is the application of $\\hat{\\nabla}$ to another vector.  You can (as above) visualize this as the dot product of the $\\hat{\\nabla}$ operator and a vector.  What does the divergence of a gradient field return?  A vector or a scalar?"
   ]
  },
  {
   "cell_type": "code",
   "execution_count": null,
   "metadata": {
    "collapsed": false
   },
   "outputs": [],
   "source": [
    "%matplotlib notebook\n",
    "\n",
    "import sympy\n",
    "x, y = sympy.symbols('x y')\n",
    "\n",
    "from sympy.vector import CoordSysCartesian\n",
    "from sympy.vector import gradient, divergence\n",
    "\n",
    "C = CoordSysCartesian('C')\n",
    "gradientOfOurFunction = gradient(sympy.sin(2*C.x)*sympy.sin(C.y), C)\n",
    "gradientOfOurFunction"
   ]
  },
  {
   "cell_type": "markdown",
   "metadata": {},
   "source": [
    "Once again - Sympy comes to the rescue and helps us compute the divergence."
   ]
  },
  {
   "cell_type": "code",
   "execution_count": null,
   "metadata": {
    "collapsed": false
   },
   "outputs": [],
   "source": [
    "print divergence.__doc__  #try ?divergence too."
   ]
  },
  {
   "cell_type": "code",
   "execution_count": null,
   "metadata": {
    "collapsed": false
   },
   "outputs": [],
   "source": [
    "divergence(gradientOfOurFunction,C)"
   ]
  },
  {
   "cell_type": "markdown",
   "metadata": {},
   "source": [
    "Note which is a vector field and which is a scalr field."
   ]
  },
  {
   "cell_type": "markdown",
   "metadata": {},
   "source": [
    "[Top of Page](#Sections)"
   ]
  },
  {
   "cell_type": "markdown",
   "metadata": {},
   "source": [
    "### Accumulation\n",
    "\n",
    "The dot product of $\\hat{\\nabla}$ and a vector or vector field is a scalar.  This should be recalled from earlier lectures on the properties of matrices and vector algebra.  As expected, this is a scalar quantity.  One physical interpretation is that of the accumulation of matter in a control volume.  The divergence of the flux into (or out of the control volume) is the accumulation.  There are plenty of derivations of this.  Thinking in terms of Fick's Law's of diffusion:\n",
    "\n",
    "Fick's first law is:\n",
    "\n",
    "$$\\overrightarrow{J} = -M \\nabla{\\mu} $$\n",
    "\n",
    "I'm being particular about my choices for notation using $M$ and $\\mu$.  Your homework assignment should clarify this.  Fick's second law is:\n",
    "\n",
    "$$\\frac{\\partial C(x,t)}{\\partial t} = - \\hat{\\nabla} \\cdot \\overrightarrow{J} $$\n",
    "\n",
    "To be honest - we usually drop the formal over hats and vector notation - we just know it is a vector field.  As indicated below, the sign and magnitude of the accumulation is consistent with F.S.L. and the scalar field above."
   ]
  },
  {
   "cell_type": "code",
   "execution_count": null,
   "metadata": {
    "collapsed": true
   },
   "outputs": [],
   "source": [
    "%matplotlib notebook\n",
    "\n",
    "import numpy as np\n",
    "import pylab as plt\n",
    "\n",
    "import sympy\n",
    "from sympy.vector import CoordSysCartesian\n",
    "from sympy.vector import gradient, divergence\n",
    "\n",
    "x, y = sympy.symbols('x y')\n",
    "C = CoordSysCartesian('C')\n",
    "\n",
    "# Define your example scalar field (a concentration like \n",
    "# variable C(x,y).\n",
    "exampleField = -sympy.sin(sympy.pi*C.x)*sympy.cos(sympy.pi*C.y)"
   ]
  },
  {
   "cell_type": "code",
   "execution_count": null,
   "metadata": {
    "collapsed": false
   },
   "outputs": [],
   "source": [
    "# Compute the gradient.\n",
    "gradientOfField = gradient(exampleField,C)\n",
    "gradientOfField"
   ]
  },
  {
   "cell_type": "code",
   "execution_count": null,
   "metadata": {
    "collapsed": false
   },
   "outputs": [],
   "source": [
    "# Compute the divergence.\n",
    "accumulation = divergence(gradientOfField,C)\n",
    "accumulation"
   ]
  },
  {
   "cell_type": "markdown",
   "metadata": {},
   "source": [
    "One of the drawbacks to the `vector` submodule in `sympy` is that (it appears) you cannot `lambdify` vector expressions - this means that you have to track vector quantities yourself."
   ]
  },
  {
   "cell_type": "code",
   "execution_count": null,
   "metadata": {
    "collapsed": false
   },
   "outputs": [],
   "source": [
    "?sympy.diff"
   ]
  },
  {
   "cell_type": "code",
   "execution_count": null,
   "metadata": {
    "collapsed": false
   },
   "outputs": [],
   "source": [
    "sympyExampleField = -sympy.sin(sympy.pi*x)*sympy.cos(sympy.pi*y)\n",
    "gradFieldX = sympy.diff(sympyExampleField,x)\n",
    "gradFieldY = sympy.diff(sympyExampleField,y)\n",
    "sympyAccumulation = sympy.diff(sympyExampleField,x,2)+sympy.diff(sympyExampleField,y,2)\n",
    "\n",
    "myAcuumulationFunction = sympy.lambdify((x,y), sympyAccumulation, 'numpy')\n",
    "myGradFunctionX = sympy.lambdify((x,y), gradFieldX, 'numpy')\n",
    "myGradFunctionY = sympy.lambdify((x,y), gradFieldY, 'numpy')"
   ]
  },
  {
   "cell_type": "code",
   "execution_count": null,
   "metadata": {
    "collapsed": false
   },
   "outputs": [],
   "source": [
    "import numpy as np\n",
    "\n",
    "?np.mgrid"
   ]
  },
  {
   "cell_type": "code",
   "execution_count": null,
   "metadata": {
    "collapsed": false
   },
   "outputs": [],
   "source": [
    "x0, x1 = (-1,1)\n",
    "y0, y1 = (-1,1)\n",
    "plotResolution = 200\n",
    "\n",
    "Y, X =  np.mgrid[y0:y1:200j, x0:x1:200j]\n",
    "Y1, X1 =  np.mgrid[y0:y1:20j, x0:x1:20j]\n",
    "\n",
    "Z = myAcuumulationFunction(X,Y)\n",
    "u = myGradFunctionX(X1,Y1)\n",
    "v = myGradFunctionY(X1,Y1)\n",
    "\n",
    "fig, ax = plt.subplots()\n",
    "\n",
    "plt.contourf(X,Y,Z,10)\n",
    "plt.quiver(X1,Y1,u,v, color='white')\n",
    "\n",
    "plt.show()"
   ]
  },
  {
   "cell_type": "markdown",
   "metadata": {},
   "source": [
    "Now you have a physical intuition for Fick's law.  This can be generalized to three dimensions quite easily and can be done symbolically with `sympy` and the `vector` submodule."
   ]
  },
  {
   "cell_type": "markdown",
   "metadata": {},
   "source": [
    "[Top of Page](#Sections)"
   ]
  },
  {
   "cell_type": "markdown",
   "metadata": {},
   "source": [
    "## Homework\n",
    "----\n",
    "\n",
    "1.  Using the ideal solution model for the chemical potential, *derive* the accumulation of species in a diffusive problem.\n",
    "\n",
    "1.  Write a function that returns the accumulation of a potential.  The potential is a `sympy` expression.  The return value should be a sympy expression.  Test it on your chemical potential derived in the first part of the assignment."
   ]
  },
  {
   "cell_type": "markdown",
   "metadata": {},
   "source": [
    "[Top of Page](#Sections)"
   ]
  },
  {
   "cell_type": "markdown",
   "metadata": {},
   "source": [
    "## Summary\n",
    "----\n",
    "\n",
    "* The $\\hat{\\nabla}$ operator can be thought of as a vector that dots into other scalar and vector fields.\n",
    "* We say that the application of this operator to a scalar field is the gradient.  When applied to a vector field we say that this is the divergence.\n",
    "* The gradient is a vector field.  The divergence is a scalar field.  Both are \"fields\" and therefore are spatially dependent.  This is observed by inspection of the results of the gradient and divergence operators on some \"toy\" functions.\n",
    "* Using contour plots, heatmaps, and quiver plots we can visualize the gradient and divergence to build physical intuition for differential equations."
   ]
  },
  {
   "cell_type": "markdown",
   "metadata": {},
   "source": [
    "[Top of Page](#Sections)"
   ]
  },
  {
   "cell_type": "markdown",
   "metadata": {},
   "source": [
    "## Looking Ahead\n",
    "----\n",
    "\n",
    "* We are moving to Fourier series next lecture.  \n",
    "* The concept of a generalized inner product of functions will be introduced.\n",
    "* The idea of an infinite vector space will also be developed."
   ]
  },
  {
   "cell_type": "markdown",
   "metadata": {},
   "source": [
    "[Top of Page](#Sections)"
   ]
  },
  {
   "cell_type": "markdown",
   "metadata": {},
   "source": [
    "## Reading Assignments and Practice\n",
    "----\n",
    "\n",
    "* Read the chapter in Arfken on vector analysis.  (Not required, but helpful.)\n",
    "* Think about what other physical systems are described in terms of gradients."
   ]
  },
  {
   "cell_type": "markdown",
   "metadata": {},
   "source": [
    "[Top of Page](#Sections)"
   ]
  },
  {
   "cell_type": "markdown",
   "metadata": {
    "collapsed": true
   },
   "source": [
    "## References\n",
    "----\n",
    "\n",
    "1.  https://tonysyu.github.io/plotting-streamlines-with-matplotlib-and-sympy.html"
   ]
  },
  {
   "cell_type": "markdown",
   "metadata": {},
   "source": [
    "[Top of Page](#Sections)"
   ]
  }
 ],
 "metadata": {
  "anaconda-cloud": {},
  "kernelspec": {
   "display_name": "Python 2",
   "language": "python",
   "name": "python2"
  },
  "language_info": {
   "codemirror_mode": {
    "name": "ipython",
    "version": 2
   },
   "file_extension": ".py",
   "mimetype": "text/x-python",
   "name": "python",
   "nbconvert_exporter": "python",
   "pygments_lexer": "ipython2",
   "version": "2.7.6"
  }
 },
 "nbformat": 4,
 "nbformat_minor": 0
}
