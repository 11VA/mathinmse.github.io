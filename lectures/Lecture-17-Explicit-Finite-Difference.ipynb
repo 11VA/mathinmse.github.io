{
 "cells": [
  {
   "cell_type": "code",
   "execution_count": 1,
   "metadata": {
    "collapsed": false,
    "slideshow": {
     "slide_type": "skip"
    }
   },
   "outputs": [
    {
     "name": "stdout",
     "output_type": "stream",
     "text": [
      "[NbConvertApp] Converting notebook Lecture-17-Explicit-Finite-Difference.ipynb to slides\n",
      "[NbConvertApp] Writing 283205 bytes to Lecture-17-Explicit-Finite-Difference.slides.html\n",
      "[NbConvertApp] Serving local reveal.js\n",
      "Serving your slides at http://127.0.0.1:8000/Lecture-17-Explicit-Finite-Difference.slides.html\n",
      "Use Control-C to stop this server\n",
      "WARNING:tornado.access:404 GET /custom.css (127.0.0.1) 111.88ms\n",
      "WARNING:tornado.access:404 GET /custom.css (127.0.0.1) 1.18ms\n",
      "^C\n",
      "\n",
      "Interrupted\n"
     ]
    }
   ],
   "source": [
    "# To test slideshow run this cell.  Use LiveReveal.js in class.\n",
    "!jupyter nbconvert --to slides --post serve Lecture-17-Explicit-Finite-Difference.ipynb"
   ]
  },
  {
   "cell_type": "markdown",
   "metadata": {
    "slideshow": {
     "slide_type": "slide"
    }
   },
   "source": [
    "# Lecture 17:  Numerical Solutions to the Diffusion Equation (Explicit Methods)\n",
    "\n",
    "### Sections\n",
    "\n",
    "* [Introduction](#Introduction)\n",
    "* [Learning Goals](#Learning-Goals)\n",
    "* [On Your Own](#On-Your-Own)\n",
    "    * [Taylor Series and Derivatives](#Taylor-Series-and-Derivatives)\n",
    "    * [Dividing Space and Time](#Dividing-Space-and-Time)\n",
    "* [In Class](#In-Class)\n",
    "    * [Set up an initial condition](#Set-up-an-initial-condition)\n",
    "    * [Set up other simulation parameters](#Set-up-other-simulation-parameters)\n",
    "    * [Set up the data structure](#Set-up-the-data-structure)\n",
    "    * [Write the solver](#Write-the-solver)\n",
    "    * [Plot the results](#Plot-the-results)\n",
    "* [Homework](#Homework)\n",
    "* [Summary](#Summary)\n",
    "* [Looking Ahead](#Looking-Ahead)\n",
    "* [Reading Assignments and Practice](#Reading-Assignments-and-Practice)"
   ]
  },
  {
   "cell_type": "markdown",
   "metadata": {
    "slideshow": {
     "slide_type": "slide"
    }
   },
   "source": [
    "### Introduction\n",
    "----\n",
    "\n",
    "Tomes have  been written on numerical methods. We will explore four methods in the next four lectures. If you can map previous learning elements/topics into each method then you are doing well.\n",
    "\n",
    "If the material in this lecture seems incomplete, it is. There is much more to learn and my intent is to help you see \"under the hood\". All the concepts here are carried over into more modern and more\n",
    "complex numerical methods."
   ]
  },
  {
   "cell_type": "markdown",
   "metadata": {
    "slideshow": {
     "slide_type": "skip"
    }
   },
   "source": [
    "[Top of Page](#Sections)"
   ]
  },
  {
   "cell_type": "markdown",
   "metadata": {
    "slideshow": {
     "slide_type": "slide"
    }
   },
   "source": [
    "### Learning Goals\n",
    "----"
   ]
  },
  {
   "cell_type": "markdown",
   "metadata": {
    "slideshow": {
     "slide_type": "fragment"
    }
   },
   "source": [
    "You will learn four different ways to solve the diffusion equation in the next four lectures.  This is a chance to practice what you learned in previous lectures within each of the worked out problems.  Things to look out for:"
   ]
  },
  {
   "cell_type": "markdown",
   "metadata": {
    "slideshow": {
     "slide_type": "fragment"
    }
   },
   "source": [
    "* Taylor's expansions\n",
    "* Linear algebra\n",
    "* Fourier series\n",
    "* Boundary conditions"
   ]
  },
  {
   "cell_type": "markdown",
   "metadata": {
    "slideshow": {
     "slide_type": "skip"
    }
   },
   "source": [
    "[Top of Page](#Sections)"
   ]
  },
  {
   "cell_type": "markdown",
   "metadata": {
    "slideshow": {
     "slide_type": "skip"
    }
   },
   "source": [
    "### On Your Own\n",
    "----"
   ]
  },
  {
   "cell_type": "markdown",
   "metadata": {
    "slideshow": {
     "slide_type": "skip"
    }
   },
   "source": [
    "* Review the taylor series\n",
    "* Review the idea of grids"
   ]
  },
  {
   "cell_type": "markdown",
   "metadata": {
    "slideshow": {
     "slide_type": "slide"
    }
   },
   "source": [
    "#### Taylor Series and Derivatives"
   ]
  },
  {
   "cell_type": "markdown",
   "metadata": {
    "slideshow": {
     "slide_type": "skip"
    }
   },
   "source": [
    "As a reminder, the Taylor series is used to develop approximations of derivative quantities from finite differences.  The Taylor polynomial is the basis for the finite difference calculus.  These definitions were in Lecture 10."
   ]
  },
  {
   "cell_type": "markdown",
   "metadata": {
    "slideshow": {
     "slide_type": "fragment"
    }
   },
   "source": [
    "Taylor's approximation of a first derivative:\n",
    "\n",
    "$$\n",
    "- 2 h \\left. \\frac{d}{d \\xi_{1}} f{\\left (\\xi_{1} \\right )} \\right|_{\\substack{ \\xi_{1}=c }} - f{\\left (c - h \\right )} + f{\\left (c + h \\right )} = 0\n",
    "$$"
   ]
  },
  {
   "cell_type": "markdown",
   "metadata": {
    "slideshow": {
     "slide_type": "fragment"
    }
   },
   "source": [
    "And the second derivative as a central difference:\n",
    "\n",
    "$$\n",
    "h^{2} \\left. \\frac{d^{2}}{d \\xi_{1}^{2}}  f{\\left (\\xi_{1} \\right )} \\right|_{\\substack{ \\xi_{1}=c }} + 2 f{\\left (c \\right )} - f{\\left (c - h \\right )} - f{\\left (c + h \\right )} = 0\n",
    "$$"
   ]
  },
  {
   "cell_type": "markdown",
   "metadata": {
    "slideshow": {
     "slide_type": "skip"
    }
   },
   "source": [
    "[Top of Page](#Sections)"
   ]
  },
  {
   "cell_type": "markdown",
   "metadata": {
    "slideshow": {
     "slide_type": "slide"
    }
   },
   "source": [
    "#### Dividing Space and Time"
   ]
  },
  {
   "cell_type": "markdown",
   "metadata": {
    "slideshow": {
     "slide_type": "skip"
    }
   },
   "source": [
    "In order that we may use our Taylor's series approximations for the time and space derivatives we need to define the domain of our simulation.  One easy way to visualize time and space descretization is to use a \"grid\" construction.  The figure below shows one way that the time and space variables can be represented.  \n",
    "\n",
    "In this definition the grid is a _uniform_ grid in each independent variable - meaning that the distance in the independent variable between grid points is the same."
   ]
  },
  {
   "cell_type": "markdown",
   "metadata": {
    "slideshow": {
     "slide_type": "slide"
    }
   },
   "source": [
    "![](http://ridcully.mat.rpi.edu/4960/index.php?n=Main.Lectures?action=download&upname=grid.png)\n",
    "\n",
    "This image is from [this page](https://me.ucsb.edu/~moehlis/APC591/tutorials/tutorial5/node3.html) and [this tutorial](https://me.ucsb.edu/~moehlis/APC591/tutorials/tutorial5/tutorial5.html) and is included as a link on the course server."
   ]
  },
  {
   "cell_type": "markdown",
   "metadata": {
    "slideshow": {
     "slide_type": "skip"
    }
   },
   "source": [
    "[Top of Page](#Sections)"
   ]
  },
  {
   "cell_type": "markdown",
   "metadata": {
    "slideshow": {
     "slide_type": "slide"
    }
   },
   "source": [
    "### In Class\n",
    "----"
   ]
  },
  {
   "cell_type": "markdown",
   "metadata": {
    "slideshow": {
     "slide_type": "fragment"
    }
   },
   "source": [
    "In this part we will solve the diffusion equation numerically and write our own numerical finite-difference solver.  The steps we need to take are:\n",
    "\n",
    "* Set up an initial condition\n",
    "* Write a finite-difference representation of our PDE\n",
    "* Iterate\n",
    "* Store the results\n",
    "* Visualize the results"
   ]
  },
  {
   "cell_type": "markdown",
   "metadata": {
    "slideshow": {
     "slide_type": "slide"
    }
   },
   "source": [
    "#### Set up an initial condition"
   ]
  },
  {
   "cell_type": "markdown",
   "metadata": {
    "slideshow": {
     "slide_type": "slide"
    }
   },
   "source": [
    "We need to set up a few parameters before we get started:"
   ]
  },
  {
   "cell_type": "markdown",
   "metadata": {
    "slideshow": {
     "slide_type": "fragment"
    }
   },
   "source": [
    "* `numberOfPoints` - the number of grid points within our computational domain\n",
    "* `lengthOfDomain` - the physical length of our computational domain\n",
    "* `dx` - the distance between successive grid points in our domain\n",
    "* `xPoints` - a linear space divided into numberOfPoints points.\n",
    "* `initialCondition` - our starting distribution of solute (i.e. $c(x,0)$)."
   ]
  },
  {
   "cell_type": "code",
   "execution_count": 1,
   "metadata": {
    "collapsed": false,
    "slideshow": {
     "slide_type": "skip"
    }
   },
   "outputs": [],
   "source": [
    "# Run this cell before lecture\n",
    "\n",
    "%matplotlib osx\n",
    "import numpy as np\n",
    "import matplotlib.pyplot as plt"
   ]
  },
  {
   "cell_type": "markdown",
   "metadata": {
    "slideshow": {
     "slide_type": "slide"
    }
   },
   "source": [
    "We start with an initial seed of data. This could be anything you like - any initial condition.  Unlike our other analytical strategies there are no coefficients to compute, no functions to fit - you can just put your data into an array. "
   ]
  },
  {
   "cell_type": "code",
   "execution_count": 2,
   "metadata": {
    "collapsed": false,
    "slideshow": {
     "slide_type": "fragment"
    }
   },
   "outputs": [
    {
     "ename": "NameError",
     "evalue": "name 'np' is not defined",
     "output_type": "error",
     "traceback": [
      "\u001b[0;31m---------------------------------------------------------------------------\u001b[0m",
      "\u001b[0;31mNameError\u001b[0m                                 Traceback (most recent call last)",
      "\u001b[0;32m<ipython-input-2-a2c5ee40630d>\u001b[0m in \u001b[0;36m<module>\u001b[0;34m()\u001b[0m\n\u001b[1;32m      2\u001b[0m \u001b[0mlengthOfDomain\u001b[0m \u001b[0;34m=\u001b[0m \u001b[0;36m1.0\u001b[0m\u001b[0;34m\u001b[0m\u001b[0m\n\u001b[1;32m      3\u001b[0m \u001b[0mdx\u001b[0m \u001b[0;34m=\u001b[0m \u001b[0mlengthOfDomain\u001b[0m\u001b[0;34m/\u001b[0m\u001b[0mnumberOfPoints\u001b[0m\u001b[0;34m\u001b[0m\u001b[0m\n\u001b[0;32m----> 4\u001b[0;31m \u001b[0mxPoints\u001b[0m \u001b[0;34m=\u001b[0m \u001b[0mnp\u001b[0m\u001b[0;34m.\u001b[0m\u001b[0mlinspace\u001b[0m\u001b[0;34m(\u001b[0m\u001b[0;36m0.0\u001b[0m\u001b[0;34m,\u001b[0m \u001b[0mlengthOfDomain\u001b[0m\u001b[0;34m,\u001b[0m \u001b[0mnumberOfPoints\u001b[0m\u001b[0;34m)\u001b[0m\u001b[0;34m\u001b[0m\u001b[0m\n\u001b[0m\u001b[1;32m      5\u001b[0m \u001b[0minitialCondition\u001b[0m \u001b[0;34m=\u001b[0m \u001b[0mnp\u001b[0m\u001b[0;34m.\u001b[0m\u001b[0msin\u001b[0m\u001b[0;34m(\u001b[0m\u001b[0mxPoints\u001b[0m\u001b[0;34m*\u001b[0m\u001b[0mnp\u001b[0m\u001b[0;34m.\u001b[0m\u001b[0mpi\u001b[0m\u001b[0;34m/\u001b[0m\u001b[0mlengthOfDomain\u001b[0m\u001b[0;34m)\u001b[0m\u001b[0;34m\u001b[0m\u001b[0m\n",
      "\u001b[0;31mNameError\u001b[0m: name 'np' is not defined"
     ]
    }
   ],
   "source": [
    "numberOfPoints = 100\n",
    "lengthOfDomain = 1.0\n",
    "dx = lengthOfDomain/numberOfPoints\n",
    "xPoints = np.linspace(0.0, lengthOfDomain, numberOfPoints)\n",
    "initialCondition = np.sin(xPoints*np.pi/lengthOfDomain)"
   ]
  },
  {
   "cell_type": "markdown",
   "metadata": {
    "slideshow": {
     "slide_type": "fragment"
    }
   },
   "source": [
    "Here we choose a `sin` function as our initial condition.  Really - it can be anything based on the physical problem you are solving."
   ]
  },
  {
   "cell_type": "code",
   "execution_count": 3,
   "metadata": {
    "collapsed": false,
    "slideshow": {
     "slide_type": "slide"
    }
   },
   "outputs": [],
   "source": [
    "def plotIC():\n",
    "    fig = plt.figure()\n",
    "    axes = fig.add_axes([0.1, 0.1, 0.8, 0.8])\n",
    "    axes.plot(xPoints, initialCondition, 'ro')\n",
    "    axes.set_xlabel('Distance $x$')\n",
    "    axes.set_ylabel('Concentration of Stuff $c(x,t)$')\n",
    "    axes.set_title('Initial Conditions');"
   ]
  },
  {
   "cell_type": "code",
   "execution_count": null,
   "metadata": {
    "collapsed": false,
    "slideshow": {
     "slide_type": "slide"
    }
   },
   "outputs": [],
   "source": [
    "plotIC()"
   ]
  },
  {
   "cell_type": "markdown",
   "metadata": {
    "slideshow": {
     "slide_type": "skip"
    }
   },
   "source": [
    "One thing I have glossed over from the start of this class is the need to scale your equations\n",
    "appropriately. You may be asking yourself at this point, why N points above? One of the concepts in numerical solutions is that you descritize space and time. So all we know so far is that the initial condition above is broken into `numberOfPoints` equivalent units of space. (It would be natural to ask at this point, must they be equivalent? The reality is that you can have unstructured grids and this is very important for real engineering problems. At this point we leave the grid structured so that other parts of the problem are easier to deal with.)"
   ]
  },
  {
   "cell_type": "markdown",
   "metadata": {
    "slideshow": {
     "slide_type": "slide"
    }
   },
   "source": [
    "#### Set up other simulation parameters"
   ]
  },
  {
   "cell_type": "markdown",
   "metadata": {
    "slideshow": {
     "slide_type": "fragment"
    }
   },
   "source": [
    "We now set:\n",
    "\n",
    "* `diffusionCoefficient` - the diffusion coefficient\n",
    "* `dt` - the discrete time step (you'll note the formulaic choice of `dt`)\n",
    "* `numberOfIterations` - the number of iterations we will take in the solution of the PDE (e.g. the total time of the simulation will be `numberOfIterations` multiplied by `dt`)"
   ]
  },
  {
   "cell_type": "code",
   "execution_count": null,
   "metadata": {
    "collapsed": true,
    "slideshow": {
     "slide_type": "fragment"
    }
   },
   "outputs": [],
   "source": [
    "diffusionCoefficient = 10.0\n",
    "dt = dx**2/(4*diffusionCoefficient)\n",
    "numberOfIterations = 1000"
   ]
  },
  {
   "cell_type": "markdown",
   "metadata": {
    "slideshow": {
     "slide_type": "skip"
    }
   },
   "source": [
    "Our choice of timestep is restricted thus:\n",
    "\n",
    "$$\n",
    "dt \\leq \\frac{\\Delta x^2}{2 \\, D}\n",
    "$$\n",
    "\n",
    "There is a good discussion of an error analysis in \"Numerical Recipes\" and other numerical methods text will go through the details of a stability analysis.  Other texts (e.g. Hornbeck) just state the above as true.  When we solve the PDE - try and make $dt$ smaller, equal to and larger than the Courant stability limit.  See what happens!"
   ]
  },
  {
   "cell_type": "markdown",
   "metadata": {
    "slideshow": {
     "slide_type": "slide"
    }
   },
   "source": [
    "#### Set up the data structure"
   ]
  },
  {
   "cell_type": "markdown",
   "metadata": {
    "slideshow": {
     "slide_type": "skip"
    }
   },
   "source": [
    "A short discussion on our data structure is needed here.  There are three strategies that I have used in solving PDEs.  One is to store ALL the data, another is to store SOME of the data, and the last is to store NONE of the data but the very last computation.  Each strategy has advantages and disadvantages.  At this point in your education - all strategies probably seem equally hard.  For now - let us design a data structure that stores all the data with the caveat that things are rarely done using the method I'll show you."
   ]
  },
  {
   "cell_type": "markdown",
   "metadata": {
    "slideshow": {
     "slide_type": "fragment"
    }
   },
   "source": [
    "Let us create a `numpy` array that has one dimension equal to the number of points in our grid and another dimension that is equal to the number of iterations we wish to take.  "
   ]
  },
  {
   "cell_type": "code",
   "execution_count": null,
   "metadata": {
    "collapsed": false,
    "slideshow": {
     "slide_type": "fragment"
    }
   },
   "outputs": [],
   "source": [
    "arrayWithAllTheData = np.zeros((numberOfPoints,numberOfIterations), dtype='float32')"
   ]
  },
  {
   "cell_type": "markdown",
   "metadata": {
    "slideshow": {
     "slide_type": "slide"
    }
   },
   "source": [
    "#### Set up the initial condition\n",
    "\n",
    "You can think of the 2D array as having one space axis (the first index, we will use `i` for this one) and one time axis (the second index, we will use `j` for this one).\n",
    "\n",
    "We will set our initial conditions by assigning the `initialCondition` array to the first row of the `arrayWithAllTheData`.  Note the slicing in the first index."
   ]
  },
  {
   "cell_type": "code",
   "execution_count": null,
   "metadata": {
    "collapsed": false,
    "slideshow": {
     "slide_type": "fragment"
    }
   },
   "outputs": [],
   "source": [
    "arrayWithAllTheData[:,0] = initialCondition"
   ]
  },
  {
   "cell_type": "markdown",
   "metadata": {
    "slideshow": {
     "slide_type": "slide"
    }
   },
   "source": [
    "With our initial conditions in place we need to develop the computational steps to advance our solution in time.  The PDE we are solving (with a constant diffusion coefficient) is:\n",
    "\n",
    "$$\n",
    "\\frac{\\partial c(x,t)}{\\partial t} = D \\frac{\\partial^2 c(x,t)}{\\partial x}\n",
    "$$"
   ]
  },
  {
   "cell_type": "markdown",
   "metadata": {
    "slideshow": {
     "slide_type": "subslide"
    }
   },
   "source": [
    "In the next step we assign the spatial coordinate an index $i$ and a time coordinate an index $j$.  The finite difference representation of our PDE with $u_{i,j}$ as the stored value that represents $c(x,t)$ is:\n",
    "\n",
    "$$\n",
    "\\frac{u_{i,\\, j+1} - u_{i,\\, j}}{\\Delta t} = D \\frac{u_{i - 1,\\, j} - 2 u_{i,\\, j} + u_{i + 1,\\, j}}{\\Delta x^2}\n",
    "$$"
   ]
  },
  {
   "cell_type": "markdown",
   "metadata": {
    "slideshow": {
     "slide_type": "subslide"
    }
   },
   "source": [
    "We can algebraically solve for $u_{i+1,\\, j}$:\n",
    "\n",
    "$$\n",
    "u_{i,\\, j+1} = \\frac{D \\Delta t}{\\Delta x^2} \\left( u_{i - 1,\\, j} - 2 u_{i,\\, j} + u_{i + 1,\\, j} \\right) + u_{i,\\, j}\n",
    "$$"
   ]
  },
  {
   "cell_type": "markdown",
   "metadata": {
    "slideshow": {
     "slide_type": "skip"
    }
   },
   "source": [
    "From the expression above you can see that all the terms on the RHS of the expression are at the index $j$ (the last iteration) and all the terms on the LHS are for the $j+1$ index (the next iteration).  This scheme defines a simple method (with a restrictive timestep) for integrating a PDE.  We will apply this method below."
   ]
  },
  {
   "cell_type": "markdown",
   "metadata": {
    "slideshow": {
     "slide_type": "slide"
    }
   },
   "source": [
    "To make all of this work we have to proceed as follows:"
   ]
  },
  {
   "cell_type": "markdown",
   "metadata": {
    "slideshow": {
     "slide_type": "fragment"
    }
   },
   "source": [
    "* Compute the prefactor $D \\Delta t/ \\Delta x^2$.\n",
    "* Apply the boundary conditions in the $j$th row of the array.\n",
    "* Using the $j$ row of the array (plus the boundary conditions), fill in row $j+1$ of the array with values corresponding to the new time $t + \\Delta t$ according to the equation above.\n",
    "* Advance the index and repeat until all rows are filled.\n",
    "* Visualize the results.\n",
    "\n",
    "**Advancing the index** and **repeating until the rows are filled** are done in the cell below:"
   ]
  },
  {
   "cell_type": "markdown",
   "metadata": {
    "slideshow": {
     "slide_type": "slide"
    }
   },
   "source": [
    "#### Write the solver"
   ]
  },
  {
   "cell_type": "code",
   "execution_count": null,
   "metadata": {
    "collapsed": true,
    "slideshow": {
     "slide_type": "fragment"
    }
   },
   "outputs": [],
   "source": [
    "for j in range(1,numberOfIterations):\n",
    "    for i in range(1,numberOfPoints-1):\n",
    "        arrayWithAllTheData[i,j] = # What should you put here?"
   ]
  },
  {
   "cell_type": "markdown",
   "metadata": {
    "slideshow": {
     "slide_type": "slide"
    }
   },
   "source": [
    "#### DIY:  Sketch the algorithm up to this point and for the cell below.\n",
    "\n",
    "Doing this will help you visualize the operations and it will increase your ability to make modifications in the future and devise new more compact ways to integrate this PDE."
   ]
  },
  {
   "cell_type": "markdown",
   "metadata": {
    "slideshow": {
     "slide_type": "slide"
    }
   },
   "source": [
    "If you've sketched the algorithm as advised above then you see that in our development of this solution we implicitly set the boundary conditions.  We initialize `arrayWithAllTheData` with `np.zeros` and then compute on all the interior rows/columns.  This creates a condition where all the boundary cells are set to zero and their values remain untouched throughout the computation."
   ]
  },
  {
   "cell_type": "markdown",
   "metadata": {
    "slideshow": {
     "slide_type": "slide"
    }
   },
   "source": [
    "#### Plot the results"
   ]
  },
  {
   "cell_type": "code",
   "execution_count": null,
   "metadata": {
    "collapsed": true,
    "slideshow": {
     "slide_type": "slide"
    }
   },
   "outputs": [],
   "source": [
    "%matplotlib inline\n",
    "import numpy as np\n",
    "from ipywidgets import interact, fixed\n",
    "import matplotlib.pyplot as plt\n",
    "\n",
    "def plotArray(xPoints, dataArray, rowID=0):\n",
    "    \"\"\"\n",
    "    This function in conjunction with interact() permits\n",
    "    inspection of the contents of an array, row by row.  This\n",
    "    is useful for some small tasks such as examining the results\n",
    "    of a PDE solution.\n",
    "    \"\"\"\n",
    "    x = xPoints\n",
    "    y = dataArray[:,rowID]\n",
    "    fig = plt.figure(figsize=(10,8))\n",
    "    axes = fig.add_axes([0.1, 0.1, 0.8, 0.8])\n",
    "    axes.set_ylim(0,1)\n",
    "    axes.plot(x, y, 'ro', label=r\"$c(x,t)$\")\n",
    "    axes.legend()\n",
    "    axes.grid(False)\n",
    "    return"
   ]
  },
  {
   "cell_type": "code",
   "execution_count": null,
   "metadata": {
    "collapsed": false,
    "slideshow": {
     "slide_type": "slide"
    }
   },
   "outputs": [],
   "source": [
    "interact(plotArray, \n",
    "         xPoints=fixed(xPoints), \n",
    "         dataArray=fixed(arrayWithAllTheData),\n",
    "         rowID=(0,numberOfIterations-1,1), );"
   ]
  },
  {
   "cell_type": "markdown",
   "metadata": {
    "slideshow": {
     "slide_type": "slide"
    }
   },
   "source": [
    "#### DIY:  Compute a solution where you change the boundary conditions on the LHS to be $c(x=L,t) = 1.0$."
   ]
  },
  {
   "cell_type": "code",
   "execution_count": null,
   "metadata": {
    "collapsed": true,
    "slideshow": {
     "slide_type": "fragment"
    }
   },
   "outputs": [],
   "source": [
    "# Your solver code goes here."
   ]
  },
  {
   "cell_type": "markdown",
   "metadata": {
    "slideshow": {
     "slide_type": "slide"
    }
   },
   "source": [
    "#### Optional DIY:  Vectorize the above solution method.\n"
   ]
  },
  {
   "cell_type": "code",
   "execution_count": null,
   "metadata": {
    "collapsed": true,
    "slideshow": {
     "slide_type": "fragment"
    }
   },
   "outputs": [],
   "source": [
    "# Your solver code goes here."
   ]
  },
  {
   "cell_type": "markdown",
   "metadata": {
    "slideshow": {
     "slide_type": "skip"
    }
   },
   "source": [
    "[Top of Page](#Sections)"
   ]
  },
  {
   "cell_type": "markdown",
   "metadata": {
    "slideshow": {
     "slide_type": "slide"
    }
   },
   "source": [
    "### Homework \n",
    "\n",
    "(Optional) \n",
    "\n",
    "----"
   ]
  },
  {
   "cell_type": "markdown",
   "metadata": {
    "slideshow": {
     "slide_type": "slide"
    }
   },
   "source": [
    "#### Part 1:  Solve the following problem:\n",
    "\n",
    "$$\n",
    "\\frac{\\partial c(x,t)}{\\partial t} = D \\frac{\\partial^2 c(x,t)}{\\partial x^2}\n",
    "$$\n",
    "\n",
    "with the initial condition \n",
    "\n",
    "$$c(x,t=0) = 1.0,$$\n",
    "\n",
    "over the domain \n",
    "\n",
    "$$( x \\, \\vert \\, 0 \\le x \\le 1.0 ).$$\n",
    "\n",
    "with zero flux boundary conditions."
   ]
  },
  {
   "cell_type": "markdown",
   "metadata": {
    "slideshow": {
     "slide_type": "slide"
    }
   },
   "source": [
    "#### Part 2:  Solve the following problem:\n",
    "\n",
    "$$\n",
    "\\frac{\\partial c(x,t)}{\\partial t} = \\frac{\\partial}{\\partial x} D(c) \\frac{\\partial c(x,t)}{\\partial x}\n",
    "$$\n",
    "\n",
    "with the initial condition:\n",
    "\n",
    "$$\n",
    "c(x \\leq 0.5 , t=0) = 1.0\\\\\n",
    "c(x \\gt 0.5 , t=0) = 0.0\n",
    "$$\n",
    "\n",
    "with D having the dependence:\n",
    "\n",
    "$$\n",
    "D(c) = D_0\\cdot c \\cdot(1-c)\n",
    "$$\n",
    "\n",
    "over the domain:\n",
    "\n",
    "$$\n",
    "( x \\, \\vert \\, 0 \\le x \\le 1.0 )\n",
    "$$\n",
    "\n",
    "with zero flux boundary conditions."
   ]
  },
  {
   "cell_type": "markdown",
   "metadata": {
    "slideshow": {
     "slide_type": "slide"
    }
   },
   "source": [
    "### Homework Notes\n",
    "----\n",
    "\n",
    "If you've got the above all worked out.  The first homework problem amounts to changing the initial conditions.  For the second problem choose the Courant condition (the condition that sets the maximium time step for which the finite difference method is stable) such that the time step is chosen for the most restrictive case."
   ]
  },
  {
   "cell_type": "markdown",
   "metadata": {
    "slideshow": {
     "slide_type": "skip"
    }
   },
   "source": [
    "[Top of Page](#Sections)"
   ]
  },
  {
   "cell_type": "markdown",
   "metadata": {
    "slideshow": {
     "slide_type": "skip"
    }
   },
   "source": [
    "### Looking Ahead\n",
    "----\n",
    "\n",
    "[Top of Page](#Sections)\n",
    "\n",
    "### Reading Assignments and Practice\n",
    "----\n",
    "\n",
    "[Top of Page](#Sections)"
   ]
  }
 ],
 "metadata": {
  "anaconda-cloud": {},
  "celltoolbar": "Slideshow",
  "kernelspec": {
   "display_name": "Python 2",
   "language": "python",
   "name": "python2"
  },
  "language_info": {
   "codemirror_mode": {
    "name": "ipython",
    "version": 2
   },
   "file_extension": ".py",
   "mimetype": "text/x-python",
   "name": "python",
   "nbconvert_exporter": "python",
   "pygments_lexer": "ipython2",
   "version": "2.7.13"
  }
 },
 "nbformat": 4,
 "nbformat_minor": 0
}
