{
 "cells": [
  {
   "cell_type": "markdown",
   "metadata": {
    "slideshow": {
     "slide_type": "slide"
    }
   },
   "source": [
    "# Lecture 18: Numerical Solutions to the Diffusion Equation  \n",
    "## (Implicit Methods)  "
   ]
  },
  {
   "cell_type": "markdown",
   "metadata": {
    "slideshow": {
     "slide_type": "subslide"
    }
   },
   "source": [
    "### Sections\n",
    "\n",
    "* [Introduction](#Introduction)\n",
    "* [Learning Goals](#Learning-Goals)\n",
    "* [On Your Own](#On-Your-Own)\n",
    "* [In Class](#In-Class)\n",
    "    * [Revisiting the Discrete Version of Fick's Law](#Revisiting-the-Discrete-Version-of-Fick's-Law)\n",
    "    * [A Linear System for Diffusion](#A-Linear-System-for-Diffusion)\n",
    "    * [An Implicit Numerical Solution](#An-Implicit-Numerical-Solution)\n",
    "    * [Deconstruction of the Solution Scheme](#Deconstruction-of-the-Solution-Scheme)\n",
    "* [Homework](#Homework)\n",
    "* [Summary](#Summary)\n",
    "* [Looking Ahead](#Looking-Ahead)\n",
    "* [Reading Assignments and Practice](#Reading-Assignments-and-Practice)"
   ]
  },
  {
   "cell_type": "markdown",
   "metadata": {
    "slideshow": {
     "slide_type": "skip"
    }
   },
   "source": [
    "Possible future improvement:  Crank-Nicholson."
   ]
  },
  {
   "cell_type": "markdown",
   "metadata": {
    "slideshow": {
     "slide_type": "skip"
    }
   },
   "source": [
    "### Introduction\n",
    "----\n",
    "\n",
    "This lecture introduces the implicit scheme for solving the diffusion equation. Examine the descritization for our explicit scheme that we covered in the previous lecture:\n",
    "\n",
    "$$\n",
    "\\frac{u_{i,\\, j+1} - u_{i,\\, j}}{\\Delta t} = D \\frac{u_{i - 1,\\, j} - 2 u_{i,\\, j} + u_{i + 1,\\, j}}{\\Delta x^2}\n",
    "$$\n",
    "\n",
    "This expression uses a _forward difference_ in time where we are subtracting the value of our dependent variable at time index $j$ from the value of our dependent variable at time-index $j+1$.  If, instead, we perform a backward difference (replace $j$ with $j-1$) we will be subtracting our dependent variable at $j-1$ from the value at the index $j$.  For example:\n",
    "\n",
    "$$\n",
    "\\frac{u_{i,\\, j} - u_{i,\\, j-1}}{\\Delta t} = D \\frac{u_{i - 1,\\, j} - 2 u_{i,\\, j} + u_{i + 1,\\, j}}{\\Delta x^2}\n",
    "$$\n",
    "\n",
    "\n",
    "Attempting to repeat our previous algebraic manipulations we find that the solution to this equation is in terms of three unknown quantities at the index $j$.  These quantities depend on indices $i-1$, $i$ and $i+1$ and our solution is only known to the index $j-1$.  This seems like a complication that cannot be resolved however, examination of all the resulting equations in our grid will revel that this is a linear system that can be solved with the inclusion of the boundary conditions.\n",
    "\n",
    "The point of this lecture is to develop your understanding for how the use of matrices and linear algebra can be used to solve this problem.  The system of equations and the method for solving the equations is known as an \"implicit method\".  There is a good discussion in Numerical Recipes by Teukolsky, et al. to provide a foundation for these methods."
   ]
  },
  {
   "cell_type": "markdown",
   "metadata": {
    "slideshow": {
     "slide_type": "skip"
    }
   },
   "source": [
    "[Top of Page](#Sections)"
   ]
  },
  {
   "cell_type": "markdown",
   "metadata": {
    "slideshow": {
     "slide_type": "slide"
    }
   },
   "source": [
    "### Learning Goals\n",
    "----\n",
    "\n",
    "* Re-develop the descretizaton of Fick's law such that the solution scheme is implicit\n",
    "* Write the method as a linear system\n",
    "* Incorporate boundary conditions\n",
    "* Develop a solution strategy using linear algebra and Numpy or SciPy as appropriate."
   ]
  },
  {
   "cell_type": "markdown",
   "metadata": {
    "slideshow": {
     "slide_type": "skip"
    }
   },
   "source": [
    "[Top of Page](#Sections)"
   ]
  },
  {
   "cell_type": "markdown",
   "metadata": {
    "slideshow": {
     "slide_type": "skip"
    }
   },
   "source": [
    "### On Your Own\n",
    "----\n",
    "\n",
    "Suggestions for improvement of this section:\n",
    "\n",
    "* Develop numpy methods for linear algebra (e.g. creating matrices efficiently)\n",
    "* Matrix operations relevant to LA.\n",
    "* Solve a simple linear system."
   ]
  },
  {
   "cell_type": "markdown",
   "metadata": {
    "slideshow": {
     "slide_type": "skip"
    }
   },
   "source": [
    "[Top of Page](#Sections)"
   ]
  },
  {
   "cell_type": "markdown",
   "metadata": {
    "slideshow": {
     "slide_type": "slide"
    }
   },
   "source": [
    "### In Class\n",
    "----\n",
    "\n",
    "* Re-derive the discrete form of Fick's law.\n",
    "* Examine the structure of the resulting matrix.\n",
    "* Write a solver."
   ]
  },
  {
   "cell_type": "markdown",
   "metadata": {
    "slideshow": {
     "slide_type": "slide"
    }
   },
   "source": [
    "### Revisiting the Discrete Version of Fick's Law\n",
    "\n",
    "We start with a re-statement of Fick's second law in finite difference form that uses a FORWARD difference in time:\n",
    "\n",
    "$$\n",
    "\\frac{u_{i,\\, j+1} - u_{i,\\, j}}{\\Delta t} = D \\frac{u_{i - 1,\\, j} - 2 u_{i,\\, j} + u_{i + 1,\\, j}}{\\Delta x^2}\n",
    "$$\n",
    "\n",
    "This choice of time differencing led to the EXPLICIT scheme.  This time, we choose a BACKWARD difference in time as follows:\n",
    "\n",
    "$$\n",
    "\\frac{u_{i,\\, j} - u_{i,\\, j-1}}{\\Delta t} = D \\frac{u_{i - 1,\\, j} - 2 u_{i,\\, j} + u_{i + 1,\\, j}}{\\Delta x^2}\n",
    "$$\n",
    "\n",
    "This choice leads to a set of linear equations.  To illustrate how this develops we will write the equation above for a grid of eight points that represent the quantity of diffusing substance.  See the next figure."
   ]
  },
  {
   "cell_type": "markdown",
   "metadata": {},
   "source": [
    "![](./images/Implicit_Grid.png)"
   ]
  },
  {
   "cell_type": "markdown",
   "metadata": {},
   "source": [
    "In the above figure we represent a grid of two dimensions - this grid is identical to the explicit finite difference grid.  The main difference between the explicit and implicit method is the way we fill the grid to arrive at our solution.  In the spatial dimension we have 8 columns (the \"$i$\" index) and in the time dimension we show only three rows (the \"$j$\" index).  The sizes of the grid in the two dimensions are arbitrary.  Keep the following in mind:\n",
    "\n",
    "* The solution is known to the $j-1$ index.\n",
    "* The unknowns are the $j$ indcies."
   ]
  },
  {
   "cell_type": "markdown",
   "metadata": {
    "slideshow": {
     "slide_type": "subslide"
    }
   },
   "source": [
    "Algebraiclly rearranging this differencing scheme, we can write down:\n",
    "\n",
    "$$\n",
    "u_{i,\\, j-1} = \\frac{\\Delta t D}{\\Delta x^2} \\left( - u_{i - 1,\\, j} + 2 u_{i,\\, j} - u_{i + 1,\\, j} \\right) + u_{i,\\, j}\n",
    "$$\n",
    "\n",
    "one additional re-arrangment (substitute $\\beta$ for the factor containing the diffusion coefficient) and we get:\n",
    "\n",
    "$$\n",
    "- \\beta u_{i - 1,\\, j} + (1 + 2 \\beta) u_{i,\\, j} - \\beta u_{i + 1,\\, j} = u_{i,\\, j-1}\n",
    "$$\n",
    "\n",
    "We include \"ghost cells\" in grey above to enforce the boundary conditions.  We can use fixed value (setting the ghost cells to a particular number) or fixed flux (setting the value of the ghost cell based on a pair of interior cells) to produce a linear system with an equal number of unknowns and equations."
   ]
  },
  {
   "cell_type": "markdown",
   "metadata": {},
   "source": [
    "### A Linear System for Diffusion\n",
    "\n",
    "We begin as usual by importing SymPy into the namespace and using `init_session` to define some helpful symbols.  We also define a pair of symbols $U_{LHS}$ and $U_{RHS}$ that will be used to define values in the ghost cells."
   ]
  },
  {
   "cell_type": "code",
   "execution_count": null,
   "metadata": {
    "slideshow": {
     "slide_type": "fragment"
    }
   },
   "outputs": [],
   "source": [
    "import sympy as sp\n",
    "sp.init_session(quiet=True)\n",
    "var('U_LHS U_RHS')"
   ]
  },
  {
   "cell_type": "markdown",
   "metadata": {
    "slideshow": {
     "slide_type": "subslide"
    }
   },
   "source": [
    "We define the symbols we want to use in our linear system.  For this demonstration, I don't add the time index but I keep my subscripts consistent with the figure above."
   ]
  },
  {
   "cell_type": "code",
   "execution_count": null,
   "metadata": {
    "slideshow": {
     "slide_type": "fragment"
    }
   },
   "outputs": [],
   "source": [
    "var('dt dx beta u1:7 b1:7')"
   ]
  },
  {
   "cell_type": "markdown",
   "metadata": {
    "slideshow": {
     "slide_type": "subslide"
    }
   },
   "source": [
    "In this cell we create the square matrix holding the coefficients that multiply the unknown quantities.  Note the structure of the matrix.  It is a _tridiagonal_ matrix.  The function in NumPy is very compact, in SymPy not so much.  So I apologize for the syntax in the SymPy/Python code below, but the more compact version can be difficult to read:"
   ]
  },
  {
   "cell_type": "code",
   "execution_count": null,
   "metadata": {
    "slideshow": {
     "slide_type": "fragment"
    }
   },
   "outputs": [],
   "source": [
    "hpad = ones(0, 1); vpad = ones(1, 0)\n",
    "mainDiag = 2*beta+1; offDiag = -beta\n",
    "\n",
    "M = (sp.diag(vpad, offDiag, offDiag, offDiag, offDiag, offDiag, hpad)+ \\\n",
    "     sp.diag(hpad, offDiag, offDiag, offDiag, offDiag, offDiag, vpad)+ \\\n",
    "     sp.diag(mainDiag,mainDiag,mainDiag,mainDiag,mainDiag,mainDiag))\n",
    "\n",
    "M"
   ]
  },
  {
   "cell_type": "markdown",
   "metadata": {
    "slideshow": {
     "slide_type": "subslide"
    }
   },
   "source": [
    "Here is our vector of unknown quantities.  We know the solution to the $j-1$ time step.  All of these symbols represent the value of our field (e.g. concentration, temperature, etc.) at the $j$'th time step."
   ]
  },
  {
   "cell_type": "code",
   "execution_count": null,
   "metadata": {
    "slideshow": {
     "slide_type": "fragment"
    }
   },
   "outputs": [],
   "source": [
    "xmatrix = sp.Matrix([u1,u2,u3,u4,u5,u6])\n",
    "xmatrix"
   ]
  },
  {
   "cell_type": "markdown",
   "metadata": {
    "slideshow": {
     "slide_type": "subslide"
    }
   },
   "source": [
    "If we've got everything correct, this matrix product will reproduce the discrete diffusion equation outlined above.  You'll note that the boundary equations are not formed correctly.  For reference, here is the discrete form:\n",
    "\n",
    "$$\n",
    "- \\beta u_{i - 1,\\, j} + (1 + 2 \\beta) u_{i,\\, j} - \\beta u_{i + 1,\\, j} = u_{i,\\, j-1}\n",
    "$$"
   ]
  },
  {
   "cell_type": "code",
   "execution_count": null,
   "metadata": {
    "slideshow": {
     "slide_type": "fragment"
    }
   },
   "outputs": [],
   "source": [
    "M*xmatrix"
   ]
  },
  {
   "cell_type": "markdown",
   "metadata": {
    "slideshow": {
     "slide_type": "subslide"
    }
   },
   "source": [
    "It should start to become clear that we can write this linear system (of a tridiagonal matrix and a column vector of unknowns) as a matrix equation:\n",
    "\n",
    "$$\n",
    "M \\cdot \\overline{x} = \\overline{b}\n",
    "$$\n",
    "\n",
    "Where M is the square matrix, x is the vector of unknown quantities and b is the last known value of the system variables (the $u_{i,j}$ are the unknowns, the $j-1$ are the last known values).  There is still some work to be done before we can use linear algebra to get the solution.  We need to implement the boundary conditions."
   ]
  },
  {
   "cell_type": "markdown",
   "metadata": {
    "slideshow": {
     "slide_type": "subslide"
    }
   },
   "source": [
    "### Fixed Value Boundary Conditions\n",
    "\n",
    "Start with the form at the interior of the grid:\n",
    "\n",
    "$$\n",
    "- \\beta u_{i - 1,\\, j} + (1 + 2 \\beta) u_{i,\\, j} - \\beta u_{i + 1,\\, j} = u_{i,\\, j-1}\n",
    "$$\n",
    "\n",
    "To get the form correct at the top and bottom of this solution vector we need to imagine adding \"ghost cells\" to the boundaries of our domain at $i=0$ and $i=7$.  Using the above expression, let $i = 1$:\n",
    "\n",
    "$$\n",
    "- \\beta u_{0,\\, j} + (1 + 2 \\beta) u_{1,\\, j} - \\beta u_{2,\\, j} = u_{1,\\, j-1}\n",
    "$$"
   ]
  },
  {
   "cell_type": "markdown",
   "metadata": {
    "slideshow": {
     "slide_type": "fragment"
    }
   },
   "source": [
    "If we have fixed value boundary conditions, we then know the value of $u_0$.  This is the boundary condition of our simulation.  We will call this value $U_{LHS}$, substitute $U_{LHS} = u_0$ and move the known quantities to the RHS of the equation:\n",
    "\n",
    "$$\n",
    "(1 + 2 \\beta) u_{1,\\, j} - \\beta u_{2,\\, j} = u_{1,\\, j-1} + \\beta U_{LHS}\n",
    "$$"
   ]
  },
  {
   "cell_type": "markdown",
   "metadata": {
    "slideshow": {
     "slide_type": "skip"
    }
   },
   "source": [
    "### Fixed Flux Boundary Conditions\n",
    "\n",
    "If we have fixed flux boundary conditions we can write the flux as a central difference on the cell $u_1$ that uses the \"ghost\" point at $u_0$:\n",
    "\n",
    "$$\n",
    "\\frac{u_{2,\\, j} - u_{0,\\, j}}{2 \\Delta x} = F\n",
    "$$\n",
    "\n",
    "Proceeding as before with $i=1$:\n",
    "\n",
    "$$\n",
    "- \\beta u_{0,\\, j} + (1 + 2 \\beta) u_{1,\\, j} - \\beta u_{2,\\, j} = u_{1,\\, j-1}\n",
    "$$\n",
    "\n",
    "This time we know the relationship of $u_0$ to the other unknowns due to the specification of the defined flux boundary condition.  Solving for $u_0$ we get:\n",
    "\n",
    "$$\n",
    "u_{0,\\, j} = u_{2,\\, j} - {2 \\Delta x} F\n",
    "$$\n",
    "\n",
    "Substituting this into our expression that includes the ghost cell gives us:\n",
    "\n",
    "\n",
    "$$\n",
    "- \\beta (u_{2,\\, j} - {2 \\Delta x} F) + (1 + 2 \\beta) u_{1,\\, j} - \\beta u_{2,\\, j} = u_{1,\\, j-1}\n",
    "$$\n",
    "\n",
    "Simplifying:\n",
    "\n",
    "$$\n",
    "(1 + 2 \\beta) u_{1,\\, j} - 2 \\beta u_{2,\\, j} = u_{1,\\, j-1} - \\beta 2 \\Delta x F \n",
    "$$\n",
    "\n",
    "So in this case we have to modify the matrix $M$ entries AND the solution vector $b$ recalling that the $j-1$ index is the known solution."
   ]
  },
  {
   "cell_type": "markdown",
   "metadata": {
    "slideshow": {
     "slide_type": "subslide"
    }
   },
   "source": [
    "We have now recovered the form of the equation in the dot product $M \\cdot x$ and the form of this equation is telling us that we need to modify the solution vector $b$ with information about the boundary conditions before we find the inverse of the matrix and compute the new solution vector."
   ]
  },
  {
   "cell_type": "markdown",
   "metadata": {
    "slideshow": {
     "slide_type": "fragment"
    }
   },
   "source": [
    "Modifying the $b$ matrix with the known ghost cell values for the fixed value boundary conditions we get:"
   ]
  },
  {
   "cell_type": "code",
   "execution_count": null,
   "metadata": {
    "slideshow": {
     "slide_type": "fragment"
    }
   },
   "outputs": [],
   "source": [
    "bmatrix = sp.Matrix([(b1+beta*U_LHS),b2,b3,b4,b5,(b6+beta*U_RHS)]) \n",
    "bmatrix"
   ]
  },
  {
   "cell_type": "markdown",
   "metadata": {},
   "source": [
    "So the full form of our system is therefore:\n",
    "\n",
    "$$\n",
    "\\left[\\begin{matrix}2 \\beta + 1 & - \\beta & 0 & 0 & 0 & 0\\\\- \\beta & 2 \\beta + 1 & - \\beta & 0 & 0 & 0\\\\0 & - \\beta & 2 \\beta + 1 & - \\beta & 0 & 0\\\\0 & 0 & - \\beta & 2 \\beta + 1 & - \\beta & 0\\\\0 & 0 & 0 & - \\beta & 2 \\beta + 1 & - \\beta\\\\0 & 0 & 0 & 0 & - \\beta & 2 \\beta + 1\\end{matrix}\\right] \\cdot \\left[\\begin{matrix}u_{1}\\\\u_{2}\\\\u_{3}\\\\u_{4}\\\\u_{5}\\\\u_{6}\\end{matrix}\\right] = \\left[\\begin{matrix}U_{LHS} \\beta + b_{1}\\\\b_{2}\\\\b_{3}\\\\b_{4}\\\\b_{5}\\\\U_{RHS} \\beta + b_{6}\\end{matrix}\\right]\n",
    "$$\n",
    "\n",
    "`SymPy` can evaluate the LHS for us."
   ]
  },
  {
   "cell_type": "code",
   "execution_count": null,
   "metadata": {
    "slideshow": {
     "slide_type": "fragment"
    }
   },
   "outputs": [],
   "source": [
    "sp.Eq(M*xmatrix,bmatrix)"
   ]
  },
  {
   "cell_type": "markdown",
   "metadata": {},
   "source": [
    "All that remains is to solve the above linear system.  Instead of using `SymPy`, we will use some tools in a different Python library."
   ]
  },
  {
   "cell_type": "markdown",
   "metadata": {
    "slideshow": {
     "slide_type": "skip"
    }
   },
   "source": [
    "[Top of Page](#Sections)"
   ]
  },
  {
   "cell_type": "markdown",
   "metadata": {
    "slideshow": {
     "slide_type": "slide"
    }
   },
   "source": [
    "### An Implicit Numerical Solution"
   ]
  },
  {
   "cell_type": "markdown",
   "metadata": {
    "slideshow": {
     "slide_type": "subslide"
    }
   },
   "source": [
    "General setup in this section:"
   ]
  },
  {
   "cell_type": "code",
   "execution_count": null,
   "metadata": {
    "collapsed": true,
    "slideshow": {
     "slide_type": "fragment"
    }
   },
   "outputs": [],
   "source": [
    "%matplotlib inline\n",
    "import numpy as np\n",
    "import matplotlib.pyplot as plt"
   ]
  },
  {
   "cell_type": "markdown",
   "metadata": {
    "slideshow": {
     "slide_type": "subslide"
    }
   },
   "source": [
    "Simulation parameters:"
   ]
  },
  {
   "cell_type": "code",
   "execution_count": null,
   "metadata": {
    "collapsed": true,
    "slideshow": {
     "slide_type": "subslide"
    }
   },
   "outputs": [],
   "source": [
    "numberOfPoints = 100\n",
    "lengthOfDomain = 1.0\n",
    "dx = lengthOfDomain/numberOfPoints\n",
    "xPoints = np.linspace(0.0, lengthOfDomain, numberOfPoints)\n",
    "initialCondition = np.sin(xPoints*np.pi/lengthOfDomain)"
   ]
  },
  {
   "cell_type": "markdown",
   "metadata": {
    "slideshow": {
     "slide_type": "subslide"
    }
   },
   "source": [
    "A simple function to plot the initial condition:"
   ]
  },
  {
   "cell_type": "code",
   "execution_count": null,
   "metadata": {
    "collapsed": true,
    "slideshow": {
     "slide_type": "subslide"
    }
   },
   "outputs": [],
   "source": [
    "def plotIC():\n",
    "    fig = plt.figure()\n",
    "    axes = fig.add_axes([0.1, 0.1, 0.8, 0.8])\n",
    "    axes.plot(xPoints, initialCondition, 'ro')\n",
    "    axes.set_xlabel('Distance $x$')\n",
    "    axes.set_ylabel('Concentration of Stuff $c(x,t)$')\n",
    "    axes.set_title('Initial Conditions');"
   ]
  },
  {
   "cell_type": "code",
   "execution_count": null,
   "metadata": {
    "slideshow": {
     "slide_type": "subslide"
    }
   },
   "outputs": [],
   "source": [
    "plotIC()"
   ]
  },
  {
   "cell_type": "markdown",
   "metadata": {
    "slideshow": {
     "slide_type": "subslide"
    }
   },
   "source": [
    "It is worth noting that these schemes are unconditionally stable - so any choice of time step will produce a solution.  The accuracy of the solution does depend on this choice, though."
   ]
  },
  {
   "cell_type": "code",
   "execution_count": null,
   "metadata": {
    "collapsed": true,
    "slideshow": {
     "slide_type": "fragment"
    }
   },
   "outputs": [],
   "source": [
    "diffusionCoefficient = 10.0\n",
    "dt = dx**2/(diffusionCoefficient)\n",
    "numberOfIterations = 1000"
   ]
  },
  {
   "cell_type": "markdown",
   "metadata": {
    "slideshow": {
     "slide_type": "subslide"
    }
   },
   "source": [
    "We create two solution vectors rather than one whole array to hold all of our solution.  This is not particular to the implicit method, but it demonstrates another technique for saving memory and speeding up the calculation.  We will fill these matrices and swap them (move data from `new` into `old` and overwrite `new`) at each time step."
   ]
  },
  {
   "cell_type": "code",
   "execution_count": null,
   "metadata": {
    "collapsed": true,
    "slideshow": {
     "slide_type": "fragment"
    }
   },
   "outputs": [],
   "source": [
    "newConcentration = np.zeros((numberOfPoints), dtype='float32')\n",
    "oldConcentration = np.zeros((numberOfPoints), dtype='float32')"
   ]
  },
  {
   "cell_type": "markdown",
   "metadata": {
    "slideshow": {
     "slide_type": "subslide"
    }
   },
   "source": [
    "First, some syntax:"
   ]
  },
  {
   "cell_type": "code",
   "execution_count": null,
   "metadata": {
    "slideshow": {
     "slide_type": "fragment"
    }
   },
   "outputs": [],
   "source": [
    "['h','h','h']*3"
   ]
  },
  {
   "cell_type": "markdown",
   "metadata": {
    "slideshow": {
     "slide_type": "subslide"
    }
   },
   "source": [
    "The matrix has to be square.  It should have the same dimensions as the nubmer of points in the system.  The following code snippet was inspired by [this](http://stackoverflow.com/questions/5842903/block-tridiagonal-matrix-python) post."
   ]
  },
  {
   "cell_type": "code",
   "execution_count": null,
   "metadata": {
    "collapsed": true,
    "slideshow": {
     "slide_type": "fragment"
    }
   },
   "outputs": [],
   "source": [
    "def tridiag(a, b, c, k1=-1, k2=0, k3=1):\n",
    "    # Here we use Numpy addition to make the job easier.\n",
    "    return np.diag(a, k1) + np.diag(b, k2) + np.diag(c, k3)\n",
    "\n",
    "a = [-dt*diffusionCoefficient/dx/dx]*(numberOfPoints-1)\n",
    "b = [2*dt*diffusionCoefficient/dx/dx+1]*(numberOfPoints)\n",
    "c = [-dt*diffusionCoefficient/dx/dx]*(numberOfPoints-1)\n",
    "\n",
    "A = tridiag(a, b, c)"
   ]
  },
  {
   "cell_type": "code",
   "execution_count": null,
   "metadata": {},
   "outputs": [],
   "source": [
    "A"
   ]
  },
  {
   "cell_type": "markdown",
   "metadata": {
    "slideshow": {
     "slide_type": "subslide"
    }
   },
   "source": [
    "We first need to prime the arrays by copying the initial condition into `oldConcentration`.  Afterwards it will be enough to swap pointers (a variable that points to a memory location)."
   ]
  },
  {
   "cell_type": "code",
   "execution_count": null,
   "metadata": {
    "collapsed": true,
    "slideshow": {
     "slide_type": "fragment"
    }
   },
   "outputs": [],
   "source": [
    "np.copyto(oldConcentration,initialCondition)"
   ]
  },
  {
   "cell_type": "markdown",
   "metadata": {
    "slideshow": {
     "slide_type": "skip"
    }
   },
   "source": [
    "[Top of Page](#Sections)"
   ]
  },
  {
   "cell_type": "markdown",
   "metadata": {
    "slideshow": {
     "slide_type": "slide"
    }
   },
   "source": [
    "### Deconstruction of the Solution Scheme"
   ]
  },
  {
   "cell_type": "markdown",
   "metadata": {
    "slideshow": {
     "slide_type": "subslide"
    }
   },
   "source": [
    "In spite of the small chunk of code a few cells below, there is a lot going on.  Let us dissect it.  In bullet points:"
   ]
  },
  {
   "cell_type": "markdown",
   "metadata": {
    "slideshow": {
     "slide_type": "subslide"
    }
   },
   "source": [
    "* Before the first solution step we enforce the boundary conditions.  Our choice of matrix means that we are using \"fixed value\" boundary conditions.  So we need to modify the `b` vector accordingly.  The indexing notation of Numpy that permits us to find the first (`[0]`) and last cell (`[-1]`) of an array is very helpful here.\n",
    "\n",
    "```python\n",
    "    oldConcentration[0] = oldConcentration[0] + uLHS*dt*diffusionCoefficient/dx/dx\n",
    "    oldConcentration[-1] = oldConcentration[-1] + uRHS*dt*diffusionCoefficient/dx/dx\n",
    "\n",
    "```"
   ]
  },
  {
   "cell_type": "markdown",
   "metadata": {
    "slideshow": {
     "slide_type": "subslide"
    }
   },
   "source": [
    "Recall:\n",
    "\n",
    "$$\n",
    "\\left[\\begin{matrix}2 \\beta + 1 & - \\beta & 0 & 0 & 0 & 0\\\\- \\beta & 2 \\beta + 1 & - \\beta & 0 & 0 & 0\\\\0 & - \\beta & 2 \\beta + 1 & - \\beta & 0 & 0\\\\0 & 0 & - \\beta & 2 \\beta + 1 & - \\beta & 0\\\\0 & 0 & 0 & - \\beta & 2 \\beta + 1 & - \\beta\\\\0 & 0 & 0 & 0 & - \\beta & 2 \\beta + 1\\end{matrix}\\right] \\cdot \\left[\\begin{matrix}u_{1}\\\\u_{2}\\\\u_{3}\\\\u_{4}\\\\u_{5}\\\\u_{6}\\end{matrix}\\right] = \\left[\\begin{matrix}U_{LHS} \\beta + b_{1}\\\\b_{2}\\\\b_{3}\\\\b_{4}\\\\b_{5}\\\\U_{RHS} \\beta + b_{6}\\end{matrix}\\right]\n",
    "$$"
   ]
  },
  {
   "cell_type": "markdown",
   "metadata": {
    "slideshow": {
     "slide_type": "subslide"
    }
   },
   "source": [
    "* Solving the system involves using the built in `NumPy` functions to invert the matrix.  What is returned is the solution vector.  Please note that I'm using an internal `Numpy` (an optimized function!) function to COPY the results of the linear algebra solution into the `newConcentration` vector. \n",
    "\n",
    "```python\n",
    "    np.copyto(newConcentration,np.linalg.solve(A,oldConcentration))\n",
    "```"
   ]
  },
  {
   "cell_type": "markdown",
   "metadata": {
    "slideshow": {
     "slide_type": "subslide"
    }
   },
   "source": [
    "* Rather than storing ALL the data, we instead store just the current and the old concentrations.  There are efficiencies in doing this, but if we want the older values, we need to store them on disk or in memory.\n",
    "* Tuple unpacking in Python leads to the `A,B=B,A` syntax below.  This switches the references to the arrays.  This is important for efficiency - you don't want to move any data if you don't have to.  If you are running big calculations then moving that data around is a waste of time/resources.  Better to just swap references.\n",
    "\n",
    "```python\n",
    "    oldConcentration, newConcentration = newConcentration, oldConcentration\n",
    "```"
   ]
  },
  {
   "cell_type": "markdown",
   "metadata": {
    "slideshow": {
     "slide_type": "fragment"
    }
   },
   "source": [
    "* Repeat the process and after a specified number of iterations, plot the results."
   ]
  },
  {
   "cell_type": "code",
   "execution_count": null,
   "metadata": {
    "slideshow": {
     "slide_type": "subslide"
    }
   },
   "outputs": [],
   "source": [
    "uLHS = 0.0\n",
    "uRHS = 0.0\n",
    "numIterations = 200\n",
    "\n",
    "for i in range(numIterations):\n",
    "    # enforce boundary conditions\n",
    "    oldConcentration[0] = oldConcentration[0] + uLHS*dt*diffusionCoefficient/dx/dx\n",
    "    oldConcentration[-1] = oldConcentration[-1] + uRHS*dt*diffusionCoefficient/dx/dx\n",
    "    # solve the system\n",
    "    np.copyto(newConcentration,np.linalg.solve(A,oldConcentration))\n",
    "    # swap pointers\n",
    "    oldConcentration, newConcentration = newConcentration, oldConcentration\n",
    "\n",
    "# plot the results\n",
    "fig2 = plt.figure()\n",
    "axes = fig2.add_axes([0.1, 0.1, 0.8, 0.8])\n",
    "axes.plot(xPoints, newConcentration, 'ro')\n",
    "axes.set_ylim(0,1)\n",
    "axes.set_xlabel('Distance $x$')\n",
    "axes.set_ylabel('Concentration of Stuff $c(x,t)$')\n",
    "axes.set_title('Solution');"
   ]
  },
  {
   "cell_type": "markdown",
   "metadata": {
    "slideshow": {
     "slide_type": "skip"
    }
   },
   "source": [
    "[Top of Page](#Sections)"
   ]
  },
  {
   "cell_type": "markdown",
   "metadata": {
    "slideshow": {
     "slide_type": "skip"
    }
   },
   "source": [
    "### Homework\n",
    "----\n",
    "\n",
    "* Solve the diffusion couple problem\n",
    "* Compare to the analytical solution\n",
    "* Describe the differences between them (in words and with some plots, maybe)\n",
    "* Examine the error in terms of truncation versus roundoff error."
   ]
  },
  {
   "cell_type": "markdown",
   "metadata": {
    "slideshow": {
     "slide_type": "skip"
    }
   },
   "source": [
    "[Top of Page](#Sections)"
   ]
  },
  {
   "cell_type": "markdown",
   "metadata": {
    "slideshow": {
     "slide_type": "skip"
    }
   },
   "source": [
    "### Looking Ahead\n",
    "----\n",
    "\n",
    "TBA"
   ]
  },
  {
   "cell_type": "markdown",
   "metadata": {
    "slideshow": {
     "slide_type": "skip"
    }
   },
   "source": [
    "[Top of Page](#Sections)"
   ]
  },
  {
   "cell_type": "markdown",
   "metadata": {
    "slideshow": {
     "slide_type": "skip"
    }
   },
   "source": [
    "### Reading Assignments and Practice\n",
    "----\n",
    "\n",
    "TBA"
   ]
  },
  {
   "cell_type": "markdown",
   "metadata": {
    "slideshow": {
     "slide_type": "skip"
    }
   },
   "source": [
    "[Top of Page](#Sections)"
   ]
  }
 ],
 "metadata": {
  "anaconda-cloud": {},
  "kernelspec": {
   "display_name": "Python 2",
   "language": "python",
   "name": "python2"
  },
  "language_info": {
   "codemirror_mode": {
    "name": "ipython",
    "version": 2
   },
   "file_extension": ".py",
   "mimetype": "text/x-python",
   "name": "python",
   "nbconvert_exporter": "python",
   "pygments_lexer": "ipython2",
   "version": "2.7.13"
  }
 },
 "nbformat": 4,
 "nbformat_minor": 1
}
