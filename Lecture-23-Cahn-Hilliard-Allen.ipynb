{
 "cells": [
  {
   "cell_type": "markdown",
   "metadata": {},
   "source": [
    "# Lecture 23:  Cahn-Hilliard and Cahn-Allen Kinetics\n",
    "\n",
    "### Sections\n",
    "\n",
    "* [Introduction](#Introduction)\n",
    "* [Learning Goals](#Learning-Goals)\n",
    "* [On Your Own](#On-Your-Own)\n",
    "    *  \n",
    "* [In Class](#In-Class)\n",
    "    *  \n",
    "* [Homework](#Homework)\n",
    "* [Summary](#Summary)\n",
    "* [Looking Ahead](#Looking-Ahead)\n",
    "* [Reading Assignments and Practice](#Reading-Assignments-and-Practice)"
   ]
  },
  {
   "cell_type": "markdown",
   "metadata": {},
   "source": [
    "### Introduction\n",
    "----\n",
    "\n",
    "Cahn and Hilliard’s paper from 1958 appears in Journal of Chemical Physics v. 28, n. 2, p. 258-267.  They generalize the free energy of a system with composition gradients. They do so using a Taylor expansion. They develop a free energy functional and solve the resulting differential equation. Then a paper in 1961 titled \"On Spinodal Decomposition\" outlines the differential equation for the time rate of change of the composition in a spinodally decomposing system.\n",
    "\n",
    "A number of items that I have discussed with you in this class are relevant to these papers:\n",
    "\n",
    "* They develop a Taylor series approximation of the free energy.\n",
    "* They make crystal symmetry arguments and consider rotations.\n",
    "* They develop a functional representation of the free energy.\n",
    "* They invoke the Beltrami identity to perform the first integral of the functional.\n",
    "* They analytically solve the resulting differential equation to compute the surface energy of a non-homogeneous system.\n",
    "* The fourth order differential equation is developed from a conservation law (such as Fick’s 2nd Law).\n",
    "\n",
    "There are some difficulties with solving the resultant differential equation. Our goal is to simulate the process of spinodal decomposition using the Cahn-Hilliard equation - I will address the difficulties in passing and not provide any in-depth discussion for how we elminate the difficulties.\n",
    "\n",
    "[Top of Page](#Sections)"
   ]
  },
  {
   "cell_type": "markdown",
   "metadata": {},
   "source": [
    "### Learning Goals\n",
    "----\n",
    "\n",
    "* \n",
    "* \n",
    "* \n",
    "* \n",
    "\n",
    "[Top of Page](#Sections)"
   ]
  },
  {
   "cell_type": "markdown",
   "metadata": {},
   "source": [
    "### On Your Own\n",
    "----"
   ]
  },
  {
   "cell_type": "markdown",
   "metadata": {},
   "source": [
    "[Top of Page](#Sections)"
   ]
  },
  {
   "cell_type": "markdown",
   "metadata": {},
   "source": [
    "### In Class\n",
    "----"
   ]
  },
  {
   "cell_type": "markdown",
   "metadata": {},
   "source": [
    "#### An argument for the functional form"
   ]
  },
  {
   "cell_type": "markdown",
   "metadata": {
    "collapsed": true
   },
   "source": [
    "The Cahn-Hilliard equation is developed using a functional (i.e. calculus of variations) formalism.  We assume that the system of interest is a heterogenous system.  A heterogeneous system could be a system with spatial variations in composition or order.  It could also be a system where there are two phases or two different regions where the chemistry or chemical ordering is different.  We assume this system is isothermal and there is no volume change with changes in order or due to chemical gradients.\n",
    "\n",
    "It is developed in Cahn's work to use the Helmholtz potential.  (This raises the question of why not use Gibbs potential?)  Different thermodynamic potentials are developed to mirror the experimental conditions we are trying to describe.  If we were examining a system at some fixed volume and temperature - the the Helmholtz potential is appropriate.  If you fix temperature and pressure, then Gibbs' potential is the most appropriate.  These potentials measure the maximum work you can extract subject to the constraints outlined.\n",
    "\n",
    "We define the Helmholtz free energy for our system as:\n",
    "\n",
    "$$\n",
    "F = \\int_V \\left( f(\\phi) + \\frac{1}{2} \\epsilon^2 (\\nabla \\phi)^2 \\right) dV\n",
    "$$\n",
    "\n",
    "In Cahn's papers (and in other textbooks) the development of the free energy is more (and less) clearly spelled out.  The only requirement for us now is that the bulk free energy have a shape where the second derivative of the thermodynamic potential is negative.  One such function is:\n",
    "\n",
    "$$\n",
    "f(\\phi) = W \\phi^2 (1-\\phi)^2\n",
    "$$\n",
    "\n",
    "where phi is some quantity that is either conserved (like concentration) or not conserved (like chemical ordering).\n",
    "\n",
    "To develop the idea of the functional form further, it is necessary to think about the energetic contribution due to the hetereogeneous nature of the system.  In this formalism we penalize the system for gradients in the order parameter.  The penalty is given by the second term of the functional above.  This term arises on the basis of a Taylor expansion of the free energy in the order parameter and structural arguments.  For a comprehensive discussion on this development the student is directed to Cahn's paper.\n",
    "\n",
    "It can be shown that the excess energy due to the gradient (and gradients due to the presence of interfaces) is mapped to the parameters $W$ and $\\epsilon$ in the free energy functional.  These parameters, in turn can be formulated in terms of an interface excess energy and interfacial width.  I will not discuss this further here - but there is plenty of reading that can be consulted."
   ]
  },
  {
   "cell_type": "code",
   "execution_count": null,
   "metadata": {
    "collapsed": false
   },
   "outputs": [],
   "source": [
    "%matplotlib notebook\n",
    "import sympy as sp\n",
    "from ipywidgets import interact\n",
    "sp.init_session(quiet=True)"
   ]
  },
  {
   "cell_type": "code",
   "execution_count": null,
   "metadata": {
    "collapsed": false
   },
   "outputs": [],
   "source": [
    "phi, W, epsilon = symbols('phi W epsilon', real=true)\n",
    "\n",
    "def doubleWell(ordParameter, wellHeight=1):\n",
    "    \"\"\"\n",
    "    A small function that returns the double well shape.\n",
    "    \"\"\"\n",
    "    return wellHeight*ordParameter**2*(1-ordParameter)**2\n",
    "\n",
    "doubleWell(phi)"
   ]
  },
  {
   "cell_type": "code",
   "execution_count": null,
   "metadata": {
    "collapsed": false
   },
   "outputs": [],
   "source": [
    "sp.plot(doubleWell(phi, 1.0), (phi,-0.1,1.1), ylim=(0,0.1));"
   ]
  },
  {
   "cell_type": "markdown",
   "metadata": {},
   "source": [
    "[Top of Page](#Sections)"
   ]
  },
  {
   "cell_type": "markdown",
   "metadata": {},
   "source": [
    "#### The Equations of Motion"
   ]
  },
  {
   "cell_type": "markdown",
   "metadata": {
    "collapsed": true
   },
   "source": [
    "With the bulk free energy and the gradient energy contributions conceptually justified it is now necessary to identify the equations of motion.  In the non conserved case:\n",
    "\n",
    "$$\n",
    "\\frac{\\partial \\phi}{\\partial t} = -M \\frac{\\delta F}{\\delta \\phi}\n",
    "$$\n",
    "\n",
    "and for a conserved order parameter the equations of motion are derived from:\n",
    "\n",
    "$$\n",
    "\\frac{\\partial \\phi}{\\partial t} = \\nabla \\cdot D \\nabla \\frac{\\delta F}{\\delta \\phi}\n",
    "$$\n",
    "\n",
    "These are best guesses for how the kinetics should go.  There are other choices, but these are the simplest choices that guarantee a free energy decrease with time."
   ]
  },
  {
   "cell_type": "markdown",
   "metadata": {},
   "source": [
    "[Top of Page](#Sections)"
   ]
  },
  {
   "cell_type": "markdown",
   "metadata": {},
   "source": [
    "#### The Functional Derivative"
   ]
  },
  {
   "cell_type": "markdown",
   "metadata": {},
   "source": [
    "We will invoke the Calculus of Variations and `SymPy` to develop the functional derivative.  We start by writing down the functional form:"
   ]
  },
  {
   "cell_type": "code",
   "execution_count": null,
   "metadata": {
    "collapsed": false
   },
   "outputs": [],
   "source": [
    "functionalForm = W*phi(x)**2*(1-phi(x))**2 + sp.Rational(1,2)*epsilon*(phi(x).diff(x))**2\n",
    "functionalForm"
   ]
  },
  {
   "cell_type": "markdown",
   "metadata": {},
   "source": [
    "We use `SymPy`'s built in function for taking a variational derivative:"
   ]
  },
  {
   "cell_type": "code",
   "execution_count": null,
   "metadata": {
    "collapsed": false
   },
   "outputs": [],
   "source": [
    "ele = sp.euler_equations(functionalForm, phi(x), x)\n",
    "ele"
   ]
  },
  {
   "cell_type": "markdown",
   "metadata": {},
   "source": [
    "What we get back can be factored a bit more:"
   ]
  },
  {
   "cell_type": "code",
   "execution_count": null,
   "metadata": {
    "collapsed": false,
    "scrolled": false
   },
   "outputs": [],
   "source": [
    "delFdelPhi = (ele[0].lhs).simplify()\n",
    "delFdelPhi"
   ]
  },
  {
   "cell_type": "markdown",
   "metadata": {},
   "source": [
    "The print command helps a bit when you only want to grab a few terms (there are probably more programmatic ways to do this):"
   ]
  },
  {
   "cell_type": "code",
   "execution_count": null,
   "metadata": {
    "collapsed": false
   },
   "outputs": [],
   "source": [
    "print(delFdelPhi)"
   ]
  },
  {
   "cell_type": "markdown",
   "metadata": {},
   "source": [
    "Now we factor those terms:"
   ]
  },
  {
   "cell_type": "code",
   "execution_count": null,
   "metadata": {
    "collapsed": false,
    "scrolled": true
   },
   "outputs": [],
   "source": [
    "firstTermsFactored = sp.factor(4*W*phi**3-6*W*phi**2+2*W*phi)\n",
    "firstTermsFactored"
   ]
  },
  {
   "cell_type": "markdown",
   "metadata": {},
   "source": [
    "The simplified functional derivative is therefore:\n",
    "\n",
    "$$\n",
    "\\frac{\\delta F}{\\delta \\phi} = 2 W \\phi \\left(\\phi - 1\\right) \\left(2 \\phi - 1\\right) - \\epsilon \\frac{d^{2}}{d x^{2}}  \\phi{\\left (x \\right )}\n",
    "$$"
   ]
  },
  {
   "cell_type": "markdown",
   "metadata": {},
   "source": [
    "[Top of Page](#Sections)"
   ]
  },
  {
   "cell_type": "markdown",
   "metadata": {},
   "source": [
    "#### A Slightly Simpler Conservation Form"
   ]
  },
  {
   "cell_type": "markdown",
   "metadata": {},
   "source": [
    "If the equation of motion is for a non conserved variable - then we're almost done.  All that remains is to specify the mobility $M$ or diffusion coefficient $D$ and write the equations of motion.\n",
    "\n",
    "When writing the equations of motion - things can get messy.  It is better therefore to write the leading term on the LHS as $A(\\phi)$.  This gives:\n",
    "\n",
    "$$\n",
    "\\frac{\\delta F}{\\delta \\phi} = A(\\phi) - \\epsilon \\frac{d^{2}}{d x^{2}}  \\phi{\\left (x \\right )}\n",
    "$$\n"
   ]
  },
  {
   "cell_type": "markdown",
   "metadata": {},
   "source": [
    "Making:\n",
    "\n",
    "$$\n",
    "\\frac{\\partial \\phi}{\\partial t} = \\nabla \\cdot D \\nabla \\frac{\\delta F}{\\delta \\phi}\n",
    "$$"
   ]
  },
  {
   "cell_type": "markdown",
   "metadata": {},
   "source": [
    "with\n",
    "\n",
    "$$\n",
    "\\nabla \\cdot D \\nabla \\frac{\\delta F}{\\delta \\phi} = \\nabla \\cdot D \\left( \\frac{\\partial A}{\\partial \\phi} \\nabla \\phi(x) - \\epsilon \\frac{d^{3}}{d x^{3}} \\phi(x) \\right)\n",
    "$$"
   ]
  },
  {
   "cell_type": "markdown",
   "metadata": {},
   "source": [
    "By distributing the divergence and diffusion coefficient, we arrive at:\n",
    "\n",
    "$$\n",
    "\\frac{\\partial \\phi}{\\partial t} = \\nabla \\cdot D \\frac{\\partial A}{\\partial \\phi} \\nabla \\phi(x) - D \\epsilon \\nabla^4 \\phi(x)\n",
    "$$"
   ]
  },
  {
   "cell_type": "markdown",
   "metadata": {},
   "source": [
    "The first term on the LHS contains a $\\phi$ dependent diffusion coefficient and the second term is a \"fourth order\" diffusion coefficient.  In FiPy we can represent terms such as:\n",
    "\n",
    "$$\\nabla \\cdot \\left\\{ D_1 \\nabla \\left[ \\nabla\\cdot\\left( D_2 \\nabla \\phi\\right) \\right] \\right\\}$$\n",
    "\n",
    "using the standard `DiffusionTerm` with a tuple as the diffusion coefficient.  In our case each of the diffusion coefficients are constant with respect to $\\phi$."
   ]
  },
  {
   "cell_type": "markdown",
   "metadata": {},
   "source": [
    "[Top of Page](#Sections)"
   ]
  },
  {
   "cell_type": "markdown",
   "metadata": {},
   "source": [
    "#### Solving the Cahn-Hilliard Equation"
   ]
  },
  {
   "cell_type": "code",
   "execution_count": null,
   "metadata": {
    "collapsed": false
   },
   "outputs": [],
   "source": [
    "%matplotlib\n",
    "from fipy import *\n",
    "nx = ny = 50\n",
    "\n",
    "mesh = Grid2D(nx=nx, ny=ny, dx=0.50, dy=0.50)\n",
    "phi = CellVariable(name=r\"$\\phi$\", mesh=mesh)\n",
    "\n",
    "noise = GaussianNoiseVariable(mesh=mesh,mean=0.5,variance=0.01).value\n",
    "phi[:] = noise\n",
    "\n",
    "viewer = Viewer(vars=phi, datamin=-0.1, datamax=1.1)\n",
    "\n",
    "D = a = epsilon = 1.\n",
    "\n",
    "PHI = phi.arithmeticFaceValue\n",
    "\n",
    "eq = (TransientTerm() == \\\n",
    "      + DiffusionTerm(coeff=D * a**2 * (1 - 6 * PHI * (1 - PHI))) \\\n",
    "      - DiffusionTerm(coeff=(D, epsilon**2))) \n",
    "\n",
    "dexp = -5\n",
    "elapsed = 0.\n",
    "duration = 10000\n",
    "\n",
    "while elapsed < duration:\n",
    "    dt = min(1, numerix.exp(dexp))\n",
    "    elapsed += dt\n",
    "    dexp += 0.05\n",
    "    eq.solve(dt=dt, var=phi)\n",
    "    viewer.plot()"
   ]
  },
  {
   "cell_type": "markdown",
   "metadata": {},
   "source": [
    "#### Solving the Cahn-Allen Equation"
   ]
  },
  {
   "cell_type": "code",
   "execution_count": null,
   "metadata": {
    "collapsed": false
   },
   "outputs": [],
   "source": [
    "%matplotlib\n",
    "from fipy import *\n",
    "nx = ny = 50\n",
    "\n",
    "mesh = Grid2D(nx=nx, ny=ny, dx=0.50, dy=0.50)\n",
    "phi = CellVariable(name=r\"$\\phi$\", mesh=mesh)\n",
    "\n",
    "noise = GaussianNoiseVariable(mesh=mesh,mean=0.5,variance=0.01).value\n",
    "phi[:] = noise\n",
    "\n",
    "viewer = Viewer(vars=phi, datamin=-0.1, datamax=1.1)\n",
    "\n",
    "D = a = epsilon = 1.\n",
    "\n",
    "PHI = phi.arithmeticFaceValue\n",
    "\n",
    "S0 = 4*a*phi**3 - 6*a*phi**2 + 2*a*phi\n",
    "S1 = 4*a*phi**2 - 6*a*phi**1 + 2*a\n",
    "\n",
    "eq = (TransientTerm(var=phi) ==  - S0 + DiffusionTerm(var=phi, coeff=epsilon)) \n",
    "\n",
    "dexp = -5\n",
    "elapsed = 0.\n",
    "duration = 10000\n",
    "\n",
    "while elapsed < duration:\n",
    "    dt = min(1, numerix.exp(dexp))\n",
    "    elapsed += dt\n",
    "    dexp += 0.05\n",
    "    eq.solve(dt=dt, var=phi)\n",
    "    viewer.plot()\n",
    "    \n",
    "    \n",
    "    "
   ]
  },
  {
   "cell_type": "markdown",
   "metadata": {},
   "source": [
    "[Top of Page](#Sections)"
   ]
  },
  {
   "cell_type": "markdown",
   "metadata": {},
   "source": [
    "### Homework\n",
    "----\n",
    "\n",
    "[Top of Page](#Sections)"
   ]
  },
  {
   "cell_type": "markdown",
   "metadata": {},
   "source": [
    "### Looking Ahead\n",
    "----\n",
    "\n",
    "[Top of Page](#Sections)"
   ]
  },
  {
   "cell_type": "markdown",
   "metadata": {},
   "source": [
    "### Reading Assignments and Practice\n",
    "----\n",
    "\n",
    "[Top of Page](#Sections)"
   ]
  }
 ],
 "metadata": {
  "anaconda-cloud": {},
  "kernelspec": {
   "display_name": "Python 2",
   "language": "python",
   "name": "python2"
  },
  "language_info": {
   "codemirror_mode": {
    "name": "ipython",
    "version": 2
   },
   "file_extension": ".py",
   "mimetype": "text/x-python",
   "name": "python",
   "nbconvert_exporter": "python",
   "pygments_lexer": "ipython2",
   "version": "2.7.6"
  }
 },
 "nbformat": 4,
 "nbformat_minor": 0
}
