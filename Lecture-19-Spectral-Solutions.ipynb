{
 "cells": [
  {
   "cell_type": "code",
   "execution_count": null,
   "metadata": {
    "collapsed": true,
    "slideshow": {
     "slide_type": "skip"
    }
   },
   "outputs": [],
   "source": [
    "# To test slideshow run this cell.  Use LiveReveal.js in class.\n",
    "!jupyter nbconvert Lecture-19.ipynb --to slides --post serve"
   ]
  },
  {
   "cell_type": "markdown",
   "metadata": {
    "slideshow": {
     "slide_type": "slide"
    }
   },
   "source": [
    "# Lecture 19:  Numerical Solutions to the Diffusion Equation (Spectral Method)\n",
    "\n",
    "### Sections\n",
    "\n",
    "* [Introduction](#Introduction)\n",
    "* [Learning Goals](#Learning-Goals)\n",
    "* [On Your Own](#On-Your-Own)\n",
    "    * Useful Functions\n",
    "    * A Vector Space\n",
    "* [In Class](#In-Class)\n",
    "    * Computing Fourier Coefficients by Hand\n",
    "    * Computing Series with Sympy\n",
    "    * The Reciprocal Lattice\n",
    "* [Homework](#Homework)\n",
    "* [Summary](#Summary)\n",
    "* [Looking Ahead](#Looking-Ahead)\n",
    "* [Reading Assignments and Practice](#Reading-Assignments-and-Practice)"
   ]
  },
  {
   "cell_type": "markdown",
   "metadata": {
    "slideshow": {
     "slide_type": "slide"
    }
   },
   "source": [
    "### Introduction\n",
    "----\n",
    "\n",
    "The author Hannes Uecker in a lecture entitled \"A short ad-hoc introduction to spectral methods for parabolic PDE and the Navier-Stokes equations\" makes the following statement:\n",
    "\n",
    "_\"Methods which use a representation of u by orthogonal eigenfunctions of some linear (partial differential) operator A, and which are thus related to the spectrum of A, are called 'spectral methods'.\"_"
   ]
  },
  {
   "cell_type": "markdown",
   "metadata": {
    "slideshow": {
     "slide_type": "subslide"
    }
   },
   "source": [
    "The author John P. Boyd in the book \"Chebyshev and Fourier Spectral Methods\" shows a nice figure (that you can see in your course notes) where the types of problems and boundary conditions dictate what basis functions are used in the solution of the differential equation."
   ]
  },
  {
   "cell_type": "markdown",
   "metadata": {
    "slideshow": {
     "slide_type": "subslide"
    }
   },
   "source": [
    "The topic is broad and deep and my intent here is to leverage the topics we've covered thus far into a solution for a \"toy problem\" that gives you the flavor of how to use a spectral method.  Topics that we will leverage:\n",
    "\n",
    "* Fourier amplitudes and basis functions\n",
    "* Periodic domains\n",
    "* FFT\n",
    "* Finite differencing\n",
    "* Data structures and visualization"
   ]
  },
  {
   "cell_type": "markdown",
   "metadata": {
    "slideshow": {
     "slide_type": "skip"
    }
   },
   "source": [
    "![](./images/Boyd_Table.png)"
   ]
  },
  {
   "cell_type": "markdown",
   "metadata": {
    "slideshow": {
     "slide_type": "subslide"
    }
   },
   "source": [
    "So my take on spectral methods is that you choose a representation of the function of interest that matches the boundary conditions of the problem.  Changing the space (as done in an integral transform) permits reduction into a set of ODEs.  There are some similarities between seperation of variables and spectral methods in that each factor in the product is dependent on ONE of the independent variables.\n",
    "\n",
    "I don't know if it was \"insight\" or \"try-and-see\" that led to this technique.  But working through the simple problem is a good way to get started, in my opinion.  (For the record I'm always offended when people start a discussion with the statement, \"If we assume a solution...\" and you should be too!)"
   ]
  },
  {
   "cell_type": "markdown",
   "metadata": {
    "slideshow": {
     "slide_type": "skip"
    }
   },
   "source": [
    "[Top of Page](#Sections)"
   ]
  },
  {
   "cell_type": "markdown",
   "metadata": {
    "slideshow": {
     "slide_type": "slide"
    }
   },
   "source": [
    "### Learning Goals\n",
    "----\n",
    "\n",
    "* Continue to develop fluency with Fourier series.\n",
    "* Gain confidence in manipulations involving the diffusion equation.\n",
    "* Solve a simple diffusion problem using a spectral method.\n",
    "* Continue to practice visualization.\n"
   ]
  },
  {
   "cell_type": "markdown",
   "metadata": {
    "slideshow": {
     "slide_type": "skip"
    }
   },
   "source": [
    "[Top of Page](#Sections)"
   ]
  },
  {
   "cell_type": "markdown",
   "metadata": {
    "slideshow": {
     "slide_type": "skip"
    }
   },
   "source": [
    "### On Your Own\n",
    "----\n",
    "\n",
    "To be added.\n",
    "\n",
    "[Top of Page](#Sections)"
   ]
  },
  {
   "cell_type": "markdown",
   "metadata": {
    "slideshow": {
     "slide_type": "slide"
    }
   },
   "source": [
    "### In Class\n",
    "----"
   ]
  },
  {
   "cell_type": "markdown",
   "metadata": {
    "slideshow": {
     "slide_type": "slide"
    }
   },
   "source": [
    "#### Developing the Logic of the Spectral Method"
   ]
  },
  {
   "cell_type": "markdown",
   "metadata": {
    "slideshow": {
     "slide_type": "fragment"
    }
   },
   "source": [
    "The spectral method starts with an assumption that the solution to our PDE (the function $c(x,t)$) can be represented as a series expansion:\n",
    "\n",
    "$$\n",
    "c(x,t) = \\sum_{k=0}^N a_k(t)\\phi_k(x)\n",
    "$$"
   ]
  },
  {
   "cell_type": "markdown",
   "metadata": {
    "collapsed": true,
    "slideshow": {
     "slide_type": "fragment"
    }
   },
   "source": [
    "where the $a_k(t)$ are the amplitudes of the basis vectors $\\phi_m(x)$.\n",
    "\n",
    "As indicated above, the choice of $\\phi$ depends on the problem you wish to solve."
   ]
  },
  {
   "cell_type": "markdown",
   "metadata": {
    "slideshow": {
     "slide_type": "slide"
    }
   },
   "source": [
    "Consider this problem:\n",
    "\n",
    "$$\n",
    "\\frac{\\partial c(x,t)}{\\partial t} = \\frac{\\partial^2 c(x,t)}{\\partial x^2}\n",
    "$$\n",
    "\n",
    "with the initial and boundary conditions:\n",
    "\n",
    "$$\n",
    "c(0,t) = 0\\\\\n",
    "c(L,t) = 0\\\\\n",
    "c(x,0) = c_0(x)\n",
    "$$"
   ]
  },
  {
   "cell_type": "markdown",
   "metadata": {
    "collapsed": true,
    "slideshow": {
     "slide_type": "subslide"
    }
   },
   "source": [
    "We substitute our series expansion into the PDE.  I don't think `SymPy` will add much to the discussion, but let us try and use it.  We can always use pencil and paper if necessary!\n",
    "\n",
    "There are tensor and indexed objects in `SymPy` but I don't see an example where an element of a matrix is an indexed function.  So - I'm not sure right now how to implement this in `SymPy` so we'll hack something together where we drop the summation above and look at just one particular value of the index $k$."
   ]
  },
  {
   "cell_type": "code",
   "execution_count": null,
   "metadata": {
    "collapsed": false,
    "slideshow": {
     "slide_type": "slide"
    }
   },
   "outputs": [],
   "source": [
    "import sympy as sp\n",
    "sp.init_session(quiet=True)\n",
    "sp.var('a, phi, c', cls=Function);\n",
    "sp.var('L', real=True);"
   ]
  },
  {
   "cell_type": "markdown",
   "metadata": {
    "slideshow": {
     "slide_type": "slide"
    }
   },
   "source": [
    "Start by choosing a basis function such as \n",
    "\n",
    "$$\n",
    "\\phi(x) = \\sin \\left( \\frac{k\\pi x}{L} \\right)\n",
    "$$ \n",
    "\n",
    "Other basis functions can be chosen - we stick with the $\\sin$ series to demonstrate the point.  We should now form the product:"
   ]
  },
  {
   "cell_type": "code",
   "execution_count": null,
   "metadata": {
    "collapsed": false,
    "slideshow": {
     "slide_type": "subslide"
    }
   },
   "outputs": [],
   "source": [
    "elementK = sp.Eq(c(x,t),a(t)*sp.sin(k*sp.pi*x/L))\n",
    "elementK"
   ]
  },
  {
   "cell_type": "markdown",
   "metadata": {
    "slideshow": {
     "slide_type": "slide"
    }
   },
   "source": [
    "Now let us differentiate this function as per the PDE above:"
   ]
  },
  {
   "cell_type": "code",
   "execution_count": null,
   "metadata": {
    "collapsed": false,
    "slideshow": {
     "slide_type": "fragment"
    }
   },
   "outputs": [],
   "source": [
    "spaceDeriv = elementK.rhs.diff(x,2)\n",
    "spaceDeriv"
   ]
  },
  {
   "cell_type": "code",
   "execution_count": null,
   "metadata": {
    "collapsed": false,
    "slideshow": {
     "slide_type": "fragment"
    }
   },
   "outputs": [],
   "source": [
    "timeDeriv = elementK.rhs.diff(t,1)\n",
    "timeDeriv"
   ]
  },
  {
   "cell_type": "markdown",
   "metadata": {
    "slideshow": {
     "slide_type": "slide"
    }
   },
   "source": [
    "Our final differential equation represented in $a(t)$ is therefore:\n",
    "\n",
    "$$\n",
    "\\sum_{k=0}^N \\sin{\\left (\\frac{\\pi x}{L} k \\right )} \\frac{d a{\\left (t \\right )}}{d t}  = - \\sum_{k=0}^N \\frac{\\pi^{2} k^{2}}{L^{2}} a{\\left (t \\right )} \\sin{\\left (\\frac{\\pi x}{L} k \\right )}\n",
    "$$"
   ]
  },
  {
   "cell_type": "markdown",
   "metadata": {
    "slideshow": {
     "slide_type": "slide"
    }
   },
   "source": [
    "The approach from this point is to examine the behavior of the time dependent amplitudes in this resulting equation.  I rationalize this in the following way:\n",
    "\n",
    "* I don't divide out or eliminate the basis vectors from consideration - algabraically that would be dividing by zero at some point within the domain.  Instead - I allow all basis vectors to exist at every time and point within the solution.\n",
    "* I focus on the time evolution of the amplitudes - effectively permitting me to treat the vector of amplitudes as a linear set of ODEs.\n",
    "* If an amplitude goes to zero - then that basis vector is no longer contributing to the solution.\n",
    "* I recognize that the principle of superposition permits me to use one or infinitely many $k$-vectors in summation and that any individual $k$ or sum of $k$'s is also a solution to the problem.\n",
    "* The initial amplitudes are determined by the initial condition $c(x,0)$."
   ]
  },
  {
   "cell_type": "markdown",
   "metadata": {
    "slideshow": {
     "slide_type": "slide"
    }
   },
   "source": [
    "One strategy is to develop a set of symbols so that we can solve for the amplitude at the new time without making algebraic mistakes!  We define the following symbols and let `SymPy` help us with the algebra."
   ]
  },
  {
   "cell_type": "code",
   "execution_count": null,
   "metadata": {
    "collapsed": false,
    "slideshow": {
     "slide_type": "fragment"
    }
   },
   "outputs": [],
   "source": [
    "dt, ai, aip1 = sp.symbols('dt, a^{i}_k, a^{i+1}_k')"
   ]
  },
  {
   "cell_type": "code",
   "execution_count": null,
   "metadata": {
    "collapsed": false,
    "slideshow": {
     "slide_type": "slide"
    }
   },
   "outputs": [],
   "source": [
    "differenceEquation = sp.Eq((ai-aip1)/dt,((sp.pi**2*k**2*ai)/L**2))\n",
    "differenceEquation"
   ]
  },
  {
   "cell_type": "code",
   "execution_count": null,
   "metadata": {
    "collapsed": false,
    "slideshow": {
     "slide_type": "fragment"
    }
   },
   "outputs": [],
   "source": [
    "sp.solve(differenceEquation,aip1)"
   ]
  },
  {
   "cell_type": "markdown",
   "metadata": {
    "slideshow": {
     "slide_type": "fragment"
    }
   },
   "source": [
    "At this point the implementation should be straightforward."
   ]
  },
  {
   "cell_type": "markdown",
   "metadata": {
    "slideshow": {
     "slide_type": "slide"
    }
   },
   "source": [
    "#### Implementation of the Spectral Method\n",
    "\n",
    "Standard imports.  Worth noting here that `SciPy` provides $\\sin$ and $\\cos$ transforms if Fourier isn't what you want!"
   ]
  },
  {
   "cell_type": "code",
   "execution_count": null,
   "metadata": {
    "collapsed": false,
    "slideshow": {
     "slide_type": "fragment"
    }
   },
   "outputs": [],
   "source": [
    "%matplotlib notebook\n",
    "import numpy as np\n",
    "import matplotlib.pyplot as plt"
   ]
  },
  {
   "cell_type": "markdown",
   "metadata": {
    "slideshow": {
     "slide_type": "slide"
    }
   },
   "source": [
    "Here we create a linear space that represents the x domain of our problem.  Wise to set `L` here too."
   ]
  },
  {
   "cell_type": "code",
   "execution_count": null,
   "metadata": {
    "collapsed": false,
    "slideshow": {
     "slide_type": "fragment"
    }
   },
   "outputs": [],
   "source": [
    "numPoints = 20\n",
    "L = 1.0\n",
    "dt = 0.0001\n",
    "steps = 1000\n",
    "# we have access to np.pi for $\\pi$\n",
    "x = np.linspace(0,L,numPoints)\n",
    "\n",
    "c_old = np.zeros((numPoints), dtype='complex128')\n",
    "c_new = np.zeros((numPoints), dtype='complex128')\n",
    "a_old = np.zeros((numPoints), dtype='complex128')\n",
    "a_new = np.zeros((numPoints), dtype='complex128')"
   ]
  },
  {
   "cell_type": "markdown",
   "metadata": {
    "slideshow": {
     "slide_type": "slide"
    }
   },
   "source": [
    "Now we create the parts that will hold the amplitudes.  We will use the FFT so there is no need to create basis vectors since the functions `fft` and `ifft` will provide that for us."
   ]
  },
  {
   "cell_type": "code",
   "execution_count": null,
   "metadata": {
    "collapsed": true,
    "slideshow": {
     "slide_type": "fragment"
    }
   },
   "outputs": [],
   "source": [
    "k = np.fft.fftfreq(numPoints, d=L/(numPoints-1))\n",
    "k2 = k**2\n",
    "\n",
    "# create an initial condition (simple function like x**2)\n",
    "np.copyto(c_new, np.sin(np.pi*x/L))\n",
    "# transform it (dft or sin transform)\n",
    "np.copyto(a_new,np.fft.fft(c_new))"
   ]
  },
  {
   "cell_type": "markdown",
   "metadata": {
    "slideshow": {
     "slide_type": "slide"
    }
   },
   "source": [
    "Instabilities will occur if the amplitudes do not decay at each timestep.  The problem is that the condition depends on the wavenumber - so a suitable $dt$ must be chosen that satisfies the most restrictive condition for the largest wavenumber."
   ]
  },
  {
   "cell_type": "code",
   "execution_count": null,
   "metadata": {
    "collapsed": false,
    "scrolled": true,
    "slideshow": {
     "slide_type": "fragment"
    }
   },
   "outputs": [],
   "source": [
    "(dt*np.pi**2*k2)/L**2 > 1"
   ]
  },
  {
   "cell_type": "code",
   "execution_count": null,
   "metadata": {
    "collapsed": false,
    "slideshow": {
     "slide_type": "slide"
    }
   },
   "outputs": [],
   "source": [
    "for i in range(steps):\n",
    "    # swap pointers\n",
    "    a_new, a_old = a_old, a_new\n",
    "    # find new amplitudes\n",
    "    np.copyto(a_new, a_old*(1-(dt*np.pi**2*k2)/L**2))\n",
    "    \n",
    "# inverse transform it\n",
    "np.copyto(c_new, np.fft.ifft(a_new))"
   ]
  },
  {
   "cell_type": "code",
   "execution_count": null,
   "metadata": {
    "collapsed": false,
    "slideshow": {
     "slide_type": "slide"
    }
   },
   "outputs": [],
   "source": [
    "fig = plt.figure()\n",
    "\n",
    "axes = fig.add_axes([0.1, 0.1, 0.8, 0.8]) # left, bottom, width, height (range 0 to 1)\n",
    "axes.plot(x, c_new.real, 'r')\n",
    "\n",
    "# Setting the y-limit cleans up the plot.\n",
    "axes.set_ylim([0.0,1.0])\n",
    "axes.set_xlabel('Distance $x$')\n",
    "axes.set_ylabel('Concentration $c(x,t)$')\n",
    "axes.set_title('Concentration Profile solved by Spectral Method');"
   ]
  },
  {
   "cell_type": "markdown",
   "metadata": {
    "slideshow": {
     "slide_type": "skip"
    }
   },
   "source": [
    "[Top of Page](#Sections)"
   ]
  },
  {
   "cell_type": "markdown",
   "metadata": {
    "slideshow": {
     "slide_type": "slide"
    }
   },
   "source": [
    "### Homework\n",
    "----\n",
    "\n",
    "In our implementation of the spectral method we used the FFT.  In our development of the idea we used the discrete sine transform.  Implement your own solution that uses the discrete sin transform and numerically solve the problem discussed in the first part of the lecture."
   ]
  },
  {
   "cell_type": "markdown",
   "metadata": {
    "slideshow": {
     "slide_type": "skip"
    }
   },
   "source": [
    "[Top of Page](#Sections)"
   ]
  },
  {
   "cell_type": "markdown",
   "metadata": {
    "slideshow": {
     "slide_type": "skip"
    }
   },
   "source": [
    "### Looking Ahead\n",
    "----"
   ]
  },
  {
   "cell_type": "markdown",
   "metadata": {
    "slideshow": {
     "slide_type": "skip"
    }
   },
   "source": [
    "To be added."
   ]
  },
  {
   "cell_type": "markdown",
   "metadata": {
    "slideshow": {
     "slide_type": "skip"
    }
   },
   "source": [
    "[Top of Page](#Sections)"
   ]
  },
  {
   "cell_type": "markdown",
   "metadata": {
    "slideshow": {
     "slide_type": "skip"
    }
   },
   "source": [
    "### Reading Assignments and Practice\n",
    "----"
   ]
  },
  {
   "cell_type": "markdown",
   "metadata": {
    "slideshow": {
     "slide_type": "skip"
    }
   },
   "source": [
    "Here are two short pieces of code.  Can you make sense of the implementation?  These came from https://open.umich.edu/find/open-educational-resources/literature-science-arts/parallel-spectral-numerical-methods.  The materials are provided under a Creative Commons license with attribution to the original authors whose names can be found at the above link."
   ]
  },
  {
   "cell_type": "code",
   "execution_count": null,
   "metadata": {
    "collapsed": true,
    "slideshow": {
     "slide_type": "skip"
    }
   },
   "outputs": [],
   "source": [
    "# %load Heat_Eq_1D_Spectral_BE.py\n",
    "#!/usr/bin/env python\n",
    "\"\"\"\n",
    "Solving Heat Equation using pseudospectral methods with Backwards Euler:\n",
    "u_t= \\alpha*u_xx\n",
    "BC = u(0)=0 and u(2*pi)=0 (Periodic)\n",
    "IC=sin(x)\n",
    "\"\"\"\n",
    "\n",
    "import math\n",
    "import numpy\n",
    "import matplotlib.pyplot as plt\n",
    "from mpl_toolkits.mplot3d import Axes3D\n",
    "from matplotlib import cm\n",
    "from matplotlib.ticker import LinearLocator\n",
    "\n",
    "# Grid\n",
    "N = 64; h = 2*math.pi/N; x = [h*i for i in xrange(1,N+1)]\n",
    "\n",
    "# Initial conditions\n",
    "v = [math.sin(y) for y in x]\n",
    "alpha = 0.5\n",
    "t = 0     \n",
    "dt = .001 #Timestep size\n",
    "\n",
    "# (ik)^2 Vector\n",
    "I = complex(0,1)\n",
    "k = numpy.array([I*n for n in range(0,N/2) + [0] + range(-N/2+1,0)])\n",
    "k2=k**2;\n",
    "\n",
    "# Setting up Plot\n",
    "tmax = 5.0; tplot = 0.1\n",
    "plotgap= int(round(tplot/dt))\n",
    "nplots = int(round(tmax/tplot))\n",
    "data = numpy.zeros((nplots+1,N))\n",
    "data[0,:] = v\n",
    "tdata = [t]\n",
    "\n",
    "for i in xrange(nplots):\n",
    "    v_hat = numpy.fft.fft(v)  # convert to fourier space\n",
    "    for n in xrange(plotgap):\n",
    "        v_hat = v_hat / (1-dt*alpha*k2) # backward Euler timestepping\n",
    "\n",
    "    v = numpy.fft.ifft(v_hat)   # convert back to real space\n",
    "    data[i+1,:] = numpy.real(v)   # records data\n",
    "\n",
    "    t = t+plotgap*dt    # records real time\n",
    "    tdata.append(t)\n",
    "\n",
    "# Plot using mesh\n",
    "xx,tt = (numpy.mat(A) for A in (numpy.meshgrid(x,tdata)))\n",
    "\n",
    "fig = plt.figure()\n",
    "ax = fig.gca(projection='3d')\n",
    "surf = ax.plot_surface(xx, tt, data,rstride=1, cstride=1, cmap=cm.jet,\n",
    "        linewidth=0, antialiased=False)\n",
    "fig.colorbar(surf, shrink=0.5, aspect=5)\n",
    "plt.xlabel('x')\n",
    "plt.ylabel('t')\n",
    "plt.show()"
   ]
  },
  {
   "cell_type": "code",
   "execution_count": null,
   "metadata": {
    "collapsed": true,
    "slideshow": {
     "slide_type": "skip"
    }
   },
   "outputs": [],
   "source": [
    "# %load Heat_Eq_1D_Spectral_FE.py\n",
    "#!/usr/bin/env python\n",
    "\"\"\"\n",
    "Solving Heat Equation using pseudo-spectral and Forward Euler\n",
    "u_t= \\alpha*u_xx\n",
    "BC= u(0)=0, u(2*pi)=0\n",
    "IC=sin(x)\n",
    "\"\"\"\n",
    "\n",
    "import math\n",
    "import numpy\n",
    "import matplotlib.pyplot as plt\n",
    "from mpl_toolkits.mplot3d import Axes3D\n",
    "from matplotlib import cm\n",
    "from matplotlib.ticker import LinearLocator\n",
    "\n",
    "# Grid\n",
    "N = 64                     # Number of steps\n",
    "h = 2*math.pi/N                 # step size\n",
    "x = h*numpy.arange(0,N)    # discretize x-direction\n",
    "\n",
    "alpha = 0.5                # Thermal Diffusivity constant\n",
    "t = 0\n",
    "dt = .001\n",
    "\n",
    "# Initial conditions \n",
    "v = numpy.sin(x)\n",
    "I = complex(0,1)\n",
    "k = numpy.array([I*y for y in range(0,N/2) + [0] + range(-N/2+1,0)])\n",
    "k2=k**2;\n",
    "\n",
    "# Setting up Plot\n",
    "tmax = 5; tplot = .1;\n",
    "plotgap = int(round(tplot/dt))\n",
    "nplots  = int(round(tmax/tplot))\n",
    "\n",
    "data = numpy.zeros((nplots+1,N))\n",
    "data[0,:] = v\n",
    "tdata = [t]\n",
    "\n",
    "for i in xrange(nplots):\n",
    "    v_hat = numpy.fft.fft(v)\n",
    "\n",
    "    for n in xrange(plotgap):\n",
    "        v_hat = v_hat+dt*alpha*k2*v_hat # FE timestepping\n",
    "\n",
    "    v = numpy.real(numpy.fft.ifft(v_hat))   # back to real space\n",
    "    data[i+1,:] = v\n",
    "\n",
    "    # real time vector\n",
    "    t = t+plotgap*dt\n",
    "    tdata.append(t)\n",
    "\n",
    "# Plot using mesh\n",
    "xx,tt = (numpy.mat(A) for A in (numpy.meshgrid(x,tdata)))\n",
    "\n",
    "fig = plt.figure()\n",
    "ax = fig.gca(projection='3d')\n",
    "surf = ax.plot_surface(xx, tt, data,rstride=1, cstride=1, cmap=cm.jet,\n",
    "        linewidth=0, antialiased=False)\n",
    "fig.colorbar(surf, shrink=0.5, aspect=5)\n",
    "plt.xlabel('x')\n",
    "plt.ylabel('t')\n",
    "plt.show()"
   ]
  },
  {
   "cell_type": "markdown",
   "metadata": {
    "slideshow": {
     "slide_type": "skip"
    }
   },
   "source": [
    "[Top of Page](#Sections)"
   ]
  },
  {
   "cell_type": "code",
   "execution_count": null,
   "metadata": {
    "collapsed": true,
    "slideshow": {
     "slide_type": "skip"
    }
   },
   "outputs": [],
   "source": []
  }
 ],
 "metadata": {
  "anaconda-cloud": {},
  "kernelspec": {
   "display_name": "Python 2",
   "language": "python",
   "name": "python2"
  },
  "language_info": {
   "codemirror_mode": {
    "name": "ipython",
    "version": 2
   },
   "file_extension": ".py",
   "mimetype": "text/x-python",
   "name": "python",
   "nbconvert_exporter": "python",
   "pygments_lexer": "ipython2",
   "version": "2.7.6"
  }
 },
 "nbformat": 4,
 "nbformat_minor": 0
}
