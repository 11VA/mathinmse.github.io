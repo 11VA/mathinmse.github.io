{
 "cells": [
  {
   "cell_type": "markdown",
   "metadata": {
    "slideshow": {
     "slide_type": "slide"
    }
   },
   "source": [
    "# Lecture 19:  Numerical Solutions to the Diffusion Equation  (Spectral Method)"
   ]
  },
  {
   "cell_type": "markdown",
   "metadata": {
    "slideshow": {
     "slide_type": "skip"
    }
   },
   "source": [
    "## What to Learn?\n",
    "\n",
    "* The assumptions of the spectral method\n",
    "* The possible choices for basis vectors\n",
    "* The linear independence of resulting ODEs\n",
    "* One way to code the FFT/IFFT\n",
    "* Finite differencing of the amplitudes\n",
    "* Useful data structures and pointer swapping using tuples\n",
    "\n",
    "## What to do?\n",
    "\n",
    "* Solve the diffusion equation using a spectral method.\n",
    "* Analyze two example implementations and determine the difference scheme."
   ]
  },
  {
   "cell_type": "markdown",
   "metadata": {
    "slideshow": {
     "slide_type": "skip"
    }
   },
   "source": [
    "### Introduction\n",
    "----\n",
    "\n",
    "In this course the term _spectral method_ refers to a numerical solution composed of a finite set of basis functions and the time evolution of their amplitudes.  Practically, the choice of basis functions will satisfy the boundary conditions and the initial amplitudes will satisfy the initial conditions.  The evolution of the amplitudes can then be written as a finite difference in time.  Although other choices for basis functions are [possible](./images/Boyd_Table.png)$^*$, we will focus on Fourier functions.\n",
    "\n",
    "$*$ Chebyshev & Fourier Spectral Methods, Boyd, John P., Springer 1989"
   ]
  },
  {
   "cell_type": "markdown",
   "metadata": {
    "slideshow": {
     "slide_type": "skip"
    }
   },
   "source": [
    "### Developing the Logic of the Spectral Method\n",
    "----\n",
    "\n",
    "The spectral method assumes that the solution to a PDE (the function $c(x,t)$) can be represented as a series expansion that contains time dependent amplitudes (the $a_k(t)$ factors) and spatially varying functions (the $\\phi_k(x)$ terms are unit Fourier vectors).  Note the similarity to the approach taken in the separation of variables method in the following discussion.  "
   ]
  },
  {
   "cell_type": "markdown",
   "metadata": {
    "slideshow": {
     "slide_type": "slide"
    }
   },
   "source": [
    "To begin, we write:\n",
    "\n",
    "$$\n",
    "c(x,t) = \\sum_{k=0}^N a_k(t)\\phi_k(x)\n",
    "$$"
   ]
  },
  {
   "cell_type": "markdown",
   "metadata": {
    "slideshow": {
     "slide_type": "skip"
    }
   },
   "source": [
    "Choosing the unit vectors from an orthonormal set (like Fourier) permits decoupling the summation into $N$ independent equations that can be solved simultaneously.  Furthermore, the assumption of the orthonormal set allows the time dependence to be placed within the amplitudes so that the independent variables are seperated.  Therefore we refer to the $a_k(t)$ as the set of amplitudes with one $a_k$ for each of the $k$-basis vectors, $\\phi_k(x)$.  There is no restriction on the value of $N$ although practical considerations that relate to diffusive problems and the \"smoothness\" of the solutions will require just a few $N$ terms to achieve acceptable accuracy.  The form of $\\phi$ depends on the problem being solved; the boundary conditions and the initial conditions will affect this choice.  "
   ]
  },
  {
   "cell_type": "markdown",
   "metadata": {
    "slideshow": {
     "slide_type": "slide"
    }
   },
   "source": [
    "Our example problem:\n",
    "\n",
    "$$\n",
    "\\frac{\\partial c(x,t)}{\\partial t} = \\frac{\\partial^2 c(x,t)}{\\partial x^2}\n",
    "$$"
   ]
  },
  {
   "cell_type": "markdown",
   "metadata": {
    "slideshow": {
     "slide_type": "slide"
    }
   },
   "source": [
    "with the initial and boundary conditions:\n",
    "\n",
    "$$\n",
    "c(0,t) = 0\\\\\n",
    "c(L,t) = 0\\\\\n",
    "c(x,0) = c_0(x)\n",
    "$$"
   ]
  },
  {
   "cell_type": "markdown",
   "metadata": {
    "slideshow": {
     "slide_type": "skip"
    }
   },
   "source": [
    "The problem requires that our boundary values for the $c(x,t)$ at $0$ and $L$ are zero.  One possible choice is a series of $\\sin$ terms.  This satisfies the boundary conditions and enforces perodicity of the solution."
   ]
  },
  {
   "cell_type": "markdown",
   "metadata": {
    "slideshow": {
     "slide_type": "slide"
    }
   },
   "source": [
    "$$\n",
    "\\phi_k(x) = \\sin \\left( \\frac{k\\pi x}{L} \\right)\n",
    "$$ "
   ]
  },
  {
   "cell_type": "markdown",
   "metadata": {
    "slideshow": {
     "slide_type": "skip"
    }
   },
   "source": [
    "Begin by importing relevant libraries and defining the symbols we expect to use."
   ]
  },
  {
   "cell_type": "code",
   "execution_count": 1,
   "metadata": {
    "slideshow": {
     "slide_type": "slide"
    }
   },
   "outputs": [],
   "source": [
    "import sympy as sp\n",
    "x, y, z, t = sp.symbols('x y z t')\n",
    "k, m, n = sp.symbols('k m n', integer=True)\n",
    "f, g, h = sp.symbols('f g h', cls=sp.Function)\n",
    "sp.var('a_k, phi, c', cls=sp.Function);\n",
    "sp.var('L', real=True);\n",
    "sp.init_printing();"
   ]
  },
  {
   "cell_type": "markdown",
   "metadata": {
    "slideshow": {
     "slide_type": "slide"
    }
   },
   "source": [
    "The assumed form of the solution is:"
   ]
  },
  {
   "cell_type": "code",
   "execution_count": 2,
   "metadata": {
    "slideshow": {
     "slide_type": "fragment"
    }
   },
   "outputs": [
    {
     "data": {
      "image/png": "[encoded data removed]",
      "text/latex": [
       "$$c{\\left (x,t \\right )} = \\operatorname{a_{k}}{\\left (t \\right )} \\sin{\\left (\\frac{\\pi x}{L} k \\right )}$$"
      ],
      "text/plain": [
       "                    ⎛π⋅k⋅x⎞\n",
       "c(x, t) = a_k(t)⋅sin⎜─────⎟\n",
       "                    ⎝  L  ⎠"
      ]
     },
     "execution_count": 2,
     "metadata": {},
     "output_type": "execute_result"
    }
   ],
   "source": [
    "elementK = sp.Eq(c(x,t),a_k(t)*sp.sin(k*sp.pi*x/L))\n",
    "elementK"
   ]
  },
  {
   "cell_type": "code",
   "execution_count": 3,
   "metadata": {},
   "outputs": [
    {
     "data": {
      "image/png": "[encoded data removed]",
      "text/latex": [
       "$$6$$"
      ],
      "text/plain": [
       "6"
      ]
     },
     "execution_count": 3,
     "metadata": {},
     "output_type": "execute_result"
    }
   ],
   "source": [
    "sp.acos()"
   ]
  },
  {
   "cell_type": "markdown",
   "metadata": {
    "slideshow": {
     "slide_type": "skip"
    }
   },
   "source": [
    "Proceed by substituting the series expansion into the PDE and performing the differentiations as defined:"
   ]
  },
  {
   "cell_type": "code",
   "execution_count": 3,
   "metadata": {
    "slideshow": {
     "slide_type": "slide"
    }
   },
   "outputs": [
    {
     "data": {
      "image/png": "[encoded data removed]",
      "text/latex": [
       "$$- \\frac{\\pi^{2} k^{2}}{L^{2}} \\operatorname{a_{k}}{\\left (t \\right )} \\sin{\\left (\\frac{\\pi x}{L} k \\right )}$$"
      ],
      "text/plain": [
       "  2  2           ⎛π⋅k⋅x⎞ \n",
       "-π ⋅k ⋅a_k(t)⋅sin⎜─────⎟ \n",
       "                 ⎝  L  ⎠ \n",
       "─────────────────────────\n",
       "             2           \n",
       "            L            "
      ]
     },
     "execution_count": 3,
     "metadata": {},
     "output_type": "execute_result"
    }
   ],
   "source": [
    "spaceDeriv = elementK.rhs.diff(x,2)\n",
    "spaceDeriv"
   ]
  },
  {
   "cell_type": "code",
   "execution_count": 4,
   "metadata": {
    "slideshow": {
     "slide_type": "slide"
    }
   },
   "outputs": [
    {
     "data": {
      "image/png": "[encoded data removed]",
      "text/latex": [
       "$$\\sin{\\left (\\frac{\\pi x}{L} k \\right )} \\frac{d}{d t} \\operatorname{a_{k}}{\\left (t \\right )}$$"
      ],
      "text/plain": [
       "   ⎛π⋅k⋅x⎞ d         \n",
       "sin⎜─────⎟⋅──(a_k(t))\n",
       "   ⎝  L  ⎠ dt        "
      ]
     },
     "execution_count": 4,
     "metadata": {},
     "output_type": "execute_result"
    }
   ],
   "source": [
    "timeDeriv = elementK.rhs.diff(t,1)\n",
    "timeDeriv"
   ]
  },
  {
   "cell_type": "markdown",
   "metadata": {
    "slideshow": {
     "slide_type": "slide"
    }
   },
   "source": [
    "Our final differential equation represented in $a(t)$ is therefore:\n",
    "\n",
    "$$\n",
    "\\sum_{k=0}^N \\sin{\\left (\\frac{\\pi x}{L} k \\right )} \\frac{d a_k{\\left (t \\right )}}{d t}  = - \\sum_{k=0}^N \\frac{\\pi^{2} k^{2}}{L^{2}} a_k{\\left (t \\right )} \\sin{\\left (\\frac{\\pi x}{L} k \\right )}\n",
    "$$"
   ]
  },
  {
   "cell_type": "markdown",
   "metadata": {
    "slideshow": {
     "slide_type": "skip"
    }
   },
   "source": [
    "As a reminder, a $\\sin$ series is orthogonal over $0 < x < 2\\pi$ if the following integral is zero:"
   ]
  },
  {
   "cell_type": "code",
   "execution_count": 7,
   "metadata": {
    "slideshow": {
     "slide_type": "slide"
    }
   },
   "outputs": [
    {
     "data": {
      "image/png": "[encoded data removed]",
      "text/latex": [
       "$$\\int_{0}^{2 \\pi} \\sin{\\left (m x \\right )} \\sin{\\left (n x \\right )}\\, dx$$"
      ],
      "text/plain": [
       "2⋅π                     \n",
       " ⌠                      \n",
       " ⎮  sin(m⋅x)⋅sin(n⋅x) dx\n",
       " ⌡                      \n",
       " 0                      "
      ]
     },
     "execution_count": 7,
     "metadata": {},
     "output_type": "execute_result"
    }
   ],
   "source": [
    "# m and n are symbols defined as integers\n",
    "sinIntegral = sp.Integral(sp.sin(n*x)*sp.sin(m*x),(x,0,2*sp.pi))\n",
    "sinIntegral"
   ]
  },
  {
   "cell_type": "code",
   "execution_count": 8,
   "metadata": {
    "slideshow": {
     "slide_type": "slide"
    }
   },
   "outputs": [
    {
     "data": {
      "image/png": "[encoded data removed]",
      "text/latex": [
       "$$\\begin{cases} 0 & \\text{for}\\: m = 0 \\wedge n = 0 \\\\- \\pi & \\text{for}\\: m = - n \\\\\\pi & \\text{for}\\: m = n \\\\0 & \\text{otherwise} \\end{cases}$$"
      ],
      "text/plain": [
       "⎧0   for m = 0 ∧ n = 0\n",
       "⎪                     \n",
       "⎪-π     for m = -n    \n",
       "⎨                     \n",
       "⎪π       for m = n    \n",
       "⎪                     \n",
       "⎩0       otherwise    "
      ]
     },
     "execution_count": 8,
     "metadata": {},
     "output_type": "execute_result"
    }
   ],
   "source": [
    "sinIntegral.doit()"
   ]
  },
  {
   "cell_type": "markdown",
   "metadata": {
    "slideshow": {
     "slide_type": "skip"
    }
   },
   "source": [
    "Because the integral is zero for $m \\neq n$, then the series on the LHS:\n",
    "\n",
    "$$\n",
    "\\sum_{k=0}^N \\sin{\\left (\\frac{\\pi x}{L} k \\right )} \\frac{d a_k{\\left (t \\right )}}{d t}\n",
    "$$\n",
    "\n",
    "is a linear system.  This is also true for the RHS:\n",
    "\n",
    "$$\n",
    "- \\sum_{k=0}^N \\frac{\\pi^{2} k^{2}}{L^{2}} a_k{\\left (t \\right )} \\sin{\\left (\\frac{\\pi x}{L} k \\right )}\n",
    "$$\n",
    "\n",
    "The principle of superposition permits us to split this summation into N independent ordinary differential equations, solve each one, and then sum the solutions to produce the answer to the original PDE.  To continue developing a solution for these N independent ODEs it is necessary to analyze the amplitude ODE and define a differencing scheme.  This will be illustrated using SymPy:"
   ]
  },
  {
   "cell_type": "code",
   "execution_count": 9,
   "metadata": {
    "slideshow": {
     "slide_type": "slide"
    }
   },
   "outputs": [
    {
     "data": {
      "image/png": "[encoded data removed]",
      "text/latex": [
       "$$\\frac{- a^{i+1}_k + a^{i}_k}{\\Delta t} = \\frac{\\pi^{2} a^{i}_k}{L^{2}} k^{2}$$"
      ],
      "text/plain": [
       "                          2           2\n",
       "-a_k__{i+1} + a_k__{i}   π ⋅a_k__{i}⋅k \n",
       "────────────────────── = ──────────────\n",
       "       \\Delta t                 2      \n",
       "                               L       "
      ]
     },
     "execution_count": 9,
     "metadata": {},
     "output_type": "execute_result"
    }
   ],
   "source": [
    "ai, aip1 = sp.symbols('a^{i}_k, a^{i+1}_k')\n",
    "dt = sp.Symbol(r'\\Delta t')\n",
    "\n",
    "differenceEquation = sp.Eq((ai-aip1)/dt,((sp.pi**2*k**2*ai)/L**2))\n",
    "differenceEquation"
   ]
  },
  {
   "cell_type": "code",
   "execution_count": 10,
   "metadata": {
    "slideshow": {
     "slide_type": "slide"
    }
   },
   "outputs": [
    {
     "data": {
      "image/png": "[encoded data removed]",
      "text/latex": [
       "$$\\left\\{a^{i}_k - \\frac{\\Delta t}{L^{2}} \\pi^{2} a^{i}_k k^{2}\\right\\}$$"
      ],
      "text/plain": [
       "⎧            2                    2⎫\n",
       "⎪           π ⋅\\Delta t⋅a_k__{i}⋅k ⎪\n",
       "⎨a_k__{i} - ───────────────────────⎬\n",
       "⎪                       2          ⎪\n",
       "⎩                      L           ⎭"
      ]
     },
     "execution_count": 10,
     "metadata": {},
     "output_type": "execute_result"
    }
   ],
   "source": [
    "odeSolution = sp.solveset(differenceEquation,aip1)\n",
    "odeSolution"
   ]
  },
  {
   "cell_type": "markdown",
   "metadata": {
    "slideshow": {
     "slide_type": "skip"
    }
   },
   "source": [
    "The above solution results in the following difference scheme:\n",
    "\n",
    "$$\n",
    "a^{i+1}_k = a^{i}_k \\left( 1 - \\frac{\\pi^{2} k^{2}}{L^{2}} \\Delta t \\right)\n",
    "$$\n",
    "\n",
    "The timestep, $dt$, should be chosen small enough such that the $a_k$ decay at each timestep."
   ]
  },
  {
   "cell_type": "markdown",
   "metadata": {
    "slideshow": {
     "slide_type": "skip"
    }
   },
   "source": [
    "### Implementation of the Spectral Method\n",
    "----\n",
    "\n",
    "An annotated implementation of the spectral method is developed in the next section.  Unlike the development above, we use the full Fourier series for the basis functions.  This is a basic implementation that could be improved with the addition of helper and visualization functions.  `SciPy` provides $\\sin$ and $\\cos$ transforms for other boundary conditions where Fourier may be inappropriate."
   ]
  },
  {
   "cell_type": "code",
   "execution_count": 11,
   "metadata": {
    "slideshow": {
     "slide_type": "slide"
    }
   },
   "outputs": [],
   "source": [
    "%matplotlib inline\n",
    "import numpy as np\n",
    "import matplotlib.pyplot as plt"
   ]
  },
  {
   "cell_type": "markdown",
   "metadata": {
    "slideshow": {
     "slide_type": "skip"
    }
   },
   "source": [
    "The following quantities are defined:\n",
    "\n",
    "* `numPoints`: the number of points in the grid\n",
    "* `L`: the total length of the domain\n",
    "* `dt`:  the numerical timestep\n",
    "* `steps`: the number of timesteps to compute\n",
    "* `x`: a vector containing the x-position for each grid point in the domain from $0$ to $L$ with `numPoints` entries in the vector."
   ]
  },
  {
   "cell_type": "code",
   "execution_count": 12,
   "metadata": {
    "slideshow": {
     "slide_type": "slide"
    }
   },
   "outputs": [],
   "source": [
    "numPoints = 20\n",
    "L = 1.0\n",
    "dt = 0.0001\n",
    "steps = 1000\n",
    "# we have access to np.pi for $\\pi$\n",
    "x = np.linspace(0,L,numPoints)"
   ]
  },
  {
   "cell_type": "markdown",
   "metadata": {
    "slideshow": {
     "slide_type": "skip"
    }
   },
   "source": [
    "The following vectors are defined:\n",
    "\n",
    "* `c_new` will hold the $c(x,t)$ values at the start and end of the numerical computation\n",
    "* `a_old` will hold the amplitudes at the current timestep (i.e. the $a^{i}_k$)\n",
    "* `a_new` will hold the amplitudes at the next timestep (i.e. the $a^{i+1}_k$)\n",
    "\n",
    "They are initalized to zero at the start of the calculation.  Each of these vectors is the same shape as `x` to hold the results of the FFT and IFFT.  They are declared as `complex128` to accomodate different initial conditions where the FFT would produce complex valued results."
   ]
  },
  {
   "cell_type": "code",
   "execution_count": 13,
   "metadata": {
    "slideshow": {
     "slide_type": "slide"
    }
   },
   "outputs": [],
   "source": [
    "c_new = np.zeros((numPoints), dtype='complex128')\n",
    "a_old = np.zeros((numPoints), dtype='complex128')\n",
    "a_new = np.zeros((numPoints), dtype='complex128')"
   ]
  },
  {
   "cell_type": "markdown",
   "metadata": {
    "slideshow": {
     "slide_type": "skip"
    }
   },
   "source": [
    "In previous example calculations a set of basis vectors was created to illustrate Fourier transforms graphically and the terms in a Fourier series.  That is not part of this calculation, however this could be easily added if visualizing the results in more detail is desireable.\n",
    "\n",
    "The difference equation requires values for the square of the Fourier numbers, $k^2$:"
   ]
  },
  {
   "cell_type": "markdown",
   "metadata": {
    "slideshow": {
     "slide_type": "slide"
    }
   },
   "source": [
    "$$\n",
    "a^{i+1}_k = a^{i}_k \\left( 1 - \\frac{\\pi^{2} k^{2}}{L^{2}} \\Delta t \\right)\n",
    "$$"
   ]
  },
  {
   "cell_type": "markdown",
   "metadata": {
    "slideshow": {
     "slide_type": "skip"
    }
   },
   "source": [
    "To ensure appropriate matching between the $a_k(t)$ and $k$ the helper function `fftfreq()` is used.  Using `fftfreq` with `fft` and `ifft` ensures that the bookeeping of amplitudes and $k$ values is done correctly.  In the equation for the time rate of change in the amplitudes there is a constant $k^2$ term - computing this first avoids having to repeatedly compute the quantity each time step.\n",
    "\n",
    "`NumPy` arrays are called by reference so it is necessary to perform an element-by-element \"deep copy\" of the data from one array into another array when building the initial condition. The helper function `np.copyto` provides this capability.  `a_new` is then filled with the amplitudes corresponding to the initial condition."
   ]
  },
  {
   "cell_type": "code",
   "execution_count": 14,
   "metadata": {
    "slideshow": {
     "slide_type": "slide"
    }
   },
   "outputs": [],
   "source": [
    "k = np.fft.fftfreq(numPoints, d=L/(numPoints-1))\n",
    "k2 = k**2\n",
    "initialCondition = np.sin(np.pi*x/L)\n",
    "\n",
    "# create an initial condition (this could be a simple function like x**2)\n",
    "np.copyto(c_new, initialCondition)\n",
    "# transform it (dft or sin transform)\n",
    "np.copyto(a_new,np.fft.fft(c_new))"
   ]
  },
  {
   "cell_type": "markdown",
   "metadata": {
    "slideshow": {
     "slide_type": "skip"
    }
   },
   "source": [
    "Instabilities will occur if the amplitudes do not decay at each timestep.  The problem is that the condition depends on the wavenumber - so a suitable $\\Delta t$ must be chosen that satisfies the most restrictive condition for the largest wavenumber.  Using a Boolean expression it is possible to check to see if all of the wavenumbers result in a factor less than one:"
   ]
  },
  {
   "cell_type": "code",
   "execution_count": 15,
   "metadata": {
    "scrolled": true,
    "slideshow": {
     "slide_type": "slide"
    }
   },
   "outputs": [
    {
     "data": {
      "text/plain": [
       "array([ True,  True,  True,  True,  True,  True,  True,  True,  True,\n",
       "        True,  True,  True,  True,  True,  True,  True,  True,  True,\n",
       "        True,  True])"
      ]
     },
     "execution_count": 15,
     "metadata": {},
     "output_type": "execute_result"
    }
   ],
   "source": [
    "(dt*np.pi**2*k2)/L**2 < 1"
   ]
  },
  {
   "cell_type": "markdown",
   "metadata": {
    "slideshow": {
     "slide_type": "skip"
    }
   },
   "source": [
    "If any the results are `False` then the numerical calculation will not converge, if they are all `True` then it is possible to complete the numerical calculation.  The next code block performs the numerical iterations of the amplitudes.  First the pointers to `a_new` and `a_old` are swapped and then `a_new` is filled with the new values based on the `a_old` values.  This sequence of operations is performed for the number of timesteps given in `steps`:"
   ]
  },
  {
   "cell_type": "code",
   "execution_count": 21,
   "metadata": {
    "slideshow": {
     "slide_type": "slide"
    }
   },
   "outputs": [],
   "source": [
    "for i in range(steps):\n",
    "    # swap pointers\n",
    "    a_new, a_old = a_old, a_new\n",
    "    # find new amplitudes\n",
    "    np.copyto(a_new, a_old*(1-(dt*np.pi**2*k2)/L**2))"
   ]
  },
  {
   "cell_type": "markdown",
   "metadata": {
    "slideshow": {
     "slide_type": "skip"
    }
   },
   "source": [
    "When the requested number of steps have been computed, we use the inverse Fourier transform to compute the concentration profile and store those results in `c_new`:"
   ]
  },
  {
   "cell_type": "code",
   "execution_count": 17,
   "metadata": {
    "slideshow": {
     "slide_type": "slide"
    }
   },
   "outputs": [],
   "source": [
    "# inverse transform it\n",
    "np.copyto(c_new, np.fft.ifft(a_new))"
   ]
  },
  {
   "cell_type": "markdown",
   "metadata": {
    "slideshow": {
     "slide_type": "skip"
    }
   },
   "source": [
    "After the computation, the concentration profile are displayed with a helper function:"
   ]
  },
  {
   "cell_type": "code",
   "execution_count": 19,
   "metadata": {
    "slideshow": {
     "slide_type": "skip"
    }
   },
   "outputs": [],
   "source": [
    "def makePlot():\n",
    "    fig = plt.figure()\n",
    "    axes = fig.add_axes([0.1, 0.1, 0.8, 0.8]) # left, bottom, width, height (range 0 to 1)\n",
    "    axes.plot(x, c_new.real, 'r')\n",
    "    # Setting the y-limit cleans up the plot.\n",
    "    axes.set_ylim([0.0,1.0])\n",
    "    axes.set_xlabel('Distance $x$')\n",
    "    axes.set_ylabel('Concentration $c(x,t)$')\n",
    "    axes.set_title('Concentration Profile solved by Spectral Method')\n",
    "    plt.show()\n",
    "    return"
   ]
  },
  {
   "cell_type": "code",
   "execution_count": 20,
   "metadata": {
    "slideshow": {
     "slide_type": "slide"
    }
   },
   "outputs": [
    {
     "data": {
      "image/png": "[encoded data removed]",
      "text/plain": [
       "<Figure size 432x288 with 1 Axes>"
      ]
     },
     "metadata": {},
     "output_type": "display_data"
    }
   ],
   "source": [
    "makePlot()"
   ]
  },
  {
   "cell_type": "markdown",
   "metadata": {
    "slideshow": {
     "slide_type": "skip"
    }
   },
   "source": [
    "Another solution scheme could preserve the values of the concentration.  I choose not to do that here for simplicity.  Doing so would permit a small animation of the diffusion process, however.  This is left to the student to implement."
   ]
  },
  {
   "cell_type": "markdown",
   "metadata": {
    "slideshow": {
     "slide_type": "skip"
    }
   },
   "source": [
    "### Reading Assignments and Practice\n",
    "----"
   ]
  },
  {
   "cell_type": "markdown",
   "metadata": {
    "slideshow": {
     "slide_type": "skip"
    }
   },
   "source": [
    "Analyze the spectral difference schemes in the following two examples.  For reference and attribution the codes can be found [here](https://open.umich.edu/find/open-educational-resources/literature-science-arts/parallel-spectral-numerical-methods).  The materials are provided under a Creative Commons license with attribution to the original authors whose names can be found at the above link."
   ]
  },
  {
   "cell_type": "code",
   "execution_count": null,
   "metadata": {
    "collapsed": true,
    "slideshow": {
     "slide_type": "skip"
    }
   },
   "outputs": [],
   "source": [
    "# %load Heat_Eq_1D_Spectral_BE.py\n",
    "#!/usr/bin/env python\n",
    "\"\"\"\n",
    "Solving Heat Equation using pseudospectral methods with Backwards Euler:\n",
    "u_t= \\alpha*u_xx\n",
    "BC = u(0)=0 and u(2*pi)=0 (Periodic)\n",
    "IC=sin(x)\n",
    "\"\"\"\n",
    "\n",
    "import math\n",
    "import numpy\n",
    "import matplotlib.pyplot as plt\n",
    "from mpl_toolkits.mplot3d import Axes3D\n",
    "from matplotlib import cm\n",
    "from matplotlib.ticker import LinearLocator\n",
    "\n",
    "# Grid\n",
    "N = 64; h = 2*math.pi/N; x = [h*i for i in xrange(1,N+1)]\n",
    "\n",
    "# Initial conditions\n",
    "v = [math.sin(y) for y in x]\n",
    "alpha = 0.5\n",
    "t = 0     \n",
    "dt = .001 #Timestep size\n",
    "\n",
    "# (ik)^2 Vector\n",
    "I = complex(0,1)\n",
    "k = numpy.array([I*n for n in range(0,N/2) + [0] + range(-N/2+1,0)])\n",
    "k2=k**2;\n",
    "\n",
    "# Setting up Plot\n",
    "tmax = 5.0; tplot = 0.1\n",
    "plotgap= int(round(tplot/dt))\n",
    "nplots = int(round(tmax/tplot))\n",
    "data = numpy.zeros((nplots+1,N))\n",
    "data[0,:] = v\n",
    "tdata = [t]\n",
    "\n",
    "for i in xrange(nplots):\n",
    "    v_hat = numpy.fft.fft(v)  # convert to fourier space\n",
    "    for n in xrange(plotgap):\n",
    "        v_hat = v_hat / (1-dt*alpha*k2) # backward Euler timestepping\n",
    "\n",
    "    v = numpy.fft.ifft(v_hat)   # convert back to real space\n",
    "    data[i+1,:] = numpy.real(v)   # records data\n",
    "\n",
    "    t = t+plotgap*dt    # records real time\n",
    "    tdata.append(t)\n",
    "\n",
    "# Plot using mesh\n",
    "xx,tt = (numpy.mat(A) for A in (numpy.meshgrid(x,tdata)))\n",
    "\n",
    "fig = plt.figure()\n",
    "ax = fig.gca(projection='3d')\n",
    "surf = ax.plot_surface(xx, tt, data,rstride=1, cstride=1, cmap=cm.jet,\n",
    "        linewidth=0, antialiased=False)\n",
    "fig.colorbar(surf, shrink=0.5, aspect=5)\n",
    "plt.xlabel('x')\n",
    "plt.ylabel('t')\n",
    "plt.show()"
   ]
  },
  {
   "cell_type": "code",
   "execution_count": null,
   "metadata": {
    "collapsed": true,
    "slideshow": {
     "slide_type": "skip"
    }
   },
   "outputs": [],
   "source": [
    "# %load Heat_Eq_1D_Spectral_FE.py\n",
    "#!/usr/bin/env python\n",
    "\"\"\"\n",
    "Solving Heat Equation using pseudo-spectral and Forward Euler\n",
    "u_t= \\alpha*u_xx\n",
    "BC= u(0)=0, u(2*pi)=0\n",
    "IC=sin(x)\n",
    "\"\"\"\n",
    "\n",
    "import math\n",
    "import numpy\n",
    "import matplotlib.pyplot as plt\n",
    "from mpl_toolkits.mplot3d import Axes3D\n",
    "from matplotlib import cm\n",
    "from matplotlib.ticker import LinearLocator\n",
    "\n",
    "# Grid\n",
    "N = 64                     # Number of steps\n",
    "h = 2*math.pi/N                 # step size\n",
    "x = h*numpy.arange(0,N)    # discretize x-direction\n",
    "\n",
    "alpha = 0.5                # Thermal Diffusivity constant\n",
    "t = 0\n",
    "dt = .001\n",
    "\n",
    "# Initial conditions \n",
    "v = numpy.sin(x)\n",
    "I = complex(0,1)\n",
    "k = numpy.array([I*y for y in range(0,N/2) + [0] + range(-N/2+1,0)])\n",
    "k2=k**2;\n",
    "\n",
    "# Setting up Plot\n",
    "tmax = 5; tplot = .1;\n",
    "plotgap = int(round(tplot/dt))\n",
    "nplots  = int(round(tmax/tplot))\n",
    "\n",
    "data = numpy.zeros((nplots+1,N))\n",
    "data[0,:] = v\n",
    "tdata = [t]\n",
    "\n",
    "for i in xrange(nplots):\n",
    "    v_hat = numpy.fft.fft(v)\n",
    "\n",
    "    for n in xrange(plotgap):\n",
    "        v_hat = v_hat+dt*alpha*k2*v_hat # FE timestepping\n",
    "\n",
    "    v = numpy.real(numpy.fft.ifft(v_hat))   # back to real space\n",
    "    data[i+1,:] = v\n",
    "\n",
    "    # real time vector\n",
    "    t = t+plotgap*dt\n",
    "    tdata.append(t)\n",
    "\n",
    "# Plot using mesh\n",
    "xx,tt = (numpy.mat(A) for A in (numpy.meshgrid(x,tdata)))\n",
    "\n",
    "fig = plt.figure()\n",
    "ax = fig.gca(projection='3d')\n",
    "surf = ax.plot_surface(xx, tt, data,rstride=1, cstride=1, cmap=cm.jet,\n",
    "        linewidth=0, antialiased=False)\n",
    "fig.colorbar(surf, shrink=0.5, aspect=5)\n",
    "plt.xlabel('x')\n",
    "plt.ylabel('t')\n",
    "plt.show()"
   ]
  }
 ],
 "metadata": {
  "anaconda-cloud": {},
  "celltoolbar": "Slideshow",
  "kernelspec": {
   "display_name": "Python 2",
   "language": "python",
   "name": "python2"
  },
  "language_info": {
   "codemirror_mode": {
    "name": "ipython",
    "version": 2
   },
   "file_extension": ".py",
   "mimetype": "text/x-python",
   "name": "python",
   "nbconvert_exporter": "python",
   "pygments_lexer": "ipython2",
   "version": "2.7.14"
  }
 },
 "nbformat": 4,
 "nbformat_minor": 1
}
